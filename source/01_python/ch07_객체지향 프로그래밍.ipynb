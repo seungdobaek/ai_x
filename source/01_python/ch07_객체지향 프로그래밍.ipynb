{
 "cells": [
  {
   "cell_type": "code",
   "execution_count": 1,
   "id": "29cd65d7",
   "metadata": {},
   "outputs": [
    {
     "data": {
      "text/html": [
       "\n",
       "<style>\n",
       "div.container{width:90% !important;}\n",
       "div.cell.code_cell.rendered{width:100%;}\n",
       "div.input_prompt{padding:0px;}\n",
       "div.CodeMirror {font-family:Consolas; font-size:12pt;}\n",
       "div.text_cell_render.rendered_html{font size:12pt;}\n",
       "div.output {font-size:12pt; font-weight:bold;}\n",
       "div.input{font-family:Consolas; font-size:12pt;}\n",
       "div.prompt {min width:70px;}\n",
       "div#toc-wrapper {padding-top:120px;}\n",
       "div.text_cell_render ul li{font-size:12pt;padding:5px;}\n",
       "table.dataframe {font-size:12px;}\n",
       "</style>\n"
      ],
      "text/plain": [
       "<IPython.core.display.HTML object>"
      ]
     },
     "metadata": {},
     "output_type": "display_data"
    }
   ],
   "source": [
    "from IPython.display import display, HTML\n",
    "display(HTML(\"\"\"\n",
    "<style>\n",
    "div.container{width:90% !important;}\n",
    "div.cell.code_cell.rendered{width:100%;}\n",
    "div.input_prompt{padding:0px;}\n",
    "div.CodeMirror {font-family:Consolas; font-size:12pt;}\n",
    "div.text_cell_render.rendered_html{font size:12pt;}\n",
    "div.output {font-size:12pt; font-weight:bold;}\n",
    "div.input{font-family:Consolas; font-size:12pt;}\n",
    "div.prompt {min width:70px;}\n",
    "div#toc-wrapper {padding-top:120px;}\n",
    "div.text_cell_render ul li{font-size:12pt;padding:5px;}\n",
    "table.dataframe {font-size:12px;}\n",
    "</style>\n",
    "\"\"\"))"
   ]
  },
  {
   "cell_type": "markdown",
   "id": "e76be1bb",
   "metadata": {},
   "source": [
    "<b><font size='6' color='red'>ch07. 객체지향 프로그래밍</font></b>"
   ]
  },
  {
   "cell_type": "code",
   "execution_count": 3,
   "id": "4ef87db8",
   "metadata": {},
   "outputs": [
    {
     "name": "stdout",
     "output_type": "stream",
     "text": [
      "홍길동 남자\n",
      "{'name': '홍낄동', 'gender': '남자', 'academy': 'MBC'}\n",
      "{'name': '김길숙', 'gender': '여자', 'academy': 'MBC'}\n"
     ]
    }
   ],
   "source": [
    "person1 = {'name':'홍길동', 'gender':'남자', 'academy':'MBC'}\n",
    "person2 = {'name':'김길숙', 'gender':'여자', 'academy':'MBC'}\n",
    "print(person1['name'], person1.get('gender'))\n",
    "person1['name'] = '홍낄동'\n",
    "print(person1)\n",
    "print(person2)\n",
    "#person1.내마음대로함수()"
   ]
  },
  {
   "cell_type": "code",
   "execution_count": 11,
   "id": "85278694",
   "metadata": {},
   "outputs": [
    {
     "name": "stdout",
     "output_type": "stream",
     "text": [
      "MBC의 김길숙님은 여자입니다\n",
      "MBC의 홍길동님은 남자입니다\n",
      "MBC의 홍홍홍님은 여자입니다\n",
      "MBC의 홍길동님은 남자입니다\n"
     ]
    }
   ],
   "source": [
    "# 클래스가 생성시 자동으로 생성되는 함수 : __str__\n",
    "\n",
    "class Person:\n",
    "    academy = 'MBC' # 클래스 변수\n",
    "    def __init__(self, name, gender): #생성자 함수 (self 꼭 포함)\n",
    "        self.name = name #인스턴스 변수\n",
    "        self.gender = gender\n",
    "    def print_info(self): # self 꼭 포함\n",
    "        print(\"{}의 {}님은 {}입니다\".format(self.academy, self.name, self.gender))\n",
    "        \n",
    "        \n",
    "p1 = Person('김길숙', '여자') # 객체변수(인스턴스)를 생성\n",
    "p1.print_info()\n",
    "p2 = Person('홍길동', '남자')\n",
    "p2.print_info()\n",
    "p1.name='홍홍홍'\n",
    "p1.print_info()\n",
    "p2.print_info()"
   ]
  },
  {
   "cell_type": "code",
   "execution_count": 12,
   "id": "4748eb09",
   "metadata": {},
   "outputs": [
    {
     "name": "stdout",
     "output_type": "stream",
     "text": [
      "SBS의 홍길동님은 남자입니다\n",
      "MBC의 홍홍홍님은 여자입니다\n"
     ]
    }
   ],
   "source": [
    "p2.academy = 'SBS'\n",
    "p2.print_info()\n",
    "p1.print_info()"
   ]
  },
  {
   "cell_type": "markdown",
   "id": "6fa8883a",
   "metadata": {},
   "source": [
    "# 1절 객체와 클래스\n",
    "```python\n",
    "class 클래스명(상속받을 클래스명): 상속받을 클래스명을 정의하지 않을경우 Object가 Default\n",
    "    \"독스트링\"\n",
    "    변수나 함수들을 선언\n",
    "```"
   ]
  },
  {
   "cell_type": "code",
   "execution_count": 14,
   "id": "ba340639",
   "metadata": {},
   "outputs": [
    {
     "data": {
      "text/plain": [
       "__main__.Person"
      ]
     },
     "execution_count": 14,
     "metadata": {},
     "output_type": "execute_result"
    }
   ],
   "source": [
    "class Person:\n",
    "    \"Person 클래스는 어쩌구 저쩌구 여러줄 설명하는 독스트링\"\n",
    "    pass\n",
    "#    def __init__(self): #생성자 함수 없을시 해당 함수를 사용\n",
    "#        pass\n",
    "p1 = Person()\n",
    "type(p1)"
   ]
  },
  {
   "cell_type": "code",
   "execution_count": 16,
   "id": "48f047d4",
   "metadata": {},
   "outputs": [
    {
     "name": "stdout",
     "output_type": "stream",
     "text": [
      "<__main__.Person object at 0x000001556F6A92D0>\n",
      "<__main__.Person object at 0x000001556F6A92D0>\n"
     ]
    }
   ],
   "source": [
    "# 프린트 시 __str__() 호출\n",
    "print(p1)\n",
    "print(p1.__str__())"
   ]
  },
  {
   "cell_type": "code",
   "execution_count": 18,
   "id": "701d3ba6",
   "metadata": {},
   "outputs": [
    {
     "data": {
      "text/plain": [
       "'Person 클래스는 어쩌구 저쩌구 여러줄 설명하는 독스트링'"
      ]
     },
     "execution_count": 18,
     "metadata": {},
     "output_type": "execute_result"
    }
   ],
   "source": [
    "p1.__doc__"
   ]
  },
  {
   "cell_type": "markdown",
   "id": "8c782851",
   "metadata": {},
   "source": [
    "# 2절 생성자(`__init__()`)와 소멸자(`__del__()`)\n",
    "- 생성자 : `__init__(self, 매개변수1, [매개변수2,..])` - 객체가 생성될 때 자동 실행\n",
    "    - 객체 생성시 필요한 코드(인스턴스 변수 생생성과 초기화)를 포함한다\n",
    "- 소멸자 : `__del__(self)` - 객체가 소멸될때 자동 실행\n",
    "    - 객체 소멸시 필요한 코드를 포함\n",
    "    - 인스턴스(객체)의 레퍼런스 카운트가 0이 될 때 실행"
   ]
  },
  {
   "cell_type": "code",
   "execution_count": 5,
   "id": "30094048",
   "metadata": {},
   "outputs": [],
   "source": [
    "class Person:\n",
    "    def __init__(self, name, gender):\n",
    "        self.name = name #인스턴스 변수를 초기화\n",
    "        self.gender = gender\n",
    "        print('Person 형 객체를 생성')\n",
    "    def __del__(self):\n",
    "        print('Person형 객체 소멸')\n",
    "    def print_info(self): # self 꼭 포함\n",
    "        print(\"{}님은 {}입니다\".format(self.name, self.gender))\n",
    "    def __str__(self): #오버라이딩(함수의 재정의)\n",
    "        return(\"{}님은 {}입니다\".format(self.name, self.gender))"
   ]
  },
  {
   "cell_type": "code",
   "execution_count": 7,
   "id": "6b8c4f1c",
   "metadata": {},
   "outputs": [
    {
     "name": "stdout",
     "output_type": "stream",
     "text": [
      "Person 형 객체를 생성\n",
      "Person형 객체 소멸\n"
     ]
    }
   ],
   "source": [
    "p1 = Person('심사임당', '여자')"
   ]
  },
  {
   "cell_type": "code",
   "execution_count": 9,
   "id": "e494c049",
   "metadata": {},
   "outputs": [
    {
     "name": "stdout",
     "output_type": "stream",
     "text": [
      "심사임당님은 여자입니다\n"
     ]
    }
   ],
   "source": [
    "p1.print_info()"
   ]
  },
  {
   "cell_type": "code",
   "execution_count": 8,
   "id": "3aa4c3f4",
   "metadata": {},
   "outputs": [
    {
     "name": "stdout",
     "output_type": "stream",
     "text": [
      "심사임당님은 여자입니다\n",
      "심사임당님은 여자입니다\n"
     ]
    }
   ],
   "source": [
    "print(p1)\n",
    "print(p1.__str__())"
   ]
  },
  {
   "cell_type": "code",
   "execution_count": 10,
   "id": "c22819e8",
   "metadata": {},
   "outputs": [
    {
     "data": {
      "text/plain": [
       "(__main__.Person, True)"
      ]
     },
     "execution_count": 10,
     "metadata": {},
     "output_type": "execute_result"
    }
   ],
   "source": [
    "type(p1), isinstance(p1, Person)"
   ]
  },
  {
   "cell_type": "code",
   "execution_count": 11,
   "id": "1997d01a",
   "metadata": {},
   "outputs": [
    {
     "name": "stdout",
     "output_type": "stream",
     "text": [
      "Person형 객체 소멸\n"
     ]
    }
   ],
   "source": [
    "del p1"
   ]
  },
  {
   "cell_type": "code",
   "execution_count": 17,
   "id": "a2cd1b82",
   "metadata": {},
   "outputs": [
    {
     "name": "stdout",
     "output_type": "stream",
     "text": [
      "Person 형 객체를 생성\n"
     ]
    }
   ],
   "source": [
    "p2 = Person('홍길동', '남자')"
   ]
  },
  {
   "cell_type": "code",
   "execution_count": 18,
   "id": "fbb36161",
   "metadata": {},
   "outputs": [],
   "source": [
    "p3 = p2"
   ]
  },
  {
   "cell_type": "code",
   "execution_count": 19,
   "id": "a7956a5e",
   "metadata": {},
   "outputs": [],
   "source": [
    "del p2"
   ]
  },
  {
   "cell_type": "code",
   "execution_count": 20,
   "id": "8cd932d1",
   "metadata": {},
   "outputs": [
    {
     "name": "stdout",
     "output_type": "stream",
     "text": [
      "Person형 객체 소멸\n"
     ]
    }
   ],
   "source": [
    "del p3"
   ]
  },
  {
   "cell_type": "markdown",
   "id": "3ffbf7a1",
   "metadata": {},
   "source": [
    "- **오버라이딩**(함수의 재정의)\n",
    "- 파이썬은 **오버로딩**(함수의 중복정의) 불가\n",
    "- 생성자함수 **오버로딩** 불가"
   ]
  },
  {
   "cell_type": "code",
   "execution_count": 31,
   "id": "cfb6d3ea",
   "metadata": {},
   "outputs": [],
   "source": [
    "class Person:\n",
    "    # 생성자함수의 오버로딩 불가, 대신 기본값을 갖는 매개변수 이용\n",
    "    def __init__(self, name='홍길동', gender='남자'):\n",
    "        self.name = name #인스턴스 변수를 초기화\n",
    "        self.gender = gender\n",
    "        print('Person 형 객체를 생성')\n",
    "#    def __init__(self, name):\n",
    "#        self.name = name #인스턴스 변수를 초기화\n",
    "#        self.gender = '남자'\n",
    "#        print('Person 형 객체를 생성')\n",
    "\n",
    "#    def __del__(self):\n",
    "#        print('Person형 객체 소멸')\n",
    "    def print_info(self): # self 꼭 포함\n",
    "        print(\"{}님은 {}입니다\".format(self.name, self.gender))\n",
    "    def __str__(self): #오버라이딩(함수의 재정의)\n",
    "        return(\"{}님은 {}입니다\".format(self.name, self.gender))"
   ]
  },
  {
   "cell_type": "code",
   "execution_count": 38,
   "id": "fe4a9c10",
   "metadata": {},
   "outputs": [
    {
     "name": "stdout",
     "output_type": "stream",
     "text": [
      "Person 형 객체를 생성\n",
      "Person 형 객체를 생성\n",
      "Person 형 객체를 생성\n",
      "Person 형 객체를 생성\n",
      "Person 형 객체를 생성\n",
      "p1 = 김길숙님은 여자입니다\n",
      "p2 = 강감찬님은 남자입니다\n",
      "p3 = 홍길동님은 남자입니다\n",
      "p4 = 홍길동님은 여자입니다\n",
      "p5 = 홍이쁨님은 여자입니다\n"
     ]
    }
   ],
   "source": [
    "p1 = Person(name='김길숙', gender='여자')\n",
    "p2 = Person('강감찬')\n",
    "p3 = Person()\n",
    "p4 = Person(gender='여자')\n",
    "p5 = Person(gender='여자', name='홍이쁨')\n",
    "print('p1 =', p1)\n",
    "print('p2 =', p2)\n",
    "print('p3 =', p3)\n",
    "print('p4 =', p4)\n",
    "print('p5 =', p5)"
   ]
  },
  {
   "cell_type": "markdown",
   "id": "42809eb3",
   "metadata": {},
   "source": [
    "# 3절. 변수와 메소드(함수)\n",
    "- 인스턴스변수 vs 클래스변수 vs static변수(정적변수)\n",
    "- 인스턴스메소드(self) vs 클래스메소드(cls) vs static메소드()"
   ]
  },
  {
   "cell_type": "markdown",
   "id": "596b45b2",
   "metadata": {},
   "source": [
    "## 3.1 인스턴스변수 vs 클래스변수 "
   ]
  },
  {
   "cell_type": "code",
   "execution_count": 45,
   "id": "fc13c0cc",
   "metadata": {},
   "outputs": [
    {
     "name": "stdout",
     "output_type": "stream",
     "text": [
      "MBC\n",
      "p1객체변수(인스턴스) = MBC의 홍길동님은 남자입니다\n",
      "p2객체변수(인스턴스) = MBC의 홍길동님은 남자입니다\n",
      "p1객체변수(인스턴스) = SBS의 홍길동님은 남자입니다\n",
      "p2객체변수(인스턴스) = 다른데의 홍길동님은 남자입니다\n"
     ]
    }
   ],
   "source": [
    "# 클래스 변수는 클래스 내부에 선언되며, 생성된 모든 인스턴스(객체)에 동일한 값을 가진다\n",
    "# 인스턴스(객체).클래스변수로 수정하면 해당 인스턴스(객체)만 반영\n",
    "# 클래스명.클래스변수로 수정하면 모든 인스턴스에 반영\n",
    "class Person:\n",
    "    academy = 'MBC' # 클래스 변수\n",
    "    def __init__(self, name='홍길동', gender='남자'): #생성자 함수 (self 꼭 포함)\n",
    "        self.name = name #인스턴스 변수\n",
    "        self.gender = gender\n",
    "    def __str__(self): # self 꼭 포함\n",
    "        return \"{}의 {}님은 {}입니다\".format(self.academy, self.name, self.gender)\n",
    "        \n",
    "print(Person.academy)\n",
    "p1 = Person()\n",
    "p2 = Person()\n",
    "print('p1객체변수(인스턴스) =', p1)\n",
    "print('p2객체변수(인스턴스) =', p2)\n",
    "p1.academy = 'SBS' # 인스턴스(객체), 클래스변수로 수정하면 해당 인스턴스(객체)만 변경\n",
    "Person.academy = '다른데'\n",
    "print('p1객체변수(인스턴스) =', p1)\n",
    "print('p2객체변수(인스턴스) =', p2)"
   ]
  },
  {
   "cell_type": "markdown",
   "id": "0f123881",
   "metadata": {},
   "source": [
    "## 3.2 인스턴스 메소드 vs 클래스 메소드 vs static 메소드\n",
    "- 인스턴스 메소드 : 첫번째 인자에 self를 꼭 명시. 객체를 통해서만 호출할 수 있는 메소드\n",
    "- 클래스 메소드 : 메소드위에 **@classmethod**를 명시. 첫번째 인자에 클래스를 뜻하는 변수(clz 또는 cls)를 명시\n",
    "- static 메소드 : 메소드 위에 **@staticmethod**를 명시. 디폴트 인자가 없음"
   ]
  },
  {
   "cell_type": "code",
   "execution_count": 72,
   "id": "198dbc1a",
   "metadata": {},
   "outputs": [],
   "source": [
    "class Person:\n",
    "    academy = 'MBC' #클래스 변수\n",
    "    def __init__(self, name='홍길동', gender='남자'):\n",
    "        self.name = name\n",
    "        self.gender = gender\n",
    "        \n",
    "    def print_info(self): #인스터스 메소드 : 객체변수.print_info()로 호출\n",
    "        print('일반(인스턴스) 메소드 - {}의 {}님은 {}입니다'.format(self.academy, self.name, self.gender))\n",
    "        \n",
    "    def change_info(self, name='익명', gender='여자'):\n",
    "        self.name = name\n",
    "        self.gender = gender\n",
    "        print('일반(인스턴스) 메소드를 통해 {}로 이름변경. {}로 성별변경'.format(self.name, self.gender))\n",
    "    \n",
    "    @classmethod\n",
    "    def do_(cls) : #cls => Person의미. 클래스 변수를 이용한 로직\n",
    "        cls.academy = 'classAcademy'\n",
    "        print('클래스 메소드에서 {}로 클래스 변수 변경'.format(cls.academy))\n",
    "        \n",
    "    @classmethod\n",
    "    def done_(cls, academy) : #cls => Person의미. 클래스 변수를 이용한 로직\n",
    "        cls.acadmey = academy\n",
    "        print('클래스 메소드에서 {}로 클래스 변수 변경'.format(cls.academy))\n",
    "        \n",
    "    @staticmethod\n",
    "    def that_(): # 클래스변수보다는 로직이 우선인 경우\n",
    "        Person.academy = 'staticAcademy'\n",
    "        print(\"static 메소드에서 {}로 클래스 변수 변경\".format(Person.academy))"
   ]
  },
  {
   "cell_type": "code",
   "execution_count": 73,
   "id": "c1051ee4",
   "metadata": {},
   "outputs": [
    {
     "name": "stdout",
     "output_type": "stream",
     "text": [
      "일반(인스턴스) 메소드 - MBC의 홍길동님은 남자입니다\n",
      "일반(인스턴스) 메소드를 통해 익명로 이름변경. 여자로 성별변경\n"
     ]
    }
   ],
   "source": [
    "p1 = Person()\n",
    "p1.print_info()\n",
    "p1.change_info()"
   ]
  },
  {
   "cell_type": "code",
   "execution_count": 74,
   "id": "c322287f",
   "metadata": {},
   "outputs": [
    {
     "name": "stdout",
     "output_type": "stream",
     "text": [
      "static 메소드에서 staticAcademy로 클래스 변수 변경\n",
      "일반(인스턴스) 메소드 - staticAcademy의 익명님은 여자입니다\n"
     ]
    }
   ],
   "source": [
    "Person.that_()\n",
    "p1.print_info()"
   ]
  },
  {
   "cell_type": "code",
   "execution_count": 75,
   "id": "e668e686",
   "metadata": {},
   "outputs": [
    {
     "name": "stdout",
     "output_type": "stream",
     "text": [
      "일반(인스턴스) 메소드를 통해 익명로 이름변경. 여자로 성별변경\n",
      "일반(인스턴스) 메소드 - staticAcademy의 익명님은 여자입니다\n"
     ]
    }
   ],
   "source": [
    "p1.change_info()\n",
    "p1.print_info()"
   ]
  },
  {
   "cell_type": "code",
   "execution_count": 76,
   "id": "e7c96a16",
   "metadata": {},
   "outputs": [
    {
     "name": "stdout",
     "output_type": "stream",
     "text": [
      "일반(인스턴스) 메소드 - staticAcademy의 홍길동님은 남자입니다\n"
     ]
    }
   ],
   "source": [
    "p2 = Person()\n",
    "p2.print_info()"
   ]
  },
  {
   "cell_type": "code",
   "execution_count": 77,
   "id": "a0ee1661",
   "metadata": {},
   "outputs": [
    {
     "name": "stdout",
     "output_type": "stream",
     "text": [
      "클래스 메소드에서 classAcademy로 클래스 변수 변경\n",
      "일반(인스턴스) 메소드 - classAcademy의 익명님은 여자입니다\n",
      "일반(인스턴스) 메소드 - classAcademy의 홍길동님은 남자입니다\n"
     ]
    }
   ],
   "source": [
    "Person.do_()\n",
    "p1.print_info()\n",
    "p2.print_info()"
   ]
  },
  {
   "cell_type": "code",
   "execution_count": 78,
   "id": "3b92604b",
   "metadata": {},
   "outputs": [
    {
     "name": "stdout",
     "output_type": "stream",
     "text": [
      "클래스 메소드에서 classAcademy로 클래스 변수 변경\n",
      "일반(인스턴스) 메소드 - classAcademy의 익명님은 여자입니다\n",
      "일반(인스턴스) 메소드 - classAcademy의 홍길동님은 남자입니다\n"
     ]
    }
   ],
   "source": [
    "Person.done_('SBS')\n",
    "p1.print_info()\n",
    "p2.print_info()"
   ]
  },
  {
   "cell_type": "markdown",
   "id": "db8f7c10",
   "metadata": {},
   "source": [
    "# 4절 상속과 재정의\n",
    "- 클래스 재사용\n",
    "- 상속을 이용하면 부모 클래스의 모든 속성을 자식 클래스로 물려줄 수 있음\n",
    "```python\n",
    "class 자식클래스명(부모클래스명):\n",
    "    ~~~~~~\n",
    "```"
   ]
  },
  {
   "cell_type": "code",
   "execution_count": 79,
   "id": "39c34cbd",
   "metadata": {},
   "outputs": [],
   "source": [
    "class Person:\n",
    "    def __init__(self, name, gender):\n",
    "        self.name = name #인스턴스 변수를 초기화\n",
    "        self.gender = gender\n",
    "        print('Person 객체 생성 부모 클래스')\n",
    "    def print_info(self): # self 꼭 포함\n",
    "        print(self)\n",
    "    def __str__(self): #오버라이딩(함수의 재정의)\n",
    "        return(\"{}님은 {}입니다\".format(self.name, self.gender))"
   ]
  },
  {
   "cell_type": "code",
   "execution_count": 87,
   "id": "91164b39",
   "metadata": {},
   "outputs": [],
   "source": [
    "class Student(Person):\n",
    "    def __init__(self, name, gender, major):\n",
    "        self.name = name\n",
    "        self.gender = gender\n",
    "        self.major = major\n",
    "        print('Student 객체 생성 자식 클래스')\n",
    "    #재정의(override) : 부모클래스에서 정의한 함수를 자식 클래스에서 다시 정의\n",
    "    def __str__(self):\n",
    "        return(\"{}님은 {}입니다. 전공은 {}입니다\".format(self.name, self.gender, self.major))"
   ]
  },
  {
   "cell_type": "code",
   "execution_count": 88,
   "id": "c825727b",
   "metadata": {},
   "outputs": [
    {
     "name": "stdout",
     "output_type": "stream",
     "text": [
      "Person 객체 생성 부모 클래스\n",
      "홍길동님은 남자입니다\n",
      "True\n"
     ]
    }
   ],
   "source": [
    "p1 = Person('홍길동', '남자')\n",
    "print(p1)\n",
    "print(isinstance(p1, Person))"
   ]
  },
  {
   "cell_type": "code",
   "execution_count": 89,
   "id": "cf67c6e4",
   "metadata": {},
   "outputs": [
    {
     "name": "stdout",
     "output_type": "stream",
     "text": [
      "Person 객체 생성 부모 클래스\n",
      "Student 객체 생성 자식 클래스\n",
      "홍길숙님은 여자입니다. 전공은 AI입니다\n",
      "True\n",
      "True\n"
     ]
    }
   ],
   "source": [
    "s1 = Student('홍길숙','여자','AI')\n",
    "print(s1)\n",
    "print(isinstance(s1, Student))\n",
    "print(isinstance(s1, Person))"
   ]
  },
  {
   "cell_type": "markdown",
   "id": "d5de03ad",
   "metadata": {},
   "source": [
    "## super()이용\n",
    "- super() : '부모클래스'를 의미"
   ]
  },
  {
   "cell_type": "code",
   "execution_count": 4,
   "id": "955788ec",
   "metadata": {},
   "outputs": [],
   "source": [
    "class Person:\n",
    "    def __init__(self, name, gender):\n",
    "        self.name = name #인스턴스 변수를 초기화\n",
    "        self.gender = gender\n",
    "        print('Person 객체 생성 부모 클래스')\n",
    "    def print_info(self): # self 꼭 포함\n",
    "        print(self)\n",
    "    def __str__(self): #오버라이딩(함수의 재정의)\n",
    "        return \"{}님은 {}입니다\".format(self.name, self.gender)\n",
    "\n",
    "class Student(Person):\n",
    "    def __init__(self, name, gender, major):\n",
    "        super().__init__(name, gender)\n",
    "        self.major = major\n",
    "        print('Student 객체 생성 자식 클래스')\n",
    "    #재정의(override) : 부모클래스에서 정의한 함수를 자식 클래스에서 다시 정의\n",
    "    def __str__(self):\n",
    "        return super().__str__() + \" 전공은 {}입니다\".format(self.major)"
   ]
  },
  {
   "cell_type": "code",
   "execution_count": 5,
   "id": "e42e62ef",
   "metadata": {},
   "outputs": [
    {
     "name": "stdout",
     "output_type": "stream",
     "text": [
      "Person 객체 생성 부모 클래스\n",
      "Student 객체 생성 자식 클래스\n",
      "홍길숙님은 여자입니다 전공은 AI입니다\n",
      "True\n",
      "True\n",
      "홍길숙님은 여자입니다 전공은 AI입니다\n"
     ]
    }
   ],
   "source": [
    "s1 = Student('홍길숙','여자','AI')\n",
    "print(s1)\n",
    "print(isinstance(s1, Student))\n",
    "print(isinstance(s1, Person))\n",
    "s1.print_info()"
   ]
  },
  {
   "cell_type": "code",
   "execution_count": 7,
   "id": "3b7e5570",
   "metadata": {},
   "outputs": [
    {
     "name": "stdout",
     "output_type": "stream",
     "text": [
      "{'name': '홍길숙', 'gender': '여자', 'major': 'AI'}\n"
     ]
    }
   ],
   "source": [
    "print(s1.__dict__) #객체를 딕셔너리 형태로 변환"
   ]
  },
  {
   "cell_type": "markdown",
   "id": "a66d8d83",
   "metadata": {},
   "source": [
    "## static 변수(정적 변수) : 여러 객체들 사이에 데이터를 공유하고 싶을 때 사용\n",
    "- static 변수 : 앞에 underscore 2개(`__`)를 붙인다. 클래스명.클래스명__static변수명으로 참조\n",
    "- static 변수는 클래스 내부에서만 접근하도록 하려는 용도"
   ]
  },
  {
   "cell_type": "code",
   "execution_count": 2,
   "id": "d062e966",
   "metadata": {},
   "outputs": [],
   "source": [
    "class Student(Person):\n",
    "    'name,gender,major 변수를 같는 Student 타입. Student 객체를 몇번째 생성되어 있는지 공유하고 싶음'\n",
    "    __count = 0 # static 변수\n",
    "    def __init__(self, name, gender, major):\n",
    "        super().__init__(name, gender)\n",
    "        self.major = major\n",
    "        Student._Student__count += 1 #객체가 생성될 때마다 __count 1 증가\n",
    "    \n",
    "    def __del__(self):\n",
    "        Student._Student__count -= 1 #객체가 소멸될 때마다 __count 1 감소\n",
    "    \n",
    "    def __str__(self):\n",
    "        return super().__str__() + \", 정공은 {} - 객체 {} 생성\".format(self.major, Student._Student__count)\n",
    "    \n",
    "    @classmethod\n",
    "    def get_count(cls): #클래스변수나 static 변수를 이용하는 로직\n",
    "        #return cls.count\n",
    "        return Student._Student__count"
   ]
  },
  {
   "cell_type": "code",
   "execution_count": 3,
   "id": "9db7a721",
   "metadata": {},
   "outputs": [
    {
     "name": "stdout",
     "output_type": "stream",
     "text": [
      "Person 객체 생성 부모 클래스\n",
      "s1 추가 후\n",
      "홍길동님은 남자입니다, 정공은 AI - 객체 1 생성\n",
      "Person 객체 생성 부모 클래스\n",
      "s2 추가 후\n",
      "홍길동님은 남자입니다, 정공은 AI - 객체 2 생성\n",
      "홍길숙님은 여자입니다, 정공은 AI - 객체 2 생성\n",
      "Person 객체 생성 부모 클래스\n",
      "s3 추가 후\n",
      "홍길동님은 남자입니다, 정공은 AI - 객체 3 생성\n",
      "홍길숙님은 여자입니다, 정공은 AI - 객체 3 생성\n",
      "김길동님은 남자입니다, 정공은 AI - 객체 3 생성\n",
      "Person 객체 생성 부모 클래스\n",
      "s4 추가 후\n",
      "홍길동님은 남자입니다, 정공은 AI - 객체 4 생성\n",
      "홍길숙님은 여자입니다, 정공은 AI - 객체 4 생성\n",
      "김길동님은 남자입니다, 정공은 AI - 객체 4 생성\n",
      "김길숙님은 여자입니다, 정공은 AI - 객체 4 생성\n"
     ]
    }
   ],
   "source": [
    "s1 = Student('홍길동', '남자', 'AI')\n",
    "print('s1 추가 후')\n",
    "print(s1)\n",
    "s2 = Student('홍길숙', '여자', 'AI')\n",
    "print('s2 추가 후')\n",
    "print(s1)\n",
    "print(s2)\n",
    "s3 = Student('김길동', '남자', 'AI')\n",
    "print('s3 추가 후')\n",
    "print(s1)\n",
    "print(s2)\n",
    "print(s3)\n",
    "s4 = Student('김길숙', '여자', 'AI')\n",
    "print('s4 추가 후')\n",
    "print(s1)\n",
    "print(s2)\n",
    "print(s3)\n",
    "print(s4)"
   ]
  },
  {
   "cell_type": "code",
   "execution_count": 4,
   "id": "71045eb2",
   "metadata": {},
   "outputs": [
    {
     "name": "stdout",
     "output_type": "stream",
     "text": [
      "홍길동님은 남자입니다, 정공은 AI - 객체 3 생성\n",
      "홍길숙님은 여자입니다, 정공은 AI - 객체 3 생성\n",
      "김길동님은 남자입니다, 정공은 AI - 객체 3 생성\n"
     ]
    }
   ],
   "source": [
    "del(s4)\n",
    "print(s1)\n",
    "print(s2)\n",
    "print(s3)"
   ]
  },
  {
   "cell_type": "code",
   "execution_count": 5,
   "id": "bdb62748",
   "metadata": {},
   "outputs": [
    {
     "name": "stdout",
     "output_type": "stream",
     "text": [
      "0\n"
     ]
    }
   ],
   "source": [
    "del(s3)\n",
    "del(s2)\n",
    "del(s1)\n",
    "print(Student.get_count())"
   ]
  },
  {
   "cell_type": "markdown",
   "id": "b5ed076f",
   "metadata": {},
   "source": [
    "# 연습문제"
   ]
  },
  {
   "cell_type": "markdown",
   "id": "334d2eb3",
   "metadata": {},
   "source": [
    "## 실습형\n",
    "### 1. 다음 조건을 만족하는 클래스를 작성하세요\n",
    "- 도형(Shape)클래스와 삼각형(Triangle) 클래스를 만들어야 합니다.\n",
    "- 도형(Shape)클래스\n",
    "    - 생성자를 통해 x,y좌표를 초기화할 수 있습니다. x,y 좌표의 기본값은 0,0 입니다\n",
    "    - x,y좌표를 이동시킬 수 있는 move함수가 있습니다.\n",
    "    - x,y좌표값 정보를 문자열로 리턴하는 ```__str__``` 함수가 있습니다.\n",
    "    - 도형의 면적을 구하는 함수 (calc_area)가 있습니다. 다만 도형 클래스의 calc_area()는 구현되어 있지 않아 호출하면 오류가 발생합니다(파이썬은 추상메소드가 없음. 추상메소드 역활을 구현)\n",
    "    - 정적메소드(staticmethod)를 하나 이상 구현합니다\n",
    "- '삼각형(Triangle)클래스는 도형(Shape)클래스이다' 관계가 성립해야 합니다\n",
    "    - 생성자를 통해, width, height, x, y좌표를 초기화하고, x, y좌표의 기본값은 0,0 입니다.\n",
    "    - 삼각형의 면적을 구하는 메소드 calc_area를 재정의합니다.\n",
    "    - 삼각형의 정보를 문자열로 반환하는 ```__str__()``` 함수가 있습니다\n",
    "    - 삼각형 객체가 몇 개가 만들어져 있는지 정보를 저장하는 클래스 변수를 추가하고 생성자에서 객체를 만들 때마다 증가시키고 소멸자에서 객체를 소멸시킬 때마다 감소합니다"
   ]
  },
  {
   "cell_type": "code",
   "execution_count": 1,
   "id": "07c19e29",
   "metadata": {},
   "outputs": [],
   "source": [
    "import math\n",
    "class Shape:\n",
    "    '''\n",
    "    여러 도형을 나타내는 클래스. 총 2개의 인스턴스 변수가 있습니다.\n",
    "    x : 도형의 x 좌표\n",
    "    y : 도형의 y 좌표\n",
    "    '''\n",
    "    \n",
    "    def __init__(self, x=0, y=0):\n",
    "        '''\n",
    "        Shape 클래스를 초기화합니다. x, y 두개의 매개변수를 지정할수 있습니다\n",
    "        x : 도형의 x 좌표 (default : 0)\n",
    "        y : 도형의 y 좌표 (default : 0)\n",
    "        '''\n",
    "        self.x = x\n",
    "        self.y = y\n",
    "    \n",
    "    def move(self, x, y):\n",
    "        '''\n",
    "        객체의 좌표를 특정 좌표로 옮깁니다. x, y 두개의 매개변수가 있습니다\n",
    "        x : 옮기고 싶은 x 좌표\n",
    "        y : 옮기고 싶은 y 좌표\n",
    "        '''\n",
    "        self.x = x\n",
    "        self.y = y\n",
    "    \n",
    "    def __str__(self):\n",
    "        return('x 좌표: {}, y 좌표: {}'.format(self.x, self.y))\n",
    "    \n",
    "    def calc_area(self):\n",
    "        '도형의 넓이를 구하는 함수. 도형 클래스의 경우 도형이 특정되지 않았기에 오류가 난다'\n",
    "        raise Exception('도형이 정해져 있지 않아 넓이를 구할수 없습니다')\n",
    "        pass\n",
    "    \n",
    "    @staticmethod\n",
    "    def calc_distance(x1,y1,x2=0,y2=0):\n",
    "        '''\n",
    "        두 좌표 사이의 거리를 구하는 함수. 4개의 매개변수를 받을수 잇다. 두번째 좌표를 지정하지 않으면 (0,0)을 기준으로 한다\n",
    "        x1 : 첫번째 좌표의 x 좌표\n",
    "        y1 : 첫번째 좌표의 y 좌표\n",
    "        x2 : 두번째 좌표의 x 좌표 (default : 0)\n",
    "        y2 : 두번째 좌표의 y 좌표 (default : 0)\n",
    "        '''\n",
    "        return math.sqrt((x1-x2)**2 + (y1-y2)**2)\n",
    "    \n",
    "class Triangle(Shape):\n",
    "    '''\n",
    "    삼각형을 나타내는 클래스. Shape(도형)을 상속. 총 5개 변수\n",
    "    count  : 삼각형 객체의 수 (클래스 변수)\n",
    "    x      : 삼각형의 x 좌표 (인스턴스 변수)\n",
    "    y      : 삼각형의 y 좌표 (인스턴스 변수)\n",
    "    width  : 삼각형의 너비   (인스턴스 변수)\n",
    "    height : 삼각형의 높이   (인스턴스 변수)\n",
    "    '''\n",
    "    count = 0\n",
    "    \n",
    "    def __init__(self, width, height, x=0, y=0):\n",
    "        '''\n",
    "        삼각형을 초기화합니다. 아래의 매개변수가 있습니다.\n",
    "        width  : 삼각형의 너비\n",
    "        height : 삼각형의 높이\n",
    "        x : 도형의 x 좌표 (default : 0)\n",
    "        y : 도형의 y 좌표 (default : 0)\n",
    "        '''\n",
    "        super().__init__(x, y)\n",
    "        self.width = width\n",
    "        self.height = height\n",
    "        Triangle.count += 1\n",
    "    \n",
    "    def __del__(self):\n",
    "        Triangle.count -= 1\n",
    "        \n",
    "    def calc_area(self):\n",
    "        '삼각형의 넓이를 return하는 함수'\n",
    "        return self.width * self.height / 2\n",
    "    \n",
    "    def __str__(self):\n",
    "        return super().__str__() + ' 너비 : {}, 높이 : {}'.format(self.width, self.height)\n",
    "    \n",
    "    @classmethod\n",
    "    def get_count(cls):\n",
    "        '삼각형 객체 수를 return하는 함수'\n",
    "        return cls.count"
   ]
  },
  {
   "cell_type": "code",
   "execution_count": 2,
   "id": "d6706776",
   "metadata": {},
   "outputs": [
    {
     "name": "stdout",
     "output_type": "stream",
     "text": [
      "객체 초기화\n",
      "s1 = x 좌표: 0, y 좌표: 0\n",
      "s2 = x 좌표: 0, y 좌표: 2\n",
      "s3 = x 좌표: 1, y 좌표: 0\n",
      "s4 = x 좌표: 1, y 좌표: 2\n",
      "s1.move(1,2) 후 : x 좌표: 1, y 좌표: 2\n",
      "static 메서드 calc_disctance 5.0\n",
      "static 메서드 calc_disctance 2.8284271247461903\n"
     ]
    },
    {
     "ename": "Exception",
     "evalue": "도형이 정해져 있지 않아 넓이를 구할수 없습니다",
     "output_type": "error",
     "traceback": [
      "\u001b[1;31m---------------------------------------------------------------------------\u001b[0m",
      "\u001b[1;31mException\u001b[0m                                 Traceback (most recent call last)",
      "Cell \u001b[1;32mIn[2], line 16\u001b[0m\n\u001b[0;32m     14\u001b[0m \u001b[38;5;28mprint\u001b[39m(\u001b[38;5;124m'\u001b[39m\u001b[38;5;124mstatic 메서드 calc_disctance\u001b[39m\u001b[38;5;124m'\u001b[39m, Shape\u001b[38;5;241m.\u001b[39mcalc_distance(\u001b[38;5;241m3\u001b[39m,\u001b[38;5;241m4\u001b[39m))\n\u001b[0;32m     15\u001b[0m \u001b[38;5;28mprint\u001b[39m(\u001b[38;5;124m'\u001b[39m\u001b[38;5;124mstatic 메서드 calc_disctance\u001b[39m\u001b[38;5;124m'\u001b[39m, Shape\u001b[38;5;241m.\u001b[39mcalc_distance(\u001b[38;5;241m3\u001b[39m,\u001b[38;5;241m4\u001b[39m,\u001b[38;5;241m1\u001b[39m,\u001b[38;5;241m2\u001b[39m))\n\u001b[1;32m---> 16\u001b[0m \u001b[38;5;28mprint\u001b[39m(\u001b[38;5;124m'\u001b[39m\u001b[38;5;124ms1.cal_area :\u001b[39m\u001b[38;5;124m'\u001b[39m, \u001b[43ms1\u001b[49m\u001b[38;5;241;43m.\u001b[39;49m\u001b[43mcalc_area\u001b[49m\u001b[43m(\u001b[49m\u001b[43m)\u001b[49m)\n",
      "Cell \u001b[1;32mIn[1], line 32\u001b[0m, in \u001b[0;36mShape.calc_area\u001b[1;34m(self)\u001b[0m\n\u001b[0;32m     30\u001b[0m \u001b[38;5;28;01mdef\u001b[39;00m \u001b[38;5;21mcalc_area\u001b[39m(\u001b[38;5;28mself\u001b[39m):\n\u001b[0;32m     31\u001b[0m     \u001b[38;5;124m'\u001b[39m\u001b[38;5;124m도형의 넓이를 구하는 함수. 도형 클래스의 경우 도형이 특정되지 않았기에 오류가 난다\u001b[39m\u001b[38;5;124m'\u001b[39m\n\u001b[1;32m---> 32\u001b[0m     \u001b[38;5;28;01mraise\u001b[39;00m \u001b[38;5;167;01mException\u001b[39;00m(\u001b[38;5;124m'\u001b[39m\u001b[38;5;124m도형이 정해져 있지 않아 넓이를 구할수 없습니다\u001b[39m\u001b[38;5;124m'\u001b[39m)\n\u001b[0;32m     33\u001b[0m     \u001b[38;5;28;01mpass\u001b[39;00m\n",
      "\u001b[1;31mException\u001b[0m: 도형이 정해져 있지 않아 넓이를 구할수 없습니다"
     ]
    }
   ],
   "source": [
    "# Shape class되는지 체크\n",
    "print('객체 초기화')\n",
    "s1 = Shape()\n",
    "s2 = Shape(y=2)\n",
    "s3 = Shape(1)\n",
    "s4 = Shape(1,2)\n",
    "print('s1 =', s1)\n",
    "print('s2 =', s2)\n",
    "print('s3 =', s3)\n",
    "print('s4 =', s4)\n",
    "\n",
    "s1.move(1,2)\n",
    "print('s1.move(1,2) 후 :', s1)\n",
    "print('static 메서드 calc_disctance', Shape.calc_distance(3,4))\n",
    "print('static 메서드 calc_disctance', Shape.calc_distance(3,4,1,2))\n",
    "print('s1.cal_area :', s1.calc_area())"
   ]
  },
  {
   "cell_type": "code",
   "execution_count": 3,
   "id": "c4ccc20c",
   "metadata": {},
   "outputs": [
    {
     "name": "stdout",
     "output_type": "stream",
     "text": [
      "t1 = x 좌표: 0, y 좌표: 0 너비 : 5, 높이 : 2\n",
      "t2 = x 좌표: 1, y 좌표: 2 너비 : 5, 높이 : 2\n",
      "t1 (1,2)로 move 후 : x 좌표: 1, y 좌표: 2 너비 : 5, 높이 : 2\n",
      "t1의 넓이는 : 5.0\n",
      "현재 생성된 Triangle 객체 수는 : 2\n",
      "t3 추가후 Triangle 객체 수는 : 3\n",
      "t2 삭제후 Triangle 객체 수는 : 2\n"
     ]
    }
   ],
   "source": [
    "# Triangle 클래스 되는지 확인\n",
    "t1 = Triangle(5, 2)\n",
    "t2 = Triangle(5, 2, 1, 2)\n",
    "print('t1 =', t1)\n",
    "print('t2 =', t2)\n",
    "\n",
    "t1.move(1,2)\n",
    "print('t1 (1,2)로 move 후 :', t1)\n",
    "print('t1의 넓이는 :', t1.calc_area())\n",
    "\n",
    "print('현재 생성된 Triangle 객체 수는 :', Triangle.get_count())\n",
    "t3 = Triangle(6,2)\n",
    "print('t3 추가후 Triangle 객체 수는 :', Triangle.get_count())\n",
    "del t2\n",
    "print('t2 삭제후 Triangle 객체 수는 :', Triangle.get_count())"
   ]
  },
  {
   "cell_type": "markdown",
   "id": "a46d0250",
   "metadata": {},
   "source": [
    "## 서술형\n",
    "### 1. 다음 중 올바른 클래스 정의는?\n",
    "- ① class Person:\n",
    "- ② class Person():\n",
    "- ③ p1 = Person()\n",
    "- ④ def Person:"
   ]
  },
  {
   "cell_type": "markdown",
   "id": "6a112fe6",
   "metadata": {},
   "source": [
    "<font size='4'>1번</font>"
   ]
  },
  {
   "cell_type": "markdown",
   "id": "23005945",
   "metadata": {},
   "source": [
    "### 2. 다음 중 Person 클래스 객체를 생성하는 올바른 방법은?\n",
    "- ① p1 = Person\n",
    "- ② p1 = Person()\n",
    "- ③ Person.p1\n",
    "- ④ p1 = Person.init_()"
   ]
  },
  {
   "cell_type": "markdown",
   "id": "7666bc39",
   "metadata": {},
   "source": [
    "<font size='4'>2번</font>"
   ]
  },
  {
   "cell_type": "markdown",
   "id": "9189569b",
   "metadata": {},
   "source": [
    "### 3. 다음 중 인스턴스 메소드를 선언하는 가장 올바른 방법은?\n",
    "- ① def print_info():\n",
    "- ② \n",
    "```\n",
    "@instancemethod\n",
    "def print_info():\n",
    "```\n",
    "- ③ \n",
    "```\n",
    "@method\n",
    "def print_info():\n",
    "```\n",
    "- ④ def print_info(self):"
   ]
  },
  {
   "cell_type": "markdown",
   "id": "d24b551b",
   "metadata": {},
   "source": [
    "<font size='4'>4번</font>"
   ]
  },
  {
   "cell_type": "markdown",
   "id": "e8825695",
   "metadata": {},
   "source": [
    "### 4. 다음 중 생성자와 소멸자에 대해 잘못 설명한 것은?\n",
    "- ① 생성자는 중복(Overloading) 정의해서 사용할 수 있다.\n",
    "- ② 소멸자는 객체참조수가 0이 되면 실행된다\n",
    "- ③ 생성자의 원형은 init_(self)이다\n",
    "- ④ 생성자는 객체의 변수(또는 속성)를 초기화하는데 사용한다."
   ]
  },
  {
   "cell_type": "markdown",
   "id": "a3f98335",
   "metadata": {},
   "source": [
    "<font size='4'>1번</font>"
   ]
  },
  {
   "cell_type": "markdown",
   "id": "53f009bb",
   "metadata": {},
   "source": [
    "### 5. 다음 중 \"Student is a Person\"을 클래스 상속으로 바르게 표현한 것은?\n",
    "- ① class Person(Student):\n",
    "- ② class Student(Person):\n",
    "- ③ class Personis Student:\n",
    "- ④ class Student: Person:"
   ]
  },
  {
   "cell_type": "markdown",
   "id": "cafbce6d",
   "metadata": {},
   "source": [
    "<font size='4'>2번</font>"
   ]
  },
  {
   "cell_type": "markdown",
   "id": "ec891fd7",
   "metadata": {},
   "source": [
    "### 6. 다음 중 상속과 재정의(Overriding)에 대해 잘못 설명한 것은?\n",
    "- ① 부모 클래스의 메소드를 자식 클래스에서 정의하는 것을 '재정의'라고 한다.\n",
    "- ② 메소드의 재정의는 상속을 전제로 한다.\n",
    "- ③ 재정의는 메소드의 이름은 같고, 매개변수의 수는 다르게 정의해야한다.\n",
    "- ④ super()을 이용하면 부모의 멤버를 호출할수있다."
   ]
  },
  {
   "cell_type": "markdown",
   "id": "b88bf20a",
   "metadata": {},
   "source": [
    "<font size='4'>3번</font>"
   ]
  },
  {
   "cell_type": "markdown",
   "id": "22159992",
   "metadata": {},
   "source": [
    "### 7. 다음 클래스의 메소드를 호출하는 방법 중 잘못된 것은?\n",
    "```python\n",
    "class SomeClass:\n",
    "    def method_a(self):\n",
    "        print('method_a')\n",
    "    \n",
    "    @classmethod\n",
    "    def method_b(cls):\n",
    "        print('method_b')\n",
    "\n",
    "obj = SomeClass()\n",
    "```\n",
    "\n",
    "- ① obj.method_a()\n",
    "- ② obj.method_b()\n",
    "- ③ SomeClass.method_a()\n",
    "- ④ SomeClass.method_b()"
   ]
  },
  {
   "cell_type": "markdown",
   "id": "9ff1d60c",
   "metadata": {},
   "source": [
    "<font size='4'>3번</font>"
   ]
  },
  {
   "cell_type": "markdown",
   "id": "fe7c55ac",
   "metadata": {},
   "source": [
    "### 8. 두 클래스와 코드의 실행결과 다음과 같이 출력되도록 해야 한다면 빈 칸에 넣을 수 없는 것을 고르세요\n",
    "```python\n",
    "def do_(self, a):\n",
    "    print(\"super.do_\")\n",
    "\n",
    "class Sub(Super):\n",
    "    def do_(self, a):\n",
    "        _______________\n",
    "        print(\"sub.do_\")\n",
    "\n",
    "s1 = Sub()\n",
    "s1.do_(10)\n",
    "```\n",
    "<font size='4'> 결과: <br>\n",
    "    super.do_ <br>\n",
    "    sub.do_\n",
    "</font>\n",
    "\n",
    "- ① Super.do_(self, a)\n",
    "- ② super().do_(a)\n",
    "- ③ super.do_(a)"
   ]
  },
  {
   "cell_type": "markdown",
   "id": "9bbdc6f8",
   "metadata": {},
   "source": [
    "<font size='4'>3번</font>"
   ]
  },
  {
   "cell_type": "markdown",
   "id": "60f81024",
   "metadata": {},
   "source": [
    "9. 다음 중 파이썬의 특별한 용도로 정의되어 있는 속성과 메소드에 대한 설명 중 잘못된 것은?\n",
    "- ① ```__dict__``` 속성을 이용하면 클래스의 멤버를 확인할 수 있다.\n",
    "- ② ```__str__()``` 메소드는 print() 함수의 인자로 객체를 전달할 때 호출되는 메소드이다. 이 메소드는 매개변수를 가질 수 없다.\n",
    "- ③ ```__doc__``` 속성은 독스트링을 갖는다\n",
    "- ④ ```__init__()``` 메소드는 생성자를 정의할 때 사용한다."
   ]
  },
  {
   "cell_type": "markdown",
   "id": "0c7be99b",
   "metadata": {},
   "source": [
    "<font size='4'>2번</font>"
   ]
  }
 ],
 "metadata": {
  "kernelspec": {
   "display_name": "Python 3 (ipykernel)",
   "language": "python",
   "name": "python3"
  },
  "language_info": {
   "codemirror_mode": {
    "name": "ipython",
    "version": 3
   },
   "file_extension": ".py",
   "mimetype": "text/x-python",
   "name": "python",
   "nbconvert_exporter": "python",
   "pygments_lexer": "ipython3",
   "version": "3.10.9"
  },
  "toc": {
   "base_numbering": 1,
   "nav_menu": {},
   "number_sections": false,
   "sideBar": true,
   "skip_h1_title": false,
   "title_cell": "Table of Contents",
   "title_sidebar": "Contents",
   "toc_cell": false,
   "toc_position": {},
   "toc_section_display": true,
   "toc_window_display": false
  }
 },
 "nbformat": 4,
 "nbformat_minor": 5
}
