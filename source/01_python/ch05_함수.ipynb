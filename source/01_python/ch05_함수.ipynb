{
 "cells": [
  {
   "cell_type": "code",
   "execution_count": 1,
   "id": "695c61c0",
   "metadata": {},
   "outputs": [
    {
     "data": {
      "text/html": [
       "\n",
       "<style>\n",
       "div.container{width:90% !important;}\n",
       "div.cell.code_cell.rendered{width:100%;}\n",
       "div.input_prompt{padding:0px;}\n",
       "div.CodeMirror {font-family:Consolas; font-size:12pt;}\n",
       "div.text_cell_render.rendered_html{font size:12pt;}\n",
       "div.output {font-size:12pt; font-weight:bold;}\n",
       "div.input{font-family:Consolas; font-size:12pt;}\n",
       "div.prompt {min width:70px;}\n",
       "div#toc-wrapper {padding-top:120px;}\n",
       "div.text_cell_render ul li{font-size:12pt;padding:5px;}\n",
       "table.dataframe {font-size:12px;}\n",
       "</style>\n"
      ],
      "text/plain": [
       "<IPython.core.display.HTML object>"
      ]
     },
     "metadata": {},
     "output_type": "display_data"
    }
   ],
   "source": [
    "from IPython.display import display, HTML\n",
    "display(HTML(\"\"\"\n",
    "<style>\n",
    "div.container{width:90% !important;}\n",
    "div.cell.code_cell.rendered{width:100%;}\n",
    "div.input_prompt{padding:0px;}\n",
    "div.CodeMirror {font-family:Consolas; font-size:12pt;}\n",
    "div.text_cell_render.rendered_html{font size:12pt;}\n",
    "div.output {font-size:12pt; font-weight:bold;}\n",
    "div.input{font-family:Consolas; font-size:12pt;}\n",
    "div.prompt {min width:70px;}\n",
    "div#toc-wrapper {padding-top:120px;}\n",
    "div.text_cell_render ul li{font-size:12pt;padding:5px;}\n",
    "table.dataframe {font-size:12px;}\n",
    "</style>\n",
    "\"\"\"))"
   ]
  },
  {
   "cell_type": "markdown",
   "id": "25d7cbef",
   "metadata": {},
   "source": [
    "<font color='red' size='6'>ch05. 함수</font>\n",
    "- 반복해서 사용할 코드를 묶어 놓고 ]]][그것에이름을 붙인것\n",
    "- 오버로딩 불가 (같은 이름의 함수는 덮어씀)\n",
    "- 함수 정의\n",
    "\n",
    "```\n",
    "def 함수명([매개변수1, 매개변수2, ..):\n",
    "    명령어 1, \n",
    "    명령어 2, \n",
    "    ..\n",
    "```\n"
   ]
  },
  {
   "cell_type": "markdown",
   "id": "543833c7",
   "metadata": {},
   "source": [
    "# 1절 함수의 정의 및 사]용\n",
    "## 1.1 함수 정의"
   ]
  },
  {
   "cell_type": "code",
   "execution_count": 7,
   "id": "9bdc3236",
   "metadata": {},
   "outputs": [],
   "source": [
    "def my_message(x,msg): #msg를 x번 출력하는 함수 정의\n",
    "    for i in range(x):\n",
    "        print(i, msg)"
   ]
  },
  {
   "cell_type": "code",
   "execution_count": 8,
   "id": "b4a32ac4",
   "metadata": {},
   "outputs": [
    {
     "name": "stdout",
     "output_type": "stream",
     "text": [
      "0 Hello\n",
      "1 Hello\n",
      "2 Hello\n"
     ]
    }
   ],
   "source": [
    "# 함수 사용 = 함수 호출\n",
    "my_message(3, 'Hello')"
   ]
  },
  {
   "cell_type": "code",
   "execution_count": 9,
   "id": "02876369",
   "metadata": {},
   "outputs": [
    {
     "name": "stdout",
     "output_type": "stream",
     "text": [
      "0 Hello\n",
      "1 Hello\n",
      "0 Python\n",
      "1 Python\n",
      "2 Python\n"
     ]
    }
   ],
   "source": [
    "# 함수 이름 변경\n",
    "my_msg = my_message\n",
    "my_message(2, \"Hello\")\n",
    "my_msg(3, \"Python\")"
   ]
  },
  {
   "cell_type": "code",
   "execution_count": 10,
   "id": "0088128d",
   "metadata": {},
   "outputs": [
    {
     "data": {
      "text/plain": [
       "(function, function)"
      ]
     },
     "execution_count": 10,
     "metadata": {},
     "output_type": "execute_result"
    }
   ],
   "source": [
    "type(my_msg), type(my_message)"
   ]
  },
  {
   "cell_type": "code",
   "execution_count": 18,
   "id": "bb51d981",
   "metadata": {},
   "outputs": [
    {
     "name": "stdout",
     "output_type": "stream",
     "text": [
      "Hello\n"
     ]
    },
    {
     "ename": "TypeError",
     "evalue": "'int' object is not callable",
     "output_type": "error",
     "traceback": [
      "\u001b[1;31m---------------------------------------------------------------------------\u001b[0m",
      "\u001b[1;31mTypeError\u001b[0m                                 Traceback (most recent call last)",
      "Cell \u001b[1;32mIn[18], line 3\u001b[0m\n\u001b[0;32m      1\u001b[0m \u001b[38;5;28mprint\u001b[39m(\u001b[38;5;124m\"\u001b[39m\u001b[38;5;124mHello\u001b[39m\u001b[38;5;124m\"\u001b[39m) \u001b[38;5;66;03m# 파이썬 내장 함수 (import 하지 않고 사용할 수 있는 함수)\u001b[39;00m\n\u001b[0;32m      2\u001b[0m \u001b[38;5;28mprint\u001b[39m \u001b[38;5;241m=\u001b[39m \u001b[38;5;241m5\u001b[39m\n\u001b[1;32m----> 3\u001b[0m \u001b[38;5;28;43mprint\u001b[39;49m\u001b[43m(\u001b[49m\u001b[38;5;124;43m\"\u001b[39;49m\u001b[38;5;124;43mHello\u001b[39;49m\u001b[38;5;124;43m\"\u001b[39;49m\u001b[43m)\u001b[49m\n",
      "\u001b[1;31mTypeError\u001b[0m: 'int' object is not callable"
     ]
    }
   ],
   "source": [
    "print(\"Hello\") # 파이썬 내장 함수 (import 하지 않고 사용할 수 있는 함수)\n",
    "print = 5\n",
    "print(\"Hello\")"
   ]
  },
  {
   "cell_type": "code",
   "execution_count": 19,
   "id": "98ef8830",
   "metadata": {},
   "outputs": [
    {
     "name": "stdout",
     "output_type": "stream",
     "text": [
      "Hello\n"
     ]
    }
   ],
   "source": [
    "del print\n",
    "print(\"Hello\")"
   ]
  },
  {
   "cell_type": "code",
   "execution_count": 20,
   "id": "b14824b1",
   "metadata": {},
   "outputs": [
    {
     "name": "stdout",
     "output_type": "stream",
     "text": [
      "0 Hello\n",
      "1 Hello\n"
     ]
    }
   ],
   "source": [
    "my_message(2, 'Hello')"
   ]
  },
  {
   "cell_type": "code",
   "execution_count": 21,
   "id": "3500452f",
   "metadata": {},
   "outputs": [
    {
     "name": "stdout",
     "output_type": "stream",
     "text": [
      "0 Hello\n",
      "1 Hello\n"
     ]
    },
    {
     "ename": "TypeError",
     "evalue": "'int' object is not callable",
     "output_type": "error",
     "traceback": [
      "\u001b[1;31m---------------------------------------------------------------------------\u001b[0m",
      "\u001b[1;31mTypeError\u001b[0m                                 Traceback (most recent call last)",
      "Cell \u001b[1;32mIn[21], line 3\u001b[0m\n\u001b[0;32m      1\u001b[0m my_message \u001b[38;5;241m=\u001b[39m \u001b[38;5;241m5\u001b[39m\n\u001b[0;32m      2\u001b[0m my_msg(\u001b[38;5;241m2\u001b[39m,\u001b[38;5;124m\"\u001b[39m\u001b[38;5;124mHello\u001b[39m\u001b[38;5;124m\"\u001b[39m)\n\u001b[1;32m----> 3\u001b[0m \u001b[43mmy_message\u001b[49m\u001b[43m(\u001b[49m\u001b[38;5;241;43m2\u001b[39;49m\u001b[43m,\u001b[49m\u001b[43m \u001b[49m\u001b[38;5;124;43m\"\u001b[39;49m\u001b[38;5;124;43mHello\u001b[39;49m\u001b[38;5;124;43m\"\u001b[39;49m\u001b[43m)\u001b[49m\n",
      "\u001b[1;31mTypeError\u001b[0m: 'int' object is not callable"
     ]
    }
   ],
   "source": [
    "my_message = 5 \n",
    "my_msg(2,\"Hello\")\n",
    "my_message(2, \"Hello\")"
   ]
  },
  {
   "cell_type": "code",
   "execution_count": 22,
   "id": "b8e5925c",
   "metadata": {},
   "outputs": [
    {
     "ename": "SyntaxError",
     "evalue": "invalid syntax (2816452493.py, line 1)",
     "output_type": "error",
     "traceback": [
      "\u001b[1;36m  Cell \u001b[1;32mIn[22], line 1\u001b[1;36m\u001b[0m\n\u001b[1;33m    del my message() #사용자 정의 함수, 라이브러리 함수는 del하여도 사용불가\u001b[0m\n\u001b[1;37m           ^\u001b[0m\n\u001b[1;31mSyntaxError\u001b[0m\u001b[1;31m:\u001b[0m invalid syntax\n"
     ]
    }
   ],
   "source": [
    "del my_message() #변수 및 함수 제거하여도\n",
    "my_message(2,'Hello')#사용자 정의 함수, 라이브러리 함수는 del하여도 사용불가"
   ]
  },
  {
   "cell_type": "code",
   "execution_count": null,
   "id": "22b7a59c",
   "metadata": {},
   "outputs": [],
   "source": [
    "# 함수 중복 정의 불가(오버로딩 불가)\n",
    "def my_hello():\n",
    "    print('Hello Python')\n",
    "    print('Hello world')\n",
    "def my_hello(cnt): #cnt번 출력\n",
    "    for i in range(cnt):\n",
    "        print('Helllo Python', end='\\t')\n",
    "        print('Hello, World')"
   ]
  },
  {
   "cell_type": "code",
   "execution_count": 26,
   "id": "4a266476",
   "metadata": {},
   "outputs": [
    {
     "ename": "TypeError",
     "evalue": "my_hello() missing 1 required positional argument: 'cnt'",
     "output_type": "error",
     "traceback": [
      "\u001b[1;31m---------------------------------------------------------------------------\u001b[0m",
      "\u001b[1;31mTypeError\u001b[0m                                 Traceback (most recent call last)",
      "Cell \u001b[1;32mIn[26], line 1\u001b[0m\n\u001b[1;32m----> 1\u001b[0m \u001b[43mmy_hello\u001b[49m\u001b[43m(\u001b[49m\u001b[43m)\u001b[49m\n\u001b[0;32m      2\u001b[0m my_hello(\u001b[38;5;241m2\u001b[39m)\n",
      "\u001b[1;31mTypeError\u001b[0m: my_hello() missing 1 required positional argument: 'cnt'"
     ]
    }
   ],
   "source": [
    "my_hello() # 매개변수 1개짜리로 덮어쓰였기 때문에 매개변수 0개짜리는 정의되지 않음"
   ]
  },
  {
   "cell_type": "code",
   "execution_count": 27,
   "id": "f3e00826",
   "metadata": {},
   "outputs": [
    {
     "name": "stdout",
     "output_type": "stream",
     "text": [
      "Helllo Python\tHello, World\n",
      "Helllo Python\tHello, World\n"
     ]
    }
   ],
   "source": [
    "my_hello(2)"
   ]
  },
  {
   "cell_type": "code",
   "execution_count": 28,
   "id": "a5411eec",
   "metadata": {},
   "outputs": [
    {
     "data": {
      "text/plain": [
       "'__main__'"
      ]
     },
     "execution_count": 28,
     "metadata": {},
     "output_type": "execute_result"
    }
   ],
   "source": [
    "__name__"
   ]
  },
  {
   "cell_type": "code",
   "execution_count": 30,
   "id": "0e5feedb",
   "metadata": {},
   "outputs": [
    {
     "name": "stdout",
     "output_type": "stream",
     "text": [
      "Helllo Python\tHello, World\n",
      "Helllo Python\tHello, World\n"
     ]
    }
   ],
   "source": [
    "if __name__ == '__main__':\n",
    "    my_hello(2)"
   ]
  },
  {
   "cell_type": "code",
   "execution_count": 3,
   "id": "29338760",
   "metadata": {},
   "outputs": [],
   "source": [
    "import ch05 # ch05 모듈이 해석되서 메모리 로드"
   ]
  },
  {
   "cell_type": "code",
   "execution_count": 4,
   "id": "fb378030",
   "metadata": {},
   "outputs": [
    {
     "name": "stdout",
     "output_type": "stream",
     "text": [
      "ch05\n",
      "Hello, Python\tHello, World\n",
      "Hello, Python\tHello, World\n"
     ]
    }
   ],
   "source": [
    "ch05.my_hello(2)"
   ]
  },
  {
   "cell_type": "code",
   "execution_count": 1,
   "id": "c9d34047",
   "metadata": {},
   "outputs": [
    {
     "name": "stdout",
     "output_type": "stream",
     "text": [
      "ch05\n",
      "Hello, Python\tHello, World\n",
      "Hello, Python\tHello, World\n",
      "Hello, Python\tHello, World\n"
     ]
    }
   ],
   "source": [
    "from ch05 import my_hello #ch05 모듈안의 my_hello만 메모리 로드\n",
    "my_hello(3)"
   ]
  },
  {
   "cell_type": "markdown",
   "id": "b0b9e5b2",
   "metadata": {},
   "source": [
    "## 1.2 docstring"
   ]
  },
  {
   "cell_type": "code",
   "execution_count": 3,
   "id": "ab5f3cc7",
   "metadata": {},
   "outputs": [],
   "source": [
    "def my_function():\n",
    "    '''\n",
    "    함수의 첫 라인에 독스트링을 포함할 수 있습니다\n",
    "    독스트링은 함수의 설명서를 달아주는 역활\n",
    "    주석보다 많은 기능 (함수 호출시 shift+tab(tab)으로 독스트링을 볼수 있음)\n",
    "    '''\n",
    "    #어떤 함수"
   ]
  },
  {
   "cell_type": "code",
   "execution_count": 5,
   "id": "698633ca",
   "metadata": {},
   "outputs": [
    {
     "name": "stdout",
     "output_type": "stream",
     "text": [
      "\n",
      "    함수의 첫 라인에 독스트링을 포함할 수 있습니다\n",
      "    독스트링은 함수의 설명서를 달아주는 역활\n",
      "    주석보다 많은 기능 (함수 호출시 shift+tab으로 독스트링을 볼수 있음)\n",
      "    \n"
     ]
    }
   ],
   "source": [
    "print(my_function.__doc__) # 해당 함수의 독스트링을 볼수 있다"
   ]
  },
  {
   "cell_type": "code",
   "execution_count": 7,
   "id": "7a3f27c4",
   "metadata": {},
   "outputs": [],
   "source": [
    "def fibonacci(n):\n",
    "    '''\n",
    "    매개변수로 들어온 n값 미만의 피보나치 수열을 출력하는 함수\n",
    "    ex. n=10 : 0 1 1 2 3 5 8\n",
    "      n=100  : 0 1 1 2 3 5 8 13 21 34 55 89\n",
    "    '''\n",
    "    a, b = 0, 1 # 하수 내에 선언한 변수 : 지역변수 (반:전역변수)\n",
    "    while a<n:\n",
    "        print(a, end=' ')\n",
    "        a, b = b, a+b\n",
    "    print() #개행"
   ]
  },
  {
   "cell_type": "code",
   "execution_count": 8,
   "id": "44561509",
   "metadata": {},
   "outputs": [
    {
     "name": "stdout",
     "output_type": "stream",
     "text": [
      "0 1 1 2 3 5 8 13 21 34 55 89 \n"
     ]
    }
   ],
   "source": [
    "fibonacci(100)"
   ]
  },
  {
   "cell_type": "code",
   "execution_count": 9,
   "id": "cd97514b",
   "metadata": {},
   "outputs": [
    {
     "ename": "NameError",
     "evalue": "name 'a' is not defined",
     "output_type": "error",
     "traceback": [
      "\u001b[1;31m---------------------------------------------------------------------------\u001b[0m",
      "\u001b[1;31mNameError\u001b[0m                                 Traceback (most recent call last)",
      "Cell \u001b[1;32mIn[9], line 1\u001b[0m\n\u001b[1;32m----> 1\u001b[0m \u001b[43ma\u001b[49m, b\n",
      "\u001b[1;31mNameError\u001b[0m: name 'a' is not defined"
     ]
    }
   ],
   "source": [
    "a, b # 지역변수는 함수내에서만 사용가능 (함수 호출 후 메모리에서 지워짐)"
   ]
  },
  {
   "cell_type": "markdown",
   "id": "de2fe287",
   "metadata": {},
   "source": [
    "## 1.3 지역변수 (local var)와 전역변수 (global var)"
   ]
  },
  {
   "cell_type": "code",
   "execution_count": 2,
   "id": "f6484c52",
   "metadata": {},
   "outputs": [
    {
     "name": "stdout",
     "output_type": "stream",
     "text": [
      "함수안 : 100\n",
      "함수밖 : 100\n"
     ]
    }
   ],
   "source": [
    "global_var = 100\n",
    "def func1():\n",
    "    print('함수안 :', global_var)\n",
    "func1()\n",
    "print('함수밖 :', global_var)"
   ]
  },
  {
   "cell_type": "code",
   "execution_count": 3,
   "id": "b7845826",
   "metadata": {},
   "outputs": [
    {
     "name": "stdout",
     "output_type": "stream",
     "text": [
      "함수 안 : 200\n"
     ]
    }
   ],
   "source": [
    "def func2():\n",
    "    local_var = 200\n",
    "    print('함수 안 :', local_var)\n",
    "func2()"
   ]
  },
  {
   "cell_type": "code",
   "execution_count": 4,
   "id": "d804619c",
   "metadata": {},
   "outputs": [
    {
     "ename": "NameError",
     "evalue": "name 'local_var' is not defined",
     "output_type": "error",
     "traceback": [
      "\u001b[1;31m---------------------------------------------------------------------------\u001b[0m",
      "\u001b[1;31mNameError\u001b[0m                                 Traceback (most recent call last)",
      "Cell \u001b[1;32mIn[4], line 1\u001b[0m\n\u001b[1;32m----> 1\u001b[0m \u001b[38;5;28mprint\u001b[39m(\u001b[38;5;124m'\u001b[39m\u001b[38;5;124m함수밖에서 지역변수 :\u001b[39m\u001b[38;5;124m'\u001b[39m, \u001b[43mlocal_var\u001b[49m)\n",
      "\u001b[1;31mNameError\u001b[0m: name 'local_var' is not defined"
     ]
    }
   ],
   "source": [
    "#print('함수밖에서 지역변수 :', local_var) # 에러"
   ]
  },
  {
   "cell_type": "code",
   "execution_count": 5,
   "id": "7a7a0b06",
   "metadata": {},
   "outputs": [
    {
     "name": "stdout",
     "output_type": "stream",
     "text": [
      "g_var : 200\n",
      "g_var : 100\n"
     ]
    }
   ],
   "source": [
    "g_var = 100 #전역변수\n",
    "def func3():\n",
    "    g_var = 200 #지역변수 (함수내에서 할당)\n",
    "    print('지역변수 g_var :', g_var)\n",
    "func3()\n",
    "print('전역변수 g_var :', g_var)"
   ]
  },
  {
   "cell_type": "code",
   "execution_count": 9,
   "id": "0cc91484",
   "metadata": {},
   "outputs": [
    {
     "ename": "UnboundLocalError",
     "evalue": "local variable 'g_var' referenced before assignment",
     "output_type": "error",
     "traceback": [
      "\u001b[1;31m---------------------------------------------------------------------------\u001b[0m",
      "\u001b[1;31mUnboundLocalError\u001b[0m                         Traceback (most recent call last)",
      "Cell \u001b[1;32mIn[9], line 6\u001b[0m\n\u001b[0;32m      4\u001b[0m     \u001b[38;5;28mprint\u001b[39m(\u001b[38;5;124m'\u001b[39m\u001b[38;5;124m지역변수 g_var :\u001b[39m\u001b[38;5;124m'\u001b[39m, g_var)\n\u001b[0;32m      5\u001b[0m     g_var \u001b[38;5;241m=\u001b[39m \u001b[38;5;241m200\u001b[39m \u001b[38;5;66;03m#지역변수 (함수내에서 할당)\u001b[39;00m\n\u001b[1;32m----> 6\u001b[0m \u001b[43mfunc3\u001b[49m\u001b[43m(\u001b[49m\u001b[43m)\u001b[49m\n\u001b[0;32m      7\u001b[0m \u001b[38;5;28mprint\u001b[39m(\u001b[38;5;124m'\u001b[39m\u001b[38;5;124m전역변수 g_var :\u001b[39m\u001b[38;5;124m'\u001b[39m, g_var)\n",
      "Cell \u001b[1;32mIn[9], line 4\u001b[0m, in \u001b[0;36mfunc3\u001b[1;34m()\u001b[0m\n\u001b[0;32m      3\u001b[0m \u001b[38;5;28;01mdef\u001b[39;00m \u001b[38;5;21mfunc3\u001b[39m():\n\u001b[1;32m----> 4\u001b[0m     \u001b[38;5;28mprint\u001b[39m(\u001b[38;5;124m'\u001b[39m\u001b[38;5;124m지역변수 g_var :\u001b[39m\u001b[38;5;124m'\u001b[39m, \u001b[43mg_var\u001b[49m)\n\u001b[0;32m      5\u001b[0m     g_var \u001b[38;5;241m=\u001b[39m \u001b[38;5;241m200\u001b[39m\n",
      "\u001b[1;31mUnboundLocalError\u001b[0m: local variable 'g_var' referenced before assignment"
     ]
    }
   ],
   "source": [
    "# 렉시컬 특성 : 변수가 어디서 선언되었는지에 따라 변수의 범위가 정해짐 (지역 vs 전역)\n",
    "# Error가 나오는 이유 : func3에 g_var가 할당되기에 미리 메모리에 넣어놧는데 출력을 할당하기 전에 하여 에러\n",
    "g_var = 100 #전역변수\n",
    "def func3():\n",
    "    print('지역변수 g_var :', g_var)\n",
    "    g_var = 200 #지역변수 (함수내에서 할당)\n",
    "func3()\n",
    "print('전역변수 g_var :', g_var)"
   ]
  },
  {
   "cell_type": "code",
   "execution_count": 11,
   "id": "7af643c7",
   "metadata": {},
   "outputs": [
    {
     "name": "stdout",
     "output_type": "stream",
     "text": [
      "전역변수 g_var : 100\n",
      "전역변수 g_var : 200\n"
     ]
    }
   ],
   "source": [
    "g_var = 100 #전역변수\n",
    "def func3():\n",
    "    global g_var # 함수내에서의 g_var는 전역변수를 사용\n",
    "    print('전역변수 g_var :', g_var)\n",
    "    g_var = 200 #전역변수 g_var에 200 할당\n",
    "func3()\n",
    "print('전역변수 g_var :', g_var)"
   ]
  },
  {
   "cell_type": "markdown",
   "id": "59c9b9d9",
   "metadata": {},
   "source": [
    "## 1.4 값에 의한 호출\n",
    "- 함수에 인수로 전달되는 변수가 스칼라 변수(문자, 숫자, 논리형)일 때"
   ]
  },
  {
   "cell_type": "code",
   "execution_count": 13,
   "id": "730e8a1f",
   "metadata": {},
   "outputs": [
    {
     "data": {
      "text/plain": [
       "2107741988656"
      ]
     },
     "execution_count": 13,
     "metadata": {},
     "output_type": "execute_result"
    }
   ],
   "source": [
    "foo = 'a' # 전역변수\n",
    "id(foo)"
   ]
  },
  {
   "cell_type": "code",
   "execution_count": 14,
   "id": "80cc5145",
   "metadata": {},
   "outputs": [
    {
     "name": "stdout",
     "output_type": "stream",
     "text": [
      "Before : a 의 주소는 2107741988656\n",
      "After : aaa 의 주소는 2107840959856\n"
     ]
    }
   ],
   "source": [
    "def func1(f) : #매개변수는 지역변수\n",
    "    print('Before :', f, '의 주소는', id(f))\n",
    "    f = f*3\n",
    "    print('After :', f, '의 주소는', id(f))\n",
    "func1(foo)"
   ]
  },
  {
   "cell_type": "code",
   "execution_count": 15,
   "id": "24edb5b0",
   "metadata": {},
   "outputs": [
    {
     "name": "stdout",
     "output_type": "stream",
     "text": [
      "foo =  a 의 주소는 2107741988656\n"
     ]
    }
   ],
   "source": [
    "print('foo = ', foo,'의 주소는', id(foo))"
   ]
  },
  {
   "cell_type": "markdown",
   "id": "d15de3d3",
   "metadata": {},
   "source": [
    "## 1.5 참조에 의한 호출\n",
    "- 함수에 인수로 전달되는 변수가 리스트, 튜플, 셋, 딕셔너리, 기타 객체일 경우"
   ]
  },
  {
   "cell_type": "code",
   "execution_count": 16,
   "id": "3511dc28",
   "metadata": {},
   "outputs": [
    {
     "data": {
      "text/plain": [
       "2107849460416"
      ]
     },
     "execution_count": 16,
     "metadata": {},
     "output_type": "execute_result"
    }
   ],
   "source": [
    "L = [1, 2, 3, 4, 5]\n",
    "id(L)"
   ]
  },
  {
   "cell_type": "code",
   "execution_count": 17,
   "id": "1461cd36",
   "metadata": {},
   "outputs": [
    {
     "name": "stdout",
     "output_type": "stream",
     "text": [
      "Before : [1, 2, 3, 4, 5] 의 주소는 2107849460416\n",
      "After : [1, 2, 3, 4, 5, 6] 의 주소는 2107849460416\n"
     ]
    }
   ],
   "source": [
    "def func2(f) : #매개변수는 지역변수\n",
    "    print('Before :', f, '의 주소는', id(f))\n",
    "    f.append(6)\n",
    "    print('After :', f, '의 주소는', id(f))\n",
    "func2(L)"
   ]
  },
  {
   "cell_type": "code",
   "execution_count": 19,
   "id": "9aa35ab6",
   "metadata": {},
   "outputs": [
    {
     "name": "stdout",
     "output_type": "stream",
     "text": [
      "L =  [1, 2, 3, 4, 5, 6] 의 주소는 2107849460416\n"
     ]
    }
   ],
   "source": [
    "print('L = ', L,'의 주소는', id(L))"
   ]
  },
  {
   "cell_type": "markdown",
   "id": "2f245f84",
   "metadata": {},
   "source": [
    "# 2절. 함수에 실행결과를 반환하는 return"
   ]
  },
  {
   "cell_type": "code",
   "execution_count": 20,
   "id": "bcabd51c",
   "metadata": {},
   "outputs": [],
   "source": [
    "def fibonacci_print(n):\n",
    "    '''\n",
    "    매개변수로 들어온 n값 미만의 피보나치 수열을 출력하는 함수\n",
    "    ex. n=10 : 0 1 1 2 3 5 8\n",
    "      n=100  : 0 1 1 2 3 5 8 13 21 34 55 89\n",
    "    '''\n",
    "    a, b = 0, 1 # 하수 내에 선언한 변수 : 지역변수 (반:전역변수)\n",
    "    while a<n:\n",
    "        print(a, end=' ')\n",
    "        a, b = b, a+b\n",
    "    print() #개행\n",
    "    \n",
    "def fibonacci(n):\n",
    "    \"n 미만의 피보나치수열을 리스트로 return\"\n",
    "    result = [] # 피보나치 수열을 append 할 리스트\n",
    "    a, b = 0, 1\n",
    "    while a<n:\n",
    "        result.append(a)\n",
    "        a, b = b, a+b\n",
    "    return result"
   ]
  },
  {
   "cell_type": "code",
   "execution_count": 22,
   "id": "6ccdd2d6",
   "metadata": {},
   "outputs": [
    {
     "name": "stdout",
     "output_type": "stream",
     "text": [
      "[0, 1, 1, 2, 3, 5, 8]\n",
      "<class 'list'>\n"
     ]
    }
   ],
   "source": [
    "x = fibonacci(10)\n",
    "print(x)\n",
    "print(type(x))"
   ]
  },
  {
   "cell_type": "code",
   "execution_count": 23,
   "id": "663eebaa",
   "metadata": {},
   "outputs": [
    {
     "name": "stdout",
     "output_type": "stream",
     "text": [
      "0 1 1 2 3 5 8 \n",
      "None\n",
      "<class 'NoneType'>\n"
     ]
    }
   ],
   "source": [
    "x = fibonacci_print(10)\n",
    "print(x)\n",
    "print(type(x))"
   ]
  },
  {
   "cell_type": "markdown",
   "id": "4e7d49d8",
   "metadata": {},
   "source": [
    "## 2.1  여러개 값 return\n",
    "- 여러개값을 갖는 튜플로 return"
   ]
  },
  {
   "cell_type": "code",
   "execution_count": null,
   "id": "17a612b6",
   "metadata": {},
   "outputs": [],
   "source": [
    "def swap(a,b):\n",
    "    \"매개변수의 순서를 바꿔서 return\"\n",
    "    return (b,a)"
   ]
  },
  {
   "cell_type": "code",
   "execution_count": null,
   "id": "c85505f1",
   "metadata": {},
   "outputs": [],
   "source": [
    "x = 5; y = 10\n",
    "print('함수 실행 전 x, y =', x, y)\n",
    "x, y = swap(x,y)\n",
    "print('함수 실행 후 x,y =', x, y)"
   ]
  },
  {
   "cell_type": "markdown",
   "id": "5c0543a7",
   "metadata": {},
   "source": [
    "# 3절 함수의 매개변수 ★\n",
    "## 3.1 기본값을 갖는 매개변수"
   ]
  },
  {
   "cell_type": "code",
   "execution_count": null,
   "id": "d5e384e6",
   "metadata": {},
   "outputs": [],
   "source": [
    "def make_url(ip, port=80): # 순서인수 > 기본값을갖는매개변수\n",
    "    return \"http://{}:{}\".format(ip, port)"
   ]
  },
  {
   "cell_type": "code",
   "execution_count": null,
   "id": "936f4066",
   "metadata": {},
   "outputs": [],
   "source": [
    "print(make_url(\"localhost\", 8090))\n",
    "print(make_url(\"www.naver.com\"))\n",
    "print(make_url(port=9090, ip=\"localhost\"))"
   ]
  },
  {
   "cell_type": "code",
   "execution_count": null,
   "id": "956aa4b2",
   "metadata": {},
   "outputs": [],
   "source": [
    "\n",
    "# def make_url(port=80, ip):  # 순서인수 > 기본값을갖는매개변수 순으로 배치\n",
    "#     return \"http://{}:{}\".format(ip, port) 에러남"
   ]
  },
  {
   "cell_type": "markdown",
   "id": "b63769db",
   "metadata": {},
   "source": [
    "## 3.2 기본변수를 갖는 매개변수\n",
    "- 기본변수가 스칼라변수(문자, 숫자, 논리형)일 때\n",
    "- 기본변수가 리스트, 셋, 딕셔너리, 기타 객체일 때"
   ]
  },
  {
   "cell_type": "code",
   "execution_count": null,
   "id": "65d3895d",
   "metadata": {},
   "outputs": [],
   "source": [
    "\n",
    "i = 80\n",
    "# 기본변수가 스칼라변수일 때 : 함수가 정의되는 시점으로 기본값 셋팅\n",
    "def make_url(ip, port=i):\n",
    "    return \"http://{}:{}\".format(ip, port)"
   ]
  },
  {
   "cell_type": "code",
   "execution_count": null,
   "id": "316b5ce8",
   "metadata": {},
   "outputs": [],
   "source": [
    "i = 99999\n",
    "make_url(\"localhost\")"
   ]
  },
  {
   "cell_type": "code",
   "execution_count": null,
   "id": "866de46c",
   "metadata": {},
   "outputs": [],
   "source": [
    "list_ = []\n",
    "# 기본변수가 리스트, 셋, 딕셔너리, 객체일 때 : 함수가 실행되는시점으로 기본값 셋팅\n",
    "def func3(a, L=list_):\n",
    "    L.append(a)\n",
    "    return L\n",
    "print(func3(10))"
   ]
  },
  {
   "cell_type": "code",
   "execution_count": null,
   "id": "32248386",
   "metadata": {},
   "outputs": [],
   "source": [
    "print(func3(20))"
   ]
  },
  {
   "cell_type": "code",
   "execution_count": null,
   "id": "d5658bbb",
   "metadata": {},
   "outputs": [],
   "source": [
    "\n",
    "print(\"list_ =\", list_)"
   ]
  },
  {
   "cell_type": "code",
   "execution_count": null,
   "id": "e12b58c4",
   "metadata": {},
   "outputs": [],
   "source": [
    "\n",
    "print(func3(50))"
   ]
  },
  {
   "cell_type": "code",
   "execution_count": null,
   "id": "7de91183",
   "metadata": {},
   "outputs": [],
   "source": [
    "# 실행할 때마다 L을 공유하는게 싫으면\n",
    "def func3(a, L=None):\n",
    "    if L is None:\n",
    "        L = []\n",
    "    L.append(a)\n",
    "    return L\n",
    "print(func3(10))\n",
    "print(func3(10))\n",
    "print(func3(10))\n",
    "print(func3(10, [1,2,3]))\n",
    "print(func3(10))"
   ]
  },
  {
   "cell_type": "markdown",
   "id": "f67f9efb",
   "metadata": {},
   "source": [
    "## 3.3 순서인수, 키워드 인수\n",
    "- 순서인수 : 함수에 정의된 순서대로 전달방식\n",
    "- 키워드인수 : 인수의 이름을 명시하는 방식\n",
    "- 함수 정의시 순서인수와 키워드인수가 같이 올 때는 순서인수 > 키워드인수 순으로"
   ]
  },
  {
   "cell_type": "code",
   "execution_count": null,
   "id": "ae621ece",
   "metadata": {},
   "outputs": [],
   "source": [
    "def func3(a, L=None):\n",
    "    if L is None:\n",
    "        L = []\n",
    "    L.append(a)\n",
    "    return L"
   ]
  },
  {
   "cell_type": "code",
   "execution_count": null,
   "id": "5e12b435",
   "metadata": {},
   "outputs": [],
   "source": [
    "lst = []\n",
    "print(func3(10, lst))     # 순서인수 : 함수 정의된 순서대로 전달하는 방식\n",
    "print(func3(L=lst, a=20)) # 키워드인수 : 인수의 이름을 명시하여 전달하는 방식"
   ]
  },
  {
   "cell_type": "markdown",
   "id": "fca2d409",
   "metadata": {},
   "source": [
    "## 3.4 튜플매개변수를 이용한 가변인수 설정\n",
    "- 가변인수 : 매개변수의 갯수가 가변"
   ]
  },
  {
   "cell_type": "code",
   "execution_count": null,
   "id": "d3cc112e",
   "metadata": {},
   "outputs": [],
   "source": [
    "# 파이썬은 함수의 중복정의(오버로딩)을 지원하지 않음\n",
    "def add(a, b):\n",
    "    return a+b\n",
    "def add(a, b, c):\n",
    "    return a+b+c"
   ]
  },
  {
   "cell_type": "code",
   "execution_count": null,
   "id": "a56d51d7",
   "metadata": {},
   "outputs": [],
   "source": [
    "\n",
    "add(3, 5)"
   ]
  },
  {
   "cell_type": "code",
   "execution_count": null,
   "id": "76bc5fdf",
   "metadata": {},
   "outputs": [],
   "source": [
    "\n",
    "# args앞에 * : args가 튜플로 전달받는다\n",
    "def add(*args):\n",
    "    # print('args =', args)\n",
    "    '전달받은 매개변수들의 합을 return. 매개변수가 없는 경우 0을 return'\n",
    "    sum = 0 # 누적변수\n",
    "    for num in args:\n",
    "        sum += num # sum = sum+num\n",
    "    return sum"
   ]
  },
  {
   "cell_type": "code",
   "execution_count": null,
   "id": "ce3ed182",
   "metadata": {},
   "outputs": [],
   "source": [
    "print(add())\n",
    "print(add(1))\n",
    "print(add(1, 3))\n",
    "print(add(1, 2, 5, 7, 9, 1))"
   ]
  },
  {
   "cell_type": "code",
   "execution_count": null,
   "id": "54fcd0ac",
   "metadata": {},
   "outputs": [],
   "source": [
    "\n",
    "subject = ('Python', 'web', 'JavaScript', 'DBMS')\n",
    "'-'.join(subject)"
   ]
  },
  {
   "cell_type": "code",
   "execution_count": null,
   "id": "aef3466a",
   "metadata": {},
   "outputs": [],
   "source": [
    "\n",
    "# 튜플 매개변수와 일반 매개변수가 같이 있을 때\n",
    "def concat(*subject, sep):\n",
    "    return sep.join(subject)"
   ]
  },
  {
   "cell_type": "code",
   "execution_count": null,
   "id": "bb3ab540",
   "metadata": {},
   "outputs": [],
   "source": [
    "concat('Python', 'web', 'JavaScript', 'DBMS', '-')"
   ]
  },
  {
   "cell_type": "code",
   "execution_count": null,
   "id": "a1818085",
   "metadata": {},
   "outputs": [],
   "source": [
    "\n",
    "# 해결책1 : 매개변수 이름을 지정해서 호출\n",
    "concat('Python', 'web', 'JavaScript', 'DBMS', sep='-')"
   ]
  },
  {
   "cell_type": "code",
   "execution_count": null,
   "id": "55142954",
   "metadata": {},
   "outputs": [],
   "source": [
    "# 해결책2 : 기본값을 갖는 키워드인수 사용\n",
    "def concat(*subject, sep=' ~ '): # 튜플매개변수 > 키워드인수\n",
    "    return sep.join(subject)\n",
    "print(concat('Python', 'Web', 'JS', 'DBMS', '-'))\n",
    "print(concat('Python', 'Web', 'JS', 'DBMS', sep='-'))"
   ]
  },
  {
   "cell_type": "code",
   "execution_count": null,
   "id": "0da89264",
   "metadata": {},
   "outputs": [],
   "source": [
    "\n",
    "print('python', 'web', 'js', sep='=')"
   ]
  },
  {
   "cell_type": "code",
   "execution_count": null,
   "id": "8b1a5f15",
   "metadata": {},
   "outputs": [],
   "source": [
    "\n",
    "# 해결책3 : sep을 순서인수로 앞으로 (추천)\n",
    "def concat(sep, *subject):\n",
    "    return sep.join(subject)"
   ]
  },
  {
   "cell_type": "code",
   "execution_count": null,
   "id": "7a08a00f",
   "metadata": {},
   "outputs": [],
   "source": [
    "concat('~', 'Python', 'Web', 'DB', 'MLDL')"
   ]
  },
  {
   "cell_type": "markdown",
   "id": "5f1759a3",
   "metadata": {},
   "source": [
    "## 3.5 딕셔너리 매개변수\n",
    "- 딕셔너리 인수 : 여러개의 키워드 인수를 딕셔너리 형태로 받아서 가변인수로 처리"
   ]
  },
  {
   "cell_type": "code",
   "execution_count": null,
   "id": "89011432",
   "metadata": {},
   "outputs": [],
   "source": [
    "def func5(**args):\n",
    "    '''딕셔너리 매개변수로 받아 address 키가 없으면 서울시 관악구로 추가하고\n",
    "    키-값을 출력'''\n",
    "    print(args)\n",
    "    print(type(args))\n",
    "    if 'address' not in args: # args에 address 키가 없으면 if문 True\n",
    "        # args['address'] = '서울시 관악구'\n",
    "        # args.update({'address':'서울시 관악구'})\n",
    "        args.update(address='서울시 관악구')\n",
    "    for key, value in args.items():\n",
    "        print(\"{} : {}\".format(key, value))"
   ]
  },
  {
   "cell_type": "code",
   "execution_count": null,
   "id": "ce57365c",
   "metadata": {},
   "outputs": [],
   "source": [
    "func5(nam='홍길동', \n",
    "      age=30, \n",
    "      tel='010-9999-9999')"
   ]
  },
  {
   "cell_type": "markdown",
   "id": "6bebd542",
   "metadata": {},
   "source": [
    "## 3.6 함수 정의시 매개변수의 순서\n",
    "- 순서인수 > 튜플인수(*) > 키워드인수(기본값) > 딕셔너리인수(**)"
   ]
  },
  {
   "cell_type": "code",
   "execution_count": null,
   "id": "d479bf03",
   "metadata": {},
   "outputs": [],
   "source": [
    "# 순서인수 > 튜플인수 > 딕셔너리인수\n",
    "def func6(a, b, *c, **d):\n",
    "    print('순서인수 a = ', a)\n",
    "    print('순서인수 b = ', b)\n",
    "    print('튜플인수 c = ', c)\n",
    "    print('딕셔너리인수 d = ', d)"
   ]
  },
  {
   "cell_type": "code",
   "execution_count": null,
   "id": "51976a78",
   "metadata": {},
   "outputs": [],
   "source": [
    "func6(10, 20, 1,2,3,4,5,6,7,8,9,'a','b',True, name='홍', age=30, address='신림')"
   ]
  },
  {
   "cell_type": "code",
   "execution_count": null,
   "id": "569ef5cf",
   "metadata": {},
   "outputs": [],
   "source": [
    "\n",
    "# 순서인수 > 튜플인수(*) > 키워드인수(기본값) > 딕셔너리인수(**)\n",
    "def func7(a, b, c, *d, e=10, **f):\n",
    "    print('순서인수 a =', a)\n",
    "    print('순서인수 b =', b)\n",
    "    print('순서인수 c =', c)\n",
    "    print('튜플인수 d =', d)\n",
    "    print('키워드인수(기본값 10) e =', e)\n",
    "    print('딕셔너리인수 f =', f)"
   ]
  },
  {
   "cell_type": "code",
   "execution_count": null,
   "id": "861ad30b",
   "metadata": {},
   "outputs": [],
   "source": [
    "func7(10, 20, 30, e=100)"
   ]
  },
  {
   "cell_type": "code",
   "execution_count": null,
   "id": "63b6aa63",
   "metadata": {},
   "outputs": [],
   "source": [
    "\n",
    "func7(10, 20, 30)"
   ]
  },
  {
   "cell_type": "code",
   "execution_count": null,
   "id": "1197b4a5",
   "metadata": {},
   "outputs": [],
   "source": [
    "func7(10, 20, 30, 1,2,3,4,5, e=100, shape='rect', width=20, height=30)"
   ]
  },
  {
   "cell_type": "markdown",
   "id": "f55777d2",
   "metadata": {},
   "source": [
    "## 3.7 인수의 언패킹\n",
    "### 튜플인수 언패킹\n",
    "- 언패킹 : 함수 호출시 매개변수 앞에 * 붙임\n",
    "- 패킹 : 함수 정의시 매개변수앞에 * 붙임(튜플매개변수)"
   ]
  },
  {
   "cell_type": "code",
   "execution_count": null,
   "id": "c21bc699",
   "metadata": {},
   "outputs": [],
   "source": [
    "\n",
    "def add(*args):\n",
    "#    print(args)\n",
    "    sum = 0\n",
    "    for num in args:\n",
    "        sum += num\n",
    "    return sum"
   ]
  },
  {
   "cell_type": "code",
   "execution_count": null,
   "id": "3da8fce8",
   "metadata": {},
   "outputs": [],
   "source": [
    "\n",
    "add(1, 2, 3)"
   ]
  },
  {
   "cell_type": "code",
   "execution_count": null,
   "id": "46916a66",
   "metadata": {},
   "outputs": [],
   "source": [
    "numbers = (1, 2, 3)\n",
    "add( *numbers )"
   ]
  },
  {
   "cell_type": "markdown",
   "id": "68571d1b",
   "metadata": {},
   "source": [
    "### 딕셔너리 인수 언패킹\n",
    "- 언패킹 : 함수 호출시 매개변수 앞에 ** 붙임\n",
    "- 패킹 : 함수 정의시 매개변수앞에 ** 붙임(튜플매개변수)"
   ]
  },
  {
   "cell_type": "code",
   "execution_count": null,
   "id": "6e3c2414",
   "metadata": {},
   "outputs": [],
   "source": [
    "def func8(**data):\n",
    "    print(data)\n",
    "    for item in data.items():\n",
    "        print(item)"
   ]
  },
  {
   "cell_type": "code",
   "execution_count": null,
   "id": "b721a1ef",
   "metadata": {},
   "outputs": [],
   "source": [
    "func8(shape='rect', width=40, height=30)"
   ]
  },
  {
   "cell_type": "code",
   "execution_count": null,
   "id": "79f4d2d7",
   "metadata": {},
   "outputs": [],
   "source": [
    "info = {'shape':'rect', 'width':40, 'height':30}\n",
    "func8(**info)"
   ]
  }
 ],
 "metadata": {
  "kernelspec": {
   "display_name": "Python 3 (ipykernel)",
   "language": "python",
   "name": "python3"
  },
  "language_info": {
   "codemirror_mode": {
    "name": "ipython",
    "version": 3
   },
   "file_extension": ".py",
   "mimetype": "text/x-python",
   "name": "python",
   "nbconvert_exporter": "python",
   "pygments_lexer": "ipython3",
   "version": "3.10.9"
  },
  "toc": {
   "base_numbering": 1,
   "nav_menu": {},
   "number_sections": false,
   "sideBar": true,
   "skip_h1_title": false,
   "title_cell": "Table of Contents",
   "title_sidebar": "Contents",
   "toc_cell": false,
   "toc_position": {},
   "toc_section_display": true,
   "toc_window_display": false
  }
 },
 "nbformat": 4,
 "nbformat_minor": 5
}
