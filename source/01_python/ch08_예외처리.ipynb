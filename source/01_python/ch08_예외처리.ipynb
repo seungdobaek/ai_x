{
 "cells": [
  {
   "cell_type": "code",
   "execution_count": 1,
   "id": "f82ade44",
   "metadata": {},
   "outputs": [
    {
     "data": {
      "text/html": [
       "\n",
       "<style>\n",
       "div.container{width:90% !important;}\n",
       "div.cell.code_cell.rendered{width:100%;}\n",
       "div.input_prompt{padding:0px;}\n",
       "div.CodeMirror {font-family:Consolas; font-size:12pt;}\n",
       "div.text_cell_render.rendered_html{font size:12pt;}\n",
       "div.output {font-size:12pt; font-weight:bold;}\n",
       "div.input{font-family:Consolas; font-size:12pt;}\n",
       "div.prompt {min width:70px;}\n",
       "div#toc-wrapper {padding-top:120px;}\n",
       "div.text_cell_render ul li{font-size:12pt;padding:5px;}\n",
       "table.dataframe {font-size:12px;}\n",
       "</style>\n"
      ],
      "text/plain": [
       "<IPython.core.display.HTML object>"
      ]
     },
     "metadata": {},
     "output_type": "display_data"
    }
   ],
   "source": [
    "from IPython.display import display, HTML\n",
    "display(HTML(\"\"\"\n",
    "<style>\n",
    "div.container{width:90% !important;}\n",
    "div.cell.code_cell.rendered{width:100%;}\n",
    "div.input_prompt{padding:0px;}\n",
    "div.CodeMirror {font-family:Consolas; font-size:12pt;}\n",
    "div.text_cell_render.rendered_html{font size:12pt;}\n",
    "div.output {font-size:12pt; font-weight:bold;}\n",
    "div.input{font-family:Consolas; font-size:12pt;}\n",
    "div.prompt {min width:70px;}\n",
    "div#toc-wrapper {padding-top:120px;}\n",
    "div.text_cell_render ul li{font-size:12pt;padding:5px;}\n",
    "table.dataframe {font-size:12px;}\n",
    "</style>\n",
    "\"\"\"))"
   ]
  },
  {
   "cell_type": "markdown",
   "id": "3a9fa9e7",
   "metadata": {},
   "source": [
    "<b><font size='6' color='red'>ch08. 예외처리</font></b>\n",
    "- 에러 (예외처리 해당사항 X)\n",
    "    - 문법에러 : 문법적으로 나타나는 에러 (프로그래머가 타이핑을 잘못하였을 경우)\n",
    "        - 수정방법 : 프로그램 수정\n",
    "- 실행에러 (실행시 나는 에러)\n",
    "    - 논리에러 : 대표적으로 0으로 나누었을경우\n",
    "    - 시스템에러 : 프로그래머의 의지와 상관없이 나타나는 에러\n",
    "    - 예외 사항 : 정상적으로 동작하는 프로그램에서 나타나는 에러 (MILD한 에러)\n",
    "    \n",
    "# 1절. 예외처리 필요성\n",
    "- 예외가 날 가능성이 있는 부분에 대해서 미리 예상하고, 그에 대한 처리를 프로그래밍하는 것\n",
    "    - 필요한 이유 : 안정적인 시스템\n",
    "    - ex. 파일을 다룰 때, 파일이 없거나, 쓰기금지, 파일 인코딩 방법에 인한 오류\n",
    "    - ex. 데이터 베이스 프로그래밍 시 제약조건 등에 의한 CRUD 명령 수행 오류, DMBS 서버 오류\n",
    "    - ex. 네트워크 프로그래밍 시 네트워크 연결 오류\n",
    "    - ex. 리스트나 튜플의 인덱스를 벗어난 참조의 의한 오류"
   ]
  },
  {
   "cell_type": "code",
   "execution_count": 4,
   "id": "b733d4af",
   "metadata": {},
   "outputs": [
    {
     "name": "stdout",
     "output_type": "stream",
     "text": [
      "파일명은? ch08.txt\n",
      "Hello\n",
      "Python\n"
     ]
    }
   ],
   "source": [
    "# 파일명(ch08.txt, ch02.txt)은 사용자에게 입력받아 해당 파일 내용을 출력\n",
    "filename = input('파일명은? ')\n",
    "f = open('data/'+filename, 'r') # 파일을 연다(스트림객체를 생성)\n",
    "print(f.read())\n",
    "f.close()"
   ]
  },
  {
   "cell_type": "code",
   "execution_count": 6,
   "id": "7a38fb8e",
   "metadata": {},
   "outputs": [
    {
     "name": "stdout",
     "output_type": "stream",
     "text": [
      "파일명은? ch03.txt\n"
     ]
    },
    {
     "ename": "FileNotFoundError",
     "evalue": "[Errno 2] No such file or directory: 'data/ch03.txt'",
     "output_type": "error",
     "traceback": [
      "\u001b[1;31m---------------------------------------------------------------------------\u001b[0m",
      "\u001b[1;31mFileNotFoundError\u001b[0m                         Traceback (most recent call last)",
      "Cell \u001b[1;32mIn[6], line 3\u001b[0m\n\u001b[0;32m      1\u001b[0m \u001b[38;5;66;03m#예외발생 : 파일명이 잘못 되었거나, 인코딩방식이 다르거나\u001b[39;00m\n\u001b[0;32m      2\u001b[0m filename \u001b[38;5;241m=\u001b[39m \u001b[38;5;28minput\u001b[39m(\u001b[38;5;124m'\u001b[39m\u001b[38;5;124m파일명은? \u001b[39m\u001b[38;5;124m'\u001b[39m)\n\u001b[1;32m----> 3\u001b[0m f \u001b[38;5;241m=\u001b[39m \u001b[38;5;28;43mopen\u001b[39;49m\u001b[43m(\u001b[49m\u001b[38;5;124;43m'\u001b[39;49m\u001b[38;5;124;43mdata/\u001b[39;49m\u001b[38;5;124;43m'\u001b[39;49m\u001b[38;5;241;43m+\u001b[39;49m\u001b[43mfilename\u001b[49m\u001b[43m,\u001b[49m\u001b[43m \u001b[49m\u001b[38;5;124;43m'\u001b[39;49m\u001b[38;5;124;43mr\u001b[39;49m\u001b[38;5;124;43m'\u001b[39;49m\u001b[43m)\u001b[49m\n\u001b[0;32m      4\u001b[0m \u001b[38;5;28mprint\u001b[39m(f\u001b[38;5;241m.\u001b[39mread())\n\u001b[0;32m      5\u001b[0m f\u001b[38;5;241m.\u001b[39mclose()\n",
      "File \u001b[1;32m~\\anaconda3\\lib\\site-packages\\IPython\\core\\interactiveshell.py:282\u001b[0m, in \u001b[0;36m_modified_open\u001b[1;34m(file, *args, **kwargs)\u001b[0m\n\u001b[0;32m    275\u001b[0m \u001b[38;5;28;01mif\u001b[39;00m file \u001b[38;5;129;01min\u001b[39;00m {\u001b[38;5;241m0\u001b[39m, \u001b[38;5;241m1\u001b[39m, \u001b[38;5;241m2\u001b[39m}:\n\u001b[0;32m    276\u001b[0m     \u001b[38;5;28;01mraise\u001b[39;00m \u001b[38;5;167;01mValueError\u001b[39;00m(\n\u001b[0;32m    277\u001b[0m         \u001b[38;5;124mf\u001b[39m\u001b[38;5;124m\"\u001b[39m\u001b[38;5;124mIPython won\u001b[39m\u001b[38;5;124m'\u001b[39m\u001b[38;5;124mt let you open fd=\u001b[39m\u001b[38;5;132;01m{\u001b[39;00mfile\u001b[38;5;132;01m}\u001b[39;00m\u001b[38;5;124m by default \u001b[39m\u001b[38;5;124m\"\u001b[39m\n\u001b[0;32m    278\u001b[0m         \u001b[38;5;124m\"\u001b[39m\u001b[38;5;124mas it is likely to crash IPython. If you know what you are doing, \u001b[39m\u001b[38;5;124m\"\u001b[39m\n\u001b[0;32m    279\u001b[0m         \u001b[38;5;124m\"\u001b[39m\u001b[38;5;124myou can use builtins\u001b[39m\u001b[38;5;124m'\u001b[39m\u001b[38;5;124m open.\u001b[39m\u001b[38;5;124m\"\u001b[39m\n\u001b[0;32m    280\u001b[0m     )\n\u001b[1;32m--> 282\u001b[0m \u001b[38;5;28;01mreturn\u001b[39;00m io_open(file, \u001b[38;5;241m*\u001b[39margs, \u001b[38;5;241m*\u001b[39m\u001b[38;5;241m*\u001b[39mkwargs)\n",
      "\u001b[1;31mFileNotFoundError\u001b[0m: [Errno 2] No such file or directory: 'data/ch03.txt'"
     ]
    }
   ],
   "source": [
    "#예외발생 : 파일명이 잘못 되었을 경우\n",
    "filename = input('파일명은? ')\n",
    "f = open('data/'+filename, 'r')\n",
    "print(f.read())\n",
    "f.close()"
   ]
  },
  {
   "cell_type": "code",
   "execution_count": 7,
   "id": "9a3cd2bb",
   "metadata": {},
   "outputs": [
    {
     "name": "stdout",
     "output_type": "stream",
     "text": [
      "파일명은? ch08.txt\n"
     ]
    },
    {
     "ename": "UnicodeDecodeError",
     "evalue": "'cp949' codec can't decode byte 0xed in position 21: illegal multibyte sequence",
     "output_type": "error",
     "traceback": [
      "\u001b[1;31m---------------------------------------------------------------------------\u001b[0m",
      "\u001b[1;31mUnicodeDecodeError\u001b[0m                        Traceback (most recent call last)",
      "Cell \u001b[1;32mIn[7], line 8\u001b[0m\n\u001b[0;32m      6\u001b[0m filename \u001b[38;5;241m=\u001b[39m \u001b[38;5;28minput\u001b[39m(\u001b[38;5;124m'\u001b[39m\u001b[38;5;124m파일명은? \u001b[39m\u001b[38;5;124m'\u001b[39m)\n\u001b[0;32m      7\u001b[0m f \u001b[38;5;241m=\u001b[39m \u001b[38;5;28mopen\u001b[39m(\u001b[38;5;124m'\u001b[39m\u001b[38;5;124mdata/\u001b[39m\u001b[38;5;124m'\u001b[39m\u001b[38;5;241m+\u001b[39mfilename, \u001b[38;5;124m'\u001b[39m\u001b[38;5;124mr\u001b[39m\u001b[38;5;124m'\u001b[39m) \u001b[38;5;66;03m#기본 encoding 방식 : cp949\u001b[39;00m\n\u001b[1;32m----> 8\u001b[0m \u001b[38;5;28mprint\u001b[39m(\u001b[43mf\u001b[49m\u001b[38;5;241;43m.\u001b[39;49m\u001b[43mread\u001b[49m\u001b[43m(\u001b[49m\u001b[43m)\u001b[49m)\n\u001b[0;32m      9\u001b[0m f\u001b[38;5;241m.\u001b[39mclose()\n",
      "\u001b[1;31mUnicodeDecodeError\u001b[0m: 'cp949' codec can't decode byte 0xed in position 21: illegal multibyte sequence"
     ]
    }
   ],
   "source": [
    "# 예외발생 : 인코딩방식 에러\n",
    "# 한글 인코딩 방법:\n",
    "# 한글완성형(euc-kr < cp949) : 한글 1만1172자 중 자주 사용하는 2,850자만 코드표현법\n",
    "# 한글조합형(utf-8) : 초중종성을 따로 코드값을 받아 조합하여 저장\n",
    "# ch08.txt는 utf-8로 저장\n",
    "filename = input('파일명은? ')\n",
    "f = open('data/'+filename, 'r') #기본 encoding 방식 : cp949\n",
    "print(f.read())\n",
    "f.close()"
   ]
  },
  {
   "cell_type": "code",
   "execution_count": 8,
   "id": "08d6b002",
   "metadata": {},
   "outputs": [
    {
     "name": "stdout",
     "output_type": "stream",
     "text": [
      "파일명은? ch08.txt\n",
      "Hello\n",
      "Python\n",
      "주피터노트북의 txt파일 저장은 기본이 utf-8로 저장\n",
      "김설믜\n"
     ]
    }
   ],
   "source": [
    "filename = input('파일명은? ')\n",
    "f = open('data/'+filename, 'r', encoding='utf-8') #기본 encoding 방식 : cp949\n",
    "print(f.read())\n",
    "f.close()"
   ]
  },
  {
   "cell_type": "code",
   "execution_count": 9,
   "id": "1ebbc490",
   "metadata": {},
   "outputs": [
    {
     "ename": "ZeroDivisionError",
     "evalue": "division by zero",
     "output_type": "error",
     "traceback": [
      "\u001b[1;31m---------------------------------------------------------------------------\u001b[0m",
      "\u001b[1;31mZeroDivisionError\u001b[0m                         Traceback (most recent call last)",
      "Cell \u001b[1;32mIn[9], line 2\u001b[0m\n\u001b[0;32m      1\u001b[0m \u001b[38;5;66;03m# 0으로 나눌 경우\u001b[39;00m\n\u001b[1;32m----> 2\u001b[0m \u001b[38;5;241;43m4\u001b[39;49m\u001b[38;5;241;43m/\u001b[39;49m\u001b[38;5;241;43m0\u001b[39;49m\n",
      "\u001b[1;31mZeroDivisionError\u001b[0m: division by zero"
     ]
    }
   ],
   "source": [
    "# 0으로 나눌 경우\n",
    "4/0"
   ]
  },
  {
   "cell_type": "code",
   "execution_count": 10,
   "id": "fa342fb7",
   "metadata": {},
   "outputs": [
    {
     "ename": "IndexError",
     "evalue": "list index out of range",
     "output_type": "error",
     "traceback": [
      "\u001b[1;31m---------------------------------------------------------------------------\u001b[0m",
      "\u001b[1;31mIndexError\u001b[0m                                Traceback (most recent call last)",
      "Cell \u001b[1;32mIn[10], line 2\u001b[0m\n\u001b[0;32m      1\u001b[0m a \u001b[38;5;241m=\u001b[39m [\u001b[38;5;241m1\u001b[39m,\u001b[38;5;241m2\u001b[39m,\u001b[38;5;241m3\u001b[39m]\n\u001b[1;32m----> 2\u001b[0m \u001b[43ma\u001b[49m\u001b[43m[\u001b[49m\u001b[38;5;241;43m3\u001b[39;49m\u001b[43m]\u001b[49m\n",
      "\u001b[1;31mIndexError\u001b[0m: list index out of range"
     ]
    }
   ],
   "source": [
    "# 인덱스를 벗어난 경우\n",
    "a = [1,2,3]\n",
    "a[3]"
   ]
  },
  {
   "cell_type": "markdown",
   "id": "d9c46a26",
   "metadata": {},
   "source": [
    "# 2절. try~except로 예외처리하기\n",
    "## 2.1 try~except\n",
    "```\n",
    "try:\n",
    "    예외가 발생할 가능성이 있는 명령어\n",
    "except:\n",
    "    예외가 발생했을 경우 실행할 명령어\n",
    "```"
   ]
  },
  {
   "cell_type": "code",
   "execution_count": 13,
   "id": "cd9d36f7",
   "metadata": {},
   "outputs": [
    {
     "name": "stdout",
     "output_type": "stream",
     "text": [
      "100/x의 x값을 입력해주세요 : 0\n"
     ]
    },
    {
     "ename": "ZeroDivisionError",
     "evalue": "division by zero",
     "output_type": "error",
     "traceback": [
      "\u001b[1;31m---------------------------------------------------------------------------\u001b[0m",
      "\u001b[1;31mZeroDivisionError\u001b[0m                         Traceback (most recent call last)",
      "Cell \u001b[1;32mIn[13], line 4\u001b[0m\n\u001b[0;32m      1\u001b[0m \u001b[38;5;66;03m# 100을 입력받은 정수값으로 나눠 출력\u001b[39;00m\n\u001b[0;32m      2\u001b[0m \u001b[38;5;66;03m# ValueError: invalid literal for int() with base 10 : 'a' (정수를 입력하지 않은 경우)\u001b[39;00m\n\u001b[0;32m      3\u001b[0m x \u001b[38;5;241m=\u001b[39m \u001b[38;5;28mint\u001b[39m(\u001b[38;5;28minput\u001b[39m(\u001b[38;5;124m'\u001b[39m\u001b[38;5;124m100/x의 x값을 입력해주세요 : \u001b[39m\u001b[38;5;124m'\u001b[39m))\n\u001b[1;32m----> 4\u001b[0m \u001b[38;5;28mprint\u001b[39m(\u001b[38;5;124m'\u001b[39m\u001b[38;5;124m100을 입력한 정수로 나누면 \u001b[39m\u001b[38;5;132;01m{}\u001b[39;00m\u001b[38;5;124m'\u001b[39m\u001b[38;5;241m.\u001b[39mformat(\u001b[38;5;241;43m100\u001b[39;49m\u001b[38;5;241;43m/\u001b[39;49m\u001b[43mx\u001b[49m))\n",
      "\u001b[1;31mZeroDivisionError\u001b[0m: division by zero"
     ]
    }
   ],
   "source": [
    "# 100을 입력받은 정수값으로 나눠 출력\n",
    "# ValueError: invalid literal for int() with base 10 : 'a' (정수를 입력하지 않은 경우 예외 객체의 타입과 메세지)\n",
    "# ZeroDivisionError: division by zero (0을 입력하여 0으로 나눴을 경우 예외 객체의 타입과 메세지)\n",
    "x = int(input('100/x의 x값을 입력해주세요 : '))\n",
    "print('100을 입력한 정수로 나누면 {}'.format(100/x))"
   ]
  },
  {
   "cell_type": "code",
   "execution_count": 16,
   "id": "89b2464a",
   "metadata": {},
   "outputs": [
    {
     "name": "stdout",
     "output_type": "stream",
     "text": [
      "100/x의 x값을 입력해주세요 : 0\n",
      "유효한 정수가 아닙니다\n"
     ]
    }
   ],
   "source": [
    "# 100을 입력받은 정수값으로 나눠 출력\n",
    "# ValueError: invalid literal for int() with base 10 : 'a' (정수를 입력하지 않은 경우 예외 객체의 타입과 메세지)\n",
    "# ZeroDivisionError: division by zero (0을 입력하여 0으로 나눴을 경우 예외 객체의 타입과 메세지)\n",
    "try:\n",
    "    x = int(input('100/x의 x값을 입력해주세요 : '))\n",
    "    print('100을 입력한 정수로 나누면 {}'.format(100/x))\n",
    "except:\n",
    "    print('유효한 정수가 아닙니다')"
   ]
  },
  {
   "cell_type": "code",
   "execution_count": 21,
   "id": "e1a91d3f",
   "metadata": {},
   "outputs": [
    {
     "name": "stdout",
     "output_type": "stream",
     "text": [
      "100/x의 x값을 입력해주세요 : h\n",
      "유효한 정수가 아닙니다\n",
      "100/x의 x값을 입력해주세요 : 0\n",
      "유효한 정수가 아닙니다\n",
      "100/x의 x값을 입력해주세요 : adklfj\n",
      "유효한 정수가 아닙니다\n",
      "100/x의 x값을 입력해주세요 : 10\n",
      "100을 입력한 정수로 나누면 10.0\n"
     ]
    }
   ],
   "source": [
    "# 100을 나눌 유효한 정수를 입력할때까지 입력받아 100을 나눈 결과를 출력:\n",
    "while(True):\n",
    "    try:\n",
    "        x = int(input('100/x의 x값을 입력해주세요 : '))\n",
    "        print('100을 입력한 정수로 나누면 {}'.format(100/x))\n",
    "        break\n",
    "    except:\n",
    "        print('유효한 정수가 아닙니다')"
   ]
  },
  {
   "cell_type": "markdown",
   "id": "846f858b",
   "metadata": {},
   "source": [
    "## 2.2 지정된 예외 처리\n",
    "```\n",
    "try:\n",
    "    예외가 발생할 수도 있는 명령어\n",
    "except (예외타입1, 예외타입3):\n",
    "    해당 예외가 발생할 경우 실행할 명령어\n",
    "except 예외타입2:\n",
    "    해당 예외가 발생할 경우 실행할 명령어\n",
    "...\n",
    "```"
   ]
  },
  {
   "cell_type": "code",
   "execution_count": 25,
   "id": "f80e7f44",
   "metadata": {},
   "outputs": [
    {
     "name": "stdout",
     "output_type": "stream",
     "text": [
      "100/x의 x값을 입력해주세요 : ㅁㄴㅇㄹ\n",
      "정수를 입력하지 않았습니다\n"
     ]
    }
   ],
   "source": [
    "# 100을 입력받은 정수값으로 나눠 출력\n",
    "# ValueError: invalid literal for int() with base 10 : 'a' (정수를 입력하지 않은 경우 예외 객체의 타입과 메세지)\n",
    "# ZeroDivisionError: division by zero (0을 입력하여 0으로 나눴을 경우 예외 객체의 타입과 메세지)\n",
    "\n",
    "try:\n",
    "    x = int(input('100/x의 x값을 입력해주세요 : '))\n",
    "    print('100을 입력한 정수로 나누면 {}'.format(100/x))\n",
    "except ValueError:\n",
    "    print('정수를 입력하지 않았습니다')\n",
    "except ZeroDivisionError:\n",
    "    print('0으로 나눌수 없어요')"
   ]
  },
  {
   "cell_type": "code",
   "execution_count": 26,
   "id": "bccd3009",
   "metadata": {},
   "outputs": [
    {
     "name": "stdout",
     "output_type": "stream",
     "text": [
      "100/x의 x값을 입력해주세요 : 0\n",
      "정수를 입력하지 않았습니다\n"
     ]
    }
   ],
   "source": [
    "# 100을 입력받은 정수값으로 나눠 출력\n",
    "# ValueError: invalid literal for int() with base 10 : 'a' (정수를 입력하지 않은 경우 예외 객체의 타입과 메세지)\n",
    "# ZeroDivisionError: division by zero (0을 입력하여 0으로 나눴을 경우 예외 객체의 타입과 메세지)\n",
    "\n",
    "try:\n",
    "    x = int(input('100/x의 x값을 입력해주세요 : '))\n",
    "    print('100을 입력한 정수로 나누면 {}'.format(100/x))\n",
    "except Exception:\n",
    "    print('정수를 입력하지 않았습니다')\n",
    "except ZeroDivisionError:\n",
    "    print('0으로 나눌수 없어요')"
   ]
  },
  {
   "cell_type": "code",
   "execution_count": 28,
   "id": "0f7ad57d",
   "metadata": {},
   "outputs": [
    {
     "name": "stdout",
     "output_type": "stream",
     "text": [
      "100/x의 x값을 입력해주세요 : 0\n",
      "0으로 나눌수 없어요\n"
     ]
    }
   ],
   "source": [
    "# 100을 입력받은 정수값으로 나눠 출력\n",
    "# ValueError: invalid literal for int() with base 10 : 'a' (정수를 입력하지 않은 경우 예외 객체의 타입과 메세지)\n",
    "# ZeroDivisionError: division by zero (0을 입력하여 0으로 나눴을 경우 예외 객체의 타입과 메세지)\n",
    "# 모든 에러는 Exception 타입의 자식 타입\n",
    "# 항상 except는 하위 타입에서 상위 타입으로\n",
    "\n",
    "try:\n",
    "    x = int(input('100/x의 x값을 입력해주세요 : '))\n",
    "    print('100을 입력한 정수로 나누면 {}'.format(100/x))\n",
    "except ZeroDivisionError:\n",
    "    print('0으로 나눌수 없어요')\n",
    "except ValueError:\n",
    "    print('정수를 입력하지 않았습니다')\n",
    "except Exception:\n",
    "    print('기타 다른 예외입니다')"
   ]
  },
  {
   "cell_type": "code",
   "execution_count": 29,
   "id": "5e74a98a",
   "metadata": {},
   "outputs": [
    {
     "name": "stdout",
     "output_type": "stream",
     "text": [
      "100/x의 x값을 입력해주세요 : ㅁㅇㄹ\n",
      "나눌수 있는 유효한 수가 아닙니다\n"
     ]
    }
   ],
   "source": [
    "# 2개 이상의 예외를 한번에 처리하고 싶을 때:\n",
    "try:\n",
    "    x = int(input('100/x의 x값을 입력해주세요 : '))\n",
    "    print('100을 입력한 정수로 나누면 {}'.format(100/x))\n",
    "except (ZeroDivisionError, ValueError):\n",
    "    print('나눌수 있는 유효한 수가 아닙니다')\n",
    "except Exception:\n",
    "    print('기타 다른 예외입니다')"
   ]
  },
  {
   "cell_type": "markdown",
   "id": "a8b49383",
   "metadata": {},
   "source": [
    "## 2.3 예외 인수(e)\n",
    "```\n",
    "try:\n",
    "    예외가 발생할 가능성이 있는 명령어\n",
    "except 예외타입 as e:\n",
    "    print(e) # e__str__()이 e.args[0]으로 문자열변화하기에 print(e)만으로도 충분\n",
    "    print(e.args[0]) #예외 메세지 출력\n",
    "```"
   ]
  },
  {
   "cell_type": "code",
   "execution_count": 32,
   "id": "86a7c473",
   "metadata": {},
   "outputs": [
    {
     "name": "stdout",
     "output_type": "stream",
     "text": [
      "에러메세지\n",
      "('에러메세지',)\n"
     ]
    }
   ],
   "source": [
    "e = Exception('에러메세지')\n",
    "print(e)\n",
    "print(e.args)"
   ]
  },
  {
   "cell_type": "code",
   "execution_count": 37,
   "id": "80c3b893",
   "metadata": {},
   "outputs": [
    {
     "name": "stdout",
     "output_type": "stream",
     "text": [
      "100/x의 x값을 입력해주세요 : 0\n",
      "예외 유형 : <class 'ZeroDivisionError'>\n",
      "예외 메세지 division by zero\n",
      "예외 메세지 division by zero\n",
      "예외 메세지 division by zero\n"
     ]
    }
   ],
   "source": [
    "try:\n",
    "    x = int(input('100/x의 x값을 입력해주세요 : '))\n",
    "    print('100을 입력한 정수로 나누면 {}'.format(100/x))\n",
    "except (ZeroDivisionError, ValueError) as e:\n",
    "    print ('예외 유형 :', type(e))\n",
    "    print('예외 메세지', e) # 이게 가장 많이 사용됨\n",
    "    print('예외 메세지', e.__str__())\n",
    "    print('예외 메세지', e.args[0])\n",
    "except Exception:\n",
    "    print('기타 다른 예외입니다')"
   ]
  },
  {
   "cell_type": "markdown",
   "id": "44f8f95b",
   "metadata": {},
   "source": [
    "## 2.4 else와 finally\n",
    "```\n",
    "try:\n",
    "    예외 발생 가능 명령어\n",
    "except [예외타입 [as e]]\n",
    "    예외타입 발생시 명령어\n",
    "[else:\n",
    "    try절 수행하다 예외가 발생 안 되면 else절 수행\n",
    "    try절 수행하다 예외가 발생하면 except절 수행(else절 수행 안함)\n",
    "]\n",
    "[finally:\n",
    "    try절에서 예외가 발생하든 안 하든 마지막에 수행\n",
    "]\n",
    "```\n",
    "- else의 경우 보통 try이 끝나면 하기에 else를 사용하지 않고 그냥 try에 넣는 경우가 많다\n",
    "- finally의 경우 밖에 쓸수 있지만 그렇게 하면 try와 연결이 안 되어 있어보이기에 finally를 써서 try의 연장선이라는것을 표현한다"
   ]
  },
  {
   "cell_type": "code",
   "execution_count": 49,
   "id": "e185fadc",
   "metadata": {},
   "outputs": [
    {
     "name": "stdout",
     "output_type": "stream",
     "text": [
      "'cp949' codec can't decode byte 0xed in position 21: illegal multibyte sequence\n"
     ]
    }
   ],
   "source": [
    "try:\n",
    "    file = open('data/ch08.txt', 'r', encoding='utf-8')\n",
    "except FileNotFoundError as e:\n",
    "    print('해당 폴더나 파일이 없습니다')\n",
    "    print(e)\n",
    "except UnicodeDecodeError as e:\n",
    "    print(e)\n",
    "else:\n",
    "    print(file.read())\n",
    "finally:\n",
    "    file.close()"
   ]
  },
  {
   "cell_type": "markdown",
   "id": "c292fc3a",
   "metadata": {},
   "source": [
    "# 3절 raise\n",
    "- 강제 예외 발생"
   ]
  },
  {
   "cell_type": "code",
   "execution_count": 50,
   "id": "1ac67043",
   "metadata": {},
   "outputs": [
    {
     "ename": "ZeroDivisionError",
     "evalue": "0으로 나누려고 했네",
     "output_type": "error",
     "traceback": [
      "\u001b[1;31m---------------------------------------------------------------------------\u001b[0m",
      "\u001b[1;31mZeroDivisionError\u001b[0m                         Traceback (most recent call last)",
      "Cell \u001b[1;32mIn[50], line 1\u001b[0m\n\u001b[1;32m----> 1\u001b[0m \u001b[38;5;28;01mraise\u001b[39;00m \u001b[38;5;167;01mZeroDivisionError\u001b[39;00m(\u001b[38;5;124m'\u001b[39m\u001b[38;5;124m0으로 나누려고 했네\u001b[39m\u001b[38;5;124m'\u001b[39m)\n",
      "\u001b[1;31mZeroDivisionError\u001b[0m: 0으로 나누려고 했네"
     ]
    }
   ],
   "source": [
    "raise ZeroDivisionError('0으로 나누려고 했네')"
   ]
  },
  {
   "cell_type": "code",
   "execution_count": 51,
   "id": "db7bf6e9",
   "metadata": {},
   "outputs": [],
   "source": [
    "# 사용자 정의 예외 : Exception 클래스로부터 상속받아 구현\n",
    "class LengthZeroError(Exception):\n",
    "    '길이가 0일때 발생하는 예외'\n",
    "    def __init__(self, message):\n",
    "        super().__init__(message)\n",
    "    "
   ]
  },
  {
   "cell_type": "code",
   "execution_count": 55,
   "id": "e541f3f7",
   "metadata": {},
   "outputs": [],
   "source": [
    "def insert(*data): #튜플매개변수\n",
    "    if len(data) == 0:\n",
    "        raise LengthZeroError('매개변수의 갯수가 0이면 예외에요(사용자 정의 예외)')\n",
    "    for item in data:\n",
    "        print(item, end=' ')\n",
    "    print('등을 입력하였습니다')"
   ]
  },
  {
   "cell_type": "code",
   "execution_count": 56,
   "id": "073adc32",
   "metadata": {},
   "outputs": [
    {
     "name": "stdout",
     "output_type": "stream",
     "text": [
      "1 2 3 등을 입력하였습니다\n"
     ]
    }
   ],
   "source": [
    "insert(1,2,'3')"
   ]
  },
  {
   "cell_type": "code",
   "execution_count": 61,
   "id": "6bee930d",
   "metadata": {},
   "outputs": [
    {
     "ename": "LengthZeroError",
     "evalue": "매개변수의 갯수가 0이면 예외에요(사용자 정의 예외)",
     "output_type": "error",
     "traceback": [
      "\u001b[1;31m---------------------------------------------------------------------------\u001b[0m",
      "\u001b[1;31mLengthZeroError\u001b[0m                           Traceback (most recent call last)",
      "Cell \u001b[1;32mIn[61], line 3\u001b[0m\n\u001b[0;32m      1\u001b[0m \u001b[38;5;66;03m#예외가 떨어지도록\u001b[39;00m\n\u001b[0;32m      2\u001b[0m data \u001b[38;5;241m=\u001b[39m ()\n\u001b[1;32m----> 3\u001b[0m \u001b[43minsert\u001b[49m\u001b[43m(\u001b[49m\u001b[38;5;241;43m*\u001b[39;49m\u001b[43mdata\u001b[49m\u001b[43m)\u001b[49m\n",
      "Cell \u001b[1;32mIn[55], line 3\u001b[0m, in \u001b[0;36minsert\u001b[1;34m(*data)\u001b[0m\n\u001b[0;32m      1\u001b[0m \u001b[38;5;28;01mdef\u001b[39;00m \u001b[38;5;21minsert\u001b[39m(\u001b[38;5;241m*\u001b[39mdata): \u001b[38;5;66;03m#튜플매개변수\u001b[39;00m\n\u001b[0;32m      2\u001b[0m     \u001b[38;5;28;01mif\u001b[39;00m \u001b[38;5;28mlen\u001b[39m(data) \u001b[38;5;241m==\u001b[39m \u001b[38;5;241m0\u001b[39m:\n\u001b[1;32m----> 3\u001b[0m         \u001b[38;5;28;01mraise\u001b[39;00m LengthZeroError(\u001b[38;5;124m'\u001b[39m\u001b[38;5;124m매개변수의 갯수가 0이면 예외에요(사용자 정의 예외)\u001b[39m\u001b[38;5;124m'\u001b[39m)\n\u001b[0;32m      4\u001b[0m     \u001b[38;5;28;01mfor\u001b[39;00m item \u001b[38;5;129;01min\u001b[39;00m data:\n\u001b[0;32m      5\u001b[0m         \u001b[38;5;28mprint\u001b[39m(item, end\u001b[38;5;241m=\u001b[39m\u001b[38;5;124m'\u001b[39m\u001b[38;5;124m \u001b[39m\u001b[38;5;124m'\u001b[39m)\n",
      "\u001b[1;31mLengthZeroError\u001b[0m: 매개변수의 갯수가 0이면 예외에요(사용자 정의 예외)"
     ]
    }
   ],
   "source": [
    "#예외가 떨어지도록\n",
    "data = ()\n",
    "insert(*data)"
   ]
  },
  {
   "cell_type": "code",
   "execution_count": 62,
   "id": "a15bb7c0",
   "metadata": {},
   "outputs": [
    {
     "name": "stdout",
     "output_type": "stream",
     "text": [
      "매개변수의 갯수가 0이면 예외에요(사용자 정의 예외)\n",
      "예외가 발생하든 안 하든 무조건 실행\n"
     ]
    }
   ],
   "source": [
    "data = ()\n",
    "try:\n",
    "    insert(*data)\n",
    "except Exception as e:\n",
    "    print(e)\n",
    "else:\n",
    "    print('예외가 발생 안 할 때만 실행')\n",
    "finally:\n",
    "    print('예외가 발생하든 안 하든 무조건 실행')"
   ]
  },
  {
   "cell_type": "markdown",
   "id": "7a06b618",
   "metadata": {},
   "source": [
    "# 4절 추상클래스\n",
    "- 추상클래스 : 추상메소드가 1개 이상 포함된 클래스\n",
    "- 추상메소드 : 호출할 수 없는 메소드. 상속받은 클래스에서 재정의를 강요할 때\n",
    "- python에서 추상메소드는 @abstractmethod나 raise를 이용"
   ]
  },
  {
   "cell_type": "code",
   "execution_count": 63,
   "id": "a1f9ab07",
   "metadata": {},
   "outputs": [],
   "source": [
    "class Shape:\n",
    "    def __init__(self):\n",
    "        raise NotImplementedError('추상클래스 역활')\n",
    "    def calc_area(self):\n",
    "        raise NotImplementedError('추상메소드 역활')"
   ]
  },
  {
   "cell_type": "code",
   "execution_count": 69,
   "id": "a751b41b",
   "metadata": {},
   "outputs": [],
   "source": [
    "from abc import ABC, abstractmethod\n",
    "class Shape(ABC):\n",
    "    @abstractmethod\n",
    "    def __init__(self):\n",
    "        pass\n",
    "    \n",
    "    @abstractmethod\n",
    "    def calc_area(self):\n",
    "        pass"
   ]
  },
  {
   "cell_type": "code",
   "execution_count": 70,
   "id": "e7e5a358",
   "metadata": {},
   "outputs": [],
   "source": [
    "import numpy as np\n",
    "class Circle(Shape):\n",
    "    def __init__(self, radius=3):\n",
    "        self.radius = radius\n",
    "    def calc_area(self):\n",
    "        '원의 넓이를 return'\n",
    "        return np.pi*(self.radius**2)"
   ]
  },
  {
   "cell_type": "code",
   "execution_count": 74,
   "id": "4a7f33a5",
   "metadata": {},
   "outputs": [
    {
     "name": "stdout",
     "output_type": "stream",
     "text": [
      "78.53981633974483\n"
     ]
    }
   ],
   "source": [
    "myCircle = Circle(5)\n",
    "print(myCircle.calc_area())\n",
    "del myCircle"
   ]
  },
  {
   "cell_type": "markdown",
   "id": "6d19e434",
   "metadata": {},
   "source": [
    "# 5절 파일 정리 작업(with절 이용)"
   ]
  },
  {
   "cell_type": "code",
   "execution_count": 76,
   "id": "78c7147a",
   "metadata": {},
   "outputs": [
    {
     "name": "stdout",
     "output_type": "stream",
     "text": [
      "['Hello\\n', 'Python\\n', '주피터노트북의 txt파일 저장은 기본이 utf-8로 저장\\n', '김설믜']\n"
     ]
    }
   ],
   "source": [
    "try:\n",
    "    f = open('data/ch08.txt', 'r', encoding='utf-8')\n",
    "    lines = f.readlines() #한줄한줄 모든 줄을 한꺼번에 list로 읽어오기\n",
    "    print(lines)\n",
    "except FileNotFoundError as e:\n",
    "    print(e)\n",
    "finally:\n",
    "    f.close()"
   ]
  },
  {
   "cell_type": "code",
   "execution_count": 78,
   "id": "10ac94fc",
   "metadata": {},
   "outputs": [
    {
     "name": "stdout",
     "output_type": "stream",
     "text": [
      "Hello\n",
      "Python\n",
      "주피터노트북의 txt파일 저장은 기본이 utf-8로 저장\n",
      "김설믜"
     ]
    }
   ],
   "source": [
    "# with 절 이후에는 자동적으로 close() 실행 (with절이 끝나는 시점에)\n",
    "with open('data/ch08.txt', 'r', encoding='utf-8') as f:\n",
    "    lines = f.readlines()\n",
    "print(lines)"
   ]
  },
  {
   "cell_type": "code",
   "execution_count": 82,
   "id": "f7269dff",
   "metadata": {},
   "outputs": [
    {
     "name": "stdout",
     "output_type": "stream",
     "text": [
      "['Hello\\n', 'Python\\n', '주피터노트북의 txt파일 저장은 기본이 utf-8로 저장\\n', '김설믜']\n"
     ]
    }
   ],
   "source": [
    "try:\n",
    "    with open('data/ch08.txt', 'r', encoding='utf-8') as f:\n",
    "        lines = f.readlines()\n",
    "    print(lines)\n",
    "except (FileNotFoundError, UnicodeDecodeError) as e:\n",
    "    print(e)"
   ]
  },
  {
   "cell_type": "markdown",
   "id": "ae5ac0cd",
   "metadata": {},
   "source": [
    "# 연습문제\n",
    "## 실습형\n",
    "### 1. 숫자 두개를 입력받아 나눗셈 연산을 하는 프로그램을 작성하세요.\n",
    "- 두 숫자는 정수 또는 실수일수 있으며, 0으로 나눌수 없습니다.\n",
    "- 올바른 두수를 입력하고 나눗셈 연산 결과를 출력한 후 종료해야 합니ㅏㄷ.\n",
    "- 다음은 출력 실행 후 출력 예시입니다.\n",
    "\n",
    "```\n",
    "첫번째 숫자를 입력하세요 : hello\n",
    "유효한 숫자가 아닙니다 다시 시도하세요.\n",
    "첫번째 숫자를 입력하세요 : 10\n",
    "두번째 숫자를 입력하세요 : 0\n",
    "입력한 수는 10.0와 0.0입니다.\n",
    "유효한 숫자가 아닙니다. 다시 시도하세요.\n",
    "첫번째 숫자를 입력하세요 : 3.5\n",
    "두번째 숫자를 입력하세요 : hello\n",
    "유효한 숫자가 아닙니다. 다시 시도하세요.\n",
    "첫번째 숫자를 입력하세요 : 3.5\n",
    "두번째 숫자를 입력하세요 : 2\n",
    "입력한 수는 3.5와 2.0입니다.\n",
    "3.5을 2.0로 나누면 1.75입니다\n",
    "```"
   ]
  },
  {
   "cell_type": "code",
   "execution_count": 83,
   "id": "e4a9221f",
   "metadata": {},
   "outputs": [
    {
     "name": "stdout",
     "output_type": "stream",
     "text": [
      "첫번째 숫자를 입력하세요 : hello\n",
      "유효한 숫자가 아닙니다. 다시 시도하세요.\n",
      "첫번째 숫자를 입력하세요 : 10\n",
      "두번째 숫자를 입력하세요 : 0\n",
      "입력한 수는 10.0와 0.0입니다.\n",
      "유효한 숫자가 아닙니다. 다시 시도하세요.\n",
      "첫번째 숫자를 입력하세요 : 3.5\n",
      "두번째 숫자를 입력하세요 : hello\n",
      "유효한 숫자가 아닙니다. 다시 시도하세요.\n",
      "첫번째 숫자를 입력하세요 : 3.5\n",
      "두번째 숫자를 입력하세요 : 2\n",
      "입력한 수는 3.5와 2.0입니다.\n",
      "3.5을 2.0로 나누면 1.75입니다\n"
     ]
    }
   ],
   "source": [
    "while True:\n",
    "    try:\n",
    "        num1 = float(input('첫번째 숫자를 입력하세요 : '))\n",
    "        num2 = float(input('두번째 숫자를 입력하세요 : '))\n",
    "        print('입력한 수는 {}와 {}입니다.'.format(num1, num2))\n",
    "        result = num1/num2\n",
    "        print('{}을 {}로 나누면 {}입니다'.format(num1, num2, result))\n",
    "        break\n",
    "    except:\n",
    "        print('유효한 숫자가 아닙니다. 다시 시도하세요.')"
   ]
  },
  {
   "cell_type": "code",
   "execution_count": 86,
   "id": "05a9aa77",
   "metadata": {},
   "outputs": [
    {
     "name": "stdout",
     "output_type": "stream",
     "text": [
      "첫번째 숫자를 입력하세요 : hello\n",
      "유효한 숫자가 아닙니다. 다시 시도하세요.\n",
      "첫번째 숫자를 입력하세요 : 10\n",
      "두번째 숫자를 입력하세요 : 0\n",
      "입력한 수는 10.0와 0.0입니다.\n",
      "유효한 숫자가 아닙니다. 다시 시도하세요.\n",
      "첫번째 숫자를 입력하세요 : 3.5\n",
      "두번째 숫자를 입력하세요 : hello\n",
      "유효한 숫자가 아닙니다. 다시 시도하세요.\n",
      "첫번째 숫자를 입력하세요 : 3.5\n",
      "두번째 숫자를 입력하세요 : 2\n",
      "입력한 수는 3.5와 2.0입니다.\n",
      "3.5을 2.0로 나누면 1.75입니다\n"
     ]
    }
   ],
   "source": [
    "#만약 break를 사용하기 싫다면\n",
    "result = None\n",
    "while not result:\n",
    "    try:\n",
    "        num1 = float(input('첫번째 숫자를 입력하세요 : '))\n",
    "        num2 = float(input('두번째 숫자를 입력하세요 : '))\n",
    "        print('입력한 수는 {}와 {}입니다.'.format(num1, num2))\n",
    "        result = num1/num2\n",
    "        print('{}을 {}로 나누면 {}입니다'.format(num1, num2, result))\n",
    "    except:\n",
    "        print('유효한 숫자가 아닙니다. 다시 시도하세요.')"
   ]
  },
  {
   "cell_type": "markdown",
   "id": "e8abed32",
   "metadata": {},
   "source": [
    "### 2. 1번 코드의 예외처리를 예외에 따라 다르게 처리하세요.\n",
    "- 숫자로 바꿀 수 없을 경우 ValueError가 발생합니다.\n",
    "- 0으로 나뉴려고 할 때 ZeroDivisonError가 발생합니다\n",
    "- 다음은 실행후 출력 예시입니다.\n",
    "\n",
    "```\n",
    "첫번째 숫자를 입력하세요 : abc\n",
    "유효한 숫자가 아닙니다. 다시 시도하세요.\n",
    "첫번째 숫자를 입력하세요 : 10\n",
    "두번째 숫자를 입력하세요 : 0\n",
    "입력한 수는 10.0와 0.0입니다.\n",
    "0으로 나눌 수 없습니다. 다시 시도하세요.\n",
    "첫번째 숫자를 입력하세요 : 5\n",
    "두번째 숫자를 입력하세요 : 3\n",
    "입력한 수는 5.0와 3.0입니다.\n",
    "5.0을 3.0로 나누면 1.666666666666666667입니다.\n",
    "```"
   ]
  },
  {
   "cell_type": "code",
   "execution_count": 84,
   "id": "bc6af5d0",
   "metadata": {},
   "outputs": [
    {
     "name": "stdout",
     "output_type": "stream",
     "text": [
      "첫번째 숫자를 입력하세요 : abc\n",
      "유효한 숫자가 아닙니다. 다시 시도하세요.\n",
      "첫번째 숫자를 입력하세요 : 10\n",
      "두번째 숫자를 입력하세요 : 0\n",
      "입력한 수는 10.0와 0.0입니다.\n",
      "0으로 나눌 수 없습니다. 다시 시도하세요.\n",
      "첫번째 숫자를 입력하세요 : \n",
      "유효한 숫자가 아닙니다. 다시 시도하세요.\n",
      "첫번째 숫자를 입력하세요 : 5\n",
      "두번째 숫자를 입력하세요 : 3\n",
      "입력한 수는 5.0와 3.0입니다.\n",
      "5.0을 3.0로 나누면 1.6666666666666667입니다\n"
     ]
    }
   ],
   "source": [
    "while True:\n",
    "    try:\n",
    "        num1 = float(input('첫번째 숫자를 입력하세요 : '))\n",
    "        num2 = float(input('두번째 숫자를 입력하세요 : '))\n",
    "        print('입력한 수는 {}와 {}입니다.'.format(num1, num2))\n",
    "        result = num1/num2\n",
    "        print('{}을 {}로 나누면 {}입니다'.format(num1, num2, result))\n",
    "        break\n",
    "    except ValueError:\n",
    "        print('유효한 숫자가 아닙니다. 다시 시도하세요.')\n",
    "    except ZeroDivisionError:\n",
    "        print('0으로 나눌 수 없습니다. 다시 시도하세요.')"
   ]
  },
  {
   "cell_type": "markdown",
   "id": "2a6509bd",
   "metadata": {},
   "source": [
    "## 문제풀이형\n",
    "### 1. 다음 중 예외 처리에 대해 잘못 설명한 것은?\n",
    "- ① try 블록은 예외가 발생할 가능성이 있는 문장을 작성한다\n",
    "- ② 예외가 발생하면 except 블록이 실행된다\n",
    "- ③ 상위 예외 처리를 위한 except 블록은 하위 예외 처리 except 블록에 비해 먼저 선언되어야 한다\n",
    "- ④ finally 블록은 예외의 발생 유/무와 상관없이 실행된다"
   ]
  },
  {
   "cell_type": "markdown",
   "id": "2522d035",
   "metadata": {},
   "source": [
    "<font size='3'>3번 : 하위 예외처리가 먼저 선언</font>"
   ]
  },
  {
   "cell_type": "markdown",
   "id": "e9321301",
   "metadata": {},
   "source": [
    "### 2. 다음중 예외 처리에 대한 설명 중 잘못된 것은?\n",
    "- ① raise는 강제로 예외를 발생시킬 때 사용한다.\n",
    "- ② catch 절은 예외를 처리하기 위해 사용하는 구문이다.\n",
    "- ③ 다른 예외를 하나의 예외처리 구문으로 처리할 수 있다.\n",
    "- ④ else 절은 예외가 발생하지 않을 경우 실행된다"
   ]
  },
  {
   "cell_type": "markdown",
   "id": "70308668",
   "metadata": {},
   "source": [
    "<font size='3'>2번 catch절은 Python에서 사용 X</font>"
   ]
  },
  {
   "cell_type": "markdown",
   "id": "87c50458",
   "metadata": {},
   "source": [
    "### 3. 다음 중 except 절을 잘못 사용한 것은?\n",
    "- ① except:\n",
    "- ② except Exception:\n",
    "- ③ except Exception as e:\n",
    "- ④ except Exception e"
   ]
  },
  {
   "cell_type": "markdown",
   "id": "4448cba2",
   "metadata": {},
   "source": [
    "<font size='3'>4번</font>"
   ]
  },
  {
   "cell_type": "markdown",
   "id": "695043c9",
   "metadata": {},
   "source": [
    "### 4. 다음 중 예외 처리에 사용하지 않는 구문은?\n",
    "- ① try\n",
    "- ② except\n",
    "- ③ with\n",
    "- ④ finally"
   ]
  },
  {
   "cell_type": "markdown",
   "id": "6dd4621f",
   "metadata": {},
   "source": [
    "<font size='3'>3번</font>"
   ]
  }
 ],
 "metadata": {
  "kernelspec": {
   "display_name": "Python 3 (ipykernel)",
   "language": "python",
   "name": "python3"
  },
  "language_info": {
   "codemirror_mode": {
    "name": "ipython",
    "version": 3
   },
   "file_extension": ".py",
   "mimetype": "text/x-python",
   "name": "python",
   "nbconvert_exporter": "python",
   "pygments_lexer": "ipython3",
   "version": "3.10.9"
  },
  "toc": {
   "base_numbering": 1,
   "nav_menu": {},
   "number_sections": false,
   "sideBar": true,
   "skip_h1_title": false,
   "title_cell": "Table of Contents",
   "title_sidebar": "Contents",
   "toc_cell": false,
   "toc_position": {},
   "toc_section_display": true,
   "toc_window_display": false
  }
 },
 "nbformat": 4,
 "nbformat_minor": 5
}
