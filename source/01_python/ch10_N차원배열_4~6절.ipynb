{
 "cells": [
  {
   "cell_type": "code",
   "execution_count": 4,
   "id": "d6bde3cc",
   "metadata": {},
   "outputs": [
    {
     "data": {
      "text/html": [
       "\n",
       "<style>\n",
       "div.container{width:90% !important;}\n",
       "div.cell.code_cell.rendered{width:100%;}\n",
       "div.input_prompt{padding:0px;}\n",
       "div.CodeMirror {font-family:Consolas; font-size:12pt;}\n",
       "div.text_cell_render.rendered_html{font size:12pt;}\n",
       "div.output {font-size:12pt; font-weight:bold;}\n",
       "div.input{font-family:Consolas; font-size:12pt;}\n",
       "div.prompt {min width:70px;}\n",
       "div#toc-wrapper {padding-top:120px;}\n",
       "div.text_cell_render ul li{font-size:12pt;padding:5px;}\n",
       "table.dataframe {font-size:12px;}\n",
       "</style>\n"
      ],
      "text/plain": [
       "<IPython.core.display.HTML object>"
      ]
     },
     "metadata": {},
     "output_type": "display_data"
    }
   ],
   "source": [
    "from IPython.display import display, HTML\n",
    "display(HTML(\"\"\"\n",
    "<style>\n",
    "div.container{width:90% !important;}\n",
    "div.cell.code_cell.rendered{width:100%;}\n",
    "div.input_prompt{padding:0px;}\n",
    "div.CodeMirror {font-family:Consolas; font-size:12pt;}\n",
    "div.text_cell_render.rendered_html{font size:12pt;}\n",
    "div.output {font-size:12pt; font-weight:bold;}\n",
    "div.input{font-family:Consolas; font-size:12pt;}\n",
    "div.prompt {min width:70px;}\n",
    "div#toc-wrapper {padding-top:120px;}\n",
    "div.text_cell_render ul li{font-size:12pt;padding:5px;}\n",
    "table.dataframe {font-size:12px;}\n",
    "</style>\n",
    "\"\"\"))"
   ]
  },
  {
   "cell_type": "markdown",
   "id": "76985877",
   "metadata": {},
   "source": [
    "<font size='6' color='red'>ch10. N차원 배열(Numpy 배열) 다루기</font>\n",
    "# 4절 복사와 뷰\n",
    "## 4.1 할당"
   ]
  },
  {
   "cell_type": "code",
   "execution_count": 19,
   "id": "d4a6b138",
   "metadata": {},
   "outputs": [
    {
     "data": {
      "text/plain": [
       "array([ 0,  1,  2,  3,  4,  5,  6,  7,  8,  9, 10, 11])"
      ]
     },
     "execution_count": 19,
     "metadata": {},
     "output_type": "execute_result"
    }
   ],
   "source": [
    "import numpy as np\n",
    "a = np.arange(12)\n",
    "a"
   ]
  },
  {
   "cell_type": "code",
   "execution_count": 5,
   "id": "e42b28f5",
   "metadata": {},
   "outputs": [],
   "source": [
    "b=a"
   ]
  },
  {
   "cell_type": "code",
   "execution_count": 6,
   "id": "a0205f2e",
   "metadata": {},
   "outputs": [
    {
     "data": {
      "text/plain": [
       "((12,), 1, 2012118169424, numpy.ndarray)"
      ]
     },
     "execution_count": 6,
     "metadata": {},
     "output_type": "execute_result"
    }
   ],
   "source": [
    "a.shape, a.ndim, id(a), type(a)"
   ]
  },
  {
   "cell_type": "code",
   "execution_count": 7,
   "id": "f2f6be57",
   "metadata": {},
   "outputs": [
    {
     "data": {
      "text/plain": [
       "((12,), 1, 2012118169424, numpy.ndarray)"
      ]
     },
     "execution_count": 7,
     "metadata": {},
     "output_type": "execute_result"
    }
   ],
   "source": [
    "b.shape, b.ndim, id(b), type(b)"
   ]
  },
  {
   "cell_type": "code",
   "execution_count": 8,
   "id": "27840fc6",
   "metadata": {},
   "outputs": [
    {
     "data": {
      "text/plain": [
       "array([ True,  True,  True,  True,  True,  True,  True,  True,  True,\n",
       "        True,  True,  True])"
      ]
     },
     "execution_count": 8,
     "metadata": {},
     "output_type": "execute_result"
    }
   ],
   "source": [
    "a==b"
   ]
  },
  {
   "cell_type": "code",
   "execution_count": 9,
   "id": "a0c3a285",
   "metadata": {},
   "outputs": [
    {
     "data": {
      "text/plain": [
       "True"
      ]
     },
     "execution_count": 9,
     "metadata": {},
     "output_type": "execute_result"
    }
   ],
   "source": [
    "np.all(a==b)"
   ]
  },
  {
   "cell_type": "code",
   "execution_count": 13,
   "id": "8f4ecac3",
   "metadata": {},
   "outputs": [],
   "source": [
    "b.shape = (3,4) #할당 받은 b의 shape"
   ]
  },
  {
   "cell_type": "code",
   "execution_count": 14,
   "id": "b27e56b4",
   "metadata": {},
   "outputs": [
    {
     "data": {
      "text/plain": [
       "((3, 4), 2, 2012118169424, numpy.ndarray)"
      ]
     },
     "execution_count": 14,
     "metadata": {},
     "output_type": "execute_result"
    }
   ],
   "source": [
    "a.shape, a.ndim, id(a), type(a)"
   ]
  },
  {
   "cell_type": "code",
   "execution_count": 15,
   "id": "6f0c3782",
   "metadata": {},
   "outputs": [
    {
     "data": {
      "text/plain": [
       "((3, 4), 2, 2012118169424, numpy.ndarray)"
      ]
     },
     "execution_count": 15,
     "metadata": {},
     "output_type": "execute_result"
    }
   ],
   "source": [
    "b.shape, b.ndim, id(b), type(b)"
   ]
  },
  {
   "cell_type": "code",
   "execution_count": 16,
   "id": "2222a79d",
   "metadata": {},
   "outputs": [
    {
     "data": {
      "text/plain": [
       "array([[ 0,  1,  2,  3],\n",
       "       [ 4,  5,  6,  7],\n",
       "       [ 8,  9, 10, 11]])"
      ]
     },
     "execution_count": 16,
     "metadata": {},
     "output_type": "execute_result"
    }
   ],
   "source": [
    "a"
   ]
  },
  {
   "cell_type": "code",
   "execution_count": 17,
   "id": "dad433be",
   "metadata": {},
   "outputs": [
    {
     "data": {
      "text/plain": [
       "array([[ 0,  1,  2,  3],\n",
       "       [ 4,  5,  6,  7],\n",
       "       [ 8,  9, 10, 11]])"
      ]
     },
     "execution_count": 17,
     "metadata": {},
     "output_type": "execute_result"
    }
   ],
   "source": [
    "b"
   ]
  },
  {
   "cell_type": "markdown",
   "id": "dce9bc7b",
   "metadata": {},
   "source": [
    "# 4.2 얕은 복사 : 뷰 (View)"
   ]
  },
  {
   "cell_type": "code",
   "execution_count": 18,
   "id": "9aa37d06",
   "metadata": {},
   "outputs": [
    {
     "data": {
      "text/plain": [
       "array([[ 0,  1,  2,  3],\n",
       "       [ 4,  5,  6,  7],\n",
       "       [ 8,  9, 10, 11]])"
      ]
     },
     "execution_count": 18,
     "metadata": {},
     "output_type": "execute_result"
    }
   ],
   "source": [
    "a = np.arange(12).reshape(3,4)\n",
    "a"
   ]
  },
  {
   "cell_type": "code",
   "execution_count": 20,
   "id": "861532ae",
   "metadata": {},
   "outputs": [],
   "source": [
    "# 뷰의 경우 데이터는 놔두고 틀만 복사하기에 reshape과 같은 변수를 사용함면 데이터의 형태는 변하지만 동일한 데이터를 사용한다\n",
    "c = a.view()"
   ]
  },
  {
   "cell_type": "code",
   "execution_count": 21,
   "id": "5583966b",
   "metadata": {},
   "outputs": [
    {
     "data": {
      "text/plain": [
       "array([ 0,  1,  2,  3,  4,  5,  6,  7,  8,  9, 10, 11])"
      ]
     },
     "execution_count": 21,
     "metadata": {},
     "output_type": "execute_result"
    }
   ],
   "source": [
    "c"
   ]
  },
  {
   "cell_type": "code",
   "execution_count": 22,
   "id": "f6290089",
   "metadata": {},
   "outputs": [
    {
     "data": {
      "text/plain": [
       "(2012151927536, 2012173461968)"
      ]
     },
     "execution_count": 22,
     "metadata": {},
     "output_type": "execute_result"
    }
   ],
   "source": [
    "id(a), id(c)"
   ]
  },
  {
   "cell_type": "code",
   "execution_count": 23,
   "id": "df6b6476",
   "metadata": {},
   "outputs": [
    {
     "data": {
      "text/plain": [
       "array([ True,  True,  True,  True,  True,  True,  True,  True,  True,\n",
       "        True,  True,  True])"
      ]
     },
     "execution_count": 23,
     "metadata": {},
     "output_type": "execute_result"
    }
   ],
   "source": [
    "a == c"
   ]
  },
  {
   "cell_type": "code",
   "execution_count": 24,
   "id": "e7f061cf",
   "metadata": {},
   "outputs": [
    {
     "data": {
      "text/plain": [
       "array([[ 0,  1,  2,  3,  4,  5],\n",
       "       [ 6,  7,  8,  9, 10, 11]])"
      ]
     },
     "execution_count": 24,
     "metadata": {},
     "output_type": "execute_result"
    }
   ],
   "source": [
    "c.shape = (2,6)\n",
    "c"
   ]
  },
  {
   "cell_type": "code",
   "execution_count": 25,
   "id": "bc6d4e35",
   "metadata": {},
   "outputs": [
    {
     "data": {
      "text/plain": [
       "array([ 0,  1,  2,  3,  4,  5,  6,  7,  8,  9, 10, 11])"
      ]
     },
     "execution_count": 25,
     "metadata": {},
     "output_type": "execute_result"
    }
   ],
   "source": [
    "a"
   ]
  },
  {
   "cell_type": "code",
   "execution_count": 27,
   "id": "225033bd",
   "metadata": {},
   "outputs": [
    {
     "data": {
      "text/plain": [
       "array([[ 0,  1,  2,  3,  4,  5],\n",
       "       [ 9,  7,  9,  9,  9, 11]])"
      ]
     },
     "execution_count": 27,
     "metadata": {},
     "output_type": "execute_result"
    }
   ],
   "source": [
    "c[1, ::2] = 9 # 1행의 짝수번째 열 변경(9)\n",
    "c"
   ]
  },
  {
   "cell_type": "code",
   "execution_count": 28,
   "id": "065e0cd1",
   "metadata": {},
   "outputs": [
    {
     "data": {
      "text/plain": [
       "array([ 0,  1,  2,  3,  4,  5,  9,  7,  9,  9,  9, 11])"
      ]
     },
     "execution_count": 28,
     "metadata": {},
     "output_type": "execute_result"
    }
   ],
   "source": [
    "a"
   ]
  },
  {
   "cell_type": "markdown",
   "id": "459ff04d",
   "metadata": {},
   "source": [
    "## 4.3 깊은 복사"
   ]
  },
  {
   "cell_type": "code",
   "execution_count": 40,
   "id": "44ac7b2b",
   "metadata": {},
   "outputs": [
    {
     "data": {
      "text/plain": [
       "array([[ 5,  4, 13,  0],\n",
       "       [99,  6, 16,  1],\n",
       "       [20,  5, 14,  0]])"
      ]
     },
     "execution_count": 40,
     "metadata": {},
     "output_type": "execute_result"
    }
   ],
   "source": [
    "a = np.array([[5, 4, 13, 0],\n",
    "            [99, 6, 16, 1],\n",
    "            [20, 5, 14, 0],])\n",
    "a"
   ]
  },
  {
   "cell_type": "code",
   "execution_count": 41,
   "id": "56501f6b",
   "metadata": {},
   "outputs": [
    {
     "data": {
      "text/plain": [
       "array([[ 5,  4, 13],\n",
       "       [99,  6, 16],\n",
       "       [20,  5, 14]])"
      ]
     },
     "execution_count": 41,
     "metadata": {},
     "output_type": "execute_result"
    }
   ],
   "source": [
    "# 독립변수의 가지수가 복수면 변수를 대문자로 짓는다\n",
    "#X = a[:, :-1] #슬라이싱이 될 때, 뷰가 반환된다 (얕은복사)\n",
    "X = a[:, :-1].copy() # X = np.array(a[:,:-1], copy=True)와 동일 (깊은복사)\n",
    "X"
   ]
  },
  {
   "cell_type": "code",
   "execution_count": 42,
   "id": "5670fefb",
   "metadata": {},
   "outputs": [
    {
     "data": {
      "text/plain": [
       "array([[-9,  4, 13],\n",
       "       [-9,  6, 16],\n",
       "       [-9,  5, 14]])"
      ]
     },
     "execution_count": 42,
     "metadata": {},
     "output_type": "execute_result"
    }
   ],
   "source": [
    "X[:, 0] = -9\n",
    "X"
   ]
  },
  {
   "cell_type": "code",
   "execution_count": 43,
   "id": "db2bdebd",
   "metadata": {},
   "outputs": [
    {
     "data": {
      "text/plain": [
       "array([[ 5,  4, 13,  0],\n",
       "       [99,  6, 16,  1],\n",
       "       [20,  5, 14,  0]])"
      ]
     },
     "execution_count": 43,
     "metadata": {},
     "output_type": "execute_result"
    }
   ],
   "source": [
    "a"
   ]
  },
  {
   "cell_type": "markdown",
   "id": "ef30cdc4",
   "metadata": {},
   "source": [
    "# 5절 고급인덱싱\n",
    "## 5.1 인덱스 배열로 인덱싱"
   ]
  },
  {
   "cell_type": "code",
   "execution_count": 1,
   "id": "f6f7a245",
   "metadata": {},
   "outputs": [
    {
     "data": {
      "text/plain": [
       "array([  0,   1,   4,   9,  16,  25,  36,  49,  64,  81, 100, 121])"
      ]
     },
     "execution_count": 1,
     "metadata": {},
     "output_type": "execute_result"
    }
   ],
   "source": [
    "import numpy as np\n",
    "a = np.arange(12)**2\n",
    "a"
   ]
  },
  {
   "cell_type": "code",
   "execution_count": 3,
   "id": "3b426c30",
   "metadata": {},
   "outputs": [
    {
     "data": {
      "text/plain": [
       "array([ 0, 25, 81])"
      ]
     },
     "execution_count": 3,
     "metadata": {},
     "output_type": "execute_result"
    }
   ],
   "source": [
    "a[[0,5,9]]"
   ]
  },
  {
   "cell_type": "code",
   "execution_count": 5,
   "id": "656ce47d",
   "metadata": {},
   "outputs": [
    {
     "data": {
      "text/plain": [
       "array([ 0,  1,  1, 81])"
      ]
     },
     "execution_count": 5,
     "metadata": {},
     "output_type": "execute_result"
    }
   ],
   "source": [
    "# 인덱싱 하기 위한 값을 배열로 만듬\n",
    "i = np.array([0, 1, 1, 9])\n",
    "a[i] #결과는 i(인덱싱 배열)의 형태를 따라 감"
   ]
  },
  {
   "cell_type": "code",
   "execution_count": 6,
   "id": "5fcb5898",
   "metadata": {},
   "outputs": [
    {
     "data": {
      "text/plain": [
       "array([[ 0,  1],\n",
       "       [ 1, 81]])"
      ]
     },
     "execution_count": 6,
     "metadata": {},
     "output_type": "execute_result"
    }
   ],
   "source": [
    "i = np.array([[0,1],\n",
    "              [1,9]])\n",
    "a[i]"
   ]
  },
  {
   "cell_type": "code",
   "execution_count": 7,
   "id": "584fcc52",
   "metadata": {},
   "outputs": [
    {
     "data": {
      "text/plain": [
       "array([ 10,  10,   4,   9,  16,  25,  36,  49,  64,  10, 100, 121])"
      ]
     },
     "execution_count": 7,
     "metadata": {},
     "output_type": "execute_result"
    }
   ],
   "source": [
    "a[i] = 10\n",
    "a"
   ]
  },
  {
   "cell_type": "code",
   "execution_count": 8,
   "id": "9eb1b6bb",
   "metadata": {},
   "outputs": [
    {
     "data": {
      "text/plain": [
       "array([ 20,  20,   4,   9,  16,  25,  36,  49,  64,  20, 100, 121])"
      ]
     },
     "execution_count": 8,
     "metadata": {},
     "output_type": "execute_result"
    }
   ],
   "source": [
    "a[i] += 10 # 중복은 두번이 되지 않고 한번만 실행\n",
    "a"
   ]
  },
  {
   "cell_type": "code",
   "execution_count": 13,
   "id": "227e1db7",
   "metadata": {},
   "outputs": [],
   "source": [
    "# 색상                R G B\n",
    "palette = np.array([[0,0,0], #black\n",
    "                    [255,0,0], #red\n",
    "                    [0,255,0], #green\n",
    "                    [0,0,255], #blue\n",
    "                    [255,255,255]]) #white"
   ]
  },
  {
   "cell_type": "code",
   "execution_count": 14,
   "id": "48cd73fd",
   "metadata": {},
   "outputs": [],
   "source": [
    "image_index = np.array([[4, 4, 4, 0, 0, 0, 0, 4, 4, 4],\n",
    "                        [4, 0, 0, 4, 4, 4, 4, 0, 0, 4],\n",
    "                        [0, 0, 4, 4, 4, 4, 4, 4, 0, 0],\n",
    "                        [0, 4, 4, 1, 4, 4, 3, 4, 4, 0],\n",
    "                        [0, 4, 4, 1, 4, 4, 3, 4, 4, 0],\n",
    "                        [0, 4, 4, 4, 4, 4, 4, 4, 4, 0],\n",
    "                        [0, 4, 4, 2, 4, 4, 2, 4, 4, 0],\n",
    "                        [4, 0, 4, 4, 2, 2, 4, 4, 0, 4],\n",
    "                        [4, 4, 0, 4, 4, 4, 4, 0, 4, 4],\n",
    "                        [4, 4, 4, 0, 0, 0, 0, 4, 4, 4]])"
   ]
  },
  {
   "cell_type": "code",
   "execution_count": 18,
   "id": "27a06021",
   "metadata": {},
   "outputs": [
    {
     "data": {
      "text/plain": [
       "(10, 10, 3)"
      ]
     },
     "execution_count": 18,
     "metadata": {},
     "output_type": "execute_result"
    }
   ],
   "source": [
    "image_data = palette[image_index]\n",
    "image_data.shape"
   ]
  },
  {
   "cell_type": "code",
   "execution_count": 19,
   "id": "e029c251",
   "metadata": {},
   "outputs": [
    {
     "data": {
      "image/png": "[encoded data removed]",
      "text/plain": [
       "<Figure size 200x200 with 1 Axes>"
      ]
     },
     "metadata": {},
     "output_type": "display_data"
    }
   ],
   "source": [
    "from matplotlib import pyplot as plt\n",
    "plt.figure(figsize=(2,2))\n",
    "plt.imshow(image_data)\n",
    "plt.axis('off')\n",
    "plt.show()"
   ]
  },
  {
   "cell_type": "markdown",
   "id": "73d958f7",
   "metadata": {},
   "source": [
    "## 5.2 논리 배열을 이용한 인덱싱\n"
   ]
  },
  {
   "cell_type": "code",
   "execution_count": 20,
   "id": "01d59ad6",
   "metadata": {},
   "outputs": [
    {
     "data": {
      "text/plain": [
       "array([ 0,  1,  2,  3,  4,  5,  6,  7,  8,  9, 10, 11, 12, 13, 14, 15, 16,\n",
       "       17, 18, 19])"
      ]
     },
     "execution_count": 20,
     "metadata": {},
     "output_type": "execute_result"
    }
   ],
   "source": [
    "a = np.arange(20)\n",
    "a"
   ]
  },
  {
   "cell_type": "code",
   "execution_count": 21,
   "id": "6102d2bd",
   "metadata": {},
   "outputs": [
    {
     "data": {
      "text/plain": [
       "array([ True, False,  True, False,  True, False,  True, False,  True,\n",
       "       False,  True, False,  True, False,  True, False,  True, False,\n",
       "        True, False])"
      ]
     },
     "execution_count": 21,
     "metadata": {},
     "output_type": "execute_result"
    }
   ],
   "source": [
    "a%2 == 0"
   ]
  },
  {
   "cell_type": "code",
   "execution_count": 23,
   "id": "074b108d",
   "metadata": {},
   "outputs": [
    {
     "data": {
      "text/plain": [
       "array([ 0,  2,  4,  6,  8, 10, 12, 14, 16, 18])"
      ]
     },
     "execution_count": 23,
     "metadata": {},
     "output_type": "execute_result"
    }
   ],
   "source": [
    "a[[ True, False,  True, False,  True, False,  True, False,  True,\n",
    "       False,  True, False,  True, False,  True, False,  True, False,\n",
    "        True, False]]"
   ]
  },
  {
   "cell_type": "code",
   "execution_count": 24,
   "id": "9ecafde4",
   "metadata": {},
   "outputs": [
    {
     "data": {
      "text/plain": [
       "array([ 0,  2,  4,  6,  8, 10, 12, 14, 16, 18])"
      ]
     },
     "execution_count": 24,
     "metadata": {},
     "output_type": "execute_result"
    }
   ],
   "source": [
    "a[a%2==0] #논리 배열을 이용한 인덱싱시 True인 요소만 추출"
   ]
  },
  {
   "cell_type": "code",
   "execution_count": 26,
   "id": "298c9fcb",
   "metadata": {},
   "outputs": [
    {
     "data": {
      "text/plain": [
       "array([16, 17, 18, 19])"
      ]
     },
     "execution_count": 26,
     "metadata": {},
     "output_type": "execute_result"
    }
   ],
   "source": [
    "a[a>15]"
   ]
  },
  {
   "cell_type": "markdown",
   "id": "b5eda246",
   "metadata": {},
   "source": [
    "# 6절 선형대수\n",
    "- 2차원 넘파이 배열을 행렬\n",
    "    - 행렬곱 : @\n",
    "    - 단위행렬 : np.eye(n) : n행 n열 단위행렬\n",
    "    - 전치행렬 : X.T, X.transpose()"
   ]
  },
  {
   "cell_type": "code",
   "execution_count": 27,
   "id": "649a45b6",
   "metadata": {},
   "outputs": [
    {
     "data": {
      "text/plain": [
       "array([[1, 2],\n",
       "       [3, 4]])"
      ]
     },
     "execution_count": 27,
     "metadata": {},
     "output_type": "execute_result"
    }
   ],
   "source": [
    "a = np.array([[1,2],\n",
    "              [3,4]])\n",
    "a"
   ]
  },
  {
   "cell_type": "code",
   "execution_count": 28,
   "id": "162b3921",
   "metadata": {},
   "outputs": [
    {
     "data": {
      "text/plain": [
       "array([[-2. ,  1. ],\n",
       "       [ 1.5, -0.5]])"
      ]
     },
     "execution_count": 28,
     "metadata": {},
     "output_type": "execute_result"
    }
   ],
   "source": [
    "# a의 역행렬 : a의 역행렬 @ a = 단위행렬\n",
    "np.linalg.inv(a)"
   ]
  },
  {
   "cell_type": "code",
   "execution_count": 29,
   "id": "e162517a",
   "metadata": {},
   "outputs": [
    {
     "data": {
      "text/plain": [
       "array([[ 1.00000000e+00,  4.44089210e-16],\n",
       "       [-5.55111512e-17,  1.00000000e+00]])"
      ]
     },
     "execution_count": 29,
     "metadata": {},
     "output_type": "execute_result"
    }
   ],
   "source": [
    "np.linalg.inv(a) @ a"
   ]
  },
  {
   "cell_type": "code",
   "execution_count": 30,
   "id": "6e808c10",
   "metadata": {},
   "outputs": [
    {
     "data": {
      "text/plain": [
       "array([[10, 14,  4],\n",
       "       [14, 20,  6],\n",
       "       [ 4,  6,  2]])"
      ]
     },
     "execution_count": 30,
     "metadata": {},
     "output_type": "execute_result"
    }
   ],
   "source": [
    "# 정방 행렬이 아니면 역행렬을 구할 수 없음\n",
    "a = np.array([[1,2,1],\n",
    "              [3,4,1]])\n",
    "#np.linalg.inv(a) 에러 (정방행렬이 아니라 에러)\n",
    "a.T @ a #전치행렬을 곱하여 정방행렬로 변경"
   ]
  },
  {
   "cell_type": "code",
   "execution_count": 32,
   "id": "75bb4bac",
   "metadata": {},
   "outputs": [
    {
     "data": {
      "text/plain": [
       "array([[ 6, 12],\n",
       "       [12, 26]])"
      ]
     },
     "execution_count": 32,
     "metadata": {},
     "output_type": "execute_result"
    }
   ],
   "source": [
    "a @ a.T #전치행렬을 곱하면 정방행렬로"
   ]
  },
  {
   "cell_type": "markdown",
   "id": "a1f50edb",
   "metadata": {},
   "source": [
    "# 연습문제\n",
    "## 실습형\n",
    "### 다음 코드는 iris 데이터의 독립변수(sepal_length, sepal_width, petal_length) 정보만 갖도록 한 코드입니다. 이를 이용해서 주어진 문제를 해결하세요.\n",
    "```python\n",
    "import numpy as np\n",
    "from sklearn import datasets\n",
    "iris = datasets.load_iris()\n",
    "iris_data = iris.data\n",
    "```"
   ]
  },
  {
   "cell_type": "code",
   "execution_count": 1,
   "id": "12e6a485",
   "metadata": {},
   "outputs": [],
   "source": [
    "import numpy as np\n",
    "from sklearn import datasets\n",
    "iris = datasets.load_iris()\n",
    "iris_data = iris.data"
   ]
  },
  {
   "cell_type": "markdown",
   "id": "8312411f",
   "metadata": {},
   "source": [
    "### 1. 각 변수별 평균을 출력하세요.\n"
   ]
  },
  {
   "cell_type": "code",
   "execution_count": 3,
   "id": "5f8ab007",
   "metadata": {},
   "outputs": [
    {
     "data": {
      "text/plain": [
       "array([5.84333333, 3.05733333, 3.758     , 1.19933333])"
      ]
     },
     "execution_count": 3,
     "metadata": {},
     "output_type": "execute_result"
    }
   ],
   "source": [
    "iris_data.mean(axis=0)"
   ]
  },
  {
   "cell_type": "markdown",
   "id": "63b62bb0",
   "metadata": {},
   "source": [
    "### 2. 처음 다섯개 행을 출력하세요"
   ]
  },
  {
   "cell_type": "code",
   "execution_count": 4,
   "id": "70cb3627",
   "metadata": {},
   "outputs": [
    {
     "data": {
      "text/plain": [
       "array([[5.1, 3.5, 1.4, 0.2],\n",
       "       [4.9, 3. , 1.4, 0.2],\n",
       "       [4.7, 3.2, 1.3, 0.2],\n",
       "       [4.6, 3.1, 1.5, 0.2],\n",
       "       [5. , 3.6, 1.4, 0.2]])"
      ]
     },
     "execution_count": 4,
     "metadata": {},
     "output_type": "execute_result"
    }
   ],
   "source": [
    "iris_data[:5]"
   ]
  },
  {
   "cell_type": "markdown",
   "id": "c90bcd31",
   "metadata": {},
   "source": [
    "### 3. 처음 다섯 개 행에서 마지막 열을 제외한 나머지 열을 출력하세요"
   ]
  },
  {
   "cell_type": "code",
   "execution_count": 7,
   "id": "44403d8a",
   "metadata": {},
   "outputs": [
    {
     "data": {
      "text/plain": [
       "array([[5.1, 3.5, 1.4],\n",
       "       [4.9, 3. , 1.4],\n",
       "       [4.7, 3.2, 1.3],\n",
       "       [4.6, 3.1, 1.5],\n",
       "       [5. , 3.6, 1.4]])"
      ]
     },
     "execution_count": 7,
     "metadata": {},
     "output_type": "execute_result"
    }
   ],
   "source": [
    "q3 = iris_data[:5, :-1]\n",
    "q3"
   ]
  },
  {
   "cell_type": "markdown",
   "id": "fe224c62",
   "metadata": {},
   "source": [
    "### 4. 처음 다섯개 행에서 마지막 열만 출력하세요"
   ]
  },
  {
   "cell_type": "code",
   "execution_count": 8,
   "id": "c82e3da0",
   "metadata": {},
   "outputs": [
    {
     "data": {
      "text/plain": [
       "array([0.2, 0.2, 0.2, 0.2, 0.2])"
      ]
     },
     "execution_count": 8,
     "metadata": {},
     "output_type": "execute_result"
    }
   ],
   "source": [
    "q4 = iris_data[:5,-1]\n",
    "q4"
   ]
  },
  {
   "cell_type": "markdown",
   "id": "b12ce956",
   "metadata": {},
   "source": [
    "### 5. 3번 배열과 4번 배열을 원래 모양이 되도록 합치세요. 실행결과는 2번의 결과와 같아야합니다"
   ]
  },
  {
   "cell_type": "markdown",
   "id": "a195ffed",
   "metadata": {},
   "source": [
    "### 6. 처음 다섯 개 행을 이용해서 각 열별로 평균보다 큰 값들만 출력하세요"
   ]
  },
  {
   "cell_type": "markdown",
   "id": "9aae225f",
   "metadata": {},
   "source": [
    "## 문제풀이형\n",
    "### 1. 다음 보기의 데이터가 있을 경우 print(a.sum(0))의 결과는?\n",
    "```python\n",
    "import numpy as np\n",
    "a = np.arange(12).reshape(3,4)\n",
    "a\n",
    "\n",
    "print(a.sum(0))\n",
    "```\n",
    "- ① 66\n",
    "- ② [6 22 38]\n",
    "- ③ [12 15 18 21]\n",
    "- ④ 0"
   ]
  },
  {
   "cell_type": "markdown",
   "id": "a81808a8",
   "metadata": {},
   "source": [
    "### 2. a 데이터가 다음과 같을 때 다음 중 차원을 바꿀 수 있는 방법을 모두 고르세요\n",
    "```python\n",
    "import numpy as np\n",
    "a = np.floor(10*np.random.random((3,4)))\n",
    "a\n",
    "\n",
    "a.shape\n",
    "```\n",
    "- ① a.ravel()\n",
    "- ② a.reshape(6,2)\n",
    "- ③ a.resize((2,6))\n",
    "- ④ a.T"
   ]
  },
  {
   "cell_type": "markdown",
   "id": "174424a6",
   "metadata": {},
   "source": [
    "### 3. 다음 데이터에서 첫번째 행과 두번째 행만 뽑아내고 싶습니다. 빈칸에 들어갈 내용으로 옳은 것을 고르세요\n",
    "```python\n",
    "import numpy as np\n",
    "a = np.arange(12).reshape(3,4)\n",
    "__________________________\n",
    "\n",
    "결과: array([[0,1,2,3],\n",
    "       [4,5,6,7]])\n",
    "```\n",
    "- ① a[:2]\n",
    "- ② a[:,:2]\n",
    "- ③ a[1,2]\n",
    "- ④ a[1][2]"
   ]
  },
  {
   "cell_type": "markdown",
   "id": "e86e6c33",
   "metadata": {},
   "source": [
    "### 4. 다음 코드의 실행 결과는 ?\n",
    "```python\n",
    "import numpy as np\n",
    "a = np.array([1,2,3,4,5])\n",
    "a[[1,3,4]] = 0\n",
    "a\n",
    "```\n",
    "- ① [0 2 0 0 5]\n",
    "- ② [1 0 3 0 0]\n",
    "- ③ [1 2 3 4 5]\n",
    "- ④ 프로그램 오류, a[1,3,4] = 0으로 코드를 수정해야한다."
   ]
  },
  {
   "cell_type": "markdown",
   "id": "8ba42506",
   "metadata": {},
   "source": [
    "### 5. 다음 두 배열 a,b를 출력의 예시처럼 만들고 싶을 때 빈칸에 입력해야 할 내용으로 바른 것은?\n",
    "```python\n",
    "import numpy as np\n",
    "a = np.array([1,2,3,4,5])\n",
    "b = np.array([6,7,8,9,10])\n",
    "_______________\n",
    "\n",
    "\n",
    "결과값:\n",
    "array([[1, 6],\n",
    "       [2, 7],\n",
    "       [3, 8],\n",
    "       [4, 9],\n",
    "       [5, 10]])\n",
    "```\n",
    "- ① np.r_[a,b]\n",
    "- ② np.c_[a,b]\n",
    "- ③ np.ix_(a,b)\n",
    "- ④ [[a],[b]]"
   ]
  },
  {
   "cell_type": "code",
   "execution_count": null,
   "id": "0e389a07",
   "metadata": {},
   "outputs": [],
   "source": []
  }
 ],
 "metadata": {
  "kernelspec": {
   "display_name": "Python 3 (ipykernel)",
   "language": "python",
   "name": "python3"
  },
  "language_info": {
   "codemirror_mode": {
    "name": "ipython",
    "version": 3
   },
   "file_extension": ".py",
   "mimetype": "text/x-python",
   "name": "python",
   "nbconvert_exporter": "python",
   "pygments_lexer": "ipython3",
   "version": "3.10.9"
  },
  "toc": {
   "base_numbering": 1,
   "nav_menu": {},
   "number_sections": false,
   "sideBar": true,
   "skip_h1_title": false,
   "title_cell": "Table of Contents",
   "title_sidebar": "Contents",
   "toc_cell": false,
   "toc_position": {},
   "toc_section_display": true,
   "toc_window_display": false
  }
 },
 "nbformat": 4,
 "nbformat_minor": 5
}
