{
 "cells": [
  {
   "cell_type": "code",
   "execution_count": 1,
   "id": "e1b0c2af",
   "metadata": {},
   "outputs": [
    {
     "data": {
      "text/html": [
       "\n",
       "<style>\n",
       "div.container{width:90% !important;}\n",
       "div.cell.code_cell.rendered{width:100%;}\n",
       "div.input_prompt{padding:0px;}\n",
       "div.CodeMirror {font-family:Consolas; font-size:12pt;}\n",
       "div.text_cell_render.rendered_html{font size:12pt;}\n",
       "div.output {font-size:12pt; font-weight:bold;}\n",
       "div.input{font-family:Consolas; font-size:12pt;}\n",
       "div.prompt {min width:70px;}\n",
       "div#toc-wrapper {padding-top:120px;}\n",
       "div.text_cell_render ul li{font-size:12pt;padding:5px;}\n",
       "table.dataframe {font-size:12px;}\n",
       "</style>\n"
      ],
      "text/plain": [
       "<IPython.core.display.HTML object>"
      ]
     },
     "metadata": {},
     "output_type": "display_data"
    }
   ],
   "source": [
    "from IPython.display import display, HTML\n",
    "display(HTML(\"\"\"\n",
    "<style>\n",
    "div.container{width:90% !important;}\n",
    "div.cell.code_cell.rendered{width:100%;}\n",
    "div.input_prompt{padding:0px;}\n",
    "div.CodeMirror {font-family:Consolas; font-size:12pt;}\n",
    "div.text_cell_render.rendered_html{font size:12pt;}\n",
    "div.output {font-size:12pt; font-weight:bold;}\n",
    "div.input{font-family:Consolas; font-size:12pt;}\n",
    "div.prompt {min width:70px;}\n",
    "div#toc-wrapper {padding-top:120px;}\n",
    "div.text_cell_render ul li{font-size:12pt;padding:5px;}\n",
    "table.dataframe {font-size:12px;}\n",
    "</style>\n",
    "\"\"\"))"
   ]
  },
  {
   "cell_type": "markdown",
   "id": "abf903e6",
   "metadata": {},
   "source": [
    "<b><font size=\"6\" color=\"red\">ch02. 자료형과 연산자</font></b>\n",
    "# 5절 연산자\n",
    "## 5.1 산술연산자 : +, -, *, /(결과 float), //(몫), %(나머지), **(제곱)"
   ]
  },
  {
   "cell_type": "code",
   "execution_count": 8,
   "id": "c73bf302",
   "metadata": {},
   "outputs": [
    {
     "name": "stdout",
     "output_type": "stream",
     "text": [
      "10*5승 = 100000\n",
      "4/2(결과 실수) = 2.0\n",
      "5//2(몫) = 2\n",
      "5%2(나머지) = 1\n"
     ]
    }
   ],
   "source": [
    "print(\"10*5승 =\", 10**5)\n",
    "print(\"4/2(결과 실수) =\", 4/2)\n",
    "print(\"5//2(몫) =\", 5//2)\n",
    "print(\"5%2(나머지) =\", 5%2)"
   ]
  },
  {
   "cell_type": "code",
   "execution_count": 7,
   "id": "e889ff0a",
   "metadata": {},
   "outputs": [
    {
     "name": "stdout",
     "output_type": "stream",
     "text": [
      "4**2 = 16\n"
     ]
    }
   ],
   "source": [
    "# 정수끼리 연산은 결과가 정수(단 / 제외)\n",
    "# 정수와 실수, 실수끼리 연산 결과는 실수\n",
    "print(\"4**2 =\", 4**2)"
   ]
  },
  {
   "cell_type": "markdown",
   "id": "e0f8477b",
   "metadata": {},
   "source": [
    "# Quiz\n",
    "### 1. 정수를 입력받아 짝수인지 홀수인지 여부를 출력"
   ]
  },
  {
   "cell_type": "code",
   "execution_count": 10,
   "id": "62cb5902",
   "metadata": {},
   "outputs": [
    {
     "name": "stdout",
     "output_type": "stream",
     "text": [
      "정수를 입력해주세요: 4\n",
      "입력하신 수는 4, 2로 나눈 나머지는 0 짝수를 입력하셨습니다\n"
     ]
    }
   ],
   "source": [
    "num = int(input(\"정수를 입력해주세요: \"))\n",
    "result = num % 2 #-1, 0, 1\n",
    "if result:\n",
    "    temp = \"홀수\"\n",
    "else:\n",
    "    temp = \"짝수\"\n",
    "print(\"입력하신 수는 {}, 2로 나눈 나머지는 {} {}를 입력하셨습니다\".format(num, result, temp))"
   ]
  },
  {
   "cell_type": "markdown",
   "id": "58f3dad0",
   "metadata": {},
   "source": [
    "### 2. 정수를 입력받아 5의 배수인지 여부를 출력"
   ]
  },
  {
   "cell_type": "code",
   "execution_count": 11,
   "id": "1736e09d",
   "metadata": {},
   "outputs": [
    {
     "name": "stdout",
     "output_type": "stream",
     "text": [
      "정수를 입력해주세요: 13\n",
      "입력하신 수는 13, 5로 나눈 나머지는 3기 때문에 5의 배수가 아닙니다\n"
     ]
    }
   ],
   "source": [
    "num = int(input(\"정수를 입력해주세요: \"))\n",
    "result = num % 5\n",
    "if (result):\n",
    "    temp = \"아닙니다\"\n",
    "else:\n",
    "    temp = \"맞습니다\"\n",
    "    \n",
    "print(\"입력하신 수는 {}, 5로 나눈 나머지는 {}기 때문에 5의 배수가 {}\".format(num, result, temp))"
   ]
  },
  {
   "cell_type": "markdown",
   "id": "3e3b33be",
   "metadata": {},
   "source": [
    "### 국, 영, 수 점수를 입력받아 다음셀에서 다음과 같이 출력하도록 구현하시오\n",
    "<font size='3'>국어: 99 \\t 영어: 100 \\t 수학: 99\\\n",
    "총점:298 \\t 평균: 99.3</font>"
   ]
  },
  {
   "cell_type": "code",
   "execution_count": 16,
   "id": "b3d30f70",
   "metadata": {},
   "outputs": [
    {
     "name": "stdout",
     "output_type": "stream",
     "text": [
      "국어 점수를 입력해주세요: 99\n",
      "영어 점수를 입력해주세요: 100\n",
      "수학 점수를 입력해주세요: 100\n",
      "국어 :  99\t영어 : 100\t수학 : 100\n",
      "총점 : 299\t평균 :  99.7\n"
     ]
    }
   ],
   "source": [
    "kor = int(input(\"국어 점수를 입력해주세요: \"))\n",
    "eng = int(input(\"영어 점수를 입력해주세요: \"))\n",
    "math = int(input(\"수학 점수를 입력해주세요: \"))\n",
    "total = kor + eng + math\n",
    "average = total/3\n",
    "print(\"국어 : {:3d}\\t영어 : {:3d}\\t수학 : {:3d}\".format(kor,eng,math))\n",
    "print(\"총점 : {:3d}\\t평균 : {:5.1f}\".format(total, average))"
   ]
  },
  {
   "cell_type": "markdown",
   "id": "ad7ff0eb",
   "metadata": {},
   "source": [
    "## 5.2 할당 연산자 : =, +=, -=, /=, *=, //=, %="
   ]
  },
  {
   "cell_type": "code",
   "execution_count": 20,
   "id": "10f919c8",
   "metadata": {},
   "outputs": [
    {
     "name": "stdout",
     "output_type": "stream",
     "text": [
      "a=15\n"
     ]
    }
   ],
   "source": [
    "a = 10\n",
    "a += 5 # a = a + 5와 동일\n",
    "print(f\"a={a}\")"
   ]
  },
  {
   "cell_type": "code",
   "execution_count": 21,
   "id": "45a76eaf",
   "metadata": {},
   "outputs": [
    {
     "name": "stdout",
     "output_type": "stream",
     "text": [
      "a=10\n",
      "10배 : 100\n",
      "5 나눈 몫 : 20\n"
     ]
    }
   ],
   "source": [
    "a -= 5 # a = a -5와 동일\n",
    "print(f\"a={a}\")\n",
    "a *= 10 # a = a*10와 동일\n",
    "print (\"10배 :\", a)\n",
    "a //= 5 # a = a//5와 동일\n",
    "print(\"5 나눈 몫 :\", a)"
   ]
  },
  {
   "cell_type": "markdown",
   "id": "279a705e",
   "metadata": {},
   "source": [
    "## 5.3  논리연산자 : &/and, |/or, not"
   ]
  },
  {
   "cell_type": "code",
   "execution_count": 26,
   "id": "c3e79395",
   "metadata": {},
   "outputs": [
    {
     "name": "stdout",
     "output_type": "stream",
     "text": [
      "True\n",
      "0\n"
     ]
    }
   ],
   "source": [
    "# & : 논리연산자, 비트연산자\n",
    "print((10>3) & (10>5)) #논리연산 True & True\n",
    "print(12 & 1) #비트연산 1 1 0 0 (12)\n",
    "                #      0 0 0 1 (1)\n",
    "                #      0 0 0 0 "
   ]
  },
  {
   "cell_type": "code",
   "execution_count": 29,
   "id": "40cdb525",
   "metadata": {},
   "outputs": [
    {
     "name": "stdout",
     "output_type": "stream",
     "text": [
      "True\n",
      "1\n",
      "0\n"
     ]
    }
   ],
   "source": [
    "# and : 무조건 논리연산자, False로 판별되는 첫번째 창의 결과 변환\n",
    "        # 모든 항이 True면, 마지막 향의 결과 반환\n",
    "print((10>3) and (10>5)) #논리연산\n",
    "print(12 and 1) #논리연산\n",
    "print(0 and 1)"
   ]
  },
  {
   "cell_type": "code",
   "execution_count": 38,
   "id": "f96e4597",
   "metadata": {},
   "outputs": [
    {
     "name": "stdout",
     "output_type": "stream",
     "text": [
      "논리 연산(연산자 앞뒤에 논리형일 때) :  True\n",
      "비트연산(연산자 앞이나 뒤에 숫자일 때) : 3\n"
     ]
    }
   ],
   "source": [
    "# | : 논리연산, 비트연산\n",
    "result = True | False\n",
    "print(\"논리 연산(연산자 앞뒤에 논리형일 때) : \", result)\n",
    "result = False | 3 # 0000 (False)\n",
    "                # 0011 (3)\n",
    "                # 0011 (결과값)\n",
    "print(\"비트연산(연산자 앞이나 뒤에 숫자일 때) :\", result)"
   ]
  },
  {
   "cell_type": "code",
   "execution_count": null,
   "id": "97ccb27f",
   "metadata": {},
   "outputs": [],
   "source": [
    "# or : 무조건 논리연산 True로 판별되는 첫번째 항의 결과 반환\n",
    "            # 모든 항이 False면 마지막 항의 결과 반환\n",
    "print (False or 0 or '' or None or [])\n",
    "print (False or 0 or 'Hong' or None or [])"
   ]
  },
  {
   "cell_type": "code",
   "execution_count": 39,
   "id": "c004ad75",
   "metadata": {},
   "outputs": [
    {
     "data": {
      "text/plain": [
       "False"
      ]
     },
     "execution_count": 39,
     "metadata": {},
     "output_type": "execute_result"
    }
   ],
   "source": [
    "not 10>5"
   ]
  },
  {
   "cell_type": "markdown",
   "id": "8e401735",
   "metadata": {},
   "source": [
    "## 5.4 비교연산자 : >, >=, <, <=, ==(같다), !=(다르다) "
   ]
  },
  {
   "cell_type": "code",
   "execution_count": 41,
   "id": "d1e148ec",
   "metadata": {},
   "outputs": [
    {
     "name": "stdout",
     "output_type": "stream",
     "text": [
      "True\n",
      "True\n"
     ]
    }
   ],
   "source": [
    "# 비교연산자는 이항, 삼항, 사항, ...., 다항연산자\n",
    "x = 95\n",
    "print((90 <= x) & (x <= 100)) # 이항 연산자\n",
    "print(90 <= x <= 100) #파이썬의 경우 다항연산자가 가능하기에 삼항 연산자도 가능하고 그 이상도 가능하다"
   ]
  },
  {
   "cell_type": "code",
   "execution_count": 43,
   "id": "130ce85a",
   "metadata": {},
   "outputs": [
    {
     "name": "stdout",
     "output_type": "stream",
     "text": [
      "True\n",
      "False\n"
     ]
    }
   ],
   "source": [
    "# 논리연산자의 우선순위가 비교연산자의 우선순위보다 높다\n",
    "print( (10 > 5) & (10 > 7) )\n",
    "print( 10 > 5 & 10 > 7 ) # 논리 연산자(and/or 제외)의 우선 순위가 높기에 5 & 10 부터 계산 (5 & 10 = 0)\n",
    "                        # 10 > 5 & 10 > 7 은 10 > 0 > 7 과 동일한 연산식이 된다\n"
   ]
  },
  {
   "cell_type": "code",
   "execution_count": 44,
   "id": "ac932e5c",
   "metadata": {},
   "outputs": [
    {
     "name": "stdout",
     "output_type": "stream",
     "text": [
      "True\n"
     ]
    }
   ],
   "source": [
    "address = \"목동\"\n",
    "age = 29\n",
    "print((address == \"목동\") & (age < 30))\n",
    "print(address == \"목동\" and age < 30) # and나 or의 경우 비교 연산자의 우선순위가 높다"
   ]
  },
  {
   "cell_type": "code",
   "execution_count": 45,
   "id": "33f82eca",
   "metadata": {},
   "outputs": [
    {
     "name": "stdout",
     "output_type": "stream",
     "text": [
      "True\n",
      "True\n"
     ]
    }
   ],
   "source": [
    "print(\"김길동\" < \"홍길동\") # string 역시 비교가 가능하다 (ASCII 코드 순으로 비교 가능, 특수문자 < 숫자 < 대문자 < 소문자 순)\n",
    "print(\"scott\" < \"tiger\")"
   ]
  },
  {
   "cell_type": "markdown",
   "id": "3230a7ff",
   "metadata": {},
   "source": [
    "## 5.5 비트연산 : &, |, ^(XOR), ~(반대) "
   ]
  },
  {
   "cell_type": "code",
   "execution_count": null,
   "id": "6a090ed2",
   "metadata": {},
   "outputs": [],
   "source": []
  },
  {
   "cell_type": "code",
   "execution_count": null,
   "id": "16a6b106",
   "metadata": {},
   "outputs": [],
   "source": []
  },
  {
   "cell_type": "code",
   "execution_count": null,
   "id": "45986b4c",
   "metadata": {},
   "outputs": [],
   "source": []
  },
  {
   "cell_type": "code",
   "execution_count": null,
   "id": "e3c985ba",
   "metadata": {},
   "outputs": [],
   "source": []
  },
  {
   "cell_type": "code",
   "execution_count": null,
   "id": "62f40f86",
   "metadata": {},
   "outputs": [],
   "source": []
  },
  {
   "cell_type": "code",
   "execution_count": null,
   "id": "9f522bd1",
   "metadata": {},
   "outputs": [],
   "source": []
  },
  {
   "cell_type": "code",
   "execution_count": null,
   "id": "0d3832fc",
   "metadata": {},
   "outputs": [],
   "source": []
  },
  {
   "cell_type": "code",
   "execution_count": null,
   "id": "3a5d58e0",
   "metadata": {},
   "outputs": [],
   "source": []
  },
  {
   "cell_type": "code",
   "execution_count": null,
   "id": "f4ce68d1",
   "metadata": {},
   "outputs": [],
   "source": []
  },
  {
   "cell_type": "code",
   "execution_count": null,
   "id": "71f601f8",
   "metadata": {},
   "outputs": [],
   "source": []
  },
  {
   "cell_type": "markdown",
   "id": "114eb5d0",
   "metadata": {},
   "source": [
    "# 연습문제\n",
    "### 1. 이름과 나이 변수를 다음 형식으로 출력하도록 format() 함수를 이용해 형식화하세요 [출력형식: 홍길동님의 나이는 23살입니다]"
   ]
  },
  {
   "cell_type": "code",
   "execution_count": null,
   "id": "faa770e5",
   "metadata": {},
   "outputs": [],
   "source": [
    "name = \"홍길동\"\n",
    "age = 23\n",
    "\n",
    "print (\"{}님의 나이는 {}입니다\".format(name,age))"
   ]
  },
  {
   "cell_type": "markdown",
   "id": "d5e9a79a",
   "metadata": {},
   "source": [
    "### 2. 두 정수를 입력받아 두 수의 덧셈, 뺄셈, 곱셈, 나눗셈, 몫, 나머지를 출력하세요"
   ]
  },
  {
   "cell_type": "code",
   "execution_count": null,
   "id": "a89ca63a",
   "metadata": {},
   "outputs": [],
   "source": [
    "input_1 = int(input(\"첫번째 정수를 알려주세요: \"))\n",
    "input_2 = int(input(\"두번째 정수를 알려주세요: \"))\n",
    "print(\"덧셈 : \", input_1+input_2)\n",
    "print(\"뺄셈 : \", input_1-input_2)\n",
    "print(\"곱셈 : \", input_1*input_2)\n",
    "if (input_2 == 0):\n",
    "    print(\"나눗셈: 분모(두번째 정수)가 0입니다 다른 수를 선택해주세요\")\n",
    "else :\n",
    "    print(\"나눗셈: \", input_1/input_2)\n",
    "    print(\"몫 : \", input_1//input_2)\n",
    "    print(\"나머지 : \", input_1 % input_2)"
   ]
  },
  {
   "cell_type": "markdown",
   "id": "af59ad01",
   "metadata": {},
   "source": [
    "### 3. 문자열의 분리하기와 합치기 기능을 이용하여 'Hello World'가 할당된 변수를 이용하여 'World Hello'로 출력하세요"
   ]
  },
  {
   "cell_type": "code",
   "execution_count": null,
   "id": "49823729",
   "metadata": {},
   "outputs": [],
   "source": [
    "string = \"Hello World\"\n",
    "hello, world = string.split()\n",
    "print(world, hello)"
   ]
  },
  {
   "cell_type": "markdown",
   "id": "0fa7b29b",
   "metadata": {},
   "source": [
    "### 4. x='abcdef'를 이용하여 'bcdefa'로 출력하세요 (문자 슬라이싱이용)."
   ]
  },
  {
   "cell_type": "code",
   "execution_count": null,
   "id": "7daa3e5a",
   "metadata": {},
   "outputs": [],
   "source": [
    "x='abcdef'\n",
    "print(x[1:]+x[0])"
   ]
  },
  {
   "cell_type": "markdown",
   "id": "28abc2e7",
   "metadata": {},
   "source": [
    "### 5. x='abcdef'를 이용하여 'fedcba'로 출력하세요"
   ]
  },
  {
   "cell_type": "code",
   "execution_count": null,
   "id": "9f1b5d8c",
   "metadata": {},
   "outputs": [],
   "source": [
    "x='abcdef'\n",
    "print(x[::-1])"
   ]
  },
  {
   "cell_type": "markdown",
   "id": "bce56a1c",
   "metadata": {},
   "source": [
    "### 6. 오늘의 온도를 섭씨온도로 입력받아 화씨 온도로 변환하는 프로그램을 작성하세요. 화씨 돈도는 소수점이 있을 경우만 두번째 자리까지 출력되고, 소수점 이하 값이 없는 경우 소수점을 출력 하지 않도록 합니다. (다음은 섭씨와 화씨의 변환 공식입니다. C는 섭씨, F는 화씨)\n",
    "- C = (F-32) / 1.8\n",
    "- F = (C*1.8) + 3.2"
   ]
  },
  {
   "cell_type": "code",
   "execution_count": null,
   "id": "c19d71c4",
   "metadata": {},
   "outputs": [],
   "source": [
    "C = float(input(\"오늘의 섭씨온도를 알려주세요: \"))\n",
    "F = (C*1.8) + 3.2\n",
    "print(\"오늘의 섭씨 온도는: {:0.2f}, 화씨 온도는: {:0.2f}\".format(C, F))"
   ]
  },
  {
   "cell_type": "markdown",
   "id": "191582f2",
   "metadata": {},
   "source": [
    "### 7. 다음 중 변수 선언으로 잘못된 것을 모두 고르시오?\n",
    "<font size='4'>1. for\\\n",
    "2. 10th\\\n",
    "3. Student.name\\\n",
    "4. _1234 </font>"
   ]
  },
  {
   "cell_type": "markdown",
   "id": "49d53049",
   "metadata": {},
   "source": [
    "<font size='3'> 1,2,3\\\n",
    "for : 예약어는 변수 이름으로 불가\\\n",
    "10th : 변수는 항상 문자로 시작\\\n",
    "Student.name : .은 변수 이름으로 사용 불가\n",
    "</font>"
   ]
  },
  {
   "cell_type": "markdown",
   "id": "fefea6fb",
   "metadata": {},
   "source": [
    "### 8. 다음의 코드의 실행 결과는?\n",
    "\n",
    "<font size='4'> text = \"Seoul A001 - programming with python\"\\\n",
    "print(text[:4]+text[-1]+text.split()[0])\\\n",
    "print(text[:4], text[-1], text.split()[0]) </font>"
   ]
  },
  {
   "cell_type": "markdown",
   "id": "79bff384",
   "metadata": {},
   "source": [
    "<font size=\"3\">SeounSeoul\\\n",
    "Seou n Seoul</font>"
   ]
  },
  {
   "cell_type": "markdown",
   "id": "fe670c11",
   "metadata": {},
   "source": [
    "### 9. 다음 중 파이썬 3.x 버전에서 연산식과 그 결과의 출력이 잘못된 것은?\n",
    "<font size='4'>1. 수식 8//2 결과 4\\\n",
    "2. 수식 8/2 결과 4\\\n",
    "3. 수식 8 **2 결과 64 </font>"
   ]
  },
  {
   "cell_type": "markdown",
   "id": "224f2d73",
   "metadata": {},
   "source": [
    "<font size=\"3\">2번 나눗셈의 경우 float이 결과값으로 출력되기 때문에 4가 아니라 4.0이 올바른 출력값입니다</font>"
   ]
  },
  {
   "cell_type": "markdown",
   "id": "6b2a2ad4",
   "metadata": {},
   "source": [
    "### 10. 아래 프로그램의 결과는?\n",
    "<font size='4'>x = 5\\\n",
    "y = \"John\"\\\n",
    "print (x+y) </font>"
   ]
  },
  {
   "cell_type": "markdown",
   "id": "a76d6828",
   "metadata": {},
   "source": [
    "<font size=\"3\">정수와 문자의 덧셈을 하려하였기에 Error가 나옵니다</font>"
   ]
  },
  {
   "cell_type": "markdown",
   "id": "9e50fc2c",
   "metadata": {},
   "source": [
    "### 11. split() 함수를 이용하여 str_의 값 중 \" 나라 \"를 출력하는 프로그램을 완성하시오\n",
    "<font size='4'>str_ = \"우리 나라 대한 민국\" </font>"
   ]
  },
  {
   "cell_type": "code",
   "execution_count": null,
   "id": "495bfb28",
   "metadata": {},
   "outputs": [],
   "source": [
    "str_=\"우리 나라 대한 민국\"\n",
    "print(str_.split()[1])"
   ]
  }
 ],
 "metadata": {
  "kernelspec": {
   "display_name": "Python 3 (ipykernel)",
   "language": "python",
   "name": "python3"
  },
  "language_info": {
   "codemirror_mode": {
    "name": "ipython",
    "version": 3
   },
   "file_extension": ".py",
   "mimetype": "text/x-python",
   "name": "python",
   "nbconvert_exporter": "python",
   "pygments_lexer": "ipython3",
   "version": "3.10.9"
  },
  "toc": {
   "base_numbering": 1,
   "nav_menu": {},
   "number_sections": false,
   "sideBar": true,
   "skip_h1_title": false,
   "title_cell": "Table of Contents",
   "title_sidebar": "Contents",
   "toc_cell": false,
   "toc_position": {
    "height": "calc(100% - 180px)",
    "left": "10px",
    "top": "150px",
    "width": "384px"
   },
   "toc_section_display": true,
   "toc_window_display": false
  }
 },
 "nbformat": 4,
 "nbformat_minor": 5
}
