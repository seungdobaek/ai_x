{
 "cells": [
  {
   "cell_type": "code",
   "execution_count": 1,
   "id": "e1b0c2af",
   "metadata": {},
   "outputs": [
    {
     "data": {
      "text/html": [
       "\n",
       "<style>\n",
       "div.container{width:90% !important;}\n",
       "div.cell.code_cell.rendered{width:100%;}\n",
       "div.input_prompt{padding:0px;}\n",
       "div.CodeMirror {font-family:Consolas; font-size:12pt;}\n",
       "div.text_cell_render.rendered_html{font size:12pt;}\n",
       "div.output {font-size:12pt; font-weight:bold;}\n",
       "div.input{font-family:Consolas; font-size:12pt;}\n",
       "div.prompt {min width:70px;}\n",
       "div#toc-wrapper {padding-top:120px;}\n",
       "div.text_cell_render ul li{font-size:12pt;padding:5px;}\n",
       "table.dataframe {font-size:12px;}\n",
       "</style>\n"
      ],
      "text/plain": [
       "<IPython.core.display.HTML object>"
      ]
     },
     "metadata": {},
     "output_type": "display_data"
    }
   ],
   "source": [
    "from IPython.display import display, HTML\n",
    "display(HTML(\"\"\"\n",
    "<style>\n",
    "div.container{width:90% !important;}\n",
    "div.cell.code_cell.rendered{width:100%;}\n",
    "div.input_prompt{padding:0px;}\n",
    "div.CodeMirror {font-family:Consolas; font-size:12pt;}\n",
    "div.text_cell_render.rendered_html{font size:12pt;}\n",
    "div.output {font-size:12pt; font-weight:bold;}\n",
    "div.input{font-family:Consolas; font-size:12pt;}\n",
    "div.prompt {min width:70px;}\n",
    "div#toc-wrapper {padding-top:120px;}\n",
    "div.text_cell_render ul li{font-size:12pt;padding:5px;}\n",
    "table.dataframe {font-size:12px;}\n",
    "</style>\n",
    "\"\"\"))"
   ]
  },
  {
   "cell_type": "markdown",
   "id": "abf903e6",
   "metadata": {},
   "source": [
    "<b><font size=\"6\" color=\"red\">ch02. 자료형과 연산자</font></b>\n",
    "# 5절 연산자\n",
    "## 5.1 산술연산자 : +, -, *, /(결과 float), //(몫), %(나머지), **(제곱)"
   ]
  },
  {
   "cell_type": "code",
   "execution_count": 8,
   "id": "c73bf302",
   "metadata": {},
   "outputs": [
    {
     "name": "stdout",
     "output_type": "stream",
     "text": [
      "10*5승 = 100000\n",
      "4/2(결과 실수) = 2.0\n",
      "5//2(몫) = 2\n",
      "5%2(나머지) = 1\n"
     ]
    }
   ],
   "source": [
    "print(\"10*5승 =\", 10**5)\n",
    "print(\"4/2(결과 실수) =\", 4/2)\n",
    "print(\"5//2(몫) =\", 5//2)\n",
    "print(\"5%2(나머지) =\", 5%2)"
   ]
  },
  {
   "cell_type": "code",
   "execution_count": 7,
   "id": "e889ff0a",
   "metadata": {},
   "outputs": [
    {
     "name": "stdout",
     "output_type": "stream",
     "text": [
      "4**2 = 16\n"
     ]
    }
   ],
   "source": [
    "# 정수끼리 연산은 결과가 정수(단 / 제외)\n",
    "# 정수와 실수, 실수끼리 연산 결과는 실수\n",
    "print(\"4**2 =\", 4**2)"
   ]
  },
  {
   "cell_type": "markdown",
   "id": "e0f8477b",
   "metadata": {},
   "source": [
    "## Quiz\n",
    "### 1. 정수를 입력받아 짝수인지 홀수인지 여부를 출력"
   ]
  },
  {
   "cell_type": "code",
   "execution_count": 10,
   "id": "62cb5902",
   "metadata": {},
   "outputs": [
    {
     "name": "stdout",
     "output_type": "stream",
     "text": [
      "정수를 입력해주세요: 4\n",
      "입력하신 수는 4, 2로 나눈 나머지는 0 짝수를 입력하셨습니다\n"
     ]
    }
   ],
   "source": [
    "num = int(input(\"정수를 입력해주세요: \"))\n",
    "result = num % 2 #-1, 0, 1\n",
    "if result:\n",
    "    temp = \"홀수\"\n",
    "else:\n",
    "    temp = \"짝수\"\n",
    "print(\"입력하신 수는 {}, 2로 나눈 나머지는 {} {}를 입력하셨습니다\".format(num, result, temp))"
   ]
  },
  {
   "cell_type": "markdown",
   "id": "58f3dad0",
   "metadata": {},
   "source": [
    "### 2. 정수를 입력받아 5의 배수인지 여부를 출력"
   ]
  },
  {
   "cell_type": "code",
   "execution_count": 11,
   "id": "1736e09d",
   "metadata": {},
   "outputs": [
    {
     "name": "stdout",
     "output_type": "stream",
     "text": [
      "정수를 입력해주세요: 13\n",
      "입력하신 수는 13, 5로 나눈 나머지는 3기 때문에 5의 배수가 아닙니다\n"
     ]
    }
   ],
   "source": [
    "num = int(input(\"정수를 입력해주세요: \"))\n",
    "result = num % 5\n",
    "if (result):\n",
    "    temp = \"아닙니다\"\n",
    "else:\n",
    "    temp = \"맞습니다\"\n",
    "    \n",
    "print(\"입력하신 수는 {}, 5로 나눈 나머지는 {}기 때문에 5의 배수가 {}\".format(num, result, temp))"
   ]
  },
  {
   "cell_type": "markdown",
   "id": "3e3b33be",
   "metadata": {},
   "source": [
    "### 국, 영, 수 점수를 입력받아 다음셀에서 다음과 같이 출력하도록 구현하시오\n",
    "<font size='3'>국어: 99 \\t 영어: 100 \\t 수학: 99\\\n",
    "총점:298 \\t 평균: 99.3</font>"
   ]
  },
  {
   "cell_type": "code",
   "execution_count": 16,
   "id": "b3d30f70",
   "metadata": {},
   "outputs": [
    {
     "name": "stdout",
     "output_type": "stream",
     "text": [
      "국어 점수를 입력해주세요: 99\n",
      "영어 점수를 입력해주세요: 100\n",
      "수학 점수를 입력해주세요: 100\n",
      "국어 :  99\t영어 : 100\t수학 : 100\n",
      "총점 : 299\t평균 :  99.7\n"
     ]
    }
   ],
   "source": [
    "kor = int(input(\"국어 점수를 입력해주세요: \"))\n",
    "eng = int(input(\"영어 점수를 입력해주세요: \"))\n",
    "math = int(input(\"수학 점수를 입력해주세요: \"))\n",
    "total = kor + eng + math\n",
    "average = total/3\n",
    "print(\"국어 : {:3d}\\t영어 : {:3d}\\t수학 : {:3d}\".format(kor,eng,math))\n",
    "print(\"총점 : {:3d}\\t평균 : {:5.1f}\".format(total, average))"
   ]
  },
  {
   "cell_type": "markdown",
   "id": "ad7ff0eb",
   "metadata": {},
   "source": [
    "## 5.2 할당 연산자 : =, +=, -=, /=, *=, //=, %="
   ]
  },
  {
   "cell_type": "code",
   "execution_count": 20,
   "id": "10f919c8",
   "metadata": {},
   "outputs": [
    {
     "name": "stdout",
     "output_type": "stream",
     "text": [
      "a=15\n"
     ]
    }
   ],
   "source": [
    "a = 10\n",
    "a += 5 # a = a + 5와 동일\n",
    "print(f\"a={a}\")"
   ]
  },
  {
   "cell_type": "code",
   "execution_count": 21,
   "id": "45a76eaf",
   "metadata": {},
   "outputs": [
    {
     "name": "stdout",
     "output_type": "stream",
     "text": [
      "a=10\n",
      "10배 : 100\n",
      "5 나눈 몫 : 20\n"
     ]
    }
   ],
   "source": [
    "a -= 5 # a = a -5와 동일\n",
    "print(f\"a={a}\")\n",
    "a *= 10 # a = a*10와 동일\n",
    "print (\"10배 :\", a)\n",
    "a //= 5 # a = a//5와 동일\n",
    "print(\"5 나눈 몫 :\", a)"
   ]
  },
  {
   "cell_type": "markdown",
   "id": "279a705e",
   "metadata": {},
   "source": [
    "## 5.3  논리연산자 : &/and, |/or, not"
   ]
  },
  {
   "cell_type": "code",
   "execution_count": 26,
   "id": "c3e79395",
   "metadata": {},
   "outputs": [
    {
     "name": "stdout",
     "output_type": "stream",
     "text": [
      "True\n",
      "0\n"
     ]
    }
   ],
   "source": [
    "# & : 논리연산자, 비트연산자\n",
    "print((10>3) & (10>5)) #논리연산 True & True\n",
    "print(12 & 1) #비트연산 1 1 0 0 (12)\n",
    "                #      0 0 0 1 (1)\n",
    "                #      0 0 0 0 "
   ]
  },
  {
   "cell_type": "code",
   "execution_count": 29,
   "id": "40cdb525",
   "metadata": {},
   "outputs": [
    {
     "name": "stdout",
     "output_type": "stream",
     "text": [
      "True\n",
      "1\n",
      "0\n"
     ]
    }
   ],
   "source": [
    "# and : 무조건 논리연산자, False로 판별되는 첫번째 창의 결과 변환\n",
    "        # 모든 항이 True면, 마지막 향의 결과 반환\n",
    "print((10>3) and (10>5)) #논리연산\n",
    "print(12 and 1) #논리연산\n",
    "print(0 and 1)"
   ]
  },
  {
   "cell_type": "code",
   "execution_count": 38,
   "id": "f96e4597",
   "metadata": {},
   "outputs": [
    {
     "name": "stdout",
     "output_type": "stream",
     "text": [
      "논리 연산(연산자 앞뒤에 논리형일 때) :  True\n",
      "비트연산(연산자 앞이나 뒤에 숫자일 때) : 3\n"
     ]
    }
   ],
   "source": [
    "# | : 논리연산, 비트연산\n",
    "result = True | False\n",
    "print(\"논리 연산(연산자 앞뒤에 논리형일 때) : \", result)\n",
    "result = False | 3 # 0000 (False)\n",
    "                # 0011 (3)\n",
    "                # 0011 (결과값)\n",
    "print(\"비트연산(연산자 앞이나 뒤에 숫자일 때) :\", result)"
   ]
  },
  {
   "cell_type": "code",
   "execution_count": null,
   "id": "97ccb27f",
   "metadata": {},
   "outputs": [],
   "source": [
    "# or : 무조건 논리연산 True로 판별되는 첫번째 항의 결과 반환\n",
    "            # 모든 항이 False면 마지막 항의 결과 반환\n",
    "print (False or 0 or '' or None or [])\n",
    "print (False or 0 or 'Hong' or None or [])"
   ]
  },
  {
   "cell_type": "code",
   "execution_count": 39,
   "id": "c004ad75",
   "metadata": {},
   "outputs": [
    {
     "data": {
      "text/plain": [
       "False"
      ]
     },
     "execution_count": 39,
     "metadata": {},
     "output_type": "execute_result"
    }
   ],
   "source": [
    "not 10>5"
   ]
  },
  {
   "cell_type": "markdown",
   "id": "8e401735",
   "metadata": {},
   "source": [
    "## 5.4 비교연산자 : >, >=, <, <=, ==(같다), !=(다르다) "
   ]
  },
  {
   "cell_type": "code",
   "execution_count": 41,
   "id": "d1e148ec",
   "metadata": {},
   "outputs": [
    {
     "name": "stdout",
     "output_type": "stream",
     "text": [
      "True\n",
      "True\n"
     ]
    }
   ],
   "source": [
    "# 비교연산자는 이항, 삼항, 사항, ...., 다항연산자\n",
    "x = 95\n",
    "print((90 <= x) & (x <= 100)) # 이항 연산자\n",
    "print(90 <= x <= 100) #파이썬의 경우 다항연산자가 가능하기에 삼항 연산자도 가능하고 그 이상도 가능하다"
   ]
  },
  {
   "cell_type": "code",
   "execution_count": 43,
   "id": "130ce85a",
   "metadata": {},
   "outputs": [
    {
     "name": "stdout",
     "output_type": "stream",
     "text": [
      "True\n",
      "False\n"
     ]
    }
   ],
   "source": [
    "# 논리연산자의 우선순위가 비교연산자의 우선순위보다 높다\n",
    "print( (10 > 5) & (10 > 7) )\n",
    "print( 10 > 5 & 10 > 7 ) # 논리 연산자(and/or 제외)의 우선 순위가 높기에 5 & 10 부터 계산 (5 & 10 = 0)\n",
    "                        # 10 > 5 & 10 > 7 은 10 > 0 > 7 과 동일한 연산식이 된다\n"
   ]
  },
  {
   "cell_type": "code",
   "execution_count": 44,
   "id": "ac932e5c",
   "metadata": {},
   "outputs": [
    {
     "name": "stdout",
     "output_type": "stream",
     "text": [
      "True\n"
     ]
    }
   ],
   "source": [
    "address = \"목동\"\n",
    "age = 29\n",
    "print((address == \"목동\") & (age < 30))\n",
    "print(address == \"목동\" and age < 30) # and나 or의 경우 비교 연산자의 우선순위가 높다"
   ]
  },
  {
   "cell_type": "code",
   "execution_count": 45,
   "id": "33f82eca",
   "metadata": {},
   "outputs": [
    {
     "name": "stdout",
     "output_type": "stream",
     "text": [
      "True\n",
      "True\n"
     ]
    }
   ],
   "source": [
    "print(\"김길동\" < \"홍길동\") # string 역시 비교가 가능하다 (ASCII 코드 순으로 비교 가능, 특수문자 < 숫자 < 대문자 < 소문자 순)\n",
    "print(\"scott\" < \"tiger\")"
   ]
  },
  {
   "cell_type": "markdown",
   "id": "3230a7ff",
   "metadata": {},
   "source": [
    "## 5.5 비트연산 : &, |, ^(XOR), ~(반대) \n",
    "\n",
    "```\n",
    "x     y     x&y     x|y     x^y     ~x\n",
    "--------------------------------------\n",
    "0     0      0       0       0       1\n",
    "0     1      0       1       1       1\n",
    "1     0      0       1       1       0\n",
    "1     1      1       1       0       0\n",
    "```"
   ]
  },
  {
   "cell_type": "code",
   "execution_count": 8,
   "id": "4655fb33",
   "metadata": {},
   "outputs": [
    {
     "name": "stdout",
     "output_type": "stream",
     "text": [
      "  a = 15 : 1111\n",
      "  b =  2 : 0010\n",
      "a&b =  2 : 0010\n",
      "a|b = 15 : 1111\n",
      "a^b = 13 : 1101\n",
      " ~a = -16 : -10000\n"
     ]
    }
   ],
   "source": [
    "a = 15  # 2진수:1111\n",
    "b = 2   # 2진수:0010\n",
    "print(\"  a = {0:2} : {0:4b}\".format(a))\n",
    "print(\"  b = {0:2} : {0:0>4b}\".format(b))\n",
    "print(\"a&b = {0:2} : {0:0>4b}\".format(a&b))\n",
    "print(\"a|b = {0:2} : {0:0>4b}\".format(a|b))\n",
    "print(\"a^b = {0:2} : {0:0>4b}\".format(a^b))\n",
    "print(\" ~a = {0:2} : {0:0>4b}\".format(~a))"
   ]
  },
  {
   "cell_type": "markdown",
   "id": "431bdc46",
   "metadata": {},
   "source": [
    "# 6절 문자열 다루기\n",
    "★ 자주 사용\n",
    "- 문자열변수[from:to:step] : 일부 문자 추출\n",
    "- len(문자열변수) : 문자수 ★\n",
    "\n",
    "- upper() : 대문자로 변환\n",
    "- lower() : 소문자로 변환\n",
    "- title() : 각 어절의 앞글자만 대문자로\n",
    "- capitalize() : 첫문자만 대문자로\n",
    "- count(\"찾을문자\") : \"찾을문자\"가 몇개 들어있는지 갯수 반환 / 대소문자 구분\n",
    "- find(\"찾을문자\") : \"찾을문자\"가 왼쪽부터 몇번째에 있는지 index를 반환 / 대소문자 구분 / 찾을문자가 없을 경우 -1 ★\n",
    "- rfind(\"찾을문자\") : \"찾을문자\"가 오른쪽부터 몇번째에 있는지 index를 반환 / 대소문자 구분 / 찾을문자가 없을 경우 -1\n",
    "- cf.index(\"찾을문자\") : \"찾을문자\"가 왼쪽부터 몇번째에 있는지 index를 반환 / 대소문자 구분 / 찾을문자가 없을 경우 에러 (에러 때문에 잘 사용x)\n",
    "- startswith(\"특정문자\") : \"특정문자\"로 시작되는지 여부 반환 / 대소문자 구분\n",
    "- endswith(\"특정문자\") : \"특정문자\"로 끝나는지 여부 반환 / 대소문자 구분\n",
    "\n",
    "- strip() : 문자의 좌우 공백 제거 / 다른언어: trim과 동일\n",
    "- lstrip() : 왼쪽 공백 제거\n",
    "- rstrip() : 오른쪽 공백 제거\n",
    "- split() : 문자열을 공백이나 다른 문자 기준으로 나누어 리스트로 반환\n",
    "- isdigit() : 문자열이 숫자문자열인지 여부 반환\n",
    "- islower() : 문자열이 소문자인지 여부 반환\n",
    "- isupper() : 문자열이 대문자인지 여부 반환\n",
    "- replace(oldStr, newStr) : oldStr을 newStr로 변경 / 대소문자 구분 ★"
   ]
  },
  {
   "cell_type": "code",
   "execution_count": 28,
   "id": "16a6b106",
   "metadata": {},
   "outputs": [
    {
     "name": "stdout",
     "output_type": "stream",
     "text": [
      "python is easy. Python is smart. python\n",
      "글자수 : 39\n",
      "대문자로 : PYTHON IS EASY. PYTHON IS SMART. PYTHON\n",
      "소문자로 : python is easy. python is smart. python\n",
      "title() : Python Is Easy. Python Is Smart. Python\n",
      "capitalize() : Python is easy. python is smart. python\n",
      "C가 몇번 나오는지 : 0\n",
      "python이 몇번 나오는지 : 2\n",
      "대소문자 구분없이 python이 몇번 : 3\n",
      "python이 나오는 첫 index : 7\n",
      "python이 나오는 마지막 index : 23\n",
      "C가 나오는 index : -1\n",
      "python이 나오는 첫 index : 0\n",
      "python으로 시작하는지 여부 : True\n",
      "n으로 끝나는지 여부 : True\n",
      "python을 R로 변경 : R is easy. Python is smart. R\n",
      "python is easy. Python is smart. python\n"
     ]
    }
   ],
   "source": [
    "temp = \"python is easy. Python is smart. python\"\n",
    "print(temp)\n",
    "print(\"글자수 :\", len(temp))\n",
    "print(\"대문자로 :\", temp.upper())\n",
    "print(\"소문자로 :\", temp.lower())\n",
    "print(\"title() :\", temp.title())\n",
    "print(\"capitalize() :\", temp.capitalize())\n",
    "print(\"C가 몇번 나오는지 :\", temp.count(\"C\"))\n",
    "print(\"python이 몇번 나오는지 :\", temp.count(\"python\"))\n",
    "print(\"대소문자 구분없이 python이 몇번 :\", temp.lower().count(\"python\"))\n",
    "print(\"python이 나오는 첫 index :\", temp.find(\"is\"))\n",
    "print(\"python이 나오는 마지막 index :\", temp.rfind(\"is\"))\n",
    "print(\"C가 나오는 index :\", temp.rfind(\"C\")) #찾을문자가 없을 경우 -1\n",
    "print(\"python이 나오는 첫 index :\", temp.index(\"python\"))\n",
    "#print(\"java가 나오는 index :\", temp.index(\"java\")) #찾을문자가 없을 경우 에러\n",
    "print(\"python으로 시작하는지 여부 :\", temp.startswith(\"python\"))\n",
    "print(\"n으로 끝나는지 여부 :\", temp.endswith(\"n\"))\n",
    "print(\"python을 R로 변경 :\", temp.replace(\"python\",\"R\"))\n",
    "print(temp)"
   ]
  },
  {
   "cell_type": "code",
   "execution_count": 46,
   "id": "45986b4c",
   "metadata": {},
   "outputs": [
    {
     "name": "stdout",
     "output_type": "stream",
     "text": [
      "temp : [                python is easy          ]\n",
      "좌우 공백 제거 : [python is easy]\n",
      "왼쪽 공백 제거 : [python is easy          ]\n",
      "오른쪽 공백 제거 : [                python is easy]\n",
      "isdigit(숫자문자)인지 여부 : False\n",
      "replace 후 isdigit : True\n",
      "대문자인지 여부 : False\n",
      "소문자인지 여부 : True\n",
      "False\n"
     ]
    }
   ],
   "source": [
    "temp = \"                python is easy          \"\n",
    "notdigit = \"1,000\"\n",
    "print(\"temp : [{}]\".format(temp))\n",
    "print(\"좌우 공백 제거 : [{}]\".format(temp.strip()))\n",
    "print(\"왼쪽 공백 제거 : [{}]\".format(temp.lstrip()))\n",
    "print(\"오른쪽 공백 제거 : [{}]\".format(temp.rstrip()))\n",
    "print(\"isdigit(숫자문자)인지 여부 :\", notdigit.isdigit())\n",
    "print(\"replace 후 isdigit :\", notdigit.replace(\",\", \"\").isdigit())\n",
    "print(\"대문자인지 여부 :\", temp.isupper())\n",
    "print(\"소문자인지 여부 :\", temp.islower())"
   ]
  },
  {
   "cell_type": "code",
   "execution_count": 48,
   "id": "e3c985ba",
   "metadata": {},
   "outputs": [
    {
     "name": "stdout",
     "output_type": "stream",
     "text": [
      "space 단위로 names를 분리(list로 변환) : ['홍길동', '김길동', '박길동', '주길동', '고길동']\n"
     ]
    }
   ],
   "source": [
    "names = \"홍길동 김길동       박길동 주길동 고길동\"\n",
    "name_list = names.split()\n",
    "print(\"space 단위로 names를 분리(list로 변환) :\", names.split())"
   ]
  },
  {
   "cell_type": "code",
   "execution_count": 51,
   "id": "62f40f86",
   "metadata": {},
   "outputs": [
    {
     "name": "stdout",
     "output_type": "stream",
     "text": [
      "['2025', '09', '17']\n",
      "년도 : 2025\n",
      "월 : 09\n",
      "일 : 17\n"
     ]
    }
   ],
   "source": [
    "date_str = \"2025-09-17\"\n",
    "date_list = date_str.split(\"-\")\n",
    "print(date_list)\n",
    "print(\"년도 :\", date_list[0])\n",
    "print(\"월 :\", date_list[1])\n",
    "print(\"일 :\", date_list[2])"
   ]
  },
  {
   "cell_type": "code",
   "execution_count": 57,
   "id": "9f522bd1",
   "metadata": {},
   "outputs": [
    {
     "name": "stdout",
     "output_type": "stream",
     "text": [
      "Python/웹(HTML/CSS/JS)/Oracle/MySQL(DBMS)/DL/ML(M/DNN/CNN/RNN)/LLM(RAG)\n",
      "분리된 temp : ['Python', '웹(HTML/CSS/JS)', 'Oracle/MySQL(DBMS)', 'DL/ML(M/DNN/CNN/RNN)', 'LLM(RAG)']\n",
      "join temp : Python/웹(HTML/CSS/JS)/Oracle/MySQL(DBMS)/DL/ML(M/DNN/CNN/RNN)/LLM(RAG)\n"
     ]
    }
   ],
   "source": [
    "# ' - '을 \"/\"로 바꾸기\n",
    "temp = \"Python - 웹(HTML/CSS/JS) - Oracle/MySQL(DBMS) - DL/ML(M/DNN/CNN/RNN) - LLM(RAG)\"\n",
    "print(temp.replace(\" - \", \"/\"))\n",
    "#split()와 join() 이용하여 replace 역활\n",
    "splited_temp = temp.split(\" - \")\n",
    "print(\"분리된 temp :\", splited_temp)\n",
    "joined_temp = \"/\".join(splited_temp) # \"/\"로 매개변수 list를 연결\n",
    "print(\"join temp :\", joined_temp)"
   ]
  },
  {
   "cell_type": "code",
   "execution_count": 58,
   "id": "0d3832fc",
   "metadata": {
    "collapsed": true
   },
   "outputs": [
    {
     "data": {
      "text/plain": [
       "['__add__',\n",
       " '__class__',\n",
       " '__contains__',\n",
       " '__delattr__',\n",
       " '__dir__',\n",
       " '__doc__',\n",
       " '__eq__',\n",
       " '__format__',\n",
       " '__ge__',\n",
       " '__getattribute__',\n",
       " '__getitem__',\n",
       " '__getnewargs__',\n",
       " '__gt__',\n",
       " '__hash__',\n",
       " '__init__',\n",
       " '__init_subclass__',\n",
       " '__iter__',\n",
       " '__le__',\n",
       " '__len__',\n",
       " '__lt__',\n",
       " '__mod__',\n",
       " '__mul__',\n",
       " '__ne__',\n",
       " '__new__',\n",
       " '__reduce__',\n",
       " '__reduce_ex__',\n",
       " '__repr__',\n",
       " '__rmod__',\n",
       " '__rmul__',\n",
       " '__setattr__',\n",
       " '__sizeof__',\n",
       " '__str__',\n",
       " '__subclasshook__',\n",
       " 'capitalize',\n",
       " 'casefold',\n",
       " 'center',\n",
       " 'count',\n",
       " 'encode',\n",
       " 'endswith',\n",
       " 'expandtabs',\n",
       " 'find',\n",
       " 'format',\n",
       " 'format_map',\n",
       " 'index',\n",
       " 'isalnum',\n",
       " 'isalpha',\n",
       " 'isascii',\n",
       " 'isdecimal',\n",
       " 'isdigit',\n",
       " 'isidentifier',\n",
       " 'islower',\n",
       " 'isnumeric',\n",
       " 'isprintable',\n",
       " 'isspace',\n",
       " 'istitle',\n",
       " 'isupper',\n",
       " 'join',\n",
       " 'ljust',\n",
       " 'lower',\n",
       " 'lstrip',\n",
       " 'maketrans',\n",
       " 'partition',\n",
       " 'removeprefix',\n",
       " 'removesuffix',\n",
       " 'replace',\n",
       " 'rfind',\n",
       " 'rindex',\n",
       " 'rjust',\n",
       " 'rpartition',\n",
       " 'rsplit',\n",
       " 'rstrip',\n",
       " 'split',\n",
       " 'splitlines',\n",
       " 'startswith',\n",
       " 'strip',\n",
       " 'swapcase',\n",
       " 'title',\n",
       " 'translate',\n",
       " 'upper',\n",
       " 'zfill']"
      ]
     },
     "execution_count": 58,
     "metadata": {},
     "output_type": "execute_result"
    }
   ],
   "source": [
    "#문자열을 다룰 수 있는 함수들 목록\n",
    "dir(str)"
   ]
  },
  {
   "cell_type": "markdown",
   "id": "8cc97394",
   "metadata": {},
   "source": [
    "# 7절. 시간, 날짜 다루기"
   ]
  },
  {
   "cell_type": "code",
   "execution_count": 59,
   "id": "f7014f37",
   "metadata": {},
   "outputs": [
    {
     "data": {
      "text/plain": [
       "'C:\\\\Users\\\\Admin\\\\anaconda3\\\\lib\\\\datetime.py'"
      ]
     },
     "execution_count": 59,
     "metadata": {},
     "output_type": "execute_result"
    }
   ],
   "source": [
    "import datetime\n",
    "datetime.__file__"
   ]
  },
  {
   "cell_type": "code",
   "execution_count": 60,
   "id": "4656333e",
   "metadata": {},
   "outputs": [],
   "source": [
    "# datetime 모듈(datetime.py)\n",
    "from datetime import datetime, date, time"
   ]
  },
  {
   "cell_type": "markdown",
   "id": "947385a0",
   "metadata": {},
   "source": [
    "## 7.1 시간과 날짜"
   ]
  },
  {
   "cell_type": "code",
   "execution_count": 62,
   "id": "7874f1a7",
   "metadata": {},
   "outputs": [
    {
     "data": {
      "text/plain": [
       "datetime.datetime(2025, 9, 11, 9, 30)"
      ]
     },
     "execution_count": 62,
     "metadata": {},
     "output_type": "execute_result"
    }
   ],
   "source": [
    "# 특정 시점을 갖는 datetime 객체 생성\n",
    "thatday = datetime(2025, 9, 11, 9, 30)\n",
    "thatday"
   ]
  },
  {
   "cell_type": "code",
   "execution_count": 65,
   "id": "7507b8a9",
   "metadata": {},
   "outputs": [
    {
     "name": "stdout",
     "output_type": "stream",
     "text": [
      "25년09월11일(Thursday) 09:30:00\n",
      "25년09월11일(Thursday) 09:30:00\n",
      "Thu Sep 11 09:30:00 2025\n"
     ]
    }
   ],
   "source": [
    "# 날짜를 문자열로 전환\n",
    "print(\"{:%y년%m월%d일(%A) %H:%M:%S}\".format(thatday))\n",
    "print(thatday.strftime(\"%y년%m월%d일(%A) %H:%M:%S\")) # 더 자주 사용\n",
    "print(thatday.ctime()) # ctime() : 사람이 읽기 쉬운 형태로 convert"
   ]
  },
  {
   "cell_type": "code",
   "execution_count": 72,
   "id": "f4ce68d1",
   "metadata": {},
   "outputs": [
    {
     "name": "stdout",
     "output_type": "stream",
     "text": [
      "2025-09-17 14:24:32.731375\n",
      "Wed Sep 17 14:24:32 2025\n",
      "2025년09월17일 PM 02:24:32\n"
     ]
    }
   ],
   "source": [
    "# 지금을 저장하는 datetime 객체 생성\n",
    "now = datetime.now()\n",
    "print(now)\n",
    "print(now.ctime())\n",
    "print(now.strftime(\"%Y년%m월%d일 %p %I:%M:%S\"))"
   ]
  },
  {
   "cell_type": "code",
   "execution_count": 76,
   "id": "ad87b322",
   "metadata": {},
   "outputs": [
    {
     "name": "stdout",
     "output_type": "stream",
     "text": [
      "6 days, 4:54:32.731375\n",
      "6\n"
     ]
    }
   ],
   "source": [
    "diff = now-thatday\n",
    "print(diff)\n",
    "print(diff.days)"
   ]
  },
  {
   "cell_type": "markdown",
   "id": "2bbb68c1",
   "metadata": {},
   "source": [
    "## 7.2 날짜"
   ]
  },
  {
   "cell_type": "code",
   "execution_count": 78,
   "id": "db022ea6",
   "metadata": {},
   "outputs": [
    {
     "data": {
      "text/plain": [
       "datetime.date(2025, 9, 11)"
      ]
     },
     "execution_count": 78,
     "metadata": {},
     "output_type": "execute_result"
    }
   ],
   "source": [
    "# 특정한 날짜를 갖는 date\n",
    "someday = date(2025, 9, 11)\n",
    "someday"
   ]
  },
  {
   "cell_type": "code",
   "execution_count": 80,
   "id": "39760015",
   "metadata": {},
   "outputs": [
    {
     "name": "stdout",
     "output_type": "stream",
     "text": [
      "2025-09-11\n",
      "2025년 09월 11일 00:00:00\n"
     ]
    }
   ],
   "source": [
    "print(someday)\n",
    "print(someday.strftime(\"%Y년 %m월 %d일 %H:%M:%S\")) #시간이 없기에 무조건 00시 00분 00초로 고정"
   ]
  },
  {
   "cell_type": "code",
   "execution_count": 81,
   "id": "225f9b40",
   "metadata": {},
   "outputs": [
    {
     "name": "stdout",
     "output_type": "stream",
     "text": [
      "True\n"
     ]
    }
   ],
   "source": [
    "# 오늘을 갖는 date 객체 생성\n",
    "today1 = date.today()\n",
    "today2 = datetime.now().date()\n",
    "print(today1 == today2)"
   ]
  },
  {
   "cell_type": "code",
   "execution_count": 84,
   "id": "141356e8",
   "metadata": {},
   "outputs": [
    {
     "name": "stdout",
     "output_type": "stream",
     "text": [
      "2025년 09월 17일 00:00\n",
      "2025년 09월 17일 00:00\n"
     ]
    }
   ],
   "source": [
    "print(today1.strftime(\"%Y년 %m월 %d일 %H:%M\"))\n",
    "print(today2.strftime(\"%Y년 %m월 %d일 %H:%M\"))"
   ]
  },
  {
   "cell_type": "code",
   "execution_count": 87,
   "id": "6411c107",
   "metadata": {},
   "outputs": [
    {
     "name": "stdout",
     "output_type": "stream",
     "text": [
      "-6 days, 0:00:00\n",
      "-6\n"
     ]
    }
   ],
   "source": [
    "diff = someday - today1\n",
    "print(diff)\n",
    "print(diff.days)"
   ]
  },
  {
   "cell_type": "markdown",
   "id": "d645eec8",
   "metadata": {},
   "source": [
    "## 7.3 시간"
   ]
  },
  {
   "cell_type": "code",
   "execution_count": 89,
   "id": "c651a57f",
   "metadata": {},
   "outputs": [
    {
     "data": {
      "text/plain": [
       "datetime.time(14, 39)"
      ]
     },
     "execution_count": 89,
     "metadata": {},
     "output_type": "execute_result"
    }
   ],
   "source": [
    "# 특정한 시간을 저장하는 time 객체 생성\n",
    "t = time(14, 39, 0)\n",
    "t"
   ]
  },
  {
   "cell_type": "code",
   "execution_count": 93,
   "id": "f222652c",
   "metadata": {},
   "outputs": [
    {
     "name": "stdout",
     "output_type": "stream",
     "text": [
      "1900년 01월 01일 PM 02:39\n",
      "PM 02:39\n"
     ]
    }
   ],
   "source": [
    "print(t.strftime(\"%Y년 %m월 %d일 %p %I:%M\")) #날짜 지정하지 않을 시 1900년 1월 1일이 기본으로 설정된다\n",
    "print(t.strftime(\"%p %I:%M\"))"
   ]
  },
  {
   "cell_type": "code",
   "execution_count": 97,
   "id": "cae172f0",
   "metadata": {},
   "outputs": [
    {
     "name": "stdout",
     "output_type": "stream",
     "text": [
      "14:44:13.821731\n"
     ]
    }
   ],
   "source": [
    "nowtime = datetime.now().time()\n",
    "print(nowtime)"
   ]
  },
  {
   "cell_type": "markdown",
   "id": "114eb5d0",
   "metadata": {},
   "source": [
    "# 8절. 연습문제\n",
    "### 1. 이름과 나이 변수를 다음 형식으로 출력하도록 format() 함수를 이용해 형식화하세요 [출력형식: 홍길동님의 나이는 23살입니다]"
   ]
  },
  {
   "cell_type": "code",
   "execution_count": 98,
   "id": "faa770e5",
   "metadata": {},
   "outputs": [
    {
     "name": "stdout",
     "output_type": "stream",
     "text": [
      "홍길동님의 나이는 23입니다\n"
     ]
    }
   ],
   "source": [
    "name = \"홍길동\"\n",
    "age = 23\n",
    "\n",
    "print (\"{}님의 나이는 {}입니다\".format(name,age))"
   ]
  },
  {
   "cell_type": "markdown",
   "id": "d5e9a79a",
   "metadata": {},
   "source": [
    "### 2. 두 정수를 입력받아 두 수의 덧셈, 뺄셈, 곱셈, 나눗셈, 몫, 나머지를 출력하세요"
   ]
  },
  {
   "cell_type": "code",
   "execution_count": 100,
   "id": "a89ca63a",
   "metadata": {},
   "outputs": [
    {
     "name": "stdout",
     "output_type": "stream",
     "text": [
      "첫번째 정수를 알려주세요: 20\n",
      "두번째 정수를 알려주세요: 3\n",
      "덧셈 :  23\n",
      "뺄셈 :  17\n",
      "곱셈 :  60\n",
      "나눗셈:  6.666666666666667\n",
      "몫 :  6\n",
      "나머지 :  2\n"
     ]
    }
   ],
   "source": [
    "input_1 = int(input(\"첫번째 정수를 알려주세요: \"))\n",
    "input_2 = int(input(\"두번째 정수를 알려주세요: \"))\n",
    "print(\"덧셈 : \", input_1+input_2)\n",
    "print(\"뺄셈 : \", input_1-input_2)\n",
    "print(\"곱셈 : \", input_1*input_2)\n",
    "if (input_2 == 0):\n",
    "    print(\"나눗셈: 분모(두번째 정수)가 0입니다 다른 수를 선택해주세요\")\n",
    "else :\n",
    "    print(\"나눗셈: \", input_1/input_2)\n",
    "    print(\"몫 : \", input_1//input_2)\n",
    "    print(\"나머지 : \", input_1 % input_2)"
   ]
  },
  {
   "cell_type": "markdown",
   "id": "af59ad01",
   "metadata": {},
   "source": [
    "### 3. 문자열의 분리하기와 합치기 기능을 이용하여 'Hello World'가 할당된 변수를 이용하여 'World Hello'로 출력하세요"
   ]
  },
  {
   "cell_type": "code",
   "execution_count": 107,
   "id": "49823729",
   "metadata": {},
   "outputs": [
    {
     "name": "stdout",
     "output_type": "stream",
     "text": [
      "World Hello\n"
     ]
    }
   ],
   "source": [
    "string = \"Hello World\"\n",
    "new_string = string.split()\n",
    "print(new_string[1], new_string[0])"
   ]
  },
  {
   "cell_type": "markdown",
   "id": "0fa7b29b",
   "metadata": {},
   "source": [
    "### 4. x='abcdef'를 이용하여 'bcdefa'로 출력하세요 (문자 슬라이싱이용)."
   ]
  },
  {
   "cell_type": "code",
   "execution_count": 102,
   "id": "7daa3e5a",
   "metadata": {},
   "outputs": [
    {
     "name": "stdout",
     "output_type": "stream",
     "text": [
      "bcdefa\n"
     ]
    }
   ],
   "source": [
    "x='abcdef'\n",
    "print(x[1:]+x[0])"
   ]
  },
  {
   "cell_type": "markdown",
   "id": "28abc2e7",
   "metadata": {},
   "source": [
    "### 5. x='abcdef'를 이용하여 'fedcba'로 출력하세요"
   ]
  },
  {
   "cell_type": "code",
   "execution_count": 103,
   "id": "9f1b5d8c",
   "metadata": {},
   "outputs": [
    {
     "name": "stdout",
     "output_type": "stream",
     "text": [
      "fedcba\n"
     ]
    }
   ],
   "source": [
    "x='abcdef'\n",
    "print(x[::-1])"
   ]
  },
  {
   "cell_type": "markdown",
   "id": "bce56a1c",
   "metadata": {},
   "source": [
    "### 6. 오늘의 온도를 섭씨온도로 입력받아 화씨 온도로 변환하는 프로그램을 작성하세요. 화씨 돈도는 소수점이 있을 경우만 두번째 자리까지 출력되고, 소수점 이하 값이 없는 경우 소수점을 출력 하지 않도록 합니다. (다음은 섭씨와 화씨의 변환 공식입니다. C는 섭씨, F는 화씨)\n",
    "- C = (F-32) / 1.8\n",
    "- F = (C*1.8) + 3.2"
   ]
  },
  {
   "cell_type": "code",
   "execution_count": 4,
   "id": "c19d71c4",
   "metadata": {},
   "outputs": [
    {
     "name": "stdout",
     "output_type": "stream",
     "text": [
      "오늘의 섭씨온도를 알려주세요: 3\n",
      "오늘의 섭씨 온도는: 3.0, 화씨 온도는: 8.60\n"
     ]
    }
   ],
   "source": [
    "C = float(input(\"오늘의 섭씨온도를 알려주세요: \"))\n",
    "F = (C*1.8) + 3.2\n",
    "#print(\"오늘의 섭씨 온도는: {}, 화씨 온도는: {:0.2f}\".format(C, F))\n",
    "if F.is_integer():\n",
    "    print(\"오늘의 섭씨 온도는: {}, 화씨 온도는: {:.0f}\".format(C, F))\n",
    "else:\n",
    "    print(\"오늘의 섭씨 온도는: {}, 화씨 온도는: {:0.2f}\".format(C, F))"
   ]
  },
  {
   "cell_type": "markdown",
   "id": "191582f2",
   "metadata": {},
   "source": [
    "### 7. 다음 중 변수 선언으로 잘못된 것을 모두 고르시오?\n",
    "<font size='4'>\n",
    "1. for  <br>\n",
    "2. 10th  <br>\n",
    "3. Student.name  <br>\n",
    "4. _1234 </font>"
   ]
  },
  {
   "cell_type": "markdown",
   "id": "49d53049",
   "metadata": {},
   "source": [
    "<font size='3'>7번 답: 1,2,3  <br>\n",
    "for : 예약어는 변수 이름으로 불가  <br>\n",
    "10th : 변수는 항상 문자로 시작  <br>\n",
    "Student.name : .은 변수 이름으로 사용 불가<br>\n",
    "</font>"
   ]
  },
  {
   "cell_type": "markdown",
   "id": "fefea6fb",
   "metadata": {},
   "source": [
    "### 8. 다음의 코드의 실행 결과는?\n",
    "\n",
    "<font size='4'> text = \"Seoul A001 - programming with python\"  \n",
    "print(text[:4]+text[-1]+text.split()[0])  \n",
    "print(text[:4], text[-1], text.split()[0]) </font>"
   ]
  },
  {
   "cell_type": "markdown",
   "id": "79bff384",
   "metadata": {},
   "source": [
    "<font size=\"3\">8번 답:  <br>\n",
    "SeounSeoul  <br>\n",
    "Seou n Seoul</font>"
   ]
  },
  {
   "cell_type": "markdown",
   "id": "fe670c11",
   "metadata": {},
   "source": [
    "### 9. 다음 중 파이썬 3.x 버전에서 연산식과 그 결과의 출력이 잘못된 것은?\n",
    "<font size='4'>1. 수식 8//2 결과 4  <br>\n",
    "2. 수식 8/2 결과 4  <br>\n",
    "3. 수식 8 **2 결과 64 </font>"
   ]
  },
  {
   "cell_type": "markdown",
   "id": "224f2d73",
   "metadata": {},
   "source": [
    "<font size=\"3\">9번 답: 2번 나눗셈의 경우 float이 결과값으로 출력되기 때문에 4가 아니라 4.0이 올바른 출력값입니다</font>"
   ]
  },
  {
   "cell_type": "markdown",
   "id": "6b2a2ad4",
   "metadata": {},
   "source": [
    "### 10. 아래 프로그램의 결과는?\n",
    "<font size='4'>x = 5  <br>\n",
    "y = \"John\"  <br>\n",
    "print (x+y) </font>"
   ]
  },
  {
   "cell_type": "markdown",
   "id": "a76d6828",
   "metadata": {},
   "source": [
    "<font size=\"3\">10번 답: 정수와 문자의 덧셈을 하려하였기에 Error가 나옵니다</font>"
   ]
  },
  {
   "cell_type": "markdown",
   "id": "9e50fc2c",
   "metadata": {},
   "source": [
    "### 11. split() 함수를 이용하여 str_의 값 중 \" 나라 \"를 출력하는 프로그램을 완성하시오\n",
    "<font size='4'>str_ = \"우리 나라 대한 민국\" </font>"
   ]
  },
  {
   "cell_type": "code",
   "execution_count": 105,
   "id": "495bfb28",
   "metadata": {},
   "outputs": [
    {
     "name": "stdout",
     "output_type": "stream",
     "text": [
      "나라\n"
     ]
    }
   ],
   "source": [
    "str_=\"우리 나라 대한 민국\"\n",
    "print(str_.split()[1])"
   ]
  },
  {
   "cell_type": "code",
   "execution_count": null,
   "id": "351709e2",
   "metadata": {},
   "outputs": [],
   "source": []
  }
 ],
 "metadata": {
  "kernelspec": {
   "display_name": "Python 3 (ipykernel)",
   "language": "python",
   "name": "python3"
  },
  "language_info": {
   "codemirror_mode": {
    "name": "ipython",
    "version": 3
   },
   "file_extension": ".py",
   "mimetype": "text/x-python",
   "name": "python",
   "nbconvert_exporter": "python",
   "pygments_lexer": "ipython3",
   "version": "3.10.9"
  },
  "toc": {
   "base_numbering": 1,
   "nav_menu": {},
   "number_sections": false,
   "sideBar": true,
   "skip_h1_title": false,
   "title_cell": "Table of Contents",
   "title_sidebar": "Contents",
   "toc_cell": false,
   "toc_position": {
    "height": "calc(100% - 180px)",
    "left": "10px",
    "top": "150px",
    "width": "384px"
   },
   "toc_section_display": true,
   "toc_window_display": false
  }
 },
 "nbformat": 4,
 "nbformat_minor": 5
}
