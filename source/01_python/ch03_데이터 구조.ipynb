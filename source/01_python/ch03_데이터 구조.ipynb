{
 "cells": [
  {
   "cell_type": "code",
   "execution_count": 1,
   "id": "b185c6b2",
   "metadata": {},
   "outputs": [
    {
     "data": {
      "text/html": [
       "\n",
       "<style>\n",
       "div.container{width:90% !important;}\n",
       "div.cell.code_cell.rendered{width:100%;}\n",
       "div.input_prompt{padding:0px;}\n",
       "div.CodeMirror {font-family:Consolas; font-size:12pt;}\n",
       "div.text_cell_render.rendered_html{font size:12pt;}\n",
       "div.output {font-size:12pt; font-weight:bold;}\n",
       "div.input{font-family:Consolas; font-size:12pt;}\n",
       "div.prompt {min width:70px;}\n",
       "div#toc-wrapper {padding-top:120px;}\n",
       "div.text_cell_render ul li{font-size:12pt;padding:5px;}\n",
       "table.dataframe {font-size:12px;}\n",
       "</style>\n"
      ],
      "text/plain": [
       "<IPython.core.display.HTML object>"
      ]
     },
     "metadata": {},
     "output_type": "display_data"
    }
   ],
   "source": [
    "from IPython.display import display, HTML\n",
    "display(HTML(\"\"\"\n",
    "<style>\n",
    "div.container{width:90% !important;}\n",
    "div.cell.code_cell.rendered{width:100%;}\n",
    "div.input_prompt{padding:0px;}\n",
    "div.CodeMirror {font-family:Consolas; font-size:12pt;}\n",
    "div.text_cell_render.rendered_html{font size:12pt;}\n",
    "div.output {font-size:12pt; font-weight:bold;}\n",
    "div.input{font-family:Consolas; font-size:12pt;}\n",
    "div.prompt {min width:70px;}\n",
    "div#toc-wrapper {padding-top:120px;}\n",
    "div.text_cell_render ul li{font-size:12pt;padding:5px;}\n",
    "table.dataframe {font-size:12px;}\n",
    "</style>\n",
    "\"\"\"))"
   ]
  },
  {
   "cell_type": "markdown",
   "id": "1431463b",
   "metadata": {},
   "source": [
    "<b><font size=\"6\" color=\"red\">ch03. 데이터 구조</font></b>\n",
    "- 리스트[1,2], 튜플(1,2), 딕셔너리{'name': \"홍\", 'score':99}, 셋{10,20}\n",
    "\n",
    "# 1절. 리스트\n",
    "## 1.1 리스트 만들기\n",
    "- []를 이용해서 만들며, 여러개 값(여러 타입)을 하나의 변수에 저장/관리 할수 있음\n",
    "- list() 함수 이용 가능\n",
    "- 인덱스 : 각 요소의 위치, 인덱스는 0부터 시작. 맨마지막 인덱스는 -1\n",
    "- 슬라이싱([from:to:step]) : 부분 데이터셋 추출\n",
    "- 인덱스와 슬라이싱을 이용해서 쓰기와 읽기 지원"
   ]
  },
  {
   "cell_type": "code",
   "execution_count": 2,
   "id": "52fc9917",
   "metadata": {},
   "outputs": [
    {
     "name": "stdout",
     "output_type": "stream",
     "text": [
      "<class 'list'>\n"
     ]
    }
   ],
   "source": [
    "fruits = 'banana'\n",
    "fruits = ['banana', 'apple', 'orange', 'grape']\n",
    "print(type(fruits))\n"
   ]
  },
  {
   "cell_type": "code",
   "execution_count": 4,
   "id": "50aaf836",
   "metadata": {},
   "outputs": [
    {
     "name": "stdout",
     "output_type": "stream",
     "text": [
      "['banana', 'apple', 'orange', 'grape']\n",
      "banana\n"
     ]
    }
   ],
   "source": [
    "print(fruits)\n",
    "print(fruits[0]) # 인덱싱을 이용한 읽기\n",
    "#print(Fruits[4]) # 없는 인덱싱시 에러"
   ]
  },
  {
   "cell_type": "code",
   "execution_count": 6,
   "id": "bd9ed813",
   "metadata": {},
   "outputs": [
    {
     "name": "stdout",
     "output_type": "stream",
     "text": [
      "['mango', 'apple', 'orange', 'grape']\n"
     ]
    }
   ],
   "source": [
    "fruits[0] = \"mango\" # 인덱싱을 이용한 쓰기\n",
    "print(fruits)"
   ]
  },
  {
   "cell_type": "code",
   "execution_count": 8,
   "id": "9316a147",
   "metadata": {},
   "outputs": [
    {
     "name": "stdout",
     "output_type": "stream",
     "text": [
      "x=mango\n",
      "y=apple\n",
      "z=orange\n"
     ]
    }
   ],
   "source": [
    "fruits = ['mango', 'apple', 'orange']\n",
    "x, y, z = ['mango', 'apple', 'orange']\n",
    "print(\"x={}\".format(x))\n",
    "print(f\"y={y}\")\n",
    "print(f\"z={z}\")"
   ]
  },
  {
   "cell_type": "code",
   "execution_count": 10,
   "id": "204e7787",
   "metadata": {},
   "outputs": [
    {
     "name": "stdout",
     "output_type": "stream",
     "text": [
      "[0, 1, 2, 3, 4, 5, 6, 7, 8, 9]\n"
     ]
    }
   ],
   "source": [
    "3 #range(from, to, by) : from부터 to앞까지 by씩 증가하는 나열 가능한 자료\n",
    "    # 숫자를 순차적으로 사용할 수 있게\n",
    "    # from 생략시 0, by 생략시 1, to는 생략 불가능\n",
    "    \n",
    "range(0,10,1)\n",
    "range (10) #두 식은 동일한 식이다\n",
    "            # [0,2,,3,4,5,6,7,8,9]\n",
    "print(list(range(10)))"
   ]
  },
  {
   "cell_type": "code",
   "execution_count": 11,
   "id": "87ee9fe8",
   "metadata": {},
   "outputs": [
    {
     "name": "stdout",
     "output_type": "stream",
     "text": [
      "[10, 9, 8, 7, 6, 5, 4, 3, 2, 1, 0]\n"
     ]
    }
   ],
   "source": [
    "print(list(range(10,-1,-1)))"
   ]
  },
  {
   "cell_type": "code",
   "execution_count": 14,
   "id": "b766d7a3",
   "metadata": {},
   "outputs": [
    {
     "name": "stdout",
     "output_type": "stream",
     "text": [
      "0\n",
      "1\n",
      "2\n",
      "3\n",
      "4\n",
      "5\n",
      "6\n",
      "7\n",
      "8\n",
      "9\n"
     ]
    }
   ],
   "source": [
    "for i in range(0, 10, 1):\n",
    "    print (i)"
   ]
  },
  {
   "cell_type": "code",
   "execution_count": 17,
   "id": "f42a09fc",
   "metadata": {},
   "outputs": [
    {
     "name": "stdout",
     "output_type": "stream",
     "text": [
      "0번째 과일은 mango\n",
      "1번째 과일은 apple\n",
      "2번째 과일은 orange\n"
     ]
    }
   ],
   "source": [
    "# print(\"{}번째 과일은 {}\".format(0, fruits[0]))\n",
    "# print(\"{}번째 과일은 {}\".format(1, fruits[1]))\n",
    "# print(\"{}번째 과일은 {}\".format(2, fruits[2]))\n",
    "\n",
    "\n",
    "for i in range(len(fruits)):\n",
    "    print(\"{}번째 과일은 {}\".format(i, fruits[i]))"
   ]
  },
  {
   "cell_type": "code",
   "execution_count": 18,
   "id": "6dbb3111",
   "metadata": {},
   "outputs": [
    {
     "data": {
      "text/plain": [
       "[(0, 'mango'), (1, 'apple'), (2, 'orange')]"
      ]
     },
     "execution_count": 18,
     "metadata": {},
     "output_type": "execute_result"
    }
   ],
   "source": [
    "list(enumerate(fruits))"
   ]
  },
  {
   "cell_type": "code",
   "execution_count": 20,
   "id": "b9a21e40",
   "metadata": {},
   "outputs": [
    {
     "name": "stdout",
     "output_type": "stream",
     "text": [
      "0번째 과일은 mango\n",
      "1번째 과일은 apple\n",
      "2번째 과일은 orange\n"
     ]
    }
   ],
   "source": [
    "for i,fruit in enumerate(fruits):\n",
    "    print(f\"{i}번째 과일은 {fruit}\")"
   ]
  },
  {
   "cell_type": "code",
   "execution_count": 21,
   "id": "924bd9bc",
   "metadata": {},
   "outputs": [
    {
     "name": "stdout",
     "output_type": "stream",
     "text": [
      "['mango', 'apple', 'orange']입니다\n",
      "['mango', 'apple', 'orange']입니다\n",
      "['mango', 'apple', 'orange']입니다\n"
     ]
    }
   ],
   "source": [
    "for fruit in fruits:\n",
    "    print(f\"{fruits}입니다\")"
   ]
  },
  {
   "cell_type": "code",
   "execution_count": 23,
   "id": "307db62e",
   "metadata": {},
   "outputs": [
    {
     "data": {
      "text/plain": [
       "('2', 5)"
      ]
     },
     "execution_count": 23,
     "metadata": {},
     "output_type": "execute_result"
    }
   ],
   "source": [
    "# 리스트는 여러 타입의 데이터를 담을 수 있음\n",
    "numbers = [0, True, \"2\", [2,3], [4,5,6]]\n",
    "numbers[2], numbers[4][1]"
   ]
  },
  {
   "cell_type": "code",
   "execution_count": 24,
   "id": "8419f3e0",
   "metadata": {},
   "outputs": [
    {
     "name": "stdout",
     "output_type": "stream",
     "text": [
      "[[1, 2, 3, 4, 5], [10, 20, 30, 40, 50], [1, 3, 5, 7, 9], [2, 4, 6, 8, 10]]\n"
     ]
    }
   ],
   "source": [
    "# 2차원 리스트\n",
    "numbers = [1, 2, 3, 4, 5]\n",
    "numbers_2d = [[  1,  2,  3,  4,  5],         # 0행\n",
    "              [ 10, 20, 30, 40, 50],         # 1행\n",
    "              [  1,  3,  5,  7,  9],         # 2행\n",
    "              [  2,  4,  6,  8, 10]]         # 3행\n",
    "            #  0열  1열  2열 3열 4열\n",
    "print(numbers_2d)"
   ]
  },
  {
   "cell_type": "code",
   "execution_count": 25,
   "id": "fbf22f8e",
   "metadata": {},
   "outputs": [
    {
     "data": {
      "text/plain": [
       "50"
      ]
     },
     "execution_count": 25,
     "metadata": {},
     "output_type": "execute_result"
    }
   ],
   "source": [
    "#특정행, 특정열 데이터 인덱싱\n",
    "numbers_2d[1][4]"
   ]
  },
  {
   "cell_type": "code",
   "execution_count": 26,
   "id": "4f5b0b0d",
   "metadata": {},
   "outputs": [
    {
     "name": "stdout",
     "output_type": "stream",
     "text": [
      "4 5\n"
     ]
    }
   ],
   "source": [
    "print(len(numbers_2d), len(numbers_2d[0]))"
   ]
  },
  {
   "cell_type": "code",
   "execution_count": 32,
   "id": "995a2684",
   "metadata": {},
   "outputs": [
    {
     "name": "stdout",
     "output_type": "stream",
     "text": [
      " 1\t 2\t 3\t 4\t 5\t\n",
      "10\t20\t30\t40\t50\t\n",
      " 1\t 3\t 5\t 7\t 9\t\n",
      " 2\t 4\t 6\t 8\t10\t\n"
     ]
    }
   ],
   "source": [
    "for row in numbers_2d:\n",
    "    for item in row:\n",
    "        print(\"{:2}\".format(item), end=\"\\t\")\n",
    "    print()"
   ]
  },
  {
   "cell_type": "code",
   "execution_count": 37,
   "id": "6c2d1698",
   "metadata": {},
   "outputs": [
    {
     "name": "stdout",
     "output_type": "stream",
     "text": [
      "0행 0 열 : 1\t0행 1 열 : 2\t0행 2 열 : 3\t0행 3 열 : 4\t\n",
      "1행 0 열 : 10\t1행 1 열 : 20\t1행 2 열 : 30\t1행 3 열 : 40\t\n",
      "2행 0 열 : 1\t2행 1 열 : 3\t2행 2 열 : 5\t2행 3 열 : 7\t\n",
      "3행 0 열 : 2\t3행 1 열 : 4\t3행 2 열 : 6\t3행 3 열 : 8\t\n"
     ]
    }
   ],
   "source": [
    "for i in range(len(numbers_2d)):\n",
    "    for j in range(len(numbers_2d)):\n",
    "        print(f\"{i}행 {j} 열 : {numbers_2d[i][j]}\", end=\"\\t\")\n",
    "    print()"
   ]
  },
  {
   "cell_type": "code",
   "execution_count": 35,
   "id": "8dc8eb7d",
   "metadata": {},
   "outputs": [
    {
     "data": {
      "text/plain": [
       "(4, 5, 5, 5)"
      ]
     },
     "execution_count": 35,
     "metadata": {},
     "output_type": "execute_result"
    }
   ],
   "source": [
    "len(numbers_2d), len(numbers_2d[0]), len(numbers_2d[1]), len(numbers_2d[2])"
   ]
  },
  {
   "cell_type": "code",
   "execution_count": 38,
   "id": "4c82dc72",
   "metadata": {},
   "outputs": [
    {
     "name": "stdout",
     "output_type": "stream",
     "text": [
      "0행 0 열 : 1\t0행 1 열 : 2\t0행 2 열 : 3\t0행 3 열 : 4\t0행 4 열 : 5\t\n",
      "1행 0 열 : 10\t1행 1 열 : 20\t1행 2 열 : 30\t1행 3 열 : 40\t1행 4 열 : 50\t\n",
      "2행 0 열 : 1\t2행 1 열 : 3\t2행 2 열 : 5\t2행 3 열 : 7\t2행 4 열 : 9\t\n",
      "3행 0 열 : 2\t3행 1 열 : 4\t3행 2 열 : 6\t3행 3 열 : 8\t3행 4 열 : 10\t\n"
     ]
    }
   ],
   "source": [
    "for i, row in enumerate(numbers_2d):\n",
    "    for j, item in enumerate(numbers_2d[i]):\n",
    "        print(f\"{i}행 {j} 열 : {item}\", end=\"\\t\")\n",
    "    print()"
   ]
  },
  {
   "cell_type": "markdown",
   "id": "69a5adf5",
   "metadata": {},
   "source": [
    "## 1.2 기본정보 조회\n"
   ]
  },
  {
   "cell_type": "code",
   "execution_count": 39,
   "id": "754e0615",
   "metadata": {},
   "outputs": [],
   "source": [
    "numbers = [1,12,3,4,5]\n",
    "numbers_2d = [[100,0,1],\n",
    "             [9,100,100],\n",
    "             [59,100,130]]"
   ]
  },
  {
   "cell_type": "code",
   "execution_count": 41,
   "id": "0681065a",
   "metadata": {},
   "outputs": [
    {
     "data": {
      "text/plain": [
       "(5, 3)"
      ]
     },
     "execution_count": 41,
     "metadata": {},
     "output_type": "execute_result"
    }
   ],
   "source": [
    "# item 수\n",
    "len(numbers), len(numbers_2d)"
   ]
  },
  {
   "cell_type": "code",
   "execution_count": 44,
   "id": "5f295c06",
   "metadata": {},
   "outputs": [
    {
     "data": {
      "text/plain": [
       "(1, [9, 100, 100], 12, [100, 0, 1])"
      ]
     },
     "execution_count": 44,
     "metadata": {},
     "output_type": "execute_result"
    }
   ],
   "source": [
    "# 최소값, 최대값\n",
    "# 2차원 list의 최소/최대값 : 부분리스트 중 첫요소가 가장 작은값/큰값\n",
    "min(numbers), min(numbers_2d), max(numbers), max(numbers_2d)"
   ]
  },
  {
   "cell_type": "code",
   "execution_count": 46,
   "id": "f55ffca6",
   "metadata": {},
   "outputs": [
    {
     "data": {
      "text/plain": [
       "('apple', 'orange')"
      ]
     },
     "execution_count": 46,
     "metadata": {},
     "output_type": "execute_result"
    }
   ],
   "source": [
    "# list의 데이터가 문자일 경우 ASCII 코드값으로 min과 max 적용\n",
    "fruits = ['mango', 'apple', 'orange']\n",
    "min(fruits), max(fruits)"
   ]
  },
  {
   "cell_type": "code",
   "execution_count": 51,
   "id": "02163db2",
   "metadata": {},
   "outputs": [
    {
     "name": "stdout",
     "output_type": "stream",
     "text": [
      "오른차순 정렬 : [1, 3, 4, 5, 12]\n",
      "내림차순 정렬 : [12, 5, 4, 3, 1]\n",
      "합 : 25\n",
      "평균 : 5.0\n",
      "sorted 함수 사용시 리스트의 내용이 바뀌지 않음 : [1, 12, 3, 4, 5]\n"
     ]
    }
   ],
   "source": [
    "# 정렬하기\n",
    "numbers = [1,12,3,4,5]\n",
    "print(\"오른차순 정렬 :\", sorted(numbers))\n",
    "print(\"내림차순 정렬 :\", sorted(numbers, reverse=True))\n",
    "print(\"합 :\", sum(numbers))\n",
    "print(\"평균 :\", sum(numbers)/len(numbers))\n",
    "print(\"sorted 함수 사용시 리스트의 내용이 바뀌지 않음 :\", numbers)"
   ]
  },
  {
   "cell_type": "markdown",
   "id": "e9b82da8",
   "metadata": {},
   "source": [
    "## 1.3 요소추가\n",
    "- \\+ : 두 리스트 연결\n",
    "- \\* : 리스트를 곱한 수만큼 반복\n",
    "- append() : 요소 맨 뒤에 추가\n",
    "- extend(리스트) : 리스트를 요소별로 맨 뒤에 추가\n",
    "- insert(idx, 값) : idx번째 인덱스 위치에 값 추가"
   ]
  },
  {
   "cell_type": "code",
   "execution_count": 53,
   "id": "7b119ff3",
   "metadata": {},
   "outputs": [
    {
     "data": {
      "text/plain": [
       "[1, 2, 3, 1, 2, 3]"
      ]
     },
     "execution_count": 53,
     "metadata": {},
     "output_type": "execute_result"
    }
   ],
   "source": [
    "numbers = [1,2,3]\n",
    "numbers = numbers + numbers #리스트 연결\n",
    "numbers"
   ]
  },
  {
   "cell_type": "code",
   "execution_count": 56,
   "id": "6010674e",
   "metadata": {},
   "outputs": [
    {
     "name": "stdout",
     "output_type": "stream",
     "text": [
      "[1, 2, 3, 1, 2, 3, 1, 2, 3]\n",
      "[1, 2, 3, 1, 2, 3, 1, 2, 3]\n"
     ]
    }
   ],
   "source": [
    "numbers = [1,2,3]\n",
    "print(numbers*3) #곱한 수만큼 반복\n",
    "print(3*numbers)"
   ]
  },
  {
   "cell_type": "code",
   "execution_count": 57,
   "id": "8aaef95e",
   "metadata": {},
   "outputs": [
    {
     "data": {
      "text/plain": [
       "[1, 2, 3, 4]"
      ]
     },
     "execution_count": 57,
     "metadata": {},
     "output_type": "execute_result"
    }
   ],
   "source": [
    "numbers.append(4) #맨 뒤에 4 추가\n",
    "numbers"
   ]
  },
  {
   "cell_type": "code",
   "execution_count": 58,
   "id": "f85402d7",
   "metadata": {},
   "outputs": [
    {
     "data": {
      "text/plain": [
       "[1, 2, 3, 4, [5, 6, 7]]"
      ]
     },
     "execution_count": 58,
     "metadata": {},
     "output_type": "execute_result"
    }
   ],
   "source": [
    "numbers.append([5,6,7]) # 맨 뒤 요소에 [5,6,7] 추가 (하나의 요소로)\n",
    "numbers"
   ]
  },
  {
   "cell_type": "code",
   "execution_count": 60,
   "id": "a6b6c7bd",
   "metadata": {},
   "outputs": [
    {
     "data": {
      "text/plain": [
       "[1, 2, 3, 4, 5, 6]"
      ]
     },
     "execution_count": 60,
     "metadata": {},
     "output_type": "execute_result"
    }
   ],
   "source": [
    "numbers = [1,2,3]\n",
    "numbers.extend([4,5,6]) # 맨 뒤에 요소별로 4, 5, 6 각각 추가\n",
    "numbers"
   ]
  },
  {
   "cell_type": "code",
   "execution_count": 61,
   "id": "102984cb",
   "metadata": {},
   "outputs": [
    {
     "data": {
      "text/plain": [
       "['a', 'b', 'c', 'd']"
      ]
     },
     "execution_count": 61,
     "metadata": {},
     "output_type": "execute_result"
    }
   ],
   "source": [
    "lst = ['a', 'b','c']\n",
    "lst.append('d')\n",
    "lst"
   ]
  },
  {
   "cell_type": "code",
   "execution_count": 62,
   "id": "6ad7cbc3",
   "metadata": {},
   "outputs": [
    {
     "data": {
      "text/plain": [
       "['a', 'b', 'c', 'd', 'hello']"
      ]
     },
     "execution_count": 62,
     "metadata": {},
     "output_type": "execute_result"
    }
   ],
   "source": [
    "lst.append(\"hello\")\n",
    "lst"
   ]
  },
  {
   "cell_type": "code",
   "execution_count": 63,
   "id": "45d05d8e",
   "metadata": {},
   "outputs": [
    {
     "data": {
      "text/plain": [
       "['a', 'b', 'c', 'd', 'hello', 'h', 'e', 'l', 'l', 'o']"
      ]
     },
     "execution_count": 63,
     "metadata": {},
     "output_type": "execute_result"
    }
   ],
   "source": [
    "lst.extend(\"hello\")\n",
    "lst"
   ]
  },
  {
   "cell_type": "code",
   "execution_count": 64,
   "id": "98426482",
   "metadata": {},
   "outputs": [
    {
     "data": {
      "text/plain": [
       "[1, 'xx', 2, 3, 4, 5]"
      ]
     },
     "execution_count": 64,
     "metadata": {},
     "output_type": "execute_result"
    }
   ],
   "source": [
    "numbers = [1,2,3,4,5]\n",
    "numbers.insert(1, 'xx') # 1번째 인덱스에 'xx' 추가\n",
    "numbers"
   ]
  },
  {
   "cell_type": "markdown",
   "id": "abb5a2b2",
   "metadata": {},
   "source": [
    "## 1.4 인덱싱과 요소 갯수\n",
    "- 리스트변수[index] : 인덱스를 이용한 접근\n",
    "- 리스트변수.index(찾을데이터) : 해당 찾을 데이터가 있는 요소의 index 반환\n",
    "- 찾을데이터 in 리스트변수 :찾을데이터가 리스트변수에 요소인지 여부\n",
    "- count(찾을데이터) : 리스트에서 해당 찾을데이터의 갯수를 반환"
   ]
  },
  {
   "cell_type": "code",
   "execution_count": 67,
   "id": "a2fe323a",
   "metadata": {},
   "outputs": [
    {
     "data": {
      "text/plain": [
       "(2, 1, 0)"
      ]
     },
     "execution_count": 67,
     "metadata": {},
     "output_type": "execute_result"
    }
   ],
   "source": [
    "numbers = [1, 2, 3, [1,2,3], 1, 2, 3]\n",
    "numbers.count(2), numbers.count([1,2,3]), numbers.count(5)"
   ]
  },
  {
   "cell_type": "code",
   "execution_count": 69,
   "id": "615542f6",
   "metadata": {},
   "outputs": [
    {
     "name": "stdout",
     "output_type": "stream",
     "text": [
      "True\n",
      "False\n"
     ]
    }
   ],
   "source": [
    "print(2 in numbers) # 2가 numbers의 요소인지 여부\n",
    "print(5 in numbers) # 5가 numbers의 요소인지 여부"
   ]
  },
  {
   "cell_type": "code",
   "execution_count": 72,
   "id": "5ed7f580",
   "metadata": {},
   "outputs": [
    {
     "ename": "ValueError",
     "evalue": "5 is not in list",
     "output_type": "error",
     "traceback": [
      "\u001b[1;31m---------------------------------------------------------------------------\u001b[0m",
      "\u001b[1;31mValueError\u001b[0m                                Traceback (most recent call last)",
      "Cell \u001b[1;32mIn[72], line 1\u001b[0m\n\u001b[1;32m----> 1\u001b[0m \u001b[43mnumbers\u001b[49m\u001b[38;5;241;43m.\u001b[39;49m\u001b[43mindex\u001b[49m\u001b[43m(\u001b[49m\u001b[38;5;241;43m5\u001b[39;49m\u001b[43m)\u001b[49m\n",
      "\u001b[1;31mValueError\u001b[0m: 5 is not in list"
     ]
    }
   ],
   "source": [
    "numbers.index(5)"
   ]
  },
  {
   "cell_type": "code",
   "execution_count": 73,
   "id": "04a271bb",
   "metadata": {},
   "outputs": [
    {
     "name": "stdout",
     "output_type": "stream",
     "text": [
      "5가 요소에 포함되지 않습니다\n"
     ]
    }
   ],
   "source": [
    "if 5 in numbers:\n",
    "    print(numbers.index(5))\n",
    "else:\n",
    "    print(\"5가 요소에 포함되지 않습니다\")"
   ]
  },
  {
   "cell_type": "code",
   "execution_count": null,
   "id": "9b6e4022",
   "metadata": {},
   "outputs": [],
   "source": [
    "if numbers.count(5):\n",
    "    print(numbers.index(5))\n",
    "else:\n",
    "    print(\"5가 요소에 포함되지 않습니다\")"
   ]
  },
  {
   "cell_type": "code",
   "execution_count": 78,
   "id": "ea191f2d",
   "metadata": {},
   "outputs": [],
   "source": [
    "def safe_index(lst, item):\n",
    "    '''\n",
    "    첫번째 매개변수 lst에서 item 요소가 있는 index를 반환.\n",
    "    item 요소가 없으면 -1을 반환\n",
    "    lst: 요소를 찾고 싶은 리스트\n",
    "    item: 찾고 싶은 값\n",
    "    '''\n",
    "    if item in lst:\n",
    "        return(lst.index(item))\n",
    "    return -1"
   ]
  },
  {
   "cell_type": "code",
   "execution_count": 3,
   "id": "65ee6487",
   "metadata": {},
   "outputs": [
    {
     "data": {
      "text/plain": [
       "(1, -1)"
      ]
     },
     "execution_count": 3,
     "metadata": {},
     "output_type": "execute_result"
    }
   ],
   "source": [
    "from lst import safe_index #lst.py(모듈) 안의 safe_index를 메모리에 load\n",
    "numbers = [1,2,3]\n",
    "safe_index(numbers, 2), safe_index(numbers, 5)"
   ]
  },
  {
   "cell_type": "code",
   "execution_count": 4,
   "id": "a1edaa38",
   "metadata": {},
   "outputs": [
    {
     "ename": "IndexError",
     "evalue": "list index out of range",
     "output_type": "error",
     "traceback": [
      "\u001b[1;31m---------------------------------------------------------------------------\u001b[0m",
      "\u001b[1;31mIndexError\u001b[0m                                Traceback (most recent call last)",
      "Cell \u001b[1;32mIn[4], line 1\u001b[0m\n\u001b[1;32m----> 1\u001b[0m \u001b[43mnumbers\u001b[49m\u001b[43m[\u001b[49m\u001b[38;5;241;43m5\u001b[39;49m\u001b[43m]\u001b[49m\n",
      "\u001b[1;31mIndexError\u001b[0m: list index out of range"
     ]
    }
   ],
   "source": [
    "numbers[5] # 벗어난 인덱싱 시 에러"
   ]
  },
  {
   "cell_type": "code",
   "execution_count": 5,
   "id": "f65fe156",
   "metadata": {},
   "outputs": [
    {
     "data": {
      "text/plain": [
       "[3]"
      ]
     },
     "execution_count": 5,
     "metadata": {},
     "output_type": "execute_result"
    }
   ],
   "source": [
    "numbers[2:5] # 벗어난 인덱스로 슬라이싱 시 에러가 안 남"
   ]
  },
  {
   "cell_type": "markdown",
   "id": "6b5cb11d",
   "metadata": {},
   "source": [
    "## 1.5 원하는 요소 추출\n",
    "- 1. 리스트 슬라이싱\n",
    "    - [from:to:step] from번째 부터 to앞까지 step씩 증가하는 index값을 추출\n",
    "        - from 생략시 처음, to 생략시 끝, step 생략시 1\n",
    "    - 인덱스의 범위를 벗어난 값도 에러나지 않음\n",
    "    - 인덱스는 음수 가능\n",
    "\n",
    "- 2. **리스트컴프리핸션** : 원하는 조건의 데이터를 추출"
   ]
  },
  {
   "cell_type": "code",
   "execution_count": 9,
   "id": "b9f8c7ef",
   "metadata": {},
   "outputs": [
    {
     "name": "stdout",
     "output_type": "stream",
     "text": [
      "[20, 19, 18, 13, 12, 10, 9, 5, 3, 1]\n",
      "[1, 5, 10, 13, 19]\n",
      "[5, 9, 10, 12, 13, 18, 19, 20]\n"
     ]
    }
   ],
   "source": [
    "numbers = [1, 3, 5, 9, 10, 12, 13, 18, 19, 20]\n",
    "print(numbers[::-1]) # 거꾸로 출력\n",
    "print(numbers[::2]) # 짝수 index 값 출력\n",
    "print(numbers[2:100]) # 인덱스를 벗어난 슬라이싱 가능"
   ]
  },
  {
   "cell_type": "code",
   "execution_count": 11,
   "id": "9c469667",
   "metadata": {},
   "outputs": [
    {
     "data": {
      "text/plain": [
       "[1, 3, 5, 9, 10, 12, 13, 18, 19, 20]"
      ]
     },
     "execution_count": 11,
     "metadata": {},
     "output_type": "execute_result"
    }
   ],
   "source": [
    "# 모든 데이터 추출\n",
    "# for data in numbers:\n",
    "#     print(data, end=\"\\t\")\n",
    "[data for data in numbers]"
   ]
  },
  {
   "cell_type": "code",
   "execution_count": 16,
   "id": "d30a38df",
   "metadata": {},
   "outputs": [
    {
     "data": {
      "text/plain": [
       "[10, 12, 18, 20]"
      ]
     },
     "execution_count": 16,
     "metadata": {},
     "output_type": "execute_result"
    }
   ],
   "source": [
    "# 짝수 데이터 추출\n",
    "# for data in numbers:\n",
    "#     if data % 2 == 0:\n",
    "#         print(data, end=\" \")\n",
    "[data for data in numbers if data%2 == 0]"
   ]
  },
  {
   "cell_type": "code",
   "execution_count": 17,
   "id": "3b685b79",
   "metadata": {},
   "outputs": [
    {
     "data": {
      "text/plain": [
       "[10, 12, 13, 18, 19, 20]"
      ]
     },
     "execution_count": 17,
     "metadata": {},
     "output_type": "execute_result"
    }
   ],
   "source": [
    "# ex1) numbers에서 10 이상인 요소만 추출\n",
    "[data for data in numbers if data>=10]"
   ]
  },
  {
   "cell_type": "code",
   "execution_count": 18,
   "id": "6b585797",
   "metadata": {},
   "outputs": [
    {
     "data": {
      "text/plain": [
       "['orange', 'apple', 'mango']"
      ]
     },
     "execution_count": 18,
     "metadata": {},
     "output_type": "execute_result"
    }
   ],
   "source": [
    "# ex2) fruits에서 과일의 글자가 5글자 이상인 과일만 추출\n",
    "fruits = ['orange', 'apple', 'mango', 'kiwi']\n",
    "[data for data in fruits if len(data)>=5]"
   ]
  },
  {
   "cell_type": "code",
   "execution_count": 19,
   "id": "7c1799c0",
   "metadata": {},
   "outputs": [
    {
     "data": {
      "text/plain": [
       "[6, 5, 5, 4]"
      ]
     },
     "execution_count": 19,
     "metadata": {},
     "output_type": "execute_result"
    }
   ],
   "source": [
    "#ex2-1) fruits 리스트의 과일 글자수\n",
    "[len(data) for data in fruits]"
   ]
  },
  {
   "cell_type": "code",
   "execution_count": 23,
   "id": "0a7ea65e",
   "metadata": {},
   "outputs": [
    {
     "data": {
      "text/plain": [
       "[9, 16, 25]"
      ]
     },
     "execution_count": 23,
     "metadata": {},
     "output_type": "execute_result"
    }
   ],
   "source": [
    "#ex3. 3이상인 요소들의 제곱을 추출:\n",
    "L = [1,2,3,4,5]\n",
    "[data**2 for data in L if data >=3]"
   ]
  },
  {
   "cell_type": "code",
   "execution_count": 22,
   "id": "bf2fa621",
   "metadata": {},
   "outputs": [
    {
     "data": {
      "text/plain": [
       "[2, 4, 6, 8, 10]"
      ]
     },
     "execution_count": 22,
     "metadata": {},
     "output_type": "execute_result"
    }
   ],
   "source": [
    "#ex4. 리스트 요소의 값의 2배를 추출\n",
    "[2*data for data in L]"
   ]
  },
  {
   "cell_type": "markdown",
   "id": "809ed921",
   "metadata": {},
   "source": [
    "## 1.6 요소 수정하기\n",
    "- 인덱스, 슬라이싱을 이용해서 수정"
   ]
  },
  {
   "cell_type": "code",
   "execution_count": 26,
   "id": "2c766158",
   "metadata": {},
   "outputs": [
    {
     "data": {
      "text/plain": [
       "[0, 1, 222, 3, 4, 5, 6, 7, 8, 9]"
      ]
     },
     "execution_count": 26,
     "metadata": {},
     "output_type": "execute_result"
    }
   ],
   "source": [
    "# 인덱스를 이용하여 수정\n",
    "numbers = [0,1,2,3,4,5,6,7,8,9]\n",
    "numbers[2] = 222\n",
    "numbers"
   ]
  },
  {
   "cell_type": "code",
   "execution_count": 27,
   "id": "cdebd158",
   "metadata": {},
   "outputs": [
    {
     "data": {
      "text/plain": [
       "['xx', 'xx', 'xx', 'xx', 'xx', 'xx', 'xx', 222, 3, 4, 5, 6, 7, 8, 9]"
      ]
     },
     "execution_count": 27,
     "metadata": {},
     "output_type": "execute_result"
    }
   ],
   "source": [
    "# 슬라이싱(step부분 미포함)을 이용하여 부분 리스트를 통째로 수정\n",
    "numbers[:2] = ['xx','xx','xx','xx','xx','xx','xx']\n",
    "numbers"
   ]
  },
  {
   "cell_type": "code",
   "execution_count": 29,
   "id": "f0118d1b",
   "metadata": {},
   "outputs": [
    {
     "name": "stdout",
     "output_type": "stream",
     "text": [
      "수정전 : [0, 0, 0, 0, 0, 0, 0, 0, 0, 0]\n",
      "수정후 : [9, 0, 9, 0, 9, 0, 9, 0, 9, 0]\n"
     ]
    }
   ],
   "source": [
    "# 슬라이싱(step부분 포함)을 이용하여 부분 수정시 요소 갯수 맞아야 함\n",
    "numbers = [0]*10\n",
    "print('수정전 :', numbers)\n",
    "numbers[::2] = [9,9,9,9,9]\n",
    "print('수정후 :', numbers)"
   ]
  },
  {
   "cell_type": "markdown",
   "id": "7fb9746f",
   "metadata": {},
   "source": [
    "## 1.7 요소삭제\n",
    "- pop() : 가장 마지막 인덱스의 요소가 반환되고 삭제\n",
    "- pop(idx) : idx 번째 요소가 반환되고 삭제\n",
    "- remove(data) : list 안의 data가 삭제, data가 없을 경우 에러\n",
    "- del 리스트변수[idx] : idx번째 요소 삭제 (반환 x)\n",
    "- clear() : 모든 요소를 삭제"
   ]
  },
  {
   "cell_type": "code",
   "execution_count": 38,
   "id": "892b4f89",
   "metadata": {},
   "outputs": [
    {
     "name": "stdout",
     "output_type": "stream",
     "text": [
      "삭제한 데이터 : 5\n",
      "삭제 후 numbers : [1, 2, 3, 4]\n",
      "1번째 삭제한 데이터 : 2\n",
      "1번째 삭제 후 numbers : [1, 3, 4]\n",
      "데이터 1 삭제 후 number : [3, 4]\n",
      "del numbers[1]\n",
      "[3]\n"
     ]
    }
   ],
   "source": [
    "numbers = [1,2,3,4,5]\n",
    "print(\"삭제한 데이터 :\", numbers.pop())\n",
    "print(\"삭제 후 numbers :\", numbers)\n",
    "print(\"1번째 삭제한 데이터 :\", numbers.pop(1))\n",
    "print(\"1번째 삭제 후 numbers :\", numbers)\n",
    "numbers.remove(1)\n",
    "print(\"데이터 1 삭제 후 number :\", numbers)\n",
    "print(\"del numbers[1]\")\n",
    "del numbers[1]\n",
    "print(numbers)"
   ]
  },
  {
   "cell_type": "code",
   "execution_count": 39,
   "id": "89a3644a",
   "metadata": {},
   "outputs": [
    {
     "name": "stdout",
     "output_type": "stream",
     "text": [
      "해당 데이터는 없는 item 입니다\n"
     ]
    }
   ],
   "source": [
    "if 9 in numbers:\n",
    "    numbers.remove(9)\n",
    "else:\n",
    "    print(\"해당 데이터는 없는 item 입니다\")"
   ]
  },
  {
   "cell_type": "code",
   "execution_count": 40,
   "id": "288121a9",
   "metadata": {},
   "outputs": [
    {
     "data": {
      "text/plain": [
       "[]"
      ]
     },
     "execution_count": 40,
     "metadata": {},
     "output_type": "execute_result"
    }
   ],
   "source": [
    "numbers.clear() # 모든 요소를 삭제\n",
    "numbers"
   ]
  },
  {
   "cell_type": "markdown",
   "id": "bb241e31",
   "metadata": {},
   "source": [
    "## 1.8 정렬하기"
   ]
  },
  {
   "cell_type": "code",
   "execution_count": 45,
   "id": "06d285fc",
   "metadata": {},
   "outputs": [
    {
     "name": "stdout",
     "output_type": "stream",
     "text": [
      "numbers는 변경하지 않고, 정렬결과 : [0, 5, 6, 8, 9]\n",
      "numbers :  [9, 5, 0, 8, 6]\n"
     ]
    }
   ],
   "source": [
    "numbers = [9, 5, 0, 8, 6]\n",
    "print(\"numbers는 변경하지 않고, 정렬결과 :\", sorted(numbers))\n",
    "print(\"numbers : \", numbers)"
   ]
  },
  {
   "cell_type": "code",
   "execution_count": 44,
   "id": "ccb3468c",
   "metadata": {},
   "outputs": [
    {
     "name": "stdout",
     "output_type": "stream",
     "text": [
      "numbers.sort() 후 numbers: [0, 5, 6, 8, 9]\n"
     ]
    }
   ],
   "source": [
    "numbers.sort() # numbers 자체가 오름차순 정렬한 결과로 바꿈\n",
    "print(\"numbers.sort() 후 numbers:\", numbers)"
   ]
  },
  {
   "cell_type": "code",
   "execution_count": 46,
   "id": "fda00e57",
   "metadata": {},
   "outputs": [
    {
     "name": "stdout",
     "output_type": "stream",
     "text": [
      "numbers.sort(reverse=True) 후 numbers: [9, 8, 6, 5, 0]\n"
     ]
    }
   ],
   "source": [
    "numbers.sort(reverse=True) # numbers 자체가 내림차순 정렬한 결과로 바꿈\n",
    "print(\"numbers.sort(reverse=True) 후 numbers:\", numbers)"
   ]
  },
  {
   "cell_type": "code",
   "execution_count": 47,
   "id": "9be9c9de",
   "metadata": {},
   "outputs": [
    {
     "data": {
      "text/plain": [
       "[0, 5, 6, 8, 9]"
      ]
     },
     "execution_count": 47,
     "metadata": {},
     "output_type": "execute_result"
    }
   ],
   "source": [
    "numbers.reverse() # 리스트를 역순으로 변경 numbers = numbers[::-1] 와 동일\n",
    "numbers"
   ]
  },
  {
   "cell_type": "markdown",
   "id": "fad47166",
   "metadata": {},
   "source": [
    "## 1.9 리스트 복제"
   ]
  },
  {
   "cell_type": "code",
   "execution_count": 50,
   "id": "ee77e6bc",
   "metadata": {},
   "outputs": [
    {
     "name": "stdout",
     "output_type": "stream",
     "text": [
      "원본i = 10, 복사본cp_i=10 / 원본주소=1825245889040, 복사본주소=1825245889040\n",
      "원본i = 10, 복사본cp_i=99 / 원본주소=1825245889040, 복사본주소=1825245891888\n"
     ]
    }
   ],
   "source": [
    "#스칼라 데이터의 복제\n",
    "i = 10\n",
    "cp_i = i\n",
    "print(f\"원본i = {i}, 복사본cp_i={cp_i} / 원본주소={id(i)}, 복사본주소={id(cp_i)}\")\n",
    "cp_i = 99\n",
    "print(f\"원본i = {i}, 복사본cp_i={cp_i} / 원본주소={id(i)}, 복사본주소={id(cp_i)}\")"
   ]
  },
  {
   "cell_type": "code",
   "execution_count": 53,
   "id": "a1985d06",
   "metadata": {},
   "outputs": [
    {
     "name": "stdout",
     "output_type": "stream",
     "text": [
      "원본 주소 : 1823218402752 복사본 주소 : 1823218402752\n",
      "원본내용 : [99, 6, 1, 9] 복제본 내용 : [99, 6, 1, 9]\n",
      "원본 주소 : 1823218402752 복사본 주소 : 1823218402752\n"
     ]
    }
   ],
   "source": [
    "# 할당을 통한 복사 / 얕은 복사\n",
    "numbers = [5, 6, 1, 9]\n",
    "new_numbers = numbers\n",
    "print('원본 주소 :', id(numbers), '복사본 주소 :', id(new_numbers))\n",
    "new_numbers[0] = 99\n",
    "print(\"원본내용 :\", numbers, \"복제본 내용 :\", new_numbers)\n",
    "print('원본 주소 :', id(numbers), '복사본 주소 :', id(new_numbers))"
   ]
  },
  {
   "cell_type": "code",
   "execution_count": 56,
   "id": "fb6155c1",
   "metadata": {},
   "outputs": [
    {
     "name": "stdout",
     "output_type": "stream",
     "text": [
      "원본내용 : [1, 5, 6, 9] 복제본 내용 : [1, 5, 6, 9]\n",
      "원본 주소 : 1823218392320 복사본 주소 : 1823218392320\n"
     ]
    }
   ],
   "source": [
    "numbers = [5, 6, 1, 9]\n",
    "new_numbers = numbers\n",
    "new_numbers.sort()\n",
    "print(\"원본내용 :\", numbers, \"복제본 내용 :\", new_numbers)\n",
    "print('원본 주소 :', id(numbers), '복사본 주소 :', id(new_numbers))"
   ]
  },
  {
   "cell_type": "code",
   "execution_count": 57,
   "id": "a7455edb",
   "metadata": {},
   "outputs": [
    {
     "name": "stdout",
     "output_type": "stream",
     "text": [
      "원본내용 : [5, 6, 1, 9] 복제본 내용 : [1, 5, 6, 9]\n",
      "원본 주소 : 1823218541568 복사본 주소 : 1823218912576\n"
     ]
    }
   ],
   "source": [
    "# 리스트 복제 / 깊은 복사\n",
    "numbers = [5, 6, 1, 9]\n",
    "new_numbers = numbers.copy() # numbers를 복제 (깊은 복사)\n",
    "new_numbers.sort()\n",
    "print(\"원본내용 :\", numbers, \"복제본 내용 :\", new_numbers)\n",
    "print('원본 주소 :', id(numbers), '복사본 주소 :', id(new_numbers))"
   ]
  },
  {
   "cell_type": "code",
   "execution_count": 60,
   "id": "50af7dbe",
   "metadata": {},
   "outputs": [
    {
     "name": "stdout",
     "output_type": "stream",
     "text": [
      "정렬전 : ['서울', '대전', '대구', '부산', '하남', '수원', '제주'] 정렬후 : ['대구', '대전', '부산', '서울', '수원', '제주', '하남']\n"
     ]
    }
   ],
   "source": [
    "city = ['서울', '대전', '대구', '부산', '하남', '수원', '제주']\n",
    "temp = city.copy()\n",
    "temp.sort()\n",
    "print(f\"정렬전 : {city} 정렬후 : {temp}\")"
   ]
  },
  {
   "cell_type": "markdown",
   "id": "0f22976b",
   "metadata": {},
   "source": [
    "# 2절. 튜플(tuple)\n",
    "- 리스트([])와 유사하지만 읽기 전용, 수정이 필요없는 데이터에서 사용\n",
    "- 수정이 불가하므로, 튜플에서 데이터 수정, 추가, 삭제 불가\n",
    "- 제공되는 함수도 많지 않음\n",
    "- () 이용해서 생성"
   ]
  },
  {
   "cell_type": "code",
   "execution_count": 62,
   "id": "cfa5d477",
   "metadata": {},
   "outputs": [
    {
     "name": "stdout",
     "output_type": "stream",
     "text": [
      "<class 'tuple'>\n"
     ]
    }
   ],
   "source": [
    "city = ('서울', '대전', '대구', '부산', '하남') # city = '서울', '대전', '대구', '부산', '하남' 와 동일\n",
    "                                            # 파이썬은 여러개의 값이 전달될 때 튜플 타입으로 전달\n",
    "print(type(city))"
   ]
  },
  {
   "cell_type": "code",
   "execution_count": 63,
   "id": "15189fbb",
   "metadata": {},
   "outputs": [
    {
     "data": {
      "text/plain": [
       "'서울, 대전, 대구, 부산, 하남'"
      ]
     },
     "execution_count": 63,
     "metadata": {},
     "output_type": "execute_result"
    }
   ],
   "source": [
    "# 매개변수로 list가 오는 함수는 tuple 매개변수로 함수 사용 가능\n",
    "\", \".join(city)"
   ]
  },
  {
   "cell_type": "code",
   "execution_count": 64,
   "id": "507a215e",
   "metadata": {},
   "outputs": [
    {
     "data": {
      "text/plain": [
       "1"
      ]
     },
     "execution_count": 64,
     "metadata": {},
     "output_type": "execute_result"
    }
   ],
   "source": [
    "from lst import safe_index\n",
    "safe_index(city, '대전')"
   ]
  },
  {
   "cell_type": "code",
   "execution_count": 65,
   "id": "5a4af720",
   "metadata": {},
   "outputs": [
    {
     "name": "stdout",
     "output_type": "stream",
     "text": [
      "<class 'list'>\n",
      "['서울']\n",
      "1\n"
     ]
    }
   ],
   "source": [
    "l = ['서울'] # 요소가 하나 있는 리스트\n",
    "print(type(l))\n",
    "print(l)\n",
    "print(len(l))"
   ]
  },
  {
   "cell_type": "code",
   "execution_count": 67,
   "id": "43b9d142",
   "metadata": {},
   "outputs": [
    {
     "name": "stdout",
     "output_type": "stream",
     "text": [
      "<class 'str'>\n",
      "서울\n",
      "2\n"
     ]
    }
   ],
   "source": [
    "city = ('서울') # 요소가 하나 있는 튜플 (X) -> str이 됨\n",
    "print(type(city))\n",
    "print(city)\n",
    "print(len(city))"
   ]
  },
  {
   "cell_type": "code",
   "execution_count": 68,
   "id": "9a92c511",
   "metadata": {},
   "outputs": [
    {
     "name": "stdout",
     "output_type": "stream",
     "text": [
      "<class 'tuple'>\n",
      "('서울',)\n",
      "1\n"
     ]
    }
   ],
   "source": [
    "city = ('서울', ) # 요소가 하나 있는 튜플 (O) / \",\"가 중요\n",
    "print(type(city))\n",
    "print(city)\n",
    "print(len(city))"
   ]
  },
  {
   "cell_type": "code",
   "execution_count": 69,
   "id": "b727ea59",
   "metadata": {},
   "outputs": [],
   "source": [
    "numbers = (1,2,3)\n",
    "# numbers.append(4) 수정하기 위한 함수는 제공되지 않음"
   ]
  },
  {
   "cell_type": "code",
   "execution_count": 70,
   "id": "9cfffb36",
   "metadata": {},
   "outputs": [
    {
     "data": {
      "text/plain": [
       "(1, 3, 6)"
      ]
     },
     "execution_count": 70,
     "metadata": {},
     "output_type": "execute_result"
    }
   ],
   "source": [
    "min(numbers), max(numbers), sum(numbers)"
   ]
  },
  {
   "cell_type": "code",
   "execution_count": 71,
   "id": "68e140b8",
   "metadata": {},
   "outputs": [
    {
     "data": {
      "text/plain": [
       "1"
      ]
     },
     "execution_count": 71,
     "metadata": {},
     "output_type": "execute_result"
    }
   ],
   "source": [
    "numbers.count(2)"
   ]
  },
  {
   "cell_type": "code",
   "execution_count": 72,
   "id": "eb22f19e",
   "metadata": {},
   "outputs": [
    {
     "data": {
      "text/plain": [
       "2"
      ]
     },
     "execution_count": 72,
     "metadata": {},
     "output_type": "execute_result"
    }
   ],
   "source": [
    "numbers.index(3)"
   ]
  },
  {
   "cell_type": "code",
   "execution_count": 74,
   "id": "0c58a9a9",
   "metadata": {},
   "outputs": [
    {
     "name": "stdout",
     "output_type": "stream",
     "text": [
      "해당 데이터 없음\n"
     ]
    }
   ],
   "source": [
    "#numbers.index(3)\n",
    "if 4 in numbers:\n",
    "    numbers.index(4)\n",
    "else:\n",
    "    print(\"해당 데이터 없음\")"
   ]
  },
  {
   "cell_type": "code",
   "execution_count": 75,
   "id": "3d422024",
   "metadata": {},
   "outputs": [
    {
     "data": {
      "text/plain": [
       "-1"
      ]
     },
     "execution_count": 75,
     "metadata": {},
     "output_type": "execute_result"
    }
   ],
   "source": [
    "safe_index(numbers,4)"
   ]
  },
  {
   "cell_type": "code",
   "execution_count": null,
   "id": "28f15cdb",
   "metadata": {},
   "outputs": [],
   "source": []
  },
  {
   "cell_type": "code",
   "execution_count": null,
   "id": "27d9aea8",
   "metadata": {},
   "outputs": [],
   "source": []
  },
  {
   "cell_type": "code",
   "execution_count": null,
   "id": "a58b40c7",
   "metadata": {},
   "outputs": [],
   "source": []
  },
  {
   "cell_type": "code",
   "execution_count": null,
   "id": "ac62f53f",
   "metadata": {},
   "outputs": [],
   "source": []
  },
  {
   "cell_type": "code",
   "execution_count": null,
   "id": "1240a481",
   "metadata": {},
   "outputs": [],
   "source": []
  },
  {
   "cell_type": "code",
   "execution_count": null,
   "id": "c4f3d473",
   "metadata": {},
   "outputs": [],
   "source": []
  },
  {
   "cell_type": "code",
   "execution_count": null,
   "id": "08e02ede",
   "metadata": {},
   "outputs": [],
   "source": []
  },
  {
   "cell_type": "markdown",
   "id": "8c9ed761",
   "metadata": {},
   "source": [
    "# 연습문제\n",
    "## 연습문제 (실습형)\n",
    "- 다음 리스트가 주어졌을 경우 요구사항대로 코드를 작성하시오\n",
    "- numbers = [1,2,3,4,5,6,7,8,9,10]\n",
    "\n",
    "### 1. 숫자 100을 맨 뒤에 추가하세요"
   ]
  },
  {
   "cell_type": "markdown",
   "id": "f1b0b9b9",
   "metadata": {},
   "source": [
    "### 2. 다음 리스트를 numbers 리스트 맨 뒤에 추가하세요. data = [200,300,400,500]"
   ]
  },
  {
   "cell_type": "markdown",
   "id": "1f1642fa",
   "metadata": {},
   "source": [
    "### 3. 처음 다섯 개 숫자만 출력하세요"
   ]
  },
  {
   "cell_type": "markdown",
   "id": "43b19670",
   "metadata": {},
   "source": [
    "### 4. 리스트에서 짝수 번째 데이터만 출력하세요"
   ]
  },
  {
   "cell_type": "markdown",
   "id": "0c0ceeea",
   "metadata": {},
   "source": [
    "### 5. 짝수번째 데이터를 모두 0으로 바꾸세요"
   ]
  },
  {
   "cell_type": "markdown",
   "id": "e68d8213",
   "metadata": {},
   "source": [
    "### 6. 데이터를 역순으로 나열하세요 (내림차순 정렬이 아닙니다)"
   ]
  },
  {
   "cell_type": "markdown",
   "id": "b3662e02",
   "metadata": {},
   "source": [
    "- 다음 딕셔너리 데이터가 주어졌을 경우 요구사항대로 코드를 작성하세요.\n",
    "- member_info = {\"name\":\"홍길동\", \"age\":20, \"address\":\"서울시 마포구\", \"score\":90}\n",
    "\n",
    "### 7. address 값을 출력하세요"
   ]
  },
  {
   "cell_type": "markdown",
   "id": "bd6afdb1",
   "metadata": {},
   "source": [
    "### 8. score를 출력하고 member_info 딕셔너리에서 삭제하세요."
   ]
  },
  {
   "cell_type": "markdown",
   "id": "94705ab2",
   "metadata": {},
   "source": [
    "### 9. address를 \"서울시 서대문구\"로 변경하세요."
   ]
  },
  {
   "cell_type": "markdown",
   "id": "80ac6064",
   "metadata": {},
   "source": [
    "### 10. member_info 딕셔너리 데이터의 값을 리스트로 출력하세요 "
   ]
  },
  {
   "cell_type": "markdown",
   "id": "d5723c8b",
   "metadata": {},
   "source": [
    "## 연습문제 (서술형)\n",
    "### 1. 다음 코드를 실행했을 때 출력되는 것은?\n",
    "<font size=\"4\"> L1 = (\"orange\",\"apple\",\"banana\",\"kiwi\") <br>\n",
    "    new_list = [i for i in L1 if len(i)>5] <br>\n",
    "    print(new_list)\n",
    "</font>"
   ]
  },
  {
   "cell_type": "markdown",
   "id": "c5c1b825",
   "metadata": {},
   "source": [
    "### 2. 다음 코드와 실행결과가 잘못 짝지어진 것은?\n",
    "<font size=\"4\"> 1. print(list(range(10)))   -[0,1,2,3,4,5,6,7,8,9] <br>\n",
    "    2. print(list(range(5,10)))             -[5,6,7,8,9] <br>\n",
    "    3. print(list(range(10,0,-1)))          -[9,8,7,6,5,4,3,2,1,0] <br>\n",
    "    4. print(list(range(10,20,2)))          -[10,12,14,16,18]\n",
    "</font>"
   ]
  },
  {
   "cell_type": "markdown",
   "id": "b4dc9c8e",
   "metadata": {},
   "source": [
    "### 3. 다음 구문에 의해 출력되는 것은?\n",
    "<font size=\"4\"> numbers_2d = [[1,2,3,4,5],[10,20,30,40],[1,3,5],[2,]] <br>\n",
    "    len(numbers_2d[3])\n",
    "</font>"
   ]
  },
  {
   "cell_type": "markdown",
   "id": "e2be888c",
   "metadata": {},
   "source": [
    "### 4. 다음 코드의 실행결과가 나올수 있는 빈칸에 들어갈 함수 이름은?\n",
    "<font size=\"4\"> numbers=[1,2,3,4,5] <br>\n",
    "    numbers.________([10,20,30,40,50]) <br>\n",
    "    numbers <br>\n",
    "    결과 : [1,2,3,4,5,10,20,30,40,50]\n",
    "</font>"
   ]
  },
  {
   "cell_type": "markdown",
   "id": "6d091222",
   "metadata": {},
   "source": [
    "### 5. 다음 구문을 실행할 때 결과는?\n",
    "<font size=\"4\"> numbers=list(range(10)) <br>\n",
    "    numbers[::2]=[0]*len(numbers[::2]) <br>\n",
    "    print(numbers)\n",
    "</font>"
   ]
  },
  {
   "cell_type": "markdown",
   "id": "29972812",
   "metadata": {},
   "source": [
    "### 6. 다음 구문을 실행할 때 결과는?\n",
    "<font size=\"4\"> numbers = [0,1,2,3,4,5,6,7,8,9] <br>\n",
    "    numbers[::2]=numbers[5:] <br>\n",
    "    print(numbers)\n",
    "</font>"
   ]
  },
  {
   "cell_type": "markdown",
   "id": "bdc5f54d",
   "metadata": {},
   "source": [
    "### 7. 다음 구문을 실행할 때 결과는?\n",
    "<font size=\"4\"> numbers=[0,1,2,3,4,5,6,7,8,9] <br>\n",
    "    numbers[::2]=numbers[:5] <br>\n",
    "    print(numbers)\n",
    "</font>"
   ]
  },
  {
   "cell_type": "markdown",
   "id": "a5ba4c7a",
   "metadata": {},
   "source": [
    "### 8. 다음 데이터에서 10을 출력할 수 없는 구문은?\n",
    "<font size=\"4\"> my_dic = {\"a\":10, \"b\":20, \"c\":30} <br>\n",
    "    1. my_dic[0] <br>\n",
    "    2. my_dic['a'] <br>\n",
    "    3. list(my_dic.items()))[0][1] <br>\n",
    "    4. list(my_dic.values())[0] <br>\n",
    "    5. my_dic.get('a')\n",
    "</font>"
   ]
  },
  {
   "cell_type": "markdown",
   "id": "57b86fc3",
   "metadata": {},
   "source": [
    "### 9. 다음 프로그램의 결과를 출력하시오\n",
    "<font size=\"4\"> fruits = ['apple', 'banana', 'orange'] <br>\n",
    "    x,y,z = fruits <br>\n",
    "    print(x) <br>\n",
    "    print(y) <br>\n",
    "    print(z)\n",
    "</font>"
   ]
  },
  {
   "cell_type": "markdown",
   "id": "83d9fd12",
   "metadata": {},
   "source": [
    "### 10. 다음 프로그램의 결과를 출력하시오\n",
    "<font size=\"4\"> fruits = ['apple', 'banana', 'orange']<br>\n",
    "print(len(fruits))\n",
    "</font>"
   ]
  },
  {
   "cell_type": "markdown",
   "id": "6df3f515",
   "metadata": {},
   "source": [
    "### 11. 파이썬에서 함수를 만들기 위해 선언하는 단어는? "
   ]
  },
  {
   "cell_type": "code",
   "execution_count": null,
   "id": "4b30d36e",
   "metadata": {},
   "outputs": [],
   "source": []
  }
 ],
 "metadata": {
  "kernelspec": {
   "display_name": "Python 3 (ipykernel)",
   "language": "python",
   "name": "python3"
  },
  "language_info": {
   "codemirror_mode": {
    "name": "ipython",
    "version": 3
   },
   "file_extension": ".py",
   "mimetype": "text/x-python",
   "name": "python",
   "nbconvert_exporter": "python",
   "pygments_lexer": "ipython3",
   "version": "3.10.9"
  },
  "toc": {
   "base_numbering": 1,
   "nav_menu": {},
   "number_sections": false,
   "sideBar": true,
   "skip_h1_title": false,
   "title_cell": "Table of Contents",
   "title_sidebar": "Contents",
   "toc_cell": false,
   "toc_position": {
    "height": "calc(100% - 180px)",
    "left": "10px",
    "top": "150px",
    "width": "384px"
   },
   "toc_section_display": true,
   "toc_window_display": true
  }
 },
 "nbformat": 4,
 "nbformat_minor": 5
}
