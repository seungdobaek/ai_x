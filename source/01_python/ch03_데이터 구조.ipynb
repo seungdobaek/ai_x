{
 "cells": [
  {
   "cell_type": "code",
   "execution_count": 1,
   "id": "2f9040ae",
   "metadata": {},
   "outputs": [
    {
     "data": {
      "text/html": [
       "\n",
       "<style>\n",
       "div.container{width:90% !important;}\n",
       "div.cell.code_cell.rendered{width:100%;}\n",
       "div.input_prompt{padding:0px;}\n",
       "div.CodeMirror {font-family:Consolas; font-size:12pt;}\n",
       "div.text_cell_render.rendered_html{font size:12pt;}\n",
       "div.output {font-size:12pt; font-weight:bold;}\n",
       "div.input{font-family:Consolas; font-size:12pt;}\n",
       "div.prompt {min width:70px;}\n",
       "div#toc-wrapper {padding-top:120px;}\n",
       "div.text_cell_render ul li{font-size:12pt;padding:5px;}\n",
       "table.dataframe {font-size:12px;}\n",
       "</style>\n"
      ],
      "text/plain": [
       "<IPython.core.display.HTML object>"
      ]
     },
     "metadata": {},
     "output_type": "display_data"
    }
   ],
   "source": [
    "from IPython.display import display, HTML\n",
    "display(HTML(\"\"\"\n",
    "<style>\n",
    "div.container{width:90% !important;}\n",
    "div.cell.code_cell.rendered{width:100%;}\n",
    "div.input_prompt{padding:0px;}\n",
    "div.CodeMirror {font-family:Consolas; font-size:12pt;}\n",
    "div.text_cell_render.rendered_html{font size:12pt;}\n",
    "div.output {font-size:12pt; font-weight:bold;}\n",
    "div.input{font-family:Consolas; font-size:12pt;}\n",
    "div.prompt {min width:70px;}\n",
    "div#toc-wrapper {padding-top:120px;}\n",
    "div.text_cell_render ul li{font-size:12pt;padding:5px;}\n",
    "table.dataframe {font-size:12px;}\n",
    "</style>\n",
    "\"\"\"))"
   ]
  },
  {
   "cell_type": "markdown",
   "id": "1cb7852c",
   "metadata": {},
   "source": [
    "<b><font size=\"6\" color=\"red\">ch03. 데이터 구조</font></b>\n",
    "- 리스트[1,2], 튜플(1,2), 딕셔너리{'name': \"홍\", 'score':99}, 셋{10,20}\n",
    "\n",
    "# 1절. 리스트\n",
    "## 1.1 리스트 만들기\n",
    "- []를 이용해서 만들며, 여러개 값(여러 타입)을 하나의 변수에 저장/관리 할수 있음\n",
    "- list() 함수 이용 가능\n",
    "- 인덱스 : 각 요소의 위치, 인덱스는 0부터 시작. 맨마지막 인덱스는 -1\n",
    "- 슬라이싱([from:to:step]) : 부분 데이터셋 추출\n",
    "- 인덱스와 슬라이싱을 이용해서 쓰기와 읽기 지원"
   ]
  },
  {
   "cell_type": "code",
   "execution_count": 2,
   "id": "a1cbd750",
   "metadata": {},
   "outputs": [
    {
     "data": {
      "text/plain": [
       "'banana'"
      ]
     },
     "execution_count": 2,
     "metadata": {},
     "output_type": "execute_result"
    }
   ],
   "source": [
    "fruits = 'banana'\n",
    "fruits = ['banana', 'apple', 'orange', 'grape']\n",
    "fruits[0]"
   ]
  },
  {
   "cell_type": "code",
   "execution_count": null,
   "id": "1d604732",
   "metadata": {},
   "outputs": [],
   "source": []
  }
 ],
 "metadata": {
  "kernelspec": {
   "display_name": "Python 3 (ipykernel)",
   "language": "python",
   "name": "python3"
  },
  "language_info": {
   "codemirror_mode": {
    "name": "ipython",
    "version": 3
   },
   "file_extension": ".py",
   "mimetype": "text/x-python",
   "name": "python",
   "nbconvert_exporter": "python",
   "pygments_lexer": "ipython3",
   "version": "3.10.9"
  },
  "toc": {
   "base_numbering": 1,
   "nav_menu": {},
   "number_sections": false,
   "sideBar": true,
   "skip_h1_title": false,
   "title_cell": "Table of Contents",
   "title_sidebar": "Contents",
   "toc_cell": false,
   "toc_position": {},
   "toc_section_display": true,
   "toc_window_display": false
  }
 },
 "nbformat": 4,
 "nbformat_minor": 5
}
