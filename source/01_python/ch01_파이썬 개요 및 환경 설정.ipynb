{
 "cells": [
  {
   "cell_type": "code",
   "execution_count": 1,
   "id": "50a2b62d",
   "metadata": {},
   "outputs": [
    {
     "data": {
      "text/html": [
       "\n",
       "<style>\n",
       "div.container{width:90% !important;}\n",
       "div.cell.code_cell.rendered{width:100%;}\n",
       "div.input_prompt{padding:0px;}\n",
       "div.CodeMirror {font-family:Consolas; font-size:12pt;}\n",
       "div.text_cell_render.rendered_html{font size:12pt;}\n",
       "div.output {font-size:12pt; font-weight:bold;}\n",
       "div.input{font-family:Consolas; font-size:12pt;}\n",
       "div.prompt {min width:70px;}\n",
       "div#toc-wrapper {padding-top:120px;}\n",
       "div.text_cell_render ul li{font-size:12pt;padding:5px;}\n",
       "table.dataframe {font-size:12px;}\n",
       "</style>\n"
      ],
      "text/plain": [
       "<IPython.core.display.HTML object>"
      ]
     },
     "metadata": {},
     "output_type": "display_data"
    }
   ],
   "source": [
    "from IPython.display import display, HTML\n",
    "display(HTML(\"\"\"\n",
    "<style>\n",
    "div.container{width:90% !important;}\n",
    "div.cell.code_cell.rendered{width:100%;}\n",
    "div.input_prompt{padding:0px;}\n",
    "div.CodeMirror {font-family:Consolas; font-size:12pt;}\n",
    "div.text_cell_render.rendered_html{font size:12pt;}\n",
    "div.output {font-size:12pt; font-weight:bold;}\n",
    "div.input{font-family:Consolas; font-size:12pt;}\n",
    "div.prompt {min width:70px;}\n",
    "div#toc-wrapper {padding-top:120px;}\n",
    "div.text_cell_render ul li{font-size:12pt;padding:5px;}\n",
    "table.dataframe {font-size:12px;}\n",
    "</style>\n",
    "\"\"\"))"
   ]
  },
  {
   "cell_type": "code",
   "execution_count": 4,
   "id": "aee3cd8e",
   "metadata": {},
   "outputs": [],
   "source": [
    "# 셀 하나 하나에 파이썬 소스 입력 -> 실행"
   ]
  },
  {
   "cell_type": "code",
   "execution_count": 5,
   "id": "cb9c70dc",
   "metadata": {},
   "outputs": [],
   "source": [
    "# 셀 선택 안한 후 A -> 해당 셀 위에 새로운 셀을 만든다\n",
    "# 셀 선택 안한 후 B -> 해당 셀 밑에 새로운 셀을 만든다"
   ]
  },
  {
   "cell_type": "markdown",
   "id": "4b8c2f3f",
   "metadata": {},
   "source": [
    "# 1. 마크다운이란?\n",
    "- 코드와 함께 문서화 할 수 있음\n",
    "- 다양한 문서화 문법 ex. README.md\n",
    "\n",
    "<b><font size=\"6\" color=\"red\">ch01, 파이썬 개요 및 환경 설정</font></b>\n",
    "\n",
    "# 2. 주피터 노트북 사용범 (큰제목)\n",
    "- shift-Enter: 포커스된 셀이 시행되고, 커서가 다음셀로 이동\n",
    "- alt+Enter: 포커스된 셀이 시행되고, 다음 셀이 생성된 후, 다음셀로 이동\n",
    "- ctrl+Enter: 포커스된 셀이 시행되고, 포커스 이동이 없음\n",
    "- Enter: 다시 편집 상태로 돌아감"
   ]
  },
  {
   "cell_type": "code",
   "execution_count": 7,
   "id": "19098799",
   "metadata": {},
   "outputs": [
    {
     "name": "stdout",
     "output_type": "stream",
     "text": [
      "Hello Python\n",
      "홍길동\n"
     ]
    }
   ],
   "source": [
    "# print() 함수를 이용하여 출력\n",
    "# print (\"Hello, Python\")\n",
    "# print (\"홍길동\")\n",
    "print('Hello Python\\n홍길동')"
   ]
  },
  {
   "cell_type": "code",
   "execution_count": 10,
   "id": "098ffaf9",
   "metadata": {},
   "outputs": [
    {
     "name": "stdout",
     "output_type": "stream",
     "text": [
      "27\n",
      "252\n"
     ]
    }
   ],
   "source": [
    "age = 25         # 숫자\n",
    "duration = \"2\"   # 문자\n",
    "print(age + int(duration))\n",
    "print(str(age) + duration)"
   ]
  },
  {
   "cell_type": "code",
   "execution_count": 11,
   "id": "df88a5fd",
   "metadata": {},
   "outputs": [
    {
     "name": "stdout",
     "output_type": "stream",
     "text": [
      "0\n",
      "1\n",
      "2\n",
      "3\n",
      "4\n",
      "5\n",
      "6\n",
      "7\n",
      "8\n",
      "9\n"
     ]
    }
   ],
   "source": [
    "for i in range(10):\n",
    "    print ()"
   ]
  },
  {
   "cell_type": "code",
   "execution_count": 2,
   "id": "a1d8c88b",
   "metadata": {},
   "outputs": [],
   "source": [
    "# 함수에 변수를 할당하였을 경우\n",
    "print = 3"
   ]
  },
  {
   "cell_type": "code",
   "execution_count": 3,
   "id": "8c9147bd",
   "metadata": {},
   "outputs": [],
   "source": [
    "# 실수로 할당된 print 변수를 삭제1\n",
    "del print #변수 삭제\n",
    "# 실수로 할당된 print 변수를 삭제2 : kernel 재시작"
   ]
  },
  {
   "cell_type": "code",
   "execution_count": 4,
   "id": "cbf18d22",
   "metadata": {},
   "outputs": [
    {
     "name": "stdout",
     "output_type": "stream",
     "text": [
      "hello\n"
     ]
    }
   ],
   "source": [
    "print('hello')"
   ]
  },
  {
   "cell_type": "markdown",
   "id": "d9b7ca72",
   "metadata": {},
   "source": [
    "# 3. ESC키 누르고\n",
    "- dd: 셀삭제\n",
    "- a : 위에 셀이 추가\n",
    "- b : 아래 셀이 추가\n",
    "- m : 마크다운 셀로 변경\n",
    "- y : 코드 셀로 변경\n",
    "- h : 핫키(단축키) 안내\n",
    "- o : 해당 셀을 실행 결과 접기/펴기"
   ]
  },
  {
   "cell_type": "code",
   "execution_count": 7,
   "id": "b746d827",
   "metadata": {},
   "outputs": [
    {
     "name": "stdout",
     "output_type": "stream",
     "text": [
      " C 드라이브의 볼륨에는 이름이 없습니다.\n",
      " 볼륨 일련 번호: A014-DCD6\n",
      "\n",
      " C:\\ai\\source\\01_python 디렉터리\n",
      "\n",
      "2025-09-12  오전 10:51    <DIR>          .\n",
      "2025-09-12  오전 10:51    <DIR>          ..\n",
      "2025-09-12  오전 09:20    <DIR>          .ipynb_checkpoints\n",
      "2025-09-12  오전 10:51             7,405 ch01_파이썬 개요 및 환경 설정.ipynb\n",
      "2025-09-12  오전 10:35             7,481 ch02_자료형과 연산자.ipynb\n",
      "               2개 파일              14,886 바이트\n",
      "               3개 디렉터리  166,800,736,256 바이트 남음\n"
     ]
    }
   ],
   "source": [
    "# !는 주피터노트북에서 cmd(내 운영 체제) 명령어들을 사용\n",
    "!dir"
   ]
  },
  {
   "cell_type": "code",
   "execution_count": 8,
   "id": "13125e6a",
   "metadata": {},
   "outputs": [
    {
     "name": "stdout",
     "output_type": "stream",
     "text": [
      " C 드라이브의 볼륨에는 이름이 없습니다.\n",
      " 볼륨 일련 번호: A014-DCD6\n",
      "\n",
      " C:\\ai\\source\\01_python 디렉터리\n",
      "\n",
      "2025-09-12  오전 10:53    <DIR>          .\n",
      "2025-09-12  오전 10:53    <DIR>          ..\n",
      "2025-09-12  오전 09:20    <DIR>          .ipynb_checkpoints\n",
      "2025-09-12  오전 10:53             7,565 ch01_파이썬 개요 및 환경 설정.ipynb\n",
      "2025-09-12  오전 10:35             7,481 ch02_자료형과 연산자.ipynb\n",
      "               2개 파일              15,046 바이트\n",
      "               3개 디렉터리  166,800,355,328 바이트 남음\n"
     ]
    }
   ],
   "source": [
    "# % 매직 명령어(주피터 노트북 자체 명령어) - Ubuntu(Linux) 명령어들을 사용\n",
    "%ls"
   ]
  },
  {
   "cell_type": "code",
   "execution_count": null,
   "id": "509d15a0",
   "metadata": {},
   "outputs": [],
   "source": []
  }
 ],
 "metadata": {
  "kernelspec": {
   "display_name": "Python 3 (ipykernel)",
   "language": "python",
   "name": "python3"
  },
  "language_info": {
   "codemirror_mode": {
    "name": "ipython",
    "version": 3
   },
   "file_extension": ".py",
   "mimetype": "text/x-python",
   "name": "python",
   "nbconvert_exporter": "python",
   "pygments_lexer": "ipython3",
   "version": "3.10.9"
  },
  "toc": {
   "base_numbering": 1,
   "nav_menu": {},
   "number_sections": false,
   "sideBar": true,
   "skip_h1_title": false,
   "title_cell": "Table of Contents",
   "title_sidebar": "Contents",
   "toc_cell": false,
   "toc_position": {
    "height": "calc(100% - 180px)",
    "left": "10px",
    "top": "150px",
    "width": "389px"
   },
   "toc_section_display": true,
   "toc_window_display": false
  }
 },
 "nbformat": 4,
 "nbformat_minor": 5
}
