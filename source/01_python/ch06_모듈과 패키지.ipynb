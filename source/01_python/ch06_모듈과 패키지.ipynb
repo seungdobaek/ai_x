{
 "cells": [
  {
   "cell_type": "code",
   "execution_count": 1,
   "id": "0a30a83a",
   "metadata": {},
   "outputs": [
    {
     "data": {
      "text/html": [
       "\n",
       "<style>\n",
       "div.container{width:90% !important;}\n",
       "div.cell.code_cell.rendered{width:100%;}\n",
       "div.input_prompt{padding:0px;}\n",
       "div.CodeMirror {font-family:Consolas; font-size:12pt;}\n",
       "div.text_cell_render.rendered_html{font size:12pt;}\n",
       "div.output {font-size:12pt; font-weight:bold;}\n",
       "div.input{font-family:Consolas; font-size:12pt;}\n",
       "div.prompt {min width:70px;}\n",
       "div#toc-wrapper {padding-top:120px;}\n",
       "div.text_cell_render ul li{font-size:12pt;padding:5px;}\n",
       "table.dataframe {font-size:12px;}\n",
       "</style>\n"
      ],
      "text/plain": [
       "<IPython.core.display.HTML object>"
      ]
     },
     "metadata": {},
     "output_type": "display_data"
    }
   ],
   "source": [
    "from IPython.display import display, HTML\n",
    "display(HTML(\"\"\"\n",
    "<style>\n",
    "div.container{width:90% !important;}\n",
    "div.cell.code_cell.rendered{width:100%;}\n",
    "div.input_prompt{padding:0px;}\n",
    "div.CodeMirror {font-family:Consolas; font-size:12pt;}\n",
    "div.text_cell_render.rendered_html{font size:12pt;}\n",
    "div.output {font-size:12pt; font-weight:bold;}\n",
    "div.input{font-family:Consolas; font-size:12pt;}\n",
    "div.prompt {min width:70px;}\n",
    "div#toc-wrapper {padding-top:120px;}\n",
    "div.text_cell_render ul li{font-size:12pt;padding:5px;}\n",
    "table.dataframe {font-size:12px;}\n",
    "</style>\n",
    "\"\"\"))"
   ]
  },
  {
   "cell_type": "markdown",
   "id": "00472e00",
   "metadata": {},
   "source": [
    "<b><font color='red' size='6'>ch06. 모듈과 패키지</font></b>\n",
    "# 1절 파이썬 표준 모듈 사용\n",
    "- 모듈 : 함수, 변수, 클래스 등을 담고 있는 파이썬 코드 파일 (*.py)\n",
    "- python.org의 파이썬 표준 모듈 200여개는 파이썬 인터프리터와 함께 install(sys, re, datetime, time ...)\n",
    "- miniconda는 python.org버전보다 조금 더 많은 모듈을 install\n",
    "- anaconda는 1500개 이상의 패키지 install(정확한 갯수는 버전마다 상이)"
   ]
  },
  {
   "cell_type": "code",
   "execution_count": 2,
   "id": "1f3c1951",
   "metadata": {},
   "outputs": [
    {
     "data": {
      "text/plain": [
       "'Thu Sep 25 14:26:58 2025'"
      ]
     },
     "execution_count": 2,
     "metadata": {},
     "output_type": "execute_result"
    }
   ],
   "source": [
    "# 1. import 모듈명 : 모듈 안의 함수, 클래스, 변수를 모듈명.함수명()... 사용\n",
    "import time\n",
    "time.ctime()"
   ]
  },
  {
   "cell_type": "code",
   "execution_count": 5,
   "id": "305e4c51",
   "metadata": {},
   "outputs": [
    {
     "data": {
      "text/plain": [
       "1758779023.9850001"
      ]
     },
     "execution_count": 5,
     "metadata": {},
     "output_type": "execute_result"
    }
   ],
   "source": [
    "time.time() # 1970년 1월 1일 부터의 초수 (유닉스 타임)"
   ]
  },
  {
   "cell_type": "code",
   "execution_count": 13,
   "id": "9289eca3",
   "metadata": {},
   "outputs": [],
   "source": [
    "#2. from 모듈(A) import  함수,긐캘스,변수\n",
    "#   from 패키지(A) import 모듈(B) \" A\" 패키지안의 B 모듈을 로드\n",
    "#   from 패키지(A), 모듈명(B) import 함수명(C) : A(패키지)안의, B모듈안의 C 함수만 로드\n",
    "from time import ctime, time\n",
    "ctime()\n",
    "\n",
    "del ctime\n",
    "del time"
   ]
  },
  {
   "cell_type": "code",
   "execution_count": 14,
   "id": "c2fa51c7",
   "metadata": {},
   "outputs": [
    {
     "name": "stdout",
     "output_type": "stream",
     "text": [
      "CPU times: total: 0 ns\n",
      "Wall time: 0 ns\n"
     ]
    },
    {
     "data": {
      "text/plain": [
       "()"
      ]
     },
     "execution_count": 14,
     "metadata": {},
     "output_type": "execute_result"
    }
   ],
   "source": [
    "time()"
   ]
  },
  {
   "cell_type": "code",
   "execution_count": 16,
   "id": "2796de62",
   "metadata": {},
   "outputs": [],
   "source": [
    "\n",
    "# 3. import A as B : A모듈을 B이름으로 가져옴\n",
    "import time as t\n",
    "t.time()\n",
    "del t"
   ]
  },
  {
   "cell_type": "code",
   "execution_count": 17,
   "id": "b333e726",
   "metadata": {},
   "outputs": [
    {
     "data": {
      "text/plain": [
       "'Thu Sep 25 15:00:12 2025'"
      ]
     },
     "execution_count": 17,
     "metadata": {},
     "output_type": "execute_result"
    }
   ],
   "source": [
    "# 4. from 모듈명 import 함수명 as 별칭\n",
    "#    from 패키지명 import 모듈명 as 별칭\n",
    "#    from 패키지명, 모듈명 import 함수명 as 별칭\n",
    "from time import ctime as ct, time as ti\n",
    "ct()"
   ]
  },
  {
   "cell_type": "code",
   "execution_count": 18,
   "id": "62b1a327",
   "metadata": {},
   "outputs": [
    {
     "data": {
      "text/plain": [
       "1758780017.689284"
      ]
     },
     "execution_count": 18,
     "metadata": {},
     "output_type": "execute_result"
    }
   ],
   "source": [
    "ti()"
   ]
  },
  {
   "cell_type": "code",
   "execution_count": 21,
   "id": "28dfb1f8",
   "metadata": {},
   "outputs": [
    {
     "name": "stdout",
     "output_type": "stream",
     "text": [
      "['__call__', '__class__', '__delattr__', '__dir__', '__doc__', '__eq__', '__format__', '__ge__', '__getattribute__', '__gt__', '__hash__', '__init__', '__init_subclass__', '__le__', '__lt__', '__module__', '__name__', '__ne__', '__new__', '__qualname__', '__reduce__', '__reduce_ex__', '__repr__', '__self__', '__setattr__', '__sizeof__', '__str__', '__subclasshook__', '__text_signature__']\n"
     ]
    }
   ],
   "source": [
    "print(dir(ti)) #time 내의 함수, 변수, 클래스 list로 출력"
   ]
  },
  {
   "cell_type": "code",
   "execution_count": 22,
   "id": "9ab7d9ce",
   "metadata": {},
   "outputs": [],
   "source": [
    "del(ti)\n",
    "del(ct)"
   ]
  },
  {
   "cell_type": "markdown",
   "id": "5c205469",
   "metadata": {},
   "source": [
    "# 2절 사용자 정의 모듈\n",
    "- 함수나 클래스 등을 파이썬 파일에 저장해서 모듈을 만들고 재사용할 수 있음\n",
    "- 모듈 가져오는 순서\n",
    "    - (1) 표준모듈\n",
    "    - (2) sys.path에 저장된 경로"
   ]
  },
  {
   "cell_type": "code",
   "execution_count": 1,
   "id": "01f0cf54",
   "metadata": {},
   "outputs": [
    {
     "data": {
      "text/plain": [
       "['C:\\\\ai\\\\source\\\\01_python',\n",
       " 'C:\\\\Users\\\\Admin\\\\anaconda3\\\\python310.zip',\n",
       " 'C:\\\\Users\\\\Admin\\\\anaconda3\\\\DLLs',\n",
       " 'C:\\\\Users\\\\Admin\\\\anaconda3\\\\lib',\n",
       " 'C:\\\\Users\\\\Admin\\\\anaconda3',\n",
       " '',\n",
       " 'C:\\\\Users\\\\Admin\\\\anaconda3\\\\lib\\\\site-packages',\n",
       " 'C:\\\\Users\\\\Admin\\\\anaconda3\\\\lib\\\\site-packages\\\\win32',\n",
       " 'C:\\\\Users\\\\Admin\\\\anaconda3\\\\lib\\\\site-packages\\\\win32\\\\lib',\n",
       " 'C:\\\\Users\\\\Admin\\\\anaconda3\\\\lib\\\\site-packages\\\\Pythonwin',\n",
       " 'C:\\\\ai\\\\source\\\\pylib']"
      ]
     },
     "execution_count": 1,
     "metadata": {},
     "output_type": "execute_result"
    }
   ],
   "source": [
    "import sys\n",
    "sys.path.append(r'C:\\ai\\source\\pylib')\n",
    "sys.path"
   ]
  },
  {
   "cell_type": "code",
   "execution_count": 30,
   "id": "9e2dd89c",
   "metadata": {},
   "outputs": [
    {
     "name": "stdout",
     "output_type": "stream",
     "text": [
      "[1, 1, 2, 3, 5, 8]\n",
      "1 1 2 3 5 8 \n"
     ]
    }
   ],
   "source": [
    "# 1.import 모듈명\n",
    "import fibonacci\n",
    "\n",
    "print(fibonacci.fibonacci(10))\n",
    "fibonacci.fibonacci_print(11)\n",
    "\n",
    "del fibonacci"
   ]
  },
  {
   "cell_type": "code",
   "execution_count": 33,
   "id": "ee993d3a",
   "metadata": {},
   "outputs": [
    {
     "name": "stdout",
     "output_type": "stream",
     "text": [
      "1 1 2 3 5 8 13 21 34 55 89 \n",
      "[1, 1, 2, 3, 5, 8, 13, 21, 34, 55, 89]\n"
     ]
    }
   ],
   "source": [
    "# 2.from 모듈명 import 함수명\n",
    "from fibonacci import fibonacci, fibonacci_print\n",
    "\n",
    "fibonacci_print(100)\n",
    "print(fibonacci(100))\n",
    "\n",
    "del fibonacci\n",
    "del fibonacci_print"
   ]
  },
  {
   "cell_type": "code",
   "execution_count": 34,
   "id": "e3fecae8",
   "metadata": {},
   "outputs": [
    {
     "name": "stdout",
     "output_type": "stream",
     "text": [
      "1 1 2 3 5 8 13 21 34 55 89 \n",
      "[1, 1, 2, 3, 5, 8, 13, 21, 34, 55, 89]\n"
     ]
    }
   ],
   "source": [
    "# 3. import 모듈명 as 별칭\n",
    "import fibonacci as fibo\n",
    "fibo.fibonacci_print(100)\n",
    "print(fibo.fibonacci(100))\n",
    "\n",
    "del fibo"
   ]
  },
  {
   "cell_type": "code",
   "execution_count": 37,
   "id": "fdac0ec3",
   "metadata": {},
   "outputs": [
    {
     "name": "stdout",
     "output_type": "stream",
     "text": [
      "1 1 2 3 5 8 13 21 34 55 89 \n",
      "[1, 1, 2, 3, 5, 8, 13, 21, 34, 55, 89]\n"
     ]
    }
   ],
   "source": [
    "# 4. from 모듈명 import 함수 as 별칭\n",
    "from fibonacci import fibonacci as fibo, fibonacci_print as fibo_p\n",
    "fibo_p(100)\n",
    "print(fibo(100))\n",
    "\n",
    "del fibo\n",
    "del fibo_p"
   ]
  },
  {
   "cell_type": "markdown",
   "id": "c0bc016f",
   "metadata": {},
   "source": [
    "# 3절 패키지\n",
    "- 모듈이 들어있는 폴더 (`__init__.py`) 파일을 내포"
   ]
  },
  {
   "cell_type": "code",
   "execution_count": 39,
   "id": "1c92a055",
   "metadata": {},
   "outputs": [
    {
     "data": {
      "text/plain": [
       "['C:\\\\ai\\\\source\\\\01_python',\n",
       " 'C:\\\\Users\\\\Admin\\\\anaconda3\\\\python310.zip',\n",
       " 'C:\\\\Users\\\\Admin\\\\anaconda3\\\\DLLs',\n",
       " 'C:\\\\Users\\\\Admin\\\\anaconda3\\\\lib',\n",
       " 'C:\\\\Users\\\\Admin\\\\anaconda3',\n",
       " '',\n",
       " 'C:\\\\Users\\\\Admin\\\\anaconda3\\\\lib\\\\site-packages',\n",
       " 'C:\\\\Users\\\\Admin\\\\anaconda3\\\\lib\\\\site-packages\\\\win32',\n",
       " 'C:\\\\Users\\\\Admin\\\\anaconda3\\\\lib\\\\site-packages\\\\win32\\\\lib',\n",
       " 'C:\\\\Users\\\\Admin\\\\anaconda3\\\\lib\\\\site-packages\\\\Pythonwin',\n",
       " 'C:\\\\ai\\\\source\\\\pylib']"
      ]
     },
     "execution_count": 39,
     "metadata": {},
     "output_type": "execute_result"
    }
   ],
   "source": [
    "import sys\n",
    "sys.path"
   ]
  },
  {
   "cell_type": "code",
   "execution_count": 2,
   "id": "8ca3b705",
   "metadata": {},
   "outputs": [
    {
     "name": "stdout",
     "output_type": "stream",
     "text": [
      "sample_pac 패키지를 로드했어요\n",
      "sample_pac 안의 test()입니다\n"
     ]
    }
   ],
   "source": [
    "# 상위 패키지를 import한다고 하위패키지가 import 되지 않습니다\n",
    "import sample_pac\n",
    "\n",
    "sample_pac.test()"
   ]
  },
  {
   "cell_type": "code",
   "execution_count": 4,
   "id": "50eb5081",
   "metadata": {},
   "outputs": [
    {
     "name": "stdout",
     "output_type": "stream",
     "text": [
      "sample_pac.ab 패키지 로드\n"
     ]
    }
   ],
   "source": [
    "import sample_pac.ab # ab/__init__.py가 실행"
   ]
  },
  {
   "cell_type": "code",
   "execution_count": 11,
   "id": "f93ce294",
   "metadata": {},
   "outputs": [
    {
     "name": "stdout",
     "output_type": "stream",
     "text": [
      "sample_pac.ab.a 모듈의 hello\n"
     ]
    }
   ],
   "source": [
    "from sample_pac.ab import * #__init__.py 의 __all__속성만 로드\n",
    "a.hello()"
   ]
  },
  {
   "cell_type": "code",
   "execution_count": 12,
   "id": "092a3d6c",
   "metadata": {},
   "outputs": [
    {
     "ename": "NameError",
     "evalue": "name 'b' is not defined",
     "output_type": "error",
     "traceback": [
      "\u001b[1;31m---------------------------------------------------------------------------\u001b[0m",
      "\u001b[1;31mNameError\u001b[0m                                 Traceback (most recent call last)",
      "Cell \u001b[1;32mIn[12], line 1\u001b[0m\n\u001b[1;32m----> 1\u001b[0m \u001b[43mb\u001b[49m\u001b[38;5;241m.\u001b[39mworld()\n",
      "\u001b[1;31mNameError\u001b[0m: name 'b' is not defined"
     ]
    }
   ],
   "source": [
    "b.world()"
   ]
  },
  {
   "cell_type": "code",
   "execution_count": 13,
   "id": "ed76cc81",
   "metadata": {},
   "outputs": [
    {
     "name": "stdout",
     "output_type": "stream",
     "text": [
      "sample_pac.ab.b 모듈의 world\n"
     ]
    }
   ],
   "source": [
    "from sample_pac.ab.b import world as w\n",
    "w()"
   ]
  },
  {
   "cell_type": "code",
   "execution_count": 14,
   "id": "ae7e6d8a",
   "metadata": {},
   "outputs": [
    {
     "name": "stdout",
     "output_type": "stream",
     "text": [
      "sample_pac/cd 패키지 안의 c 모듈 안의 nice 함수\n",
      "sample_pac.ab.a 모듈의 hello\n"
     ]
    }
   ],
   "source": [
    "from sample_pac.cd import c\n",
    "c.nice()"
   ]
  },
  {
   "cell_type": "code",
   "execution_count": null,
   "id": "aa244e90",
   "metadata": {},
   "outputs": [],
   "source": []
  },
  {
   "cell_type": "code",
   "execution_count": null,
   "id": "235d111a",
   "metadata": {},
   "outputs": [],
   "source": []
  },
  {
   "cell_type": "code",
   "execution_count": null,
   "id": "ad663da8",
   "metadata": {},
   "outputs": [],
   "source": []
  },
  {
   "cell_type": "code",
   "execution_count": null,
   "id": "91474e13",
   "metadata": {},
   "outputs": [],
   "source": []
  },
  {
   "cell_type": "code",
   "execution_count": null,
   "id": "9ce8c1bd",
   "metadata": {},
   "outputs": [],
   "source": []
  },
  {
   "cell_type": "code",
   "execution_count": null,
   "id": "de173243",
   "metadata": {},
   "outputs": [],
   "source": []
  },
  {
   "cell_type": "code",
   "execution_count": null,
   "id": "a8d5ea23",
   "metadata": {},
   "outputs": [],
   "source": []
  },
  {
   "cell_type": "code",
   "execution_count": null,
   "id": "8bb73f22",
   "metadata": {},
   "outputs": [],
   "source": []
  },
  {
   "cell_type": "code",
   "execution_count": null,
   "id": "97b147ed",
   "metadata": {},
   "outputs": [],
   "source": []
  },
  {
   "cell_type": "markdown",
   "id": "ec2b56e0",
   "metadata": {},
   "source": [
    "# 연습문제\n",
    "### 1. 파이썬의 모듈과 패키지에 대해 잘 못 설명한 것은?\n",
    "- ① 모듈은 파일 단위로 작성하며 확장자가 .py인 파이썬 파일이다.\n",
    "- ② 패키지는 모듈들의 모음이며 디렉터리 단위로 존재한다\n",
    "- ③ 파이썬의 표준 라이브러리는 import 하지 않고 사용할 수 있다\n",
    "- ④ 일부 모듈 세트는 특정 플랫폼에서만 사용할 수 있다"
   ]
  },
  {
   "cell_type": "markdown",
   "id": "f87ced7f",
   "metadata": {},
   "source": [
    "### 2. 다음 중 모듈의 import와 import후 사용 방법이 잘 못 된것은?\n",
    "- ① \n",
    "```python \n",
    "import time\n",
    "time.ctime()\n",
    "```\n",
    "- ② \n",
    "```python \n",
    "import time as t\n",
    "t.ctime()\n",
    "```\n",
    "- ③ \n",
    "```python \n",
    "from time import ctime\n",
    "ctime()\n",
    "```\n",
    "- ④ \n",
    "```python \n",
    "from time import ctime as ct\n",
    "ctime()\n",
    "```"
   ]
  },
  {
   "cell_type": "markdown",
   "id": "ce4f82e7",
   "metadata": {},
   "source": [
    "### 3. 파이썬의 디렉터리를 패키지에 포함되도록 처리하기 위해 필요한 파일은?"
   ]
  },
  {
   "cell_type": "markdown",
   "id": "09a71301",
   "metadata": {},
   "source": [
    "### 4. import *을 이용하면 패키지에 있는 서브 모듈을 찾아서 모두 가져옵니다. 그렇기 때문에 패키지 작성자가 패키지의 명시적 색인을 제공하기 위해 사용하는 속성의 이름은 무엇인가요?"
   ]
  },
  {
   "cell_type": "markdown",
   "id": "0a269a94",
   "metadata": {},
   "source": [
    "### 5. 다음 중 파이썬 패키지를 설치하는 방법이 아닌 것은?\n",
    "- ① python -m pip install --upgrade pip\n",
    "- ② pip install 패키지명\n",
    "- ③ conda install 패키지명\n",
    "- ④ pip install 휘(whl) 파일경로"
   ]
  },
  {
   "cell_type": "code",
   "execution_count": null,
   "id": "f647493e",
   "metadata": {},
   "outputs": [],
   "source": []
  }
 ],
 "metadata": {
  "kernelspec": {
   "display_name": "Python 3 (ipykernel)",
   "language": "python",
   "name": "python3"
  },
  "language_info": {
   "codemirror_mode": {
    "name": "ipython",
    "version": 3
   },
   "file_extension": ".py",
   "mimetype": "text/x-python",
   "name": "python",
   "nbconvert_exporter": "python",
   "pygments_lexer": "ipython3",
   "version": "3.10.9"
  },
  "toc": {
   "base_numbering": 1,
   "nav_menu": {},
   "number_sections": false,
   "sideBar": true,
   "skip_h1_title": false,
   "title_cell": "Table of Contents",
   "title_sidebar": "Contents",
   "toc_cell": false,
   "toc_position": {},
   "toc_section_display": true,
   "toc_window_display": false
  }
 },
 "nbformat": 4,
 "nbformat_minor": 5
}
