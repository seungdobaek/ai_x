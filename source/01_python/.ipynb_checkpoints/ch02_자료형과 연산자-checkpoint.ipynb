{
 "cells": [
  {
   "cell_type": "code",
   "execution_count": 1,
   "id": "e4860899",
   "metadata": {},
   "outputs": [
    {
     "data": {
      "text/html": [
       "\n",
       "<style>\n",
       "div.container{width:90% !important;}\n",
       "div.cell.code_cell.rendered{width:100%;}\n",
       "div.input_prompt{padding:0px;}\n",
       "div.CodeMirror {font-family:Consolas; font-size:12pt;}\n",
       "div.text_cell_render.rendered_html{font size:12pt;}\n",
       "div.output {font-size:12pt; font-weight:bold;}\n",
       "div.input{font-family:Consolas; font-size:12pt;}\n",
       "div.prompt {min width:70px;}\n",
       "div#toc-wrapper {padding-top:120px;}\n",
       "div.text_cell_render ul li{font-size:12pt;padding:5px;}\n",
       "table.dataframe {font-size:12px;}\n",
       "</style>\n"
      ],
      "text/plain": [
       "<IPython.core.display.HTML object>"
      ]
     },
     "metadata": {},
     "output_type": "display_data"
    }
   ],
   "source": [
    "from IPython.display import display, HTML\n",
    "display(HTML(\"\"\"\n",
    "<style>\n",
    "div.container{width:90% !important;}\n",
    "div.cell.code_cell.rendered{width:100%;}\n",
    "div.input_prompt{padding:0px;}\n",
    "div.CodeMirror {font-family:Consolas; font-size:12pt;}\n",
    "div.text_cell_render.rendered_html{font size:12pt;}\n",
    "div.output {font-size:12pt; font-weight:bold;}\n",
    "div.input{font-family:Consolas; font-size:12pt;}\n",
    "div.prompt {min width:70px;}\n",
    "div#toc-wrapper {padding-top:120px;}\n",
    "div.text_cell_render ul li{font-size:12pt;padding:5px;}\n",
    "table.dataframe {font-size:12px;}\n",
    "</style>\n",
    "\"\"\"))"
   ]
  },
  {
   "cell_type": "markdown",
   "id": "6049960b",
   "metadata": {},
   "source": [
    "<b><font size=\"6\" color=\"red\">ch02. 자료형과 연산자</font></b>\n",
    "# 1절 변수\n",
    "- 변수 : 프로그램 작업 처리를 위해, 값을 저장할 수 있는 메모리 공간\n",
    "- 파이썬은 변수 선언을 위한 타입이 없고, 별도의 선언 과정도 없음\n",
    "\n",
    "## 1.1 변수 할당\n",
    "- 할당 연산자(=)을 이용해서 값을 할당하면 자료형(타입)이 셋팅\n",
    "- **파이썬에서의 모든 변수는 객체로 저장(레퍼런스 변수)**\n",
    " - 객체 : 값과 함수가 같이 있는것\n",
    " - 변수에는 주소가 저장이되고 주소에 가면 변수의 값과 해당 자료형에 따른 함수들이 저장이 된다\n",
    " - 변수의 값을 재할당을 한다면, 새로운 주소에 변수의 값과 함수가 저장되고 변수에는 새주소의 값이 저장된다"
   ]
  },
  {
   "cell_type": "code",
   "execution_count": 7,
   "id": "bcc7d1b8",
   "metadata": {},
   "outputs": [
    {
     "name": "stdout",
     "output_type": "stream",
     "text": [
      "넓이 : 78.5\n"
     ]
    }
   ],
   "source": [
    "r = 5\n",
    "area = 3.14 * r * r\n",
    "print('넓이 :', area)"
   ]
  },
  {
   "cell_type": "code",
   "execution_count": 8,
   "id": "731f3c93",
   "metadata": {},
   "outputs": [
    {
     "name": "stdout",
     "output_type": "stream",
     "text": [
      "넓이 :  78.53981633974483\n"
     ]
    }
   ],
   "source": [
    "import numpy as np #numpy 라는 패키지를 np 라는 이름으로 사용\n",
    "area = np.pi * r * r\n",
    "print('넓이 : ', area)"
   ]
  },
  {
   "cell_type": "code",
   "execution_count": 9,
   "id": "64f92efc",
   "metadata": {},
   "outputs": [
    {
     "name": "stdout",
     "output_type": "stream",
     "text": [
      "area의 주소 :  2078794436368\n",
      "area의 타입 :  <class 'float'>\n"
     ]
    }
   ],
   "source": [
    "print('area의 주소 : ', id(area))\n",
    "print('area의 타입 : ', type(area))"
   ]
  },
  {
   "cell_type": "code",
   "execution_count": 10,
   "id": "e01529c4",
   "metadata": {},
   "outputs": [
    {
     "data": {
      "text/plain": [
       "False"
      ]
     },
     "execution_count": 10,
     "metadata": {},
     "output_type": "execute_result"
    }
   ],
   "source": [
    "area.is_integer()"
   ]
  },
  {
   "cell_type": "code",
   "execution_count": 12,
   "id": "b6568834",
   "metadata": {},
   "outputs": [
    {
     "name": "stdout",
     "output_type": "stream",
     "text": [
      "area의 주소 :  2080858898960\n",
      "area의 타입 :  <class 'int'>\n"
     ]
    }
   ],
   "source": [
    "area = 10\n",
    "print('area의 주소 : ', id(area))\n",
    "print('area의 타입 : ', type(area))"
   ]
  },
  {
   "cell_type": "code",
   "execution_count": 14,
   "id": "833ae34a",
   "metadata": {},
   "outputs": [
    {
     "name": "stdout",
     "output_type": "stream",
     "text": [
      "area의 주소 :  2078831135024\n",
      "area의 타입 :  <class 'str'>\n"
     ]
    }
   ],
   "source": [
    "area = \"파이썬\"\n",
    "print('area의 주소 : ', id(area))\n",
    "print('area의 타입 : ', type(area))"
   ]
  },
  {
   "cell_type": "markdown",
   "id": "c47155f5",
   "metadata": {},
   "source": [
    "## 1.2 변수(함수) 이름 규칙\n",
    "- 문자로 시작\n",
    "- 문자(특수문자는 _ 외에는 불가), 숫자, _로 변수명 작성\n",
    "- 함수명은 변수 이름으로 가능하나 피한다 꼭 써야 한다면 str_식으로 사용한다(_를 사용하여 함수와의 충돌을 피한다)\n",
    "- 파이썬 예약어(for, if, ...)는 변수명 사용불가\n",
    "- 한글 변수는 꼭 필요시에만 사용 (비추)"
   ]
  },
  {
   "cell_type": "code",
   "execution_count": 27,
   "id": "10ffe919",
   "metadata": {},
   "outputs": [
    {
     "name": "stdout",
     "output_type": "stream",
     "text": [
      "홍길동\n"
     ]
    }
   ],
   "source": [
    "이름 = '홍길동' #한글을 변수명으로 사용하는것은 비추\n",
    "print(이름)"
   ]
  },
  {
   "cell_type": "code",
   "execution_count": 28,
   "id": "2d9edb93",
   "metadata": {},
   "outputs": [
    {
     "ename": "SyntaxError",
     "evalue": "invalid syntax (4011056779.py, line 1)",
     "output_type": "error",
     "traceback": [
      "\u001b[1;36m  Cell \u001b[1;32mIn[28], line 1\u001b[1;36m\u001b[0m\n\u001b[1;33m    for = 5\u001b[0m\n\u001b[1;37m        ^\u001b[0m\n\u001b[1;31mSyntaxError\u001b[0m\u001b[1;31m:\u001b[0m invalid syntax\n"
     ]
    }
   ],
   "source": [
    "for = 5"
   ]
  },
  {
   "cell_type": "code",
   "execution_count": 29,
   "id": "6559dc7d",
   "metadata": {},
   "outputs": [
    {
     "ename": "NameError",
     "evalue": "name 'member' is not defined",
     "output_type": "error",
     "traceback": [
      "\u001b[1;31m---------------------------------------------------------------------------\u001b[0m",
      "\u001b[1;31mNameError\u001b[0m                                 Traceback (most recent call last)",
      "Cell \u001b[1;32mIn[29], line 1\u001b[0m\n\u001b[1;32m----> 1\u001b[0m \u001b[43mmember\u001b[49m\u001b[38;5;241m.\u001b[39mname \u001b[38;5;241m=\u001b[39m \u001b[38;5;124m\"\u001b[39m\u001b[38;5;124m홍길동\u001b[39m\u001b[38;5;124m\"\u001b[39m\n",
      "\u001b[1;31mNameError\u001b[0m: name 'member' is not defined"
     ]
    }
   ],
   "source": [
    "member.name = \"홍길동\""
   ]
  },
  {
   "cell_type": "code",
   "execution_count": 31,
   "id": "18401fd8",
   "metadata": {},
   "outputs": [
    {
     "name": "stdout",
     "output_type": "stream",
     "text": [
      "<class 'complex'>\n"
     ]
    }
   ],
   "source": [
    "# 숫자 : 정수 , 실수, 복소수(j)\n",
    "i = 1+ 3j #복소수\n",
    "print(type(i))"
   ]
  },
  {
   "cell_type": "code",
   "execution_count": 32,
   "id": "db15573b",
   "metadata": {},
   "outputs": [
    {
     "data": {
      "text/plain": [
       "True"
      ]
     },
     "execution_count": 32,
     "metadata": {},
     "output_type": "execute_result"
    }
   ],
   "source": [
    "isinstance(i, complex) # i변수가 complex 타입의 객체인지?"
   ]
  },
  {
   "cell_type": "code",
   "execution_count": 33,
   "id": "f2a6729f",
   "metadata": {},
   "outputs": [
    {
     "data": {
      "text/plain": [
       "False"
      ]
     },
     "execution_count": 33,
     "metadata": {},
     "output_type": "execute_result"
    }
   ],
   "source": [
    "isinstance(i, int) # i 변수가 int 타입의 객체인지?"
   ]
  },
  {
   "cell_type": "markdown",
   "id": "8e98ef5d",
   "metadata": {},
   "source": [
    "## 1.3 다중 변수 선언\n"
   ]
  },
  {
   "cell_type": "code",
   "execution_count": 34,
   "id": "ce2d0605",
   "metadata": {},
   "outputs": [],
   "source": [
    "a = 10\n",
    "b= 20"
   ]
  },
  {
   "cell_type": "code",
   "execution_count": 38,
   "id": "3fe2bc56",
   "metadata": {},
   "outputs": [
    {
     "name": "stdout",
     "output_type": "stream",
     "text": [
      "10 20\n"
     ]
    }
   ],
   "source": [
    "a, b = 10, 20\n",
    "print(a,b)"
   ]
  },
  {
   "cell_type": "code",
   "execution_count": null,
   "id": "3169f992",
   "metadata": {},
   "outputs": [],
   "source": [
    "a, b = b, a+b #다중 변수 할당시 순차적 할당이 아니고, 일괄 동시 할당\n",
    "print(a,b)"
   ]
  },
  {
   "cell_type": "markdown",
   "id": "4126f307",
   "metadata": {},
   "source": [
    "## 1.4 도움말"
   ]
  },
  {
   "cell_type": "code",
   "execution_count": 40,
   "id": "0927f0a7",
   "metadata": {},
   "outputs": [
    {
     "name": "stdout",
     "output_type": "stream",
     "text": [
      "Help on built-in function print in module builtins:\n",
      "\n",
      "print(...)\n",
      "    print(value, ..., sep=' ', end='\\n', file=sys.stdout, flush=False)\n",
      "    \n",
      "    Prints the values to a stream, or to sys.stdout by default.\n",
      "    Optional keyword arguments:\n",
      "    file:  a file-like object (stream); defaults to the current sys.stdout.\n",
      "    sep:   string inserted between values, default a space.\n",
      "    end:   string appended after the last value, default a newline.\n",
      "    flush: whether to forcibly flush the stream.\n",
      "\n"
     ]
    }
   ],
   "source": [
    "help(print)"
   ]
  },
  {
   "cell_type": "code",
   "execution_count": 42,
   "id": "75f985e6",
   "metadata": {
    "collapsed": true
   },
   "outputs": [
    {
     "name": "stdout",
     "output_type": "stream",
     "text": [
      "\n",
      "Welcome to Python 3.10's help utility!\n",
      "\n",
      "If this is your first time using Python, you should definitely check out\n",
      "the tutorial on the internet at https://docs.python.org/3.10/tutorial/.\n",
      "\n",
      "Enter the name of any module, keyword, or topic to get help on writing\n",
      "Python programs and using Python modules.  To quit this help utility and\n",
      "return to the interpreter, just type \"quit\".\n",
      "\n",
      "To get a list of available modules, keywords, symbols, or topics, type\n",
      "\"modules\", \"keywords\", \"symbols\", or \"topics\".  Each module also comes\n",
      "with a one-line summary of what it does; to list the modules whose name\n",
      "or summary contain a given string such as \"spam\", type \"modules spam\".\n",
      "\n",
      "help> q\n",
      "\n",
      "You are now leaving help and returning to the Python interpreter.\n",
      "If you want to ask for help on a particular object directly from the\n",
      "interpreter, you can type \"help(object)\".  Executing \"help('string')\"\n",
      "has the same effect as typing a particular string at the help> prompt.\n"
     ]
    }
   ],
   "source": [
    "help() #help를 빠져나오기 : q / 결과 접기/펴기 : esc+o"
   ]
  },
  {
   "cell_type": "code",
   "execution_count": null,
   "id": "9aa224e2",
   "metadata": {},
   "outputs": [],
   "source": [
    "# 도움말 기능 : shift + tab 키"
   ]
  },
  {
   "cell_type": "code",
   "execution_count": 55,
   "id": "5a1491a7",
   "metadata": {},
   "outputs": [],
   "source": [
    "def add(x,y=0):\n",
    "    '''\n",
    "    매게변수(x,y) 2개를 받아 두자리 숫자로 만드는 함수\n",
    "    x = 10의 자리수가 되고\n",
    "    y = 1의 자리수가 됨 (default값 0)\n",
    "    '''\n",
    "    return x*10+y"
   ]
  },
  {
   "cell_type": "code",
   "execution_count": 56,
   "id": "761fdac5",
   "metadata": {},
   "outputs": [
    {
     "data": {
      "text/plain": [
       "34"
      ]
     },
     "execution_count": 56,
     "metadata": {},
     "output_type": "execute_result"
    }
   ],
   "source": [
    "add(3,4)"
   ]
  },
  {
   "cell_type": "markdown",
   "id": "ad4ce239",
   "metadata": {},
   "source": [
    "# 2절. 화면 i/o"
   ]
  },
  {
   "cell_type": "code",
   "execution_count": 58,
   "id": "6586f70b",
   "metadata": {},
   "outputs": [
    {
     "name": "stdout",
     "output_type": "stream",
     "text": [
      "아무거나\n",
      "아무거나\n"
     ]
    }
   ],
   "source": [
    "#input() : 사용자로부터 값을 입력받기 위한 함수. 입력값은 문자(str)로 받음\n",
    "first = input()\n",
    "print(first)"
   ]
  },
  {
   "cell_type": "code",
   "execution_count": 59,
   "id": "3f368848",
   "metadata": {},
   "outputs": [
    {
     "name": "stdout",
     "output_type": "stream",
     "text": [
      "첫번째 숫자는?5\n",
      "두번째 숫자는?90\n"
     ]
    }
   ],
   "source": [
    "first = input(\"첫번째 숫자는?\")\n",
    "second = input(\"두번째 숫자는?\")"
   ]
  },
  {
   "cell_type": "code",
   "execution_count": 60,
   "id": "e8ac6971",
   "metadata": {},
   "outputs": [
    {
     "name": "stdout",
     "output_type": "stream",
     "text": [
      "5 90\n"
     ]
    }
   ],
   "source": [
    "print(first, second)"
   ]
  },
  {
   "cell_type": "code",
   "execution_count": 61,
   "id": "5f923589",
   "metadata": {},
   "outputs": [
    {
     "name": "stdout",
     "output_type": "stream",
     "text": [
      "두 수의 합은 :  590\n"
     ]
    }
   ],
   "source": [
    "print(\"두 수의 합은 : \", first+second)"
   ]
  },
  {
   "cell_type": "code",
   "execution_count": 62,
   "id": "1bc79d92",
   "metadata": {},
   "outputs": [
    {
     "name": "stdout",
     "output_type": "stream",
     "text": [
      "첫번째 숫자는?8\n",
      "두번째 숫자는?2\n"
     ]
    }
   ],
   "source": [
    "first = int(input(\"첫번째 숫자는?\"))\n",
    "second = int(input(\"두번째 숫자는?\"))"
   ]
  },
  {
   "cell_type": "code",
   "execution_count": 63,
   "id": "7b063068",
   "metadata": {},
   "outputs": [
    {
     "name": "stdout",
     "output_type": "stream",
     "text": [
      "두 수의 합은 :  10\n"
     ]
    }
   ],
   "source": [
    "print(\"두 수의 합은 : \", first+second)"
   ]
  },
  {
   "cell_type": "code",
   "execution_count": 67,
   "id": "74e1ffa1",
   "metadata": {},
   "outputs": [
    {
     "name": "stdout",
     "output_type": "stream",
     "text": [
      "first - 8 - second - 2\tHello Python\n"
     ]
    }
   ],
   "source": [
    "print('first', first, 'second', second, sep=' - ', end='\\t')\n",
    "print('Hello', 'Python', sep = ' ')"
   ]
  },
  {
   "cell_type": "markdown",
   "id": "1d9cca3c",
   "metadata": {},
   "source": [
    "# 3절. 기본 자료형\n",
    "- 자료형 : 변수가 가져야 할 값의 형식. 자료형의 따라 값의 크기와 저장 방식 달라짐\n",
    "- 자료형에 따라 수행할 수 있는 명령어들이 달라짐\n",
    "    - `숫자` : int, float(소수점 4.0), complex(허수부 j)\n",
    "    - `문자` : str (\"\", '')\n",
    "    - `논리` : bool(True/False)\n",
    "    \n",
    "## 3.1 숫자형"
   ]
  },
  {
   "cell_type": "code",
   "execution_count": 82,
   "id": "b6c02886",
   "metadata": {},
   "outputs": [
    {
     "name": "stdout",
     "output_type": "stream",
     "text": [
      "9223372036854775807\n"
     ]
    }
   ],
   "source": [
    "import sys\n",
    "print (sys.maxsize) # 정수의 최대값 : 2**63 - 1"
   ]
  },
  {
   "cell_type": "code",
   "execution_count": 83,
   "id": "68765be2",
   "metadata": {},
   "outputs": [
    {
     "data": {
      "text/plain": [
       "9223372036854775807"
      ]
     },
     "execution_count": 83,
     "metadata": {},
     "output_type": "execute_result"
    }
   ],
   "source": [
    "2**63 - 1"
   ]
  },
  {
   "cell_type": "code",
   "execution_count": 89,
   "id": "03804d88",
   "metadata": {},
   "outputs": [
    {
     "name": "stdout",
     "output_type": "stream",
     "text": [
      "1000009223372036854775807\n",
      "<class 'int'>\n"
     ]
    }
   ],
   "source": [
    "i = sys.maxsize + 1000000000000000000000000\n",
    "print(i)\n",
    "print(type(i))\n",
    "\n",
    "#int에는 정수의 최대값보다 큰 값 역시 들어간다 (무한대로)"
   ]
  },
  {
   "cell_type": "code",
   "execution_count": 91,
   "id": "a8716cc3",
   "metadata": {},
   "outputs": [
    {
     "name": "stdout",
     "output_type": "stream",
     "text": [
      "1.2e-24\n",
      "1.2e+20\n"
     ]
    }
   ],
   "source": [
    "#f = 0.000000000000000000000012\n",
    "f = 1.2e-24 # 지수형 1.2 * 10의 -24승\n",
    "print(f)\n",
    "b = 1.2e20 # 지수형 1.2*10의 20승\n",
    "print(b)"
   ]
  },
  {
   "cell_type": "code",
   "execution_count": 92,
   "id": "26b8bbf6",
   "metadata": {},
   "outputs": [
    {
     "name": "stdout",
     "output_type": "stream",
     "text": [
      "f= 1.5\n"
     ]
    }
   ],
   "source": [
    "#파이썬에서는 /의 결과는 무조건 실수\n",
    "f = 3/2\n",
    "print('f=',f)"
   ]
  },
  {
   "cell_type": "code",
   "execution_count": 94,
   "id": "53770b00",
   "metadata": {},
   "outputs": [
    {
     "name": "stdout",
     "output_type": "stream",
     "text": [
      "f= 1\n",
      "f= 1\n"
     ]
    }
   ],
   "source": [
    "# 자바나 C, C++처럼 정수/정수 결과를 정수로\n",
    "f = int(3/2) # int() : int로 형변환(내림)\n",
    "print('f=',f)\n",
    "\n",
    "f = 3//2 #몫 연산자\n",
    "print('f=', f)"
   ]
  },
  {
   "cell_type": "markdown",
   "id": "b52b82fa",
   "metadata": {},
   "source": [
    "## 3.2 문자형\n",
    "겹따옴표(\"~\")나 홑따옴표('-') 이용"
   ]
  },
  {
   "cell_type": "code",
   "execution_count": 96,
   "id": "b2459546",
   "metadata": {},
   "outputs": [
    {
     "name": "stdout",
     "output_type": "stream",
     "text": [
      "홍길동'짱' 서울시 관악구 \"신림\"동\n"
     ]
    }
   ],
   "source": [
    "#name = '홍길동\\'짱\\''   #홍길동'짱'\n",
    "name = \"홍길동'짱'\"\n",
    "address = '서울시 관악구 \"신림\"동' # 서울시 관악구 \"신림\"동\n",
    "print(name, address)"
   ]
  },
  {
   "cell_type": "code",
   "execution_count": 98,
   "id": "69ccb9a7",
   "metadata": {},
   "outputs": [
    {
     "name": "stdout",
     "output_type": "stream",
     "text": [
      "여러줄\t짜리 내용을 저장\n",
      "줄바꿈 문자를 쓰면 여러줄\n",
      "줄바꿈\n"
     ]
    }
   ],
   "source": [
    "# escape 문자(탈출 문자) : \\n, \\t, ....\n",
    "text = \"여러줄\\t짜리 내용을 저장\\n줄바꿈 문자를 쓰면 여러줄\\n줄바꿈\"\n",
    "print(text)"
   ]
  },
  {
   "cell_type": "code",
   "execution_count": 100,
   "id": "2389d6b2",
   "metadata": {},
   "outputs": [
    {
     "name": "stdout",
     "output_type": "stream",
     "text": [
      "여러줄따리\t 내용을 저장\n",
      "줄바꿈 문자를 쓰면 여러줄\n",
      "줄바꿈\n",
      "\n"
     ]
    }
   ],
   "source": [
    "text = '''여러줄따리\\t 내용을 저장\n",
    "줄바꿈 문자를 쓰면 여러줄\n",
    "줄바꿈\n",
    "'''\n",
    "print(text)"
   ]
  },
  {
   "cell_type": "markdown",
   "id": "971e25a1",
   "metadata": {},
   "source": [
    "### ※ 문자열 연산(+, *)"
   ]
  },
  {
   "cell_type": "code",
   "execution_count": 102,
   "id": "792e6735",
   "metadata": {},
   "outputs": [
    {
     "name": "stdout",
     "output_type": "stream",
     "text": [
      "홍길동동해번쩍\n",
      "홍길동 동해번쩍\n"
     ]
    }
   ],
   "source": [
    "\"\"\"\n",
    "    여러 줄 주석 용도\n",
    "    2025.09.12 문장열 연산 by 아무개\n",
    "\"\"\"\n",
    "name1 = \"홍길동\"\n",
    "name2 = \"동해번쩍\"\n",
    "print(name1 + name2)\n",
    "print(name1, name2)"
   ]
  },
  {
   "cell_type": "code",
   "execution_count": 103,
   "id": "43ec2e1e",
   "metadata": {},
   "outputs": [
    {
     "name": "stdout",
     "output_type": "stream",
     "text": [
      "홍길동홍길동홍길동\n"
     ]
    }
   ],
   "source": [
    "print (name1 * 3)"
   ]
  },
  {
   "cell_type": "markdown",
   "id": "04f8d407",
   "metadata": {},
   "source": [
    "### ※ raw 데이터\n",
    "- 용도 :정규표현식 이용, 디렉토리 경로를 표현시 이용"
   ]
  },
  {
   "cell_type": "code",
   "execution_count": 105,
   "id": "b1a1b446",
   "metadata": {},
   "outputs": [
    {
     "name": "stdout",
     "output_type": "stream",
     "text": [
      "Hello\\nWorld\n"
     ]
    }
   ],
   "source": [
    "#raw 데이터 : 데이터 처리시 이스케이프 문자(탈출문자)를 그대로 처리\n",
    "print(r\"Hello\\nWorld\")"
   ]
  },
  {
   "cell_type": "markdown",
   "id": "95fb2028",
   "metadata": {},
   "source": [
    "### 정규표현시 (regex)\n",
    "    1. 참조 : https://ko.wikipedia.org/wiki/정규표현식 위키백과\n",
    "    2. 간략문법\n",
    "        \\d (숫자와 매치 [0-9])\n",
    "        \\D (숫자가 아닌 것)\n",
    "        \\w (영문자나 숫자나 _ [_a-zA-Z0-9]와 동일)\n",
    "        \\W (영문자나 숫자나 _가 아닌 문자)\n",
    "        . (문자)\n",
    "        \\. (.)\n",
    "        \\- (-)\n",
    "        {2,} (2회 이상 반복)\n",
    "        {2,4} (2~4회 반복)\n",
    "        ? (0번 또는 1회 반복)\n",
    "        * (0번 이상 반복)\n",
    "        + (1번 이상 반복)\n",
    "    3. 정규표현식 연습장 https://regexr.com/\n",
    "        ex1. 전화번호 : 02 888 7777 / 028887777 / 010-9999-9999 / 010.9999.9999 / 02)999-9999\n",
    "            => \\d{2,3}[)\\- \\.]?\\d{3,4}[\\- \\.]?\\d{4}\n",
    "        ex2. 이메일 : abc123@naver.com / abc123@sns.co.kr\n",
    "            => \\w+@\\w+(\\.\\w+){1,2}\n",
    "        ex3. 주민번호: 123456-1234567\n",
    "            => \\d{2}(0[1-9]|1[0-2])(0[1-9]|[12]\\d|3[0-1])\\-[1-4]\\d{6}\n",
    "    4. 소스구현"
   ]
  },
  {
   "cell_type": "code",
   "execution_count": 112,
   "id": "e209d18e",
   "metadata": {},
   "outputs": [
    {
     "name": "stdout",
     "output_type": "stream",
     "text": [
      "이름:홍길동, 주소:서울, 전화:02-888-8888,전화번호:010-9999-9999, 특징:동해번쩍서해번쩍혈액형:Bㅋㅋ ㅋㅋzz\n"
     ]
    }
   ],
   "source": [
    "import re\n",
    "data = \"이름:홍길동, 주소:서울, 전화:02-888-8888,\\\n",
    "전화번호:010-9999-9999, 특징:동해번쩍서해번쩍\\\n",
    "혈액형:Bㅋㅋ ㅋㅋzz\"\n",
    "print(data)"
   ]
  },
  {
   "cell_type": "code",
   "execution_count": 109,
   "id": "8efd3145",
   "metadata": {},
   "outputs": [
    {
     "name": "stdout",
     "output_type": "stream",
     "text": [
      "['02-888-8888', '010-9999-9999']\n"
     ]
    }
   ],
   "source": [
    "# 정규표현식 처리에서는 raw 데이터 처리를 하지 않아도 실행은 되나\n",
    "# 실수를 줄이고 가독성을 죽이는 용도로 raw 데이터 처리를 사용\n",
    "tel_pattern = r'\\d{2,3}[)\\- \\.]?\\d{3,4}[\\- \\.]?\\d{4}'\n",
    "#해당 패턴을 다 찾아줌. 없으면 빈 list\n",
    "tels = re.findall(tel_pattern, data)\n",
    "print(tels)"
   ]
  },
  {
   "cell_type": "code",
   "execution_count": 110,
   "id": "c11c8568",
   "metadata": {},
   "outputs": [
    {
     "name": "stdout",
     "output_type": "stream",
     "text": [
      "[]\n"
     ]
    }
   ],
   "source": [
    "email_pattern = r'\\w+@\\w+(\\.\\w+){1,2}'\n",
    "emails = re.findall(email_pattern, data)\n",
    "print(emails)"
   ]
  },
  {
   "cell_type": "code",
   "execution_count": 113,
   "id": "af42d192",
   "metadata": {},
   "outputs": [
    {
     "data": {
      "text/plain": [
       "<re.Match object; span=(18, 29), match='02-888-8888'>"
      ]
     },
     "execution_count": 113,
     "metadata": {},
     "output_type": "execute_result"
    }
   ],
   "source": [
    "# 정규표현식 패턴과 처음 일치되는 것을 찾아줘\n",
    "firstTel = re.search(tel_pattern, data)\n",
    "firstTel"
   ]
  },
  {
   "cell_type": "code",
   "execution_count": 115,
   "id": "e0dd0221",
   "metadata": {},
   "outputs": [
    {
     "name": "stdout",
     "output_type": "stream",
     "text": [
      "02-888-8888\n",
      "02-888-8888\n"
     ]
    }
   ],
   "source": [
    "print(data[18:29]) #문자열 슬라이싱\n",
    "print(firstTel.group(0))"
   ]
  },
  {
   "cell_type": "code",
   "execution_count": 116,
   "id": "045723db",
   "metadata": {},
   "outputs": [
    {
     "data": {
      "text/plain": [
       "<re.Match object; span=(18, 29), match='02-888-8888'>"
      ]
     },
     "execution_count": 116,
     "metadata": {},
     "output_type": "execute_result"
    }
   ],
   "source": [
    "tel_pattern = r'(\\d{2,3})[)\\- \\.]?(\\d{3,4})[\\- \\.]?(\\d{4})'\n",
    "firstPhone = re.search(tel_pattern, data)\n",
    "firstPhone"
   ]
  },
  {
   "cell_type": "code",
   "execution_count": 117,
   "id": "a6b9f98b",
   "metadata": {},
   "outputs": [
    {
     "name": "stdout",
     "output_type": "stream",
     "text": [
      "전체 전화번호 :  02-888-8888\n",
      "국번 :  02\n",
      "중간번호 :  888\n",
      "끝번호 :  8888\n"
     ]
    }
   ],
   "source": [
    "print('전체 전화번호 : ',firstPhone.group(0))\n",
    "print('국번 : ',firstPhone.group(1))\n",
    "print('중간번호 : ',firstPhone.group(2))\n",
    "print('끝번호 : ',firstPhone.group(3))"
   ]
  },
  {
   "cell_type": "code",
   "execution_count": 119,
   "id": "4099a3c1",
   "metadata": {},
   "outputs": [
    {
     "data": {
      "text/plain": [
       "'이름 홍길동  주소 서울  전화 02 888 8888 전화번호 010 9999 9999  특징 동해번쩍서해번쩍혈액형 B       '"
      ]
     },
     "execution_count": 119,
     "metadata": {},
     "output_type": "execute_result"
    }
   ],
   "source": [
    "# data에서 특정한 데이터 없애기\n",
    "re.sub(r'[^가-힣0-9A-Z\\s]', ' ', data)"
   ]
  },
  {
   "cell_type": "code",
   "execution_count": null,
   "id": "acfdc2fc",
   "metadata": {},
   "outputs": [],
   "source": []
  },
  {
   "cell_type": "code",
   "execution_count": null,
   "id": "a1dc52e7",
   "metadata": {},
   "outputs": [],
   "source": []
  },
  {
   "cell_type": "code",
   "execution_count": null,
   "id": "d977dd5b",
   "metadata": {},
   "outputs": [],
   "source": []
  },
  {
   "cell_type": "code",
   "execution_count": null,
   "id": "922ff95e",
   "metadata": {},
   "outputs": [],
   "source": []
  },
  {
   "cell_type": "code",
   "execution_count": null,
   "id": "00b35596",
   "metadata": {},
   "outputs": [],
   "source": []
  },
  {
   "cell_type": "code",
   "execution_count": null,
   "id": "ee92b57b",
   "metadata": {},
   "outputs": [],
   "source": []
  },
  {
   "cell_type": "code",
   "execution_count": null,
   "id": "5fc01ffd",
   "metadata": {},
   "outputs": [],
   "source": []
  },
  {
   "cell_type": "code",
   "execution_count": null,
   "id": "e876d93d",
   "metadata": {},
   "outputs": [],
   "source": []
  },
  {
   "cell_type": "code",
   "execution_count": null,
   "id": "7c900789",
   "metadata": {},
   "outputs": [],
   "source": []
  },
  {
   "cell_type": "code",
   "execution_count": null,
   "id": "dd472b7d",
   "metadata": {},
   "outputs": [],
   "source": []
  },
  {
   "cell_type": "code",
   "execution_count": null,
   "id": "68cb2c02",
   "metadata": {},
   "outputs": [],
   "source": []
  },
  {
   "cell_type": "code",
   "execution_count": null,
   "id": "a7a7aebd",
   "metadata": {},
   "outputs": [],
   "source": []
  },
  {
   "cell_type": "markdown",
   "id": "c85eca70",
   "metadata": {},
   "source": [
    "# Quiz\n",
    "### 1. 정수를 입력받아 짝수인지 홀수인지 여부를 출력"
   ]
  },
  {
   "cell_type": "code",
   "execution_count": 71,
   "id": "efcabf00",
   "metadata": {},
   "outputs": [
    {
     "name": "stdout",
     "output_type": "stream",
     "text": [
      "정수를 입력해주세요: 5\n",
      "홀수입니다\n"
     ]
    }
   ],
   "source": [
    "num = int(input(\"정수를 입력해주세요: \"))\n",
    "if (num % 2):\n",
    "    print(\"홀수입니다\")\n",
    "else:\n",
    "    print(\"짝수입니다\")"
   ]
  },
  {
   "cell_type": "markdown",
   "id": "c31edb7a",
   "metadata": {},
   "source": [
    "### 2. 정수를 입력받아 5의 배수인지 여부를 출력"
   ]
  },
  {
   "cell_type": "code",
   "execution_count": 74,
   "id": "df41d7f3",
   "metadata": {},
   "outputs": [
    {
     "name": "stdout",
     "output_type": "stream",
     "text": [
      "정수를 입력해주세요: 123\n",
      "5의 배수가 아닙니다\n"
     ]
    }
   ],
   "source": [
    "num = int(input(\"정수를 입력해주세요: \"))\n",
    "if (num%5):\n",
    "    print(\"5의 배수가 아닙니다\")\n",
    "else:\n",
    "    print(\"5의 배수입니다\")"
   ]
  },
  {
   "cell_type": "markdown",
   "id": "08be5476",
   "metadata": {},
   "source": [
    "### 국, 영, 수 점수를 입력받아 다음셀에서 다음과 같이 출력하도록 구현하시오\n",
    "<font size='3'>국어: 99 \\t 영어: 100 \\t 수학: 99\\\n",
    "총점:298 \\t 평균: 99.3</font>"
   ]
  },
  {
   "cell_type": "code",
   "execution_count": 77,
   "id": "92f1ec01",
   "metadata": {},
   "outputs": [
    {
     "name": "stdout",
     "output_type": "stream",
     "text": [
      "국어 점수를 입력해주세요: 100\n",
      "영어 점수를 입력해주세요: 99\n",
      "수학 점수를 입력해주세요: 99\n",
      "국어: 100\t영어: 99\t수학: 99\n",
      "총점: 298\t평균: 99.3\n"
     ]
    }
   ],
   "source": [
    "kor = input(\"국어 점수를 입력해주세요: \")\n",
    "eng = input(\"영어 점수를 입력해주세요: \")\n",
    "math = input(\"수학 점수를 입력해주세요: \")\n",
    "total = int(kor) + int(eng) + int(math)\n",
    "average = total/3\n",
    "print(\"국어: \"+kor, \"영어: \"+eng, \"수학: \"+math, sep=\"\\t\")\n",
    "print(\"총점: \"+str(total), \"평균: {:0.1f}\".format(average), sep=\"\\t\")"
   ]
  },
  {
   "cell_type": "markdown",
   "id": "fdffddc8",
   "metadata": {},
   "source": [
    "# 연습문제\n",
    "### 1. 이름과 나이 변수를 다음 형식으로 출력하도록 format() 함수를 이용해 형식화하세요 [출력형식: 홍길동님의 나이는 23살입니다]"
   ]
  },
  {
   "cell_type": "code",
   "execution_count": 15,
   "id": "03ca67ec",
   "metadata": {},
   "outputs": [
    {
     "name": "stdout",
     "output_type": "stream",
     "text": [
      "홍길동님의 나이는 23입니다\n"
     ]
    }
   ],
   "source": [
    "name = \"홍길동\"\n",
    "age = 23\n",
    "\n",
    "print (\"{}님의 나이는 {}입니다\".format(name,age))"
   ]
  },
  {
   "cell_type": "markdown",
   "id": "a0e2ba0d",
   "metadata": {},
   "source": [
    "### 2. 두 정수를 입력받아 두 수의 덧셈, 뺄셈, 곱셈, 나눗셈, 몫, 나머지를 출력하세요"
   ]
  },
  {
   "cell_type": "code",
   "execution_count": 46,
   "id": "35c5934e",
   "metadata": {},
   "outputs": [
    {
     "name": "stdout",
     "output_type": "stream",
     "text": [
      "첫번째 정수를 알려주세요: 30\n",
      "두번째 정수를 알려주세요: 15\n",
      "덧셈 :  45\n",
      "뺄셈 :  15\n",
      "곱셈 :  450\n",
      "나눗셈:  2.0\n",
      "몫 :  2\n",
      "나머지 :  0\n"
     ]
    }
   ],
   "source": [
    "input_1 = int(input(\"첫번째 정수를 알려주세요: \"))\n",
    "input_2 = int(input(\"두번째 정수를 알려주세요: \"))\n",
    "print(\"덧셈 : \", input_1+input_2)\n",
    "print(\"뺄셈 : \", input_1-input_2)\n",
    "print(\"곱셈 : \", input_1*input_2)\n",
    "if (input_2 == 0):\n",
    "    print(\"나눗셈: 분모(두번째 정수)가 0입니다 다른 수를 선택해주세요\")\n",
    "else :\n",
    "    print(\"나눗셈: \", input_1/input_2)\n",
    "    print(\"몫 : \", input_1//input_2)\n",
    "    print(\"나머지 : \", input_1 % input_2)\n"
   ]
  },
  {
   "cell_type": "markdown",
   "id": "5f554e8d",
   "metadata": {},
   "source": [
    "### 3. 문자열의 분리하기와 합치기 기능을 이용하여 'Hello World'가 할당된 변수를 이용하여 'World Hello'로 출력하세요"
   ]
  },
  {
   "cell_type": "code",
   "execution_count": 64,
   "id": "f021c70a",
   "metadata": {},
   "outputs": [
    {
     "name": "stdout",
     "output_type": "stream",
     "text": [
      "World Hello\n"
     ]
    }
   ],
   "source": [
    "string = \"Hello World\"\n",
    "hello, world = string.split()\n",
    "print(world, hello)"
   ]
  },
  {
   "cell_type": "markdown",
   "id": "53474698",
   "metadata": {},
   "source": [
    "### 4. x='abcdef'를 이용하여 'bcdefa'로 출력하세요 (문자 슬라이싱이용)."
   ]
  },
  {
   "cell_type": "code",
   "execution_count": 22,
   "id": "c7860f99",
   "metadata": {},
   "outputs": [
    {
     "name": "stdout",
     "output_type": "stream",
     "text": [
      "bcdefa\n"
     ]
    }
   ],
   "source": [
    "x='abcdef'\n",
    "print(x[1:]+x[0])"
   ]
  },
  {
   "cell_type": "markdown",
   "id": "61720d65",
   "metadata": {},
   "source": [
    "### 5. x='abcdef'를 이용하여 'fedcba'로 출력하세요"
   ]
  },
  {
   "cell_type": "code",
   "execution_count": 26,
   "id": "7b8abef1",
   "metadata": {},
   "outputs": [
    {
     "name": "stdout",
     "output_type": "stream",
     "text": [
      "fedcba\n"
     ]
    }
   ],
   "source": [
    "x='abcdef'\n",
    "print(x[::-1])"
   ]
  },
  {
   "cell_type": "markdown",
   "id": "2ccc5600",
   "metadata": {},
   "source": [
    "### 6. 오늘의 온도를 섭씨온도로 입력받아 화씨 온도로 변환하는 프로그램을 작성하세요. 화씨 돈도는 소수점이 있을 경우만 두번째 자리까지 출력되고, 소수점 이하 값이 없는 경우 소수점을 출력 하지 않도록 합니다. (다음은 섭씨와 화씨의 변환 공식입니다. C는 섭씨, F는 화씨)\n",
    "- C = (F-32) / 1.8\n",
    "- F = (C*1.8) + 3.2"
   ]
  },
  {
   "cell_type": "code",
   "execution_count": 54,
   "id": "9b0199d9",
   "metadata": {},
   "outputs": [
    {
     "name": "stdout",
     "output_type": "stream",
     "text": [
      "오늘의 섭씨온도를 알려주세요: 30\n",
      "오늘의 섭씨 온도는: 30.00, 화씨 온도는: 57.20\n"
     ]
    }
   ],
   "source": [
    "C = float(input(\"오늘의 섭씨온도를 알려주세요: \"))\n",
    "F = (C*1.8) + 3.2\n",
    "print(\"오늘의 섭씨 온도는: {:0.2f}, 화씨 온도는: {:0.2f}\".format(C, F))"
   ]
  },
  {
   "cell_type": "markdown",
   "id": "ef52a488",
   "metadata": {},
   "source": [
    "### 7. 다음 중 변수 선언으로 잘못된 것을 모두 고르시오?\n",
    "<font size='4'>1. for\\\n",
    "2. 10th\\\n",
    "3. Student.name\\\n",
    "4. _1234 </font>"
   ]
  },
  {
   "cell_type": "markdown",
   "id": "82937319",
   "metadata": {},
   "source": [
    "<font size='3'> 1,2,3\\\n",
    "for : 예약어는 변수 이름으로 불가\\\n",
    "10th : 변수는 항상 문자로 시작\\\n",
    "Student.name : .은 변수 이름으로 사용 불가\n",
    "</font>"
   ]
  },
  {
   "cell_type": "markdown",
   "id": "e55a3c6c",
   "metadata": {},
   "source": [
    "### 8. 다음의 코드의 실행 결과는?\n",
    "\n",
    "<font size='4'> text = \"Seoul A001 - programming with python\"\\\n",
    "print(text[:4]+text[-1]+text.split()[0])\\\n",
    "print(text[:4], text[-1], text.split()[0]) </font>"
   ]
  },
  {
   "cell_type": "markdown",
   "id": "a8625ce3",
   "metadata": {},
   "source": [
    "<font size=\"3\">SeounSeoul\\\n",
    "Seou n Seoul</font>"
   ]
  },
  {
   "cell_type": "markdown",
   "id": "0be2000a",
   "metadata": {},
   "source": [
    "### 9. 다음 중 파이썬 3.x 버전에서 연산식과 그 결과의 출력이 잘못된 것은?\n",
    "<font size='4'>1. 수식 8//2 결과 4\\\n",
    "2. 수식 8/2 결과 4\\\n",
    "3. 수식 8 **2 결과 64 </font>"
   ]
  },
  {
   "cell_type": "markdown",
   "id": "bf1d027c",
   "metadata": {},
   "source": [
    "<font size=\"3\">2번 나눗셈의 경우 float이 결과값으로 출력되기 때문에 4가 아니라 4.0이 올바른 출력값입니다</font>"
   ]
  },
  {
   "cell_type": "markdown",
   "id": "6d7cb3a2",
   "metadata": {},
   "source": [
    "### 10. 아래 프로그램의 결과는?\n",
    "<font size='4'>x = 5\\\n",
    "y = \"John\"\\\n",
    "print (x+y) </font>"
   ]
  },
  {
   "cell_type": "markdown",
   "id": "5924c5d6",
   "metadata": {},
   "source": [
    "<font size=\"3\">정수와 문자의 덧셈을 하려하였기에 Error가 나옵니다</font>"
   ]
  },
  {
   "cell_type": "markdown",
   "id": "745ddd4d",
   "metadata": {},
   "source": [
    "### 11. split() 함수를 이용하여 str_의 값 중 \" 나라 \"를 출력하는 프로그램을 완성하시오\n",
    "<font size='4'>str_ = \"우리 나라 대한 민국\" </font>"
   ]
  },
  {
   "cell_type": "code",
   "execution_count": 78,
   "id": "1c7cea96",
   "metadata": {},
   "outputs": [
    {
     "name": "stdout",
     "output_type": "stream",
     "text": [
      "나라\n"
     ]
    }
   ],
   "source": [
    "str_=\"우리 나라 대한 민국\"\n",
    "print(str_.split()[1])"
   ]
  },
  {
   "cell_type": "code",
   "execution_count": null,
   "id": "f3606c30",
   "metadata": {},
   "outputs": [],
   "source": []
  }
 ],
 "metadata": {
  "kernelspec": {
   "display_name": "Python 3 (ipykernel)",
   "language": "python",
   "name": "python3"
  },
  "language_info": {
   "codemirror_mode": {
    "name": "ipython",
    "version": 3
   },
   "file_extension": ".py",
   "mimetype": "text/x-python",
   "name": "python",
   "nbconvert_exporter": "python",
   "pygments_lexer": "ipython3",
   "version": "3.10.9"
  },
  "toc": {
   "base_numbering": 1,
   "nav_menu": {},
   "number_sections": false,
   "sideBar": true,
   "skip_h1_title": false,
   "title_cell": "Table of Contents",
   "title_sidebar": "Contents",
   "toc_cell": false,
   "toc_position": {
    "height": "calc(100% - 180px)",
    "left": "10px",
    "top": "150px",
    "width": "384px"
   },
   "toc_section_display": true,
   "toc_window_display": false
  }
 },
 "nbformat": 4,
 "nbformat_minor": 5
}
