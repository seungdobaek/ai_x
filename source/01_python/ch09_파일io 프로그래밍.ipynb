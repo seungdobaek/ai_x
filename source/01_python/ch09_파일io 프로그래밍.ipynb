{
 "cells": [
  {
   "cell_type": "code",
   "execution_count": 1,
   "id": "b08ec489",
   "metadata": {},
   "outputs": [
    {
     "data": {
      "text/html": [
       "\n",
       "<style>\n",
       "div.container{width:90% !important;}\n",
       "div.cell.code_cell.rendered{width:100%;}\n",
       "div.input_prompt{padding:0px;}\n",
       "div.CodeMirror {font-family:Consolas; font-size:12pt;}\n",
       "div.text_cell_render.rendered_html{font size:12pt;}\n",
       "div.output {font-size:12pt; font-weight:bold;}\n",
       "div.input{font-family:Consolas; font-size:12pt;}\n",
       "div.prompt {min width:70px;}\n",
       "div#toc-wrapper {padding-top:120px;}\n",
       "div.text_cell_render ul li{font-size:12pt;padding:5px;}\n",
       "table.dataframe {font-size:12px;}\n",
       "</style>\n"
      ],
      "text/plain": [
       "<IPython.core.display.HTML object>"
      ]
     },
     "metadata": {},
     "output_type": "display_data"
    }
   ],
   "source": [
    "from IPython.display import display, HTML\n",
    "display(HTML(\"\"\"\n",
    "<style>\n",
    "div.container{width:90% !important;}\n",
    "div.cell.code_cell.rendered{width:100%;}\n",
    "div.input_prompt{padding:0px;}\n",
    "div.CodeMirror {font-family:Consolas; font-size:12pt;}\n",
    "div.text_cell_render.rendered_html{font size:12pt;}\n",
    "div.output {font-size:12pt; font-weight:bold;}\n",
    "div.input{font-family:Consolas; font-size:12pt;}\n",
    "div.prompt {min width:70px;}\n",
    "div#toc-wrapper {padding-top:120px;}\n",
    "div.text_cell_render ul li{font-size:12pt;padding:5px;}\n",
    "table.dataframe {font-size:12px;}\n",
    "</style>\n",
    "\"\"\"))"
   ]
  },
  {
   "cell_type": "markdown",
   "id": "a034df91",
   "metadata": {},
   "source": [
    "<b><font size='6' color='red'>ch09 파일 i/o 프로그래밍</font></b>\n",
    "- 파일 : txt, pickle(머신러닝모델저장, 배열), csv, json, h5(딥러닝모델저장)\n",
    "\n",
    "# 1절 txt파일에 데이터 저장하고 불러오기"
   ]
  },
  {
   "cell_type": "code",
   "execution_count": 3,
   "id": "e08f0419",
   "metadata": {},
   "outputs": [
    {
     "name": "stdout",
     "output_type": "stream",
     "text": [
      "쓰기 가능한지 : True\n"
     ]
    }
   ],
   "source": [
    "# mode = 'r', 'rt' : 텍스트 읽기모드로 열기, 파일이 없을경우 예외 발생\n",
    "# mode = 'w', 'wt' : 텍스트 쓰기모드로 열기, 폴더가 없을경우 예외 발생, 파일이 없으면 생성, 파일이 있으면 덮어쓰기, close를 해야 저장\n",
    "# mode = 'a', 'at' : 텍스트 쓰기모드로 열기, 폳러가 없을경우 예외 발생, 파일이 없으면 생성, 파일이 있으면 append\n",
    "f = open('data/ch09.txt', 'w') #기본 인코딩 'cp949' (win), 운영체제마다 다를수도\n",
    "print('쓰기 가능한지 :', f.writable())\n",
    "f.write('Hello\\nWorld\\n')\n",
    "f.close()"
   ]
  },
  {
   "cell_type": "code",
   "execution_count": 4,
   "id": "11e45dec",
   "metadata": {},
   "outputs": [
    {
     "name": "stdout",
     "output_type": "stream",
     "text": [
      "쓰기 가능한지 : True\n"
     ]
    }
   ],
   "source": [
    "# with 구문을 사용하면 매번 close()하는 코드가 불필요\n",
    "with open('data/ch09.txt', 'wt') as f:\n",
    "    print('쓰기 가능한지 :', f.writable())\n",
    "    f.write('Python is easy.\\nPython is smart.\\n')"
   ]
  },
  {
   "cell_type": "code",
   "execution_count": 8,
   "id": "550c1c6a",
   "metadata": {},
   "outputs": [
    {
     "name": "stdout",
     "output_type": "stream",
     "text": [
      "프린트 함수로 파일 쓰기가 가능합니다-콘솔출력\n"
     ]
    }
   ],
   "source": [
    "with open('data/ch09.txt', 'a') as f:\n",
    "    print('프린트 함수로 파일 쓰기가 가능합니다-파일출력 :', file=f)\n",
    "    print('프린트 함수로 파일 쓰기가 가능합니다-콘솔출력')\n",
    "    f.write('Python is easy.\\nPython is smart.\\n')"
   ]
  },
  {
   "cell_type": "markdown",
   "id": "faacbd38",
   "metadata": {},
   "source": [
    "- 한글 읽기/쓰기\n",
    "    - cp949(한글완성형확장형) : open 함수의 기본 인코딩(win)\n",
    "    - utf-8(한글조합형) : 주피터노트북에서 열기"
   ]
  },
  {
   "cell_type": "code",
   "execution_count": 4,
   "id": "09358bdb",
   "metadata": {},
   "outputs": [],
   "source": [
    "with open('data/ch09.txt','w', encoding='utf-8') as f:\n",
    "    # 방법 1\n",
    "    f.write('홍길동, 30, 서울\\n')\n",
    "    f.write('김길동, 20, 수원\\n')\n",
    "    # 방법 2\n",
    "    textlist = ['홍길동, 30, 서울\\n', '김길동, 20, 부산\\n']\n",
    "    for line in textlist:\n",
    "        f.write(line)\n",
    "    # 방법 3\n",
    "    f.writelines(textlist) #리스트를 한꺼번에 write, 위의 for문과 동일"
   ]
  },
  {
   "cell_type": "code",
   "execution_count": 5,
   "id": "6c1e9b62",
   "metadata": {},
   "outputs": [
    {
     "data": {
      "text/plain": [
       "'홍길동, 30, 서울\\n김길동, 20, 수원\\n홍길동, 30, 서울\\n김길동, 20, 부산\\n홍길동, 30, 서울\\n김길동, 20, 부산\\n'"
      ]
     },
     "execution_count": 5,
     "metadata": {},
     "output_type": "execute_result"
    }
   ],
   "source": [
    "# 파일을 한꺼번에 읽어오기\n",
    "with open('data/ch09.txt', 'rt', encoding='utf-8') as f:\n",
    "    filecontent = f.read()\n",
    "filecontent"
   ]
  },
  {
   "cell_type": "code",
   "execution_count": 6,
   "id": "d45a4250",
   "metadata": {},
   "outputs": [
    {
     "name": "stdout",
     "output_type": "stream",
     "text": [
      "홍길동, 30, 서울\n",
      "김길동, 20, 수원\n",
      "홍길동, 30, 서울\n",
      "김길동, 20, 부산\n",
      "홍길동, 30, 서울\n",
      "김길동, 20, 부산\n"
     ]
    }
   ],
   "source": [
    "# 파일을 한줄 읽고, 출력하고, 한줄읽고 출력, ...\n",
    "with open('data/ch09.txt', 'r', encoding='utf-8') as txtfile:\n",
    "    line = txtfile.readline()\n",
    "    while line != '':\n",
    "        print(line, end='') # line 변수 자체에 \\n이 포함되어 있기에 출력시 개행은 제거\n",
    "        line = txtfile.readline()\n",
    "    "
   ]
  },
  {
   "cell_type": "code",
   "execution_count": 7,
   "id": "d319b693",
   "metadata": {},
   "outputs": [
    {
     "name": "stdout",
     "output_type": "stream",
     "text": [
      "['홍길동, 30, 서울\\n', '김길동, 20, 수원\\n', '홍길동, 30, 서울\\n', '김길동, 20, 부산\\n', '홍길동, 30, 서울\\n', '김길동, 20, 부산\\n']\n"
     ]
    }
   ],
   "source": [
    "# 파일을 한꺼번에 여러줄 읽어, 한줄씩 list담아 return\n",
    "with open('data/ch09.txt', 'r', encoding='utf-8') as txtfile:\n",
    "    lines = txtfile.readlines()\n",
    "print(lines)"
   ]
  },
  {
   "cell_type": "code",
   "execution_count": 8,
   "id": "0228dda7",
   "metadata": {},
   "outputs": [
    {
     "name": "stdout",
     "output_type": "stream",
     "text": [
      "홍길동, 30, 서울\n",
      "김길동, 20, 수원\n",
      "홍길동, 30, 서울\n",
      "김길동, 20, 부산\n",
      "홍길동, 30, 서울\n",
      "김길동, 20, 부산\n"
     ]
    }
   ],
   "source": [
    "for line in lines:\n",
    "    print(line, end='')"
   ]
  },
  {
   "cell_type": "markdown",
   "id": "6063d69d",
   "metadata": {},
   "source": [
    "# 2절 피클을 이용한 객체 저장 및 불러오기\n",
    "- 피클 파일의 용도 : 머신러닝 모델저장, 배열저장, 객체저장\n",
    "- 확장자 : *.pickel, *.pkl, *.data\n",
    "\n",
    "## 2.1 형식이 있는 텍스트 데이터 불러오기"
   ]
  },
  {
   "cell_type": "code",
   "execution_count": 18,
   "id": "7615568f",
   "metadata": {},
   "outputs": [
    {
     "name": "stdout",
     "output_type": "stream",
     "text": [
      "['홍길동', '20', 'kildong@hong.com', '서울시 관악구\\n']\n",
      "{'name': '홍길동', 'age': 20, 'email': 'kildong@hong.com', 'address': '서울시 관악구'}\n",
      "['홍길숙', '25', 'kilsuk1@hong.com', '서울시 영등포구\\n']\n",
      "{'name': '홍길숙', 'age': 25, 'email': 'kilsuk1@hong.com', 'address': '서울시 영등포구'}\n",
      "['신길동', '30', 'shinkil@hong.com', '서울시 동작구']\n",
      "{'name': '신길동', 'age': 30, 'email': 'shinkil@hong.com', 'address': '서울시 동작구'}\n"
     ]
    }
   ],
   "source": [
    "with open('data/ch09_member.txt', 'r', encoding='utf-8') as f:\n",
    "    lines = f.readlines()\n",
    "#print(lines)\n",
    "for line in lines:\n",
    "    # print(line)\n",
    "    data = line.split(', ')\n",
    "    print(data)\n",
    "    name = data[0]\n",
    "    age = int(data[1])\n",
    "    email = data[2]\n",
    "    address = data[3].strip()\n",
    "    print({'name':name, 'age':age, 'email':email, 'address':address})"
   ]
  },
  {
   "cell_type": "code",
   "execution_count": 101,
   "id": "716592ff",
   "metadata": {},
   "outputs": [],
   "source": [
    "class Member:\n",
    "    def __init__(self, name, age, email, address):\n",
    "        self.name = name\n",
    "        self.age = age\n",
    "        self.email = email\n",
    "        self.address = address\n",
    "    \n",
    "    def __str__(self):\n",
    "        return 'name : {}, age : {}, email : {}, address : {}'.format(self.name, self.age, self.email, self.address)\n",
    "    \n",
    "#     def __eq__(self, other):\n",
    "#         비교할것이 많아지면 하나하나 하기 너무 힘들다\n",
    "#         return (self.name == other.name) & (self.age == other.age) & (self.email == other.email) & (self.address == other.address)\n",
    "    \n",
    "    def __eq__(self, other):\n",
    "        return self.__str__() == other.__str__()\n",
    "    \n",
    "    def as_dict(self):\n",
    "        '객체를 dictionary로 바꿔 return (json 파일 저장시 필요)'\n",
    "        return self.__dict__\n",
    "        "
   ]
  },
  {
   "cell_type": "code",
   "execution_count": 28,
   "id": "2a5997ad",
   "metadata": {},
   "outputs": [
    {
     "name": "stdout",
     "output_type": "stream",
     "text": [
      "name : 신길동, age : 30, email : shinkil@hong.com, address : 서울시 동작구\n",
      "name : 신길동, age : 30, email : shinkil@hong.com, address : 서울시 동작구\n",
      "True\n",
      "True\n",
      "{'name': '신길동', 'age': 30, 'email': 'shinkil@hong.com', 'address': '서울시 동작구'}\n",
      "{'name': '신길동', 'age': 30, 'email': 'shinkil@hong.com', 'address': '서울시 동작구'}\n"
     ]
    }
   ],
   "source": [
    "member1 = Member('신길동', 30, 'shinkil@hong.com', '서울시 동작구')\n",
    "member2 = Member('신길동', 30, 'shinkil@hong.com', '서울시 동작구')\n",
    "print(member1.__str__())\n",
    "print(member2)\n",
    "print(member2 == member1)\n",
    "print(member2.__eq__(member1))\n",
    "print(member1.__dict__)\n",
    "print(member1.as_dict())"
   ]
  },
  {
   "cell_type": "markdown",
   "id": "039a9a54",
   "metadata": {},
   "source": [
    "## 2.2 피클링\n",
    "- 객체리스트 -> 피클파일로 쓰기\n",
    "- 피클 파일 -> 객체리스트로 읽기"
   ]
  },
  {
   "cell_type": "code",
   "execution_count": 30,
   "id": "627707f8",
   "metadata": {},
   "outputs": [],
   "source": [
    "# data/ch09_member.txt -> 객체list, 딕셔너리list\n",
    "member_list = [] # Member 객체 list\n",
    "dict_list = [] # 딕셔너리 list\n",
    "with open('data/ch09_member.txt', 'r', encoding='utf-8') as f:\n",
    "    lines = f.readlines()\n",
    "for line in lines:\n",
    "    data = line.strip().split(', ')\n",
    "    name = data[0]\n",
    "    age = int(data[1])\n",
    "    email = data[2]\n",
    "    address = data[3].strip()\n",
    "    member = Member(name, age, email, address)\n",
    "    member_list.append(member)\n",
    "    dict_list.append(member.__dict__)"
   ]
  },
  {
   "cell_type": "code",
   "execution_count": 31,
   "id": "3a167db8",
   "metadata": {},
   "outputs": [
    {
     "name": "stdout",
     "output_type": "stream",
     "text": [
      "name : 홍길동, age : 20, email : kildong@hong.com, address : 서울시 관악구\n",
      "name : 홍길숙, age : 25, email : kilsuk1@hong.com, address : 서울시 영등포구\n",
      "name : 신길동, age : 30, email : shinkil@hong.com, address : 서울시 동작구\n"
     ]
    }
   ],
   "source": [
    "for member in member_list:\n",
    "    print(member)"
   ]
  },
  {
   "cell_type": "code",
   "execution_count": 35,
   "id": "946f3480",
   "metadata": {},
   "outputs": [],
   "source": [
    "# 피클링(확장자 :pkl, pickel, data)을 이용한 객체를 파일에 저장하기\n",
    "import pickle\n",
    "with open('data/ch09_member.pkl', 'wb') as f:\n",
    "    pickle.dump(member_list, f)"
   ]
  },
  {
   "cell_type": "code",
   "execution_count": 36,
   "id": "87f1869c",
   "metadata": {},
   "outputs": [],
   "source": [
    "# 피클링을 이용한 파일을 객체리스트로 읽기\n",
    "with open('data/ch09_member.pkl', 'rb') as f:\n",
    "    load_member_list = pickle.load(f)"
   ]
  },
  {
   "cell_type": "code",
   "execution_count": 37,
   "id": "d9104eac",
   "metadata": {},
   "outputs": [
    {
     "data": {
      "text/plain": [
       "(1526692477376, 1526692393664)"
      ]
     },
     "execution_count": 37,
     "metadata": {},
     "output_type": "execute_result"
    }
   ],
   "source": [
    "id(member_list), id(load_member_list)"
   ]
  },
  {
   "cell_type": "code",
   "execution_count": 39,
   "id": "cde6acc6",
   "metadata": {},
   "outputs": [
    {
     "name": "stdout",
     "output_type": "stream",
     "text": [
      "0 번째 비교 : True\n",
      "1 번째 비교 : True\n",
      "2 번째 비교 : True\n"
     ]
    }
   ],
   "source": [
    "for idx in range(len(member_list)):\n",
    "    print(idx,'번째 비교 :', (member_list[idx] == load_member_list[idx]))"
   ]
  },
  {
   "cell_type": "code",
   "execution_count": 41,
   "id": "d1337af7",
   "metadata": {},
   "outputs": [
    {
     "name": "stdout",
     "output_type": "stream",
     "text": [
      "0 번째 비교 : True\n",
      "1 번째 비교 : True\n",
      "2 번째 비교 : True\n"
     ]
    }
   ],
   "source": [
    "for idx, (member, load_member) in enumerate(zip(member_list, load_member_list)):\n",
    "    print(idx,'번째 비교 :', member == load_member)"
   ]
  },
  {
   "cell_type": "code",
   "execution_count": 44,
   "id": "80d6cffd",
   "metadata": {},
   "outputs": [
    {
     "data": {
      "text/plain": [
       "[True, True, True]"
      ]
     },
     "execution_count": 44,
     "metadata": {},
     "output_type": "execute_result"
    }
   ],
   "source": [
    "result = [] # 비교결과(True/False)를 append\n",
    "for member, load_member in zip(member_list, load_member_list):\n",
    "    result.append(member==load_member)\n",
    "result"
   ]
  },
  {
   "cell_type": "code",
   "execution_count": 45,
   "id": "69a6af42",
   "metadata": {},
   "outputs": [
    {
     "data": {
      "text/plain": [
       "True"
      ]
     },
     "execution_count": 45,
     "metadata": {},
     "output_type": "execute_result"
    }
   ],
   "source": [
    "all(result) #모든 요소들이 True인지 여부"
   ]
  },
  {
   "cell_type": "markdown",
   "id": "530c1c11",
   "metadata": {},
   "source": [
    "# 3절. csv 파일 읽고/쓰기\n",
    "- CSV 파일의 자료를 리스트 데이터로 읽고 쓰기 (3.1과 3.2)\n",
    "- CSV 파일의 자료를 딕셔너리 데이터로 읽고 쓰기 (3.3과 3.4)\n",
    "\n",
    "## 3.1 reader"
   ]
  },
  {
   "cell_type": "code",
   "execution_count": 49,
   "id": "1c0517e8",
   "metadata": {},
   "outputs": [
    {
     "data": {
      "text/plain": [
       "[['홍길동', '20', 'kildong@hong.com', '서울시 관악구'],\n",
       " ['김길동', '40', 'kimdong@hong.com', '서울시 영등포구'],\n",
       " ['신길동', '30', 'sindong@hong.com', '서울시 동작구']]"
      ]
     },
     "execution_count": 49,
     "metadata": {},
     "output_type": "execute_result"
    }
   ],
   "source": [
    "import csv\n",
    "with open('data/ch09_member1.csv', 'r', encoding='utf-8') as f:\n",
    "    reader = csv.reader(f)\n",
    "    result = list(reader)\n",
    "result"
   ]
  },
  {
   "cell_type": "code",
   "execution_count": 50,
   "id": "1ebe9fdc",
   "metadata": {},
   "outputs": [
    {
     "data": {
      "text/plain": [
       "[['홍길동', '20', 'kildong@hong.com', '서울시 관악구', ''],\n",
       " ['김길동', '40', 'kimdong@hong.com', '서울시 영등포구', '팀장'],\n",
       " ['신길동', '30', 'sindong@hong.com', '서울시 동작구', '']]"
      ]
     },
     "execution_count": 50,
     "metadata": {},
     "output_type": "execute_result"
    }
   ],
   "source": [
    "with open('data/ch09_member1-cp.csv', 'r') as f:\n",
    "    reader = csv.reader(f)\n",
    "    result = list(reader)\n",
    "result"
   ]
  },
  {
   "cell_type": "code",
   "execution_count": 57,
   "id": "3e1cb3f8",
   "metadata": {},
   "outputs": [
    {
     "data": {
      "text/plain": [
       "[['홍길동', 20.0, 'kildong@hong.com', '서울시 관악구'],\n",
       " ['김길동', 40.0, 'kimdong@hong.com', '서울시 영등포구'],\n",
       " ['신길동', 30.0, 'sindong@hong.com', '서울시 동작구']]"
      ]
     },
     "execution_count": 57,
     "metadata": {},
     "output_type": "execute_result"
    }
   ],
   "source": [
    "#\"\"(따옴표)가 없는 데이터는 numeric으로\n",
    "with open('data/ch09_member1.csv', 'r', encoding='utf-8') as f:\n",
    "    reader = csv.reader(f, quoting = csv.QUOTE_NONNUMERIC)\n",
    "    result = list(reader)\n",
    "result"
   ]
  },
  {
   "cell_type": "markdown",
   "id": "496cdc6a",
   "metadata": {},
   "source": [
    "## 3.2 writer\n",
    "- list -> csv로 저장"
   ]
  },
  {
   "cell_type": "code",
   "execution_count": 58,
   "id": "d98b5281",
   "metadata": {},
   "outputs": [],
   "source": [
    "user_list = [['신길동', 30, 'sindong@hong.com', '서울시 관악구'],\n",
    "             ['홍길동', 20, 'sindong@hong.com', '서울시 동작구'],\n",
    "             ['박길동', 25, 'sindong@hong.com', '서울시 서초구']]"
   ]
  },
  {
   "cell_type": "code",
   "execution_count": 61,
   "id": "9b3555fd",
   "metadata": {},
   "outputs": [],
   "source": [
    "# newline='' 옵션 빼면 개행이 2번(python 3.10)\n",
    "with open('data/ch09_member2-write.csv', 'w', newline='') as f:\n",
    "    writer = csv.writer(f)\n",
    "#     for user in uesr_list:\n",
    "#         writer.writerow(user)\n",
    "    writer.writerows(user_list)"
   ]
  },
  {
   "cell_type": "markdown",
   "id": "71f41e89",
   "metadata": {},
   "source": [
    "## 3.3 DictReader\n",
    "- CSV 파일을 딕셔너리 데이터로 읽기"
   ]
  },
  {
   "cell_type": "code",
   "execution_count": 62,
   "id": "b698d3a2",
   "metadata": {},
   "outputs": [
    {
     "data": {
      "text/plain": [
       "[{'name': '홍길동',\n",
       "  'age': '20',\n",
       "  'email': 'h@h.com',\n",
       "  'address': '서울시 관악구',\n",
       "  'job': None},\n",
       " {'name': '신길동',\n",
       "  'age': '40',\n",
       "  'email': 's@h.com',\n",
       "  'address': '서울시 영등포구',\n",
       "  'job': '팀장'},\n",
       " {'name': '김길동',\n",
       "  'age': '30',\n",
       "  'email': 'k@h.com',\n",
       "  'address': '서울시 동작구',\n",
       "  'job': None}]"
      ]
     },
     "execution_count": 62,
     "metadata": {},
     "output_type": "execute_result"
    }
   ],
   "source": [
    "#header가 있는 csv 파일을 딕셔너리로 읽기(ch09_member3.csv)\n",
    "with open('data/ch09_member3.csv', 'r', encoding='utf-8') as f:\n",
    "    dict_reader = csv.DictReader(f)\n",
    "    result = list(dict_reader)\n",
    "result"
   ]
  },
  {
   "cell_type": "code",
   "execution_count": 63,
   "id": "3eea96b7",
   "metadata": {},
   "outputs": [
    {
     "name": "stdout",
     "output_type": "stream",
     "text": [
      "{'name': '홍길동', 'age': '20', 'email': 'h@h.com', 'address': '서울시 관악구', 'job': '없음'}\n",
      "{'name': '신길동', 'age': '40', 'email': 's@h.com', 'address': '서울시 영등포구', 'job': '팀장'}\n",
      "{'name': '김길동', 'age': '30', 'email': 'k@h.com', 'address': '서울시 동작구', 'job': '없음'}\n"
     ]
    }
   ],
   "source": [
    "#header가 있는 csv 파일을 딕셔너리로 읽기(ch09_member3.csv)\n",
    "with open('data/ch09_member3.csv', 'r', encoding='utf-8') as f:\n",
    "    dict_reader = csv.DictReader(f, restval='없음')\n",
    "    for row in dict_reader:\n",
    "        print(row)\n",
    "    "
   ]
  },
  {
   "cell_type": "code",
   "execution_count": 65,
   "id": "920df076",
   "metadata": {},
   "outputs": [
    {
     "data": {
      "text/html": [
       "<div>\n",
       "<style scoped>\n",
       "    .dataframe tbody tr th:only-of-type {\n",
       "        vertical-align: middle;\n",
       "    }\n",
       "\n",
       "    .dataframe tbody tr th {\n",
       "        vertical-align: top;\n",
       "    }\n",
       "\n",
       "    .dataframe thead th {\n",
       "        text-align: right;\n",
       "    }\n",
       "</style>\n",
       "<table border=\"1\" class=\"dataframe\">\n",
       "  <thead>\n",
       "    <tr style=\"text-align: right;\">\n",
       "      <th></th>\n",
       "      <th>name</th>\n",
       "      <th>age</th>\n",
       "      <th>email</th>\n",
       "      <th>address</th>\n",
       "      <th>job</th>\n",
       "    </tr>\n",
       "  </thead>\n",
       "  <tbody>\n",
       "    <tr>\n",
       "      <th>0</th>\n",
       "      <td>홍길동</td>\n",
       "      <td>20</td>\n",
       "      <td>h@h.com</td>\n",
       "      <td>서울시 관악구</td>\n",
       "      <td>NaN</td>\n",
       "    </tr>\n",
       "    <tr>\n",
       "      <th>1</th>\n",
       "      <td>신길동</td>\n",
       "      <td>40</td>\n",
       "      <td>s@h.com</td>\n",
       "      <td>서울시 영등포구</td>\n",
       "      <td>팀장</td>\n",
       "    </tr>\n",
       "    <tr>\n",
       "      <th>2</th>\n",
       "      <td>김길동</td>\n",
       "      <td>30</td>\n",
       "      <td>k@h.com</td>\n",
       "      <td>서울시 동작구</td>\n",
       "      <td>NaN</td>\n",
       "    </tr>\n",
       "  </tbody>\n",
       "</table>\n",
       "</div>"
      ],
      "text/plain": [
       "  name  age    email   address  job\n",
       "0  홍길동   20  h@h.com   서울시 관악구  NaN\n",
       "1  신길동   40  s@h.com  서울시 영등포구   팀장\n",
       "2  김길동   30  k@h.com   서울시 동작구  NaN"
      ]
     },
     "execution_count": 65,
     "metadata": {},
     "output_type": "execute_result"
    }
   ],
   "source": [
    "# csv 파일을 데이터프레임 데이터로 읽기\n",
    "import pandas as pd\n",
    "members = pd.read_csv('data/ch09_member3.csv') #기본 인코딩 방식이 utf-8\n",
    "members"
   ]
  },
  {
   "cell_type": "code",
   "execution_count": 66,
   "id": "ca456bce",
   "metadata": {},
   "outputs": [
    {
     "data": {
      "text/plain": [
       "pandas.core.frame.DataFrame"
      ]
     },
     "execution_count": 66,
     "metadata": {},
     "output_type": "execute_result"
    }
   ],
   "source": [
    "type(members)"
   ]
  },
  {
   "cell_type": "code",
   "execution_count": 67,
   "id": "25703384",
   "metadata": {},
   "outputs": [
    {
     "data": {
      "text/html": [
       "<div>\n",
       "<style scoped>\n",
       "    .dataframe tbody tr th:only-of-type {\n",
       "        vertical-align: middle;\n",
       "    }\n",
       "\n",
       "    .dataframe tbody tr th {\n",
       "        vertical-align: top;\n",
       "    }\n",
       "\n",
       "    .dataframe thead th {\n",
       "        text-align: right;\n",
       "    }\n",
       "</style>\n",
       "<table border=\"1\" class=\"dataframe\">\n",
       "  <thead>\n",
       "    <tr style=\"text-align: right;\">\n",
       "      <th></th>\n",
       "      <th>name</th>\n",
       "      <th>age</th>\n",
       "      <th>email</th>\n",
       "      <th>address</th>\n",
       "      <th>job</th>\n",
       "    </tr>\n",
       "  </thead>\n",
       "  <tbody>\n",
       "    <tr>\n",
       "      <th>0</th>\n",
       "      <td>홍길동</td>\n",
       "      <td>20</td>\n",
       "      <td>h@h.com</td>\n",
       "      <td>서울시 관악구</td>\n",
       "      <td>None</td>\n",
       "    </tr>\n",
       "    <tr>\n",
       "      <th>1</th>\n",
       "      <td>신길동</td>\n",
       "      <td>40</td>\n",
       "      <td>s@h.com</td>\n",
       "      <td>서울시 영등포구</td>\n",
       "      <td>팀장</td>\n",
       "    </tr>\n",
       "    <tr>\n",
       "      <th>2</th>\n",
       "      <td>김길동</td>\n",
       "      <td>30</td>\n",
       "      <td>k@h.com</td>\n",
       "      <td>서울시 동작구</td>\n",
       "      <td>None</td>\n",
       "    </tr>\n",
       "  </tbody>\n",
       "</table>\n",
       "</div>"
      ],
      "text/plain": [
       "  name age    email   address   job\n",
       "0  홍길동  20  h@h.com   서울시 관악구  None\n",
       "1  신길동  40  s@h.com  서울시 영등포구    팀장\n",
       "2  김길동  30  k@h.com   서울시 동작구  None"
      ]
     },
     "execution_count": 67,
     "metadata": {},
     "output_type": "execute_result"
    }
   ],
   "source": [
    "pd.DataFrame(data=result)"
   ]
  },
  {
   "cell_type": "code",
   "execution_count": 69,
   "id": "0cf405ee",
   "metadata": {},
   "outputs": [
    {
     "name": "stdout",
     "output_type": "stream",
     "text": [
      "{'name': '홍길동', 'age': '20', 'email': 'kildong@hong.com', 'address': '서울시 관악구', 'job': ''}\n",
      "{'name': '김길동', 'age': '40', 'email': 'kimdong@hong.com', 'address': '서울시 영등포구', 'job': '팀장'}\n",
      "{'name': '신길동', 'age': '30', 'email': 'sindong@hong.com', 'address': '서울시 동작구', 'job': ''}\n"
     ]
    }
   ],
   "source": [
    "# header가 없는 csv 파일을 딕셔너리 데이터로 읽기(ch09_member1-cp.csv)\n",
    "with open('data/ch09_member1-cp.csv', 'r') as f:\n",
    "    dict_reader = csv.DictReader(f, fieldnames=['name', 'age', 'email', 'address', 'job'])\n",
    "    for row in dict_reader:\n",
    "        print(row)"
   ]
  },
  {
   "cell_type": "code",
   "execution_count": 70,
   "id": "be2c8ff7",
   "metadata": {},
   "outputs": [
    {
     "name": "stdout",
     "output_type": "stream",
     "text": [
      "{'name': '홍길동', 'age': '20', 'email': 'kildong@hong.com', 'address': '서울시 관악구', 'job': ['']}\n",
      "{'name': '김길동', 'age': '40', 'email': 'kimdong@hong.com', 'address': '서울시 영등포구', 'job': ['팀장']}\n",
      "{'name': '신길동', 'age': '30', 'email': 'sindong@hong.com', 'address': '서울시 동작구', 'job': ['']}\n"
     ]
    }
   ],
   "source": [
    "# header가 없는 csv 파일을 딕셔너리 데이터로 읽기(ch09_member1-cp.csv)\n",
    "with open('data/ch09_member1-cp.csv', 'r') as f:\n",
    "    dict_reader = csv.DictReader(f, fieldnames=['name', 'age', 'email', 'address'], restkey='job')\n",
    "    for row in dict_reader:\n",
    "        print(row)"
   ]
  },
  {
   "cell_type": "markdown",
   "id": "eeeb517b",
   "metadata": {},
   "source": [
    "## 3.4 DictWriter\n",
    "- 딕셔너리 데이터(딕셔너리 list)를 csv 파일로 쓰기"
   ]
  },
  {
   "cell_type": "code",
   "execution_count": 72,
   "id": "a132bc0b",
   "metadata": {},
   "outputs": [
    {
     "data": {
      "text/plain": [
       "[{'name': '신길동', 'age': '30', 'email': 'sg@hong.com', 'address': '서울'},\n",
       " {'name': '홍길동', 'age': '20', 'email': 'ho@hong.com', 'address': '수원'},\n",
       " {'name': '마길동', 'age': '25', 'email': 'ma@hong.com', 'address': '안양'}]"
      ]
     },
     "execution_count": 72,
     "metadata": {},
     "output_type": "execute_result"
    }
   ],
   "source": [
    "user1 = {'name': '신길동', 'age': '30', 'email': 'sg@hong.com', 'address': '서울'}\n",
    "user2 = {'name': '홍길동', 'age': '20', 'email': 'ho@hong.com', 'address': '수원'}\n",
    "user3 = {'name': '마길동', 'age': '25', 'email': 'ma@hong.com', 'address': '안양'}\n",
    "user_list = [user1, user2, user3]\n",
    "user_list"
   ]
  },
  {
   "cell_type": "code",
   "execution_count": 74,
   "id": "6432f777",
   "metadata": {},
   "outputs": [
    {
     "data": {
      "text/plain": [
       "['name', 'age', 'email', 'address']"
      ]
     },
     "execution_count": 74,
     "metadata": {},
     "output_type": "execute_result"
    }
   ],
   "source": [
    "fieldnames = list(user1.keys())\n",
    "fieldnames"
   ]
  },
  {
   "cell_type": "code",
   "execution_count": 77,
   "id": "71f3f852",
   "metadata": {},
   "outputs": [],
   "source": [
    "with open('data/ch09_member4.csv', 'w', encoding='utf-8', newline='') as f:\n",
    "    dict_writer = csv.DictWriter(f, fieldnames=fieldnames)\n",
    "    dict_writer.writeheader() # header 한줄 쓰기\n",
    "    dict_writer.writerows(user_list)"
   ]
  },
  {
   "cell_type": "markdown",
   "id": "224270dd",
   "metadata": {},
   "source": [
    "# 4절 JSON 파일에 저장하고 불러오기(dump, load)\n",
    "```\n",
    "[{'title':'국가정보원 화재', 'url':'http://~', 'content':'무시기무시기~'},\n",
    "{'title':'국가정보원 화재', 'url':'http://~', 'content':'무시기무시기~'},\n",
    "{'title':'국가정보원 화재', 'url':'http://~', 'content':'무시기무시기~'}]\n",
    "```\n",
    "\n",
    "## 4.1 JSON dump(파일에 저장)\n",
    "### 4.1.1 딕셔너리 list를 json파일로 저장"
   ]
  },
  {
   "cell_type": "code",
   "execution_count": 79,
   "id": "aeeb7afe",
   "metadata": {},
   "outputs": [],
   "source": [
    "data = [{'name': '신길동', 'age': '30', 'email': 'sg@hong.com', 'address': '서울'},\n",
    "        {'name': '홍길동', 'age': '20', 'email': 'ho@hong.com', 'address': '수원'},\n",
    "        {'name': '마길동', 'age': '25', 'email': 'ma@hong.com', 'address': '안양'}]"
   ]
  },
  {
   "cell_type": "code",
   "execution_count": 84,
   "id": "3f918232",
   "metadata": {},
   "outputs": [],
   "source": [
    "import json\n",
    "with open('data/ch09_member1.json', 'w') as jsonfile:\n",
    "    json.dump(data, #딕셔너리 리스트\n",
    "             jsonfile, #파일 스트림\n",
    "             ensure_ascii=False, #ascii 코드를 벗어난 문자의 처리 방법, 기본 : True (ascii를 벗어난 글자는 유니코드로 저장)\n",
    "             indent='  ')"
   ]
  },
  {
   "cell_type": "markdown",
   "id": "8da74eaa",
   "metadata": {},
   "source": [
    "### 4.1.2 객체 list를 json파일로 저장 (객체를 딕셔너리로 바꾸는 함수가 필요)"
   ]
  },
  {
   "cell_type": "code",
   "execution_count": 87,
   "id": "851d9d46",
   "metadata": {},
   "outputs": [
    {
     "data": {
      "text/plain": [
       "['name : 홍길동, age : 30, email : h@h.com, address : 서울',\n",
       " 'name : 마길동, age : 25, email : m@h.com, address : 하남',\n",
       " 'name : 박길동, age : 35, email : p@p.com, address : 대전']"
      ]
     },
     "execution_count": 87,
     "metadata": {},
     "output_type": "execute_result"
    }
   ],
   "source": [
    "member_list = [Member('홍길동', 30, 'h@h.com', '서울'),\n",
    "              Member('마길동', 25, 'm@h.com', '하남'),\n",
    "              Member('박길동', 35, 'p@p.com', '대전')]\n",
    "[member.__str__() for member in member_list]"
   ]
  },
  {
   "cell_type": "code",
   "execution_count": 90,
   "id": "ef6c764c",
   "metadata": {},
   "outputs": [],
   "source": [
    "with open('data/ch09_member2.json', 'w', encoding='utf-8') as jsonfile:\n",
    "    json.dump(member_list, #저장할 리스트 (객체 리스트)\n",
    "             jsonfile,\n",
    "             ensure_ascii=False,\n",
    "             indent='  ',\n",
    "             default=Member.as_dict) # 객체를 딕셔너리 형태로 return하는 함수"
   ]
  },
  {
   "cell_type": "markdown",
   "id": "c3dfb2c9",
   "metadata": {},
   "source": [
    "## 4.2 JSON load(파일 읽기)\n",
    "### 4.2.1 json파일을 딕셔너리 리스트로 읽기"
   ]
  },
  {
   "cell_type": "code",
   "execution_count": 91,
   "id": "eaaae758",
   "metadata": {},
   "outputs": [
    {
     "data": {
      "text/plain": [
       "[{'name': '신길동', 'age': '30', 'email': 'sg@hong.com', 'address': '서울'},\n",
       " {'name': '홍길동', 'age': '20', 'email': 'ho@hong.com', 'address': '수원'},\n",
       " {'name': '마길동', 'age': '25', 'email': 'ma@hong.com', 'address': '안양'}]"
      ]
     },
     "execution_count": 91,
     "metadata": {},
     "output_type": "execute_result"
    }
   ],
   "source": [
    "with open('data/ch09_member1.json', 'r') as jsonfile:\n",
    "    load_data = json.load(jsonfile)\n",
    "load_data"
   ]
  },
  {
   "cell_type": "code",
   "execution_count": 92,
   "id": "a2dce03a",
   "metadata": {},
   "outputs": [
    {
     "data": {
      "text/plain": [
       "(list, dict)"
      ]
     },
     "execution_count": 92,
     "metadata": {},
     "output_type": "execute_result"
    }
   ],
   "source": [
    "type(load_data), type(load_data[0])"
   ]
  },
  {
   "cell_type": "markdown",
   "id": "309751ca",
   "metadata": {},
   "source": [
    "### 4.2.2 json 파일을 객체 리스트로 읽기 (딕셔너리를 객체로 return하는 함수가 필요)"
   ]
  },
  {
   "cell_type": "code",
   "execution_count": 102,
   "id": "49e20ddc",
   "metadata": {},
   "outputs": [],
   "source": [
    "def as_member(dic):\n",
    "    #return Member(dic.get('name'), dic.get('age'), dic.get('email'), dic.get('address'))\n",
    "    return Member(**dic)"
   ]
  },
  {
   "cell_type": "code",
   "execution_count": 103,
   "id": "acbdb719",
   "metadata": {},
   "outputs": [
    {
     "data": {
      "text/plain": [
       "['name : 홍길동, age : 30, email : h@h.com, address : 서울',\n",
       " 'name : 마길동, age : 25, email : m@h.com, address : 하남',\n",
       " 'name : 박길동, age : 35, email : p@p.com, address : 대전']"
      ]
     },
     "execution_count": 103,
     "metadata": {},
     "output_type": "execute_result"
    }
   ],
   "source": [
    "with open('data/ch09_member2.json', 'r', encoding='utf-8') as jsonfile:\n",
    "    load_member_list = json.load(jsonfile,\n",
    "                                object_hook=as_member) # 딕셔너리를 객체로 return 함수\n",
    "[member.__str__() for member in load_member_list]"
   ]
  },
  {
   "cell_type": "code",
   "execution_count": 105,
   "id": "8f1affc0",
   "metadata": {},
   "outputs": [
    {
     "data": {
      "text/plain": [
       "True"
      ]
     },
     "execution_count": 105,
     "metadata": {},
     "output_type": "execute_result"
    }
   ],
   "source": [
    "# member_list => ch09_member2.json => load_member_list\n",
    "s = []\n",
    "for member, load_member in zip(member_list, load_member_list):\n",
    "    s.append(member == load_member)\n",
    "all(s)"
   ]
  },
  {
   "cell_type": "code",
   "execution_count": 111,
   "id": "2f4fc176",
   "metadata": {},
   "outputs": [
    {
     "data": {
      "text/plain": [
       "(array([3], dtype=int64),)"
      ]
     },
     "execution_count": 111,
     "metadata": {},
     "output_type": "execute_result"
    }
   ],
   "source": [
    "import numpy as np\n",
    "result = np.array([True, True, True, False, True])\n",
    "np.where(result==False)"
   ]
  },
  {
   "cell_type": "code",
   "execution_count": null,
   "id": "77efbfbb",
   "metadata": {},
   "outputs": [],
   "source": []
  },
  {
   "cell_type": "code",
   "execution_count": null,
   "id": "8e3f6ee8",
   "metadata": {},
   "outputs": [],
   "source": []
  },
  {
   "cell_type": "code",
   "execution_count": null,
   "id": "89179c03",
   "metadata": {},
   "outputs": [],
   "source": []
  },
  {
   "cell_type": "code",
   "execution_count": null,
   "id": "27c1c6ae",
   "metadata": {},
   "outputs": [],
   "source": []
  },
  {
   "cell_type": "code",
   "execution_count": null,
   "id": "77220ed5",
   "metadata": {},
   "outputs": [],
   "source": []
  },
  {
   "cell_type": "code",
   "execution_count": null,
   "id": "7a65d981",
   "metadata": {},
   "outputs": [],
   "source": []
  },
  {
   "cell_type": "code",
   "execution_count": null,
   "id": "000ab8c2",
   "metadata": {},
   "outputs": [],
   "source": []
  }
 ],
 "metadata": {
  "kernelspec": {
   "display_name": "Python 3 (ipykernel)",
   "language": "python",
   "name": "python3"
  },
  "language_info": {
   "codemirror_mode": {
    "name": "ipython",
    "version": 3
   },
   "file_extension": ".py",
   "mimetype": "text/x-python",
   "name": "python",
   "nbconvert_exporter": "python",
   "pygments_lexer": "ipython3",
   "version": "3.10.9"
  },
  "toc": {
   "base_numbering": 1,
   "nav_menu": {},
   "number_sections": false,
   "sideBar": true,
   "skip_h1_title": false,
   "title_cell": "Table of Contents",
   "title_sidebar": "Contents",
   "toc_cell": false,
   "toc_position": {},
   "toc_section_display": true,
   "toc_window_display": false
  }
 },
 "nbformat": 4,
 "nbformat_minor": 5
}
