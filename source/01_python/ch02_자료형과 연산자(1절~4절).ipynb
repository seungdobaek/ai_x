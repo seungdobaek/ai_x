{
 "cells": [
  {
   "cell_type": "code",
   "execution_count": 1,
   "id": "e4860899",
   "metadata": {},
   "outputs": [
    {
     "data": {
      "text/html": [
       "\n",
       "<style>\n",
       "div.container{width:90% !important;}\n",
       "div.cell.code_cell.rendered{width:100%;}\n",
       "div.input_prompt{padding:0px;}\n",
       "div.CodeMirror {font-family:Consolas; font-size:12pt;}\n",
       "div.text_cell_render.rendered_html{font size:12pt;}\n",
       "div.output {font-size:12pt; font-weight:bold;}\n",
       "div.input{font-family:Consolas; font-size:12pt;}\n",
       "div.prompt {min width:70px;}\n",
       "div#toc-wrapper {padding-top:120px;}\n",
       "div.text_cell_render ul li{font-size:12pt;padding:5px;}\n",
       "table.dataframe {font-size:12px;}\n",
       "</style>\n"
      ],
      "text/plain": [
       "<IPython.core.display.HTML object>"
      ]
     },
     "metadata": {},
     "output_type": "display_data"
    }
   ],
   "source": [
    "from IPython.display import display, HTML\n",
    "display(HTML(\"\"\"\n",
    "<style>\n",
    "div.container{width:90% !important;}\n",
    "div.cell.code_cell.rendered{width:100%;}\n",
    "div.input_prompt{padding:0px;}\n",
    "div.CodeMirror {font-family:Consolas; font-size:12pt;}\n",
    "div.text_cell_render.rendered_html{font size:12pt;}\n",
    "div.output {font-size:12pt; font-weight:bold;}\n",
    "div.input{font-family:Consolas; font-size:12pt;}\n",
    "div.prompt {min width:70px;}\n",
    "div#toc-wrapper {padding-top:120px;}\n",
    "div.text_cell_render ul li{font-size:12pt;padding:5px;}\n",
    "table.dataframe {font-size:12px;}\n",
    "</style>\n",
    "\"\"\"))"
   ]
  },
  {
   "cell_type": "markdown",
   "id": "6049960b",
   "metadata": {},
   "source": [
    "<b><font size=\"6\" color=\"red\">ch02. 자료형과 연산자</font></b>\n",
    "# 1절 변수\n",
    "- 변수 : 프로그램 작업 처리를 위해, 값을 저장할 수 있는 메모리 공간\n",
    "- 파이썬은 변수 선언을 위한 타입이 없고, 별도의 선언 과정도 없음\n",
    "\n",
    "## 1.1 변수 할당\n",
    "- 할당 연산자(=)을 이용해서 값을 할당하면 자료형(타입)이 셋팅\n",
    "- **파이썬에서의 모든 변수는 객체로 저장(레퍼런스 변수)**\n",
    " - 객체 : 값과 함수가 같이 있는것\n",
    " - 변수에는 주소가 저장이되고 주소에 가면 변수의 값과 해당 자료형에 따른 함수들이 저장이 된다\n",
    " - 변수의 값을 재할당을 한다면, 새로운 주소에 변수의 값과 함수가 저장되고 변수에는 새주소의 값이 저장된다"
   ]
  },
  {
   "cell_type": "code",
   "execution_count": 7,
   "id": "bcc7d1b8",
   "metadata": {},
   "outputs": [
    {
     "name": "stdout",
     "output_type": "stream",
     "text": [
      "넓이 : 78.5\n"
     ]
    }
   ],
   "source": [
    "r = 5\n",
    "area = 3.14 * r * r\n",
    "print('넓이 :', area)"
   ]
  },
  {
   "cell_type": "code",
   "execution_count": 8,
   "id": "731f3c93",
   "metadata": {},
   "outputs": [
    {
     "name": "stdout",
     "output_type": "stream",
     "text": [
      "넓이 :  78.53981633974483\n"
     ]
    }
   ],
   "source": [
    "import numpy as np #numpy 라는 패키지를 np 라는 이름으로 사용\n",
    "area = np.pi * r * r\n",
    "print('넓이 : ', area)"
   ]
  },
  {
   "cell_type": "code",
   "execution_count": 9,
   "id": "64f92efc",
   "metadata": {},
   "outputs": [
    {
     "name": "stdout",
     "output_type": "stream",
     "text": [
      "area의 주소 :  2078794436368\n",
      "area의 타입 :  <class 'float'>\n"
     ]
    }
   ],
   "source": [
    "print('area의 주소 : ', id(area))\n",
    "print('area의 타입 : ', type(area))"
   ]
  },
  {
   "cell_type": "code",
   "execution_count": 10,
   "id": "e01529c4",
   "metadata": {},
   "outputs": [
    {
     "data": {
      "text/plain": [
       "False"
      ]
     },
     "execution_count": 10,
     "metadata": {},
     "output_type": "execute_result"
    }
   ],
   "source": [
    "area.is_integer()"
   ]
  },
  {
   "cell_type": "code",
   "execution_count": 12,
   "id": "b6568834",
   "metadata": {},
   "outputs": [
    {
     "name": "stdout",
     "output_type": "stream",
     "text": [
      "area의 주소 :  2080858898960\n",
      "area의 타입 :  <class 'int'>\n"
     ]
    }
   ],
   "source": [
    "area = 10\n",
    "print('area의 주소 : ', id(area))\n",
    "print('area의 타입 : ', type(area))"
   ]
  },
  {
   "cell_type": "code",
   "execution_count": 14,
   "id": "833ae34a",
   "metadata": {},
   "outputs": [
    {
     "name": "stdout",
     "output_type": "stream",
     "text": [
      "area의 주소 :  2078831135024\n",
      "area의 타입 :  <class 'str'>\n"
     ]
    }
   ],
   "source": [
    "area = \"파이썬\"\n",
    "print('area의 주소 : ', id(area))\n",
    "print('area의 타입 : ', type(area))"
   ]
  },
  {
   "cell_type": "markdown",
   "id": "c47155f5",
   "metadata": {},
   "source": [
    "## 1.2 변수(함수) 이름 규칙\n",
    "- 문자로 시작\n",
    "- 문자(특수문자는 _ 외에는 불가), 숫자, _로 변수명 작성\n",
    "- 함수명은 변수 이름으로 가능하나 피한다 꼭 써야 한다면 str_식으로 사용한다(_를 사용하여 함수와의 충돌을 피한다)\n",
    "- 파이썬 예약어(for, if, ...)는 변수명 사용불가\n",
    "- 한글 변수는 꼭 필요시에만 사용 (비추)"
   ]
  },
  {
   "cell_type": "code",
   "execution_count": 27,
   "id": "10ffe919",
   "metadata": {},
   "outputs": [
    {
     "name": "stdout",
     "output_type": "stream",
     "text": [
      "홍길동\n"
     ]
    }
   ],
   "source": [
    "이름 = '홍길동' #한글을 변수명으로 사용하는것은 비추\n",
    "print(이름)"
   ]
  },
  {
   "cell_type": "code",
   "execution_count": 28,
   "id": "2d9edb93",
   "metadata": {},
   "outputs": [
    {
     "ename": "SyntaxError",
     "evalue": "invalid syntax (4011056779.py, line 1)",
     "output_type": "error",
     "traceback": [
      "\u001b[1;36m  Cell \u001b[1;32mIn[28], line 1\u001b[1;36m\u001b[0m\n\u001b[1;33m    for = 5\u001b[0m\n\u001b[1;37m        ^\u001b[0m\n\u001b[1;31mSyntaxError\u001b[0m\u001b[1;31m:\u001b[0m invalid syntax\n"
     ]
    }
   ],
   "source": [
    "for = 5"
   ]
  },
  {
   "cell_type": "code",
   "execution_count": 29,
   "id": "6559dc7d",
   "metadata": {},
   "outputs": [
    {
     "ename": "NameError",
     "evalue": "name 'member' is not defined",
     "output_type": "error",
     "traceback": [
      "\u001b[1;31m---------------------------------------------------------------------------\u001b[0m",
      "\u001b[1;31mNameError\u001b[0m                                 Traceback (most recent call last)",
      "Cell \u001b[1;32mIn[29], line 1\u001b[0m\n\u001b[1;32m----> 1\u001b[0m \u001b[43mmember\u001b[49m\u001b[38;5;241m.\u001b[39mname \u001b[38;5;241m=\u001b[39m \u001b[38;5;124m\"\u001b[39m\u001b[38;5;124m홍길동\u001b[39m\u001b[38;5;124m\"\u001b[39m\n",
      "\u001b[1;31mNameError\u001b[0m: name 'member' is not defined"
     ]
    }
   ],
   "source": [
    "member.name = \"홍길동\""
   ]
  },
  {
   "cell_type": "code",
   "execution_count": 31,
   "id": "18401fd8",
   "metadata": {},
   "outputs": [
    {
     "name": "stdout",
     "output_type": "stream",
     "text": [
      "<class 'complex'>\n"
     ]
    }
   ],
   "source": [
    "# 숫자 : 정수 , 실수, 복소수(j)\n",
    "i = 1+ 3j #복소수\n",
    "print(type(i))"
   ]
  },
  {
   "cell_type": "code",
   "execution_count": 32,
   "id": "db15573b",
   "metadata": {},
   "outputs": [
    {
     "data": {
      "text/plain": [
       "True"
      ]
     },
     "execution_count": 32,
     "metadata": {},
     "output_type": "execute_result"
    }
   ],
   "source": [
    "isinstance(i, complex) # i변수가 complex 타입의 객체인지?"
   ]
  },
  {
   "cell_type": "code",
   "execution_count": 33,
   "id": "f2a6729f",
   "metadata": {},
   "outputs": [
    {
     "data": {
      "text/plain": [
       "False"
      ]
     },
     "execution_count": 33,
     "metadata": {},
     "output_type": "execute_result"
    }
   ],
   "source": [
    "isinstance(i, int) # i 변수가 int 타입의 객체인지?"
   ]
  },
  {
   "cell_type": "markdown",
   "id": "8e98ef5d",
   "metadata": {},
   "source": [
    "## 1.3 다중 변수 선언\n"
   ]
  },
  {
   "cell_type": "code",
   "execution_count": 34,
   "id": "ce2d0605",
   "metadata": {},
   "outputs": [],
   "source": [
    "a = 10\n",
    "b= 20"
   ]
  },
  {
   "cell_type": "code",
   "execution_count": 38,
   "id": "3fe2bc56",
   "metadata": {},
   "outputs": [
    {
     "name": "stdout",
     "output_type": "stream",
     "text": [
      "10 20\n"
     ]
    }
   ],
   "source": [
    "a, b = 10, 20\n",
    "print(a,b)"
   ]
  },
  {
   "cell_type": "code",
   "execution_count": null,
   "id": "3169f992",
   "metadata": {},
   "outputs": [],
   "source": [
    "a, b = b, a+b #다중 변수 할당시 순차적 할당이 아니고, 일괄 동시 할당\n",
    "print(a,b)"
   ]
  },
  {
   "cell_type": "markdown",
   "id": "4126f307",
   "metadata": {},
   "source": [
    "## 1.4 도움말"
   ]
  },
  {
   "cell_type": "code",
   "execution_count": 40,
   "id": "0927f0a7",
   "metadata": {},
   "outputs": [
    {
     "name": "stdout",
     "output_type": "stream",
     "text": [
      "Help on built-in function print in module builtins:\n",
      "\n",
      "print(...)\n",
      "    print(value, ..., sep=' ', end='\\n', file=sys.stdout, flush=False)\n",
      "    \n",
      "    Prints the values to a stream, or to sys.stdout by default.\n",
      "    Optional keyword arguments:\n",
      "    file:  a file-like object (stream); defaults to the current sys.stdout.\n",
      "    sep:   string inserted between values, default a space.\n",
      "    end:   string appended after the last value, default a newline.\n",
      "    flush: whether to forcibly flush the stream.\n",
      "\n"
     ]
    }
   ],
   "source": [
    "help(print)"
   ]
  },
  {
   "cell_type": "code",
   "execution_count": 42,
   "id": "75f985e6",
   "metadata": {
    "collapsed": true
   },
   "outputs": [
    {
     "name": "stdout",
     "output_type": "stream",
     "text": [
      "\n",
      "Welcome to Python 3.10's help utility!\n",
      "\n",
      "If this is your first time using Python, you should definitely check out\n",
      "the tutorial on the internet at https://docs.python.org/3.10/tutorial/.\n",
      "\n",
      "Enter the name of any module, keyword, or topic to get help on writing\n",
      "Python programs and using Python modules.  To quit this help utility and\n",
      "return to the interpreter, just type \"quit\".\n",
      "\n",
      "To get a list of available modules, keywords, symbols, or topics, type\n",
      "\"modules\", \"keywords\", \"symbols\", or \"topics\".  Each module also comes\n",
      "with a one-line summary of what it does; to list the modules whose name\n",
      "or summary contain a given string such as \"spam\", type \"modules spam\".\n",
      "\n",
      "help> q\n",
      "\n",
      "You are now leaving help and returning to the Python interpreter.\n",
      "If you want to ask for help on a particular object directly from the\n",
      "interpreter, you can type \"help(object)\".  Executing \"help('string')\"\n",
      "has the same effect as typing a particular string at the help> prompt.\n"
     ]
    }
   ],
   "source": [
    "help() #help를 빠져나오기 : q / 결과 접기/펴기 : esc+o"
   ]
  },
  {
   "cell_type": "code",
   "execution_count": null,
   "id": "9aa224e2",
   "metadata": {},
   "outputs": [],
   "source": [
    "# 도움말 기능 : shift + tab 키"
   ]
  },
  {
   "cell_type": "code",
   "execution_count": 55,
   "id": "5a1491a7",
   "metadata": {},
   "outputs": [],
   "source": [
    "def add(x,y=0):\n",
    "    '''\n",
    "    매게변수(x,y) 2개를 받아 두자리 숫자로 만드는 함수\n",
    "    x = 10의 자리수가 되고\n",
    "    y = 1의 자리수가 됨 (default값 0)\n",
    "    '''\n",
    "    return x*10+y"
   ]
  },
  {
   "cell_type": "code",
   "execution_count": 56,
   "id": "761fdac5",
   "metadata": {},
   "outputs": [
    {
     "data": {
      "text/plain": [
       "34"
      ]
     },
     "execution_count": 56,
     "metadata": {},
     "output_type": "execute_result"
    }
   ],
   "source": [
    "add(3,4)"
   ]
  },
  {
   "cell_type": "markdown",
   "id": "ad4ce239",
   "metadata": {},
   "source": [
    "# 2절. 화면 i/o"
   ]
  },
  {
   "cell_type": "code",
   "execution_count": 58,
   "id": "6586f70b",
   "metadata": {},
   "outputs": [
    {
     "name": "stdout",
     "output_type": "stream",
     "text": [
      "아무거나\n",
      "아무거나\n"
     ]
    }
   ],
   "source": [
    "#input() : 사용자로부터 값을 입력받기 위한 함수. 입력값은 문자(str)로 받음\n",
    "first = input()\n",
    "print(first)"
   ]
  },
  {
   "cell_type": "code",
   "execution_count": 59,
   "id": "3f368848",
   "metadata": {},
   "outputs": [
    {
     "name": "stdout",
     "output_type": "stream",
     "text": [
      "첫번째 숫자는?5\n",
      "두번째 숫자는?90\n"
     ]
    }
   ],
   "source": [
    "first = input(\"첫번째 숫자는?\")\n",
    "second = input(\"두번째 숫자는?\")"
   ]
  },
  {
   "cell_type": "code",
   "execution_count": 60,
   "id": "e8ac6971",
   "metadata": {},
   "outputs": [
    {
     "name": "stdout",
     "output_type": "stream",
     "text": [
      "5 90\n"
     ]
    }
   ],
   "source": [
    "print(first, second)"
   ]
  },
  {
   "cell_type": "code",
   "execution_count": 61,
   "id": "5f923589",
   "metadata": {},
   "outputs": [
    {
     "name": "stdout",
     "output_type": "stream",
     "text": [
      "두 수의 합은 :  590\n"
     ]
    }
   ],
   "source": [
    "print(\"두 수의 합은 : \", first+second)"
   ]
  },
  {
   "cell_type": "code",
   "execution_count": 62,
   "id": "1bc79d92",
   "metadata": {},
   "outputs": [
    {
     "name": "stdout",
     "output_type": "stream",
     "text": [
      "첫번째 숫자는?8\n",
      "두번째 숫자는?2\n"
     ]
    }
   ],
   "source": [
    "first = int(input(\"첫번째 숫자는?\"))\n",
    "second = int(input(\"두번째 숫자는?\"))"
   ]
  },
  {
   "cell_type": "code",
   "execution_count": 63,
   "id": "7b063068",
   "metadata": {},
   "outputs": [
    {
     "name": "stdout",
     "output_type": "stream",
     "text": [
      "두 수의 합은 :  10\n"
     ]
    }
   ],
   "source": [
    "print(\"두 수의 합은 : \", first+second)"
   ]
  },
  {
   "cell_type": "code",
   "execution_count": 67,
   "id": "74e1ffa1",
   "metadata": {},
   "outputs": [
    {
     "name": "stdout",
     "output_type": "stream",
     "text": [
      "first - 8 - second - 2\tHello Python\n"
     ]
    }
   ],
   "source": [
    "print('first', first, 'second', second, sep=' - ', end='\\t')\n",
    "print('Hello', 'Python', sep = ' ')"
   ]
  },
  {
   "cell_type": "markdown",
   "id": "1d9cca3c",
   "metadata": {},
   "source": [
    "# 3절. 기본 자료형\n",
    "- 자료형 : 변수가 가져야 할 값의 형식. 자료형의 따라 값의 크기와 저장 방식 달라짐\n",
    "- 자료형에 따라 수행할 수 있는 명령어들이 달라짐\n",
    "    - `숫자` : int, float(소수점 4.0), complex(허수부 j)\n",
    "    - `문자` : str (\"\", '')\n",
    "    - `논리` : bool(True/False)\n",
    "    \n",
    "## 3.1 숫자형"
   ]
  },
  {
   "cell_type": "code",
   "execution_count": 82,
   "id": "b6c02886",
   "metadata": {},
   "outputs": [
    {
     "name": "stdout",
     "output_type": "stream",
     "text": [
      "9223372036854775807\n"
     ]
    }
   ],
   "source": [
    "import sys\n",
    "print (sys.maxsize) # 정수의 최대값 : 2**63 - 1"
   ]
  },
  {
   "cell_type": "code",
   "execution_count": 83,
   "id": "68765be2",
   "metadata": {},
   "outputs": [
    {
     "data": {
      "text/plain": [
       "9223372036854775807"
      ]
     },
     "execution_count": 83,
     "metadata": {},
     "output_type": "execute_result"
    }
   ],
   "source": [
    "2**63 - 1"
   ]
  },
  {
   "cell_type": "code",
   "execution_count": 89,
   "id": "03804d88",
   "metadata": {},
   "outputs": [
    {
     "name": "stdout",
     "output_type": "stream",
     "text": [
      "1000009223372036854775807\n",
      "<class 'int'>\n"
     ]
    }
   ],
   "source": [
    "i = sys.maxsize + 1000000000000000000000000\n",
    "print(i)\n",
    "print(type(i))\n",
    "\n",
    "#int에는 정수의 최대값보다 큰 값 역시 들어간다 (무한대로)"
   ]
  },
  {
   "cell_type": "code",
   "execution_count": 91,
   "id": "a8716cc3",
   "metadata": {},
   "outputs": [
    {
     "name": "stdout",
     "output_type": "stream",
     "text": [
      "1.2e-24\n",
      "1.2e+20\n"
     ]
    }
   ],
   "source": [
    "#f = 0.000000000000000000000012\n",
    "f = 1.2e-24 # 지수형 1.2 * 10의 -24승\n",
    "print(f)\n",
    "b = 1.2e20 # 지수형 1.2*10의 20승\n",
    "print(b)"
   ]
  },
  {
   "cell_type": "code",
   "execution_count": 92,
   "id": "26b8bbf6",
   "metadata": {},
   "outputs": [
    {
     "name": "stdout",
     "output_type": "stream",
     "text": [
      "f= 1.5\n"
     ]
    }
   ],
   "source": [
    "#파이썬에서는 /의 결과는 무조건 실수\n",
    "f = 3/2\n",
    "print('f=',f)"
   ]
  },
  {
   "cell_type": "code",
   "execution_count": 94,
   "id": "53770b00",
   "metadata": {},
   "outputs": [
    {
     "name": "stdout",
     "output_type": "stream",
     "text": [
      "f= 1\n",
      "f= 1\n"
     ]
    }
   ],
   "source": [
    "# 자바나 C, C++처럼 정수/정수 결과를 정수로\n",
    "f = int(3/2) # int() : int로 형변환(내림)\n",
    "print('f=',f)\n",
    "\n",
    "f = 3//2 #몫 연산자\n",
    "print('f=', f)"
   ]
  },
  {
   "cell_type": "markdown",
   "id": "b52b82fa",
   "metadata": {},
   "source": [
    "## 3.2 문자형\n",
    "겹따옴표(\"~\")나 홑따옴표('-') 이용"
   ]
  },
  {
   "cell_type": "code",
   "execution_count": 96,
   "id": "b2459546",
   "metadata": {},
   "outputs": [
    {
     "name": "stdout",
     "output_type": "stream",
     "text": [
      "홍길동'짱' 서울시 관악구 \"신림\"동\n"
     ]
    }
   ],
   "source": [
    "#name = '홍길동\\'짱\\''   #홍길동'짱'\n",
    "name = \"홍길동'짱'\"\n",
    "address = '서울시 관악구 \"신림\"동' # 서울시 관악구 \"신림\"동\n",
    "print(name, address)"
   ]
  },
  {
   "cell_type": "code",
   "execution_count": 98,
   "id": "69ccb9a7",
   "metadata": {},
   "outputs": [
    {
     "name": "stdout",
     "output_type": "stream",
     "text": [
      "여러줄\t짜리 내용을 저장\n",
      "줄바꿈 문자를 쓰면 여러줄\n",
      "줄바꿈\n"
     ]
    }
   ],
   "source": [
    "# escape 문자(탈출 문자) : \\n, \\t, ....\n",
    "text = \"여러줄\\t짜리 내용을 저장\\n줄바꿈 문자를 쓰면 여러줄\\n줄바꿈\"\n",
    "print(text)"
   ]
  },
  {
   "cell_type": "code",
   "execution_count": 100,
   "id": "2389d6b2",
   "metadata": {},
   "outputs": [
    {
     "name": "stdout",
     "output_type": "stream",
     "text": [
      "여러줄따리\t 내용을 저장\n",
      "줄바꿈 문자를 쓰면 여러줄\n",
      "줄바꿈\n",
      "\n"
     ]
    }
   ],
   "source": [
    "text = '''여러줄따리\\t 내용을 저장\n",
    "줄바꿈 문자를 쓰면 여러줄\n",
    "줄바꿈\n",
    "'''\n",
    "print(text)"
   ]
  },
  {
   "cell_type": "markdown",
   "id": "971e25a1",
   "metadata": {},
   "source": [
    "### ※ 문자열 연산(+, *)"
   ]
  },
  {
   "cell_type": "code",
   "execution_count": 102,
   "id": "792e6735",
   "metadata": {},
   "outputs": [
    {
     "name": "stdout",
     "output_type": "stream",
     "text": [
      "홍길동동해번쩍\n",
      "홍길동 동해번쩍\n"
     ]
    }
   ],
   "source": [
    "\"\"\"\n",
    "    여러 줄 주석 용도\n",
    "    2025.09.12 문장열 연산 by 아무개\n",
    "\"\"\"\n",
    "name1 = \"홍길동\"\n",
    "name2 = \"동해번쩍\"\n",
    "print(name1 + name2)\n",
    "print(name1, name2)"
   ]
  },
  {
   "cell_type": "code",
   "execution_count": 103,
   "id": "43ec2e1e",
   "metadata": {},
   "outputs": [
    {
     "name": "stdout",
     "output_type": "stream",
     "text": [
      "홍길동홍길동홍길동\n"
     ]
    }
   ],
   "source": [
    "print (name1 * 3)"
   ]
  },
  {
   "cell_type": "markdown",
   "id": "04f8d407",
   "metadata": {},
   "source": [
    "### ※ raw 데이터\n",
    "- 용도 :정규표현식 이용, 디렉토리 경로를 표현시 이용"
   ]
  },
  {
   "cell_type": "code",
   "execution_count": 105,
   "id": "b1a1b446",
   "metadata": {},
   "outputs": [
    {
     "name": "stdout",
     "output_type": "stream",
     "text": [
      "Hello\\nWorld\n"
     ]
    }
   ],
   "source": [
    "#raw 데이터 : 데이터 처리시 이스케이프 문자(탈출문자)를 그대로 처리\n",
    "print(r\"Hello\\nWorld\")"
   ]
  },
  {
   "cell_type": "markdown",
   "id": "95fb2028",
   "metadata": {},
   "source": [
    "#### 정규표현시 (regex)\n",
    "    1. 참조 : https://ko.wikipedia.org/wiki/정규표현식 위키백과\n",
    "    2. 간략문법\n",
    "        \\d (숫자와 매치 [0-9])\n",
    "        \\D (숫자가 아닌 것)\n",
    "        \\w (영문자나 숫자나 _ [_a-zA-Z0-9]와 동일)\n",
    "        \\W (영문자나 숫자나 _가 아닌 문자)\n",
    "        . (문자)\n",
    "        \\. (.)\n",
    "        \\- (-)\n",
    "        {2,} (2회 이상 반복)\n",
    "        {2,4} (2~4회 반복)\n",
    "        ? (0번 또는 1회 반복)\n",
    "        * (0번 이상 반복)\n",
    "        + (1번 이상 반복)\n",
    "    3. 정규표현식 연습장 https://regexr.com/\n",
    "        ex1. 전화번호 : 02 888 7777 / 028887777 / 010-9999-9999 / 010.9999.9999 / 02)999-9999\n",
    "            => \\d{2,3}[)\\- \\.]?\\d{3,4}[\\- \\.]?\\d{4}\n",
    "        ex2. 이메일 : abc123@naver.com / abc123@sns.co.kr\n",
    "            => \\w+@\\w+(\\.\\w+){1,2}\n",
    "        ex3. 주민번호: 123456-1234567\n",
    "            => \\d{2}(0[1-9]|1[0-2])(0[1-9]|[12]\\d|3[0-1])\\-[1-4]\\d{6}\n",
    "    4. 소스구현"
   ]
  },
  {
   "cell_type": "code",
   "execution_count": 2,
   "id": "e209d18e",
   "metadata": {},
   "outputs": [
    {
     "name": "stdout",
     "output_type": "stream",
     "text": [
      "이름:홍길동, 주소:서울, 전화:02-888-8888,전화번호:010-9999-9999, 특징:동해번쩍서해번쩍혈액형:Bㅋㅋ ㅋㅋzz\n"
     ]
    }
   ],
   "source": [
    "import re\n",
    "data = \"이름:홍길동, 주소:서울, 전화:02-888-8888,\\\n",
    "전화번호:010-9999-9999, 특징:동해번쩍서해번쩍\\\n",
    "혈액형:Bㅋㅋ ㅋㅋzz\"\n",
    "print(data)"
   ]
  },
  {
   "cell_type": "code",
   "execution_count": 3,
   "id": "8efd3145",
   "metadata": {},
   "outputs": [
    {
     "name": "stdout",
     "output_type": "stream",
     "text": [
      "['02-888-8888', '010-9999-9999']\n"
     ]
    }
   ],
   "source": [
    "# 정규표현식 처리에서는 raw 데이터 처리를 하지 않아도 실행은 되나\n",
    "# 실수를 줄이고 가독성을 죽이는 용도로 raw 데이터 처리를 사용\n",
    "tel_pattern = r'\\d{2,3}[)\\- \\.]?\\d{3,4}[\\- \\.]?\\d{4}'\n",
    "#해당 패턴을 다 찾아줌. 없으면 빈 list\n",
    "tels = re.findall(tel_pattern, data)\n",
    "print(tels)"
   ]
  },
  {
   "cell_type": "code",
   "execution_count": 4,
   "id": "c11c8568",
   "metadata": {},
   "outputs": [
    {
     "name": "stdout",
     "output_type": "stream",
     "text": [
      "[]\n"
     ]
    }
   ],
   "source": [
    "email_pattern = r'\\w+@\\w+(\\.\\w+){1,2}'\n",
    "emails = re.findall(email_pattern, data)\n",
    "print(emails)"
   ]
  },
  {
   "cell_type": "code",
   "execution_count": 5,
   "id": "af42d192",
   "metadata": {},
   "outputs": [
    {
     "data": {
      "text/plain": [
       "<re.Match object; span=(18, 29), match='02-888-8888'>"
      ]
     },
     "execution_count": 5,
     "metadata": {},
     "output_type": "execute_result"
    }
   ],
   "source": [
    "# 정규표현식 패턴과 처음 일치되는 것을 찾아줘\n",
    "firstTel = re.search(tel_pattern, data)\n",
    "firstTel"
   ]
  },
  {
   "cell_type": "code",
   "execution_count": 6,
   "id": "e0dd0221",
   "metadata": {},
   "outputs": [
    {
     "name": "stdout",
     "output_type": "stream",
     "text": [
      "02-888-8888\n",
      "02-888-8888\n"
     ]
    }
   ],
   "source": [
    "print(data[18:29]) #문자열 슬라이싱\n",
    "print(firstTel.group(0))"
   ]
  },
  {
   "cell_type": "code",
   "execution_count": 7,
   "id": "045723db",
   "metadata": {},
   "outputs": [
    {
     "data": {
      "text/plain": [
       "<re.Match object; span=(18, 29), match='02-888-8888'>"
      ]
     },
     "execution_count": 7,
     "metadata": {},
     "output_type": "execute_result"
    }
   ],
   "source": [
    "tel_pattern = r'(\\d{2,3})[)\\- \\.]?(\\d{3,4})[\\- \\.]?(\\d{4})'\n",
    "firstPhone = re.search(tel_pattern, data)\n",
    "firstPhone"
   ]
  },
  {
   "cell_type": "code",
   "execution_count": 8,
   "id": "a6b9f98b",
   "metadata": {},
   "outputs": [
    {
     "name": "stdout",
     "output_type": "stream",
     "text": [
      "전체 전화번호 :  02-888-8888\n",
      "국번 :  02\n",
      "중간번호 :  888\n",
      "끝번호 :  8888\n"
     ]
    }
   ],
   "source": [
    "print('전체 전화번호 : ',firstPhone.group(0))\n",
    "print('국번 : ',firstPhone.group(1))\n",
    "print('중간번호 : ',firstPhone.group(2))\n",
    "print('끝번호 : ',firstPhone.group(3))"
   ]
  },
  {
   "cell_type": "code",
   "execution_count": 9,
   "id": "4099a3c1",
   "metadata": {},
   "outputs": [
    {
     "data": {
      "text/plain": [
       "'이름 홍길동  주소 서울  전화 02 888 8888 전화번호 010 9999 9999  특징 동해번쩍서해번쩍혈액형 B       '"
      ]
     },
     "execution_count": 9,
     "metadata": {},
     "output_type": "execute_result"
    }
   ],
   "source": [
    "# data에서 특정한 데이터 없애기\n",
    "re.sub(r'[^가-힣0-9A-Z\\s]', ' ', data)"
   ]
  },
  {
   "cell_type": "code",
   "execution_count": 10,
   "id": "acfdc2fc",
   "metadata": {},
   "outputs": [
    {
     "data": {
      "text/plain": [
       "'이름:홍길동, 주소:서울, 전화: ,전화번호: , 특징:동해번쩍서해번쩍혈액형:Bㅋㅋ ㅋㅋzz'"
      ]
     },
     "execution_count": 10,
     "metadata": {},
     "output_type": "execute_result"
    }
   ],
   "source": [
    "# data에서 전화번호 없애기\n",
    "tel_pattern = r'\\d{2,3}[)\\- \\.]?\\d{3,4}[\\- \\.]?\\d{4}'\n",
    "re.sub(tel_pattern, ' ', data)"
   ]
  },
  {
   "cell_type": "code",
   "execution_count": 12,
   "id": "a1dc52e7",
   "metadata": {},
   "outputs": [],
   "source": [
    "# 파일 경로\n",
    "file_path = r\"C:\\ai\\source\\01_python\\data\\ch02.txt\"\n",
    "\n",
    "file_stream = open(file_path, 'w')\n",
    "print(\"Hello, Python.\", \"Hello, World\", sep=\"\\n\", file=file_stream)\n",
    "file_stream.close() #close 하지 않으면 저장 안됨"
   ]
  },
  {
   "cell_type": "markdown",
   "id": "918f102d",
   "metadata": {},
   "source": [
    "### ※ 문자열 인덱싱"
   ]
  },
  {
   "cell_type": "code",
   "execution_count": 14,
   "id": "c93e4284",
   "metadata": {},
   "outputs": [
    {
     "data": {
      "text/plain": [
       "'0123456789'"
      ]
     },
     "execution_count": 14,
     "metadata": {},
     "output_type": "execute_result"
    }
   ],
   "source": [
    "str_ = \"0123456789\"\n",
    "str_"
   ]
  },
  {
   "cell_type": "code",
   "execution_count": 16,
   "id": "ab5df119",
   "metadata": {},
   "outputs": [
    {
     "data": {
      "text/plain": [
       "('0', '2', '9', '7')"
      ]
     },
     "execution_count": 16,
     "metadata": {},
     "output_type": "execute_result"
    }
   ],
   "source": [
    "str_[0], str_[2], str_[-1], str_[-3] #음수 인덱싱은 맨 마지막이 -1"
   ]
  },
  {
   "cell_type": "code",
   "execution_count": 17,
   "id": "a14f2835",
   "metadata": {},
   "outputs": [
    {
     "ename": "IndexError",
     "evalue": "string index out of range",
     "output_type": "error",
     "traceback": [
      "\u001b[1;31m---------------------------------------------------------------------------\u001b[0m",
      "\u001b[1;31mIndexError\u001b[0m                                Traceback (most recent call last)",
      "Cell \u001b[1;32mIn[17], line 1\u001b[0m\n\u001b[1;32m----> 1\u001b[0m \u001b[43mstr_\u001b[49m\u001b[43m[\u001b[49m\u001b[38;5;241;43m10\u001b[39;49m\u001b[43m]\u001b[49m\n",
      "\u001b[1;31mIndexError\u001b[0m: string index out of range"
     ]
    }
   ],
   "source": [
    "str_[10] #없는 인덱싱은 에러"
   ]
  },
  {
   "cell_type": "markdown",
   "id": "b7964276",
   "metadata": {},
   "source": [
    "### ※ 문자열 슬라이싱"
   ]
  },
  {
   "cell_type": "code",
   "execution_count": 18,
   "id": "bac386cf",
   "metadata": {},
   "outputs": [
    {
     "data": {
      "text/plain": [
       "'2345'"
      ]
     },
     "execution_count": 18,
     "metadata": {},
     "output_type": "execute_result"
    }
   ],
   "source": [
    "'''\n",
    "문자열변수[from:to] : from부터 to앞까지 추출\n",
    "문자열변수[from:to:step] : from부터 to앞까지 step씩 전진하면서 추출\n",
    "    from 생략시 처음부터\n",
    "    to 생략시 끝까지\n",
    "    step 생략시 step=1\n",
    "'''\n",
    "\n",
    "str_[2:6]"
   ]
  },
  {
   "cell_type": "code",
   "execution_count": 19,
   "id": "7f1433ac",
   "metadata": {},
   "outputs": [
    {
     "data": {
      "text/plain": [
       "'02468'"
      ]
     },
     "execution_count": 19,
     "metadata": {},
     "output_type": "execute_result"
    }
   ],
   "source": [
    "str_[0:10:2]"
   ]
  },
  {
   "cell_type": "code",
   "execution_count": 20,
   "id": "0aefe026",
   "metadata": {},
   "outputs": [
    {
     "data": {
      "text/plain": [
       "('012', '012')"
      ]
     },
     "execution_count": 20,
     "metadata": {},
     "output_type": "execute_result"
    }
   ],
   "source": [
    "str_[0:3], str_[:3] # from 생략시 처음부터"
   ]
  },
  {
   "cell_type": "code",
   "execution_count": 21,
   "id": "acf1a75c",
   "metadata": {},
   "outputs": [
    {
     "data": {
      "text/plain": [
       "('56789', '56789')"
      ]
     },
     "execution_count": 21,
     "metadata": {},
     "output_type": "execute_result"
    }
   ],
   "source": [
    "str_[5:10], str_[5:] # to 생략시 끝까지"
   ]
  },
  {
   "cell_type": "code",
   "execution_count": 22,
   "id": "8e06365f",
   "metadata": {},
   "outputs": [
    {
     "data": {
      "text/plain": [
       "'5678'"
      ]
     },
     "execution_count": 22,
     "metadata": {},
     "output_type": "execute_result"
    }
   ],
   "source": [
    "str_[-5:-1] # -5번째부터 -1 앞까지"
   ]
  },
  {
   "cell_type": "code",
   "execution_count": 23,
   "id": "4b4dc8c2",
   "metadata": {},
   "outputs": [
    {
     "data": {
      "text/plain": [
       "'987654321'"
      ]
     },
     "execution_count": 23,
     "metadata": {},
     "output_type": "execute_result"
    }
   ],
   "source": [
    "str_[9:0:-1] # 9번째부터 0번째전까지 -1씩 전진 추출"
   ]
  },
  {
   "cell_type": "code",
   "execution_count": 26,
   "id": "d977af39",
   "metadata": {},
   "outputs": [
    {
     "name": "stdout",
     "output_type": "stream",
     "text": [
      "9876543210\n",
      "9876543210\n",
      "9876543210\n"
     ]
    }
   ],
   "source": [
    "# quiz : 마지막 글씨부터 처음글씨까지 거꾸로 출려해주세요 9876543210\n",
    "print(str_[::-1])\n",
    "print(str_[9::-1])\n",
    "print(str_[-1::-1])"
   ]
  },
  {
   "cell_type": "markdown",
   "id": "62b5e407",
   "metadata": {},
   "source": [
    "## 3.3 논리형(True / False)"
   ]
  },
  {
   "cell_type": "code",
   "execution_count": 33,
   "id": "00b35596",
   "metadata": {},
   "outputs": [
    {
     "name": "stdout",
     "output_type": "stream",
     "text": [
      "True\n",
      "<class 'bool'>\n",
      "True\n"
     ]
    }
   ],
   "source": [
    "a = 10>5\n",
    "print(a)\n",
    "print(type(a))\n",
    "print(isinstance(a,bool))"
   ]
  },
  {
   "cell_type": "code",
   "execution_count": 34,
   "id": "6190b14a",
   "metadata": {},
   "outputs": [
    {
     "data": {
      "text/plain": [
       "(1, 0)"
      ]
     },
     "execution_count": 34,
     "metadata": {},
     "output_type": "execute_result"
    }
   ],
   "source": [
    "int(True), int(False)"
   ]
  },
  {
   "cell_type": "code",
   "execution_count": 41,
   "id": "9c8ef5b6",
   "metadata": {},
   "outputs": [
    {
     "data": {
      "text/plain": [
       "(True, False, True, True)"
      ]
     },
     "execution_count": 41,
     "metadata": {},
     "output_type": "execute_result"
    }
   ],
   "source": [
    "bool(1), bool(0), bool(10000), bool(-1000)"
   ]
  },
  {
   "cell_type": "code",
   "execution_count": 42,
   "id": "020e46ae",
   "metadata": {},
   "outputs": [
    {
     "data": {
      "text/plain": [
       "(False, True, True)"
      ]
     },
     "execution_count": 42,
     "metadata": {},
     "output_type": "execute_result"
    }
   ],
   "source": [
    "bool(\"\"), bool(\"김길동\"), bool(\" \")"
   ]
  },
  {
   "cell_type": "code",
   "execution_count": null,
   "id": "2f456aa8",
   "metadata": {},
   "outputs": [],
   "source": [
    "# False로 간주되는것 : 0, \"\"(빈 스트링), [](빈리스트), ()(빈투플-empty tuple), {}(빈 딕셔너리), None\n",
    "# False로 반별되는 경우를 제외하고는 모두 True"
   ]
  },
  {
   "cell_type": "code",
   "execution_count": 52,
   "id": "f2ed90a7",
   "metadata": {},
   "outputs": [
    {
     "name": "stdout",
     "output_type": "stream",
     "text": [
      "False\n"
     ]
    }
   ],
   "source": [
    "if None:\n",
    "    print(\"True\")\n",
    "else:\n",
    "    print(\"False\")"
   ]
  },
  {
   "cell_type": "code",
   "execution_count": 54,
   "id": "a23a4855",
   "metadata": {},
   "outputs": [
    {
     "name": "stdout",
     "output_type": "stream",
     "text": [
      "이름은?\n",
      "입력을 안 하셨군요\n"
     ]
    }
   ],
   "source": [
    "name = input(\"이름은?\")\n",
    "if name: #name이 빈스트림이 아니면\n",
    "    print('당신 이름은', name)\n",
    "else: \n",
    "    print('입력을 안 하셨군요')"
   ]
  },
  {
   "cell_type": "markdown",
   "id": "161c8694",
   "metadata": {},
   "source": [
    "## 3.4 자료형 확인 및 형변환 함수\n",
    "- type(변수)\n",
    "- isinstance(변수, 타입) : 변수가 해당 타입인지 여부\n",
    "- float() : 실수형으로 변환\n",
    "- int()   : 정수형으로 변환\n",
    "- str()   : 문자형으로 변환\n",
    "- bool()  : 논리형으로 변환"
   ]
  },
  {
   "cell_type": "code",
   "execution_count": 58,
   "id": "4c162b66",
   "metadata": {},
   "outputs": [
    {
     "data": {
      "text/plain": [
       "(4.0, 4.1, 4, 4, '4', '4.9')"
      ]
     },
     "execution_count": 58,
     "metadata": {},
     "output_type": "execute_result"
    }
   ],
   "source": [
    "float(4), float(\"4.1\"), int(4.9), int(\"4\"), str(4), str(4.9)"
   ]
  },
  {
   "cell_type": "code",
   "execution_count": 61,
   "id": "56788297",
   "metadata": {},
   "outputs": [],
   "source": [
    "# 에러나는 경우들\n",
    "#int(\"\"), int(\" \"), int(None), int(\"123.9\"), int(\"9.0000\")\n",
    "#float(\"\"), float(\" \"), float(None)"
   ]
  },
  {
   "cell_type": "markdown",
   "id": "5d667e57",
   "metadata": {},
   "source": [
    "# 4절. 포멧팅\n",
    "- 포멧팅이란 출력할 문자 숫자, 날짜 데이터의 형식을 지정하는것\n",
    "## 4.1 문자열에 형식 지정"
   ]
  },
  {
   "cell_type": "code",
   "execution_count": 65,
   "id": "c5d5422b",
   "metadata": {},
   "outputs": [
    {
     "name": "stdout",
     "output_type": "stream",
     "text": [
      "홍길동님의 나이는 30살입니다\n",
      "홍길동님의 나이는 30살입니다\n"
     ]
    }
   ],
   "source": [
    "name = \"홍길동\"\n",
    "age = 30\n",
    "print(name + \"님의 나이는 \"+ str(age) + \"살입니다\")\n",
    "print(name, \"님의 나이는 \", age, \"살입니다\", sep='')"
   ]
  },
  {
   "cell_type": "code",
   "execution_count": 69,
   "id": "4d927e8a",
   "metadata": {},
   "outputs": [
    {
     "name": "stdout",
     "output_type": "stream",
     "text": [
      "홍길동님의 나이는 30살입니다\n",
      "홍길동님의 나이는 30살입니다\n"
     ]
    }
   ],
   "source": [
    "# %s: 문자 %d: 10진수 %f실수\n",
    "print(\"%s님의 나이는 %d살입니다\" % (name, age))\n",
    "print(f\"{name}님의 나이는 {age}살입니다\")"
   ]
  },
  {
   "cell_type": "code",
   "execution_count": 70,
   "id": "ee92b57b",
   "metadata": {},
   "outputs": [
    {
     "name": "stdout",
     "output_type": "stream",
     "text": [
      "홍길동님의 나이는 30살입니다\n",
      "홍길동님의 나이는 30살입니다\n",
      "홍길동님의 나이는 30살입니다\n"
     ]
    }
   ],
   "source": [
    "print(\"{}님의 나이는 {}살입니다\".format(name,age))\n",
    "print(\"{0}님의 나이는 {1}살입니다\".format(name,age))\n",
    "print(\"{1}님의 나이는 {0}살입니다\".format(age,name))"
   ]
  },
  {
   "cell_type": "markdown",
   "id": "c763b3d2",
   "metadata": {},
   "source": [
    "## 4.2 format() 문법\n",
    "- \"{[인덱스]:[공백대체문자][정렬방식][자릿수][타입]}\".format(변수명)\n",
    "    * 인덱스 : format 함수안의 매개변수 순서\n",
    "    * 정렬방식 : <(왼쪽정렬), >(오른쪽정렬), ^(가운데정렬)\n",
    "    * 정수자릿수 : 출력할 자릿수\n",
    "    * 실수자릿수 : 전체 출력될 자릿수.변수중에 출력할 자리수 ex)10.2\n",
    "    * 타입 : d(10진수), o(8진수), x(16진수), b(2진수), f(실수), s(문자)\n",
    "    * 공백대체문자는 정렬방식을 명시하여야 한다"
   ]
  },
  {
   "cell_type": "code",
   "execution_count": 77,
   "id": "7c900789",
   "metadata": {},
   "outputs": [
    {
     "name": "stdout",
     "output_type": "stream",
     "text": [
      "[12345] [     12345] [12345]\n",
      "[12345] [     12345] [12345]\n",
      "[Hello] [Hello     ] [Hello]\n"
     ]
    }
   ],
   "source": [
    "# 숫자의 경우 오른쪽 정렬(기본)\n",
    "# 문자의 경우 왼쪽 정렬(기본)\n",
    "# 변수보다 작은 자리수를 지정하면 자리수가 무시되고 다 출력(정수자릿수)\n",
    "a = 12345\n",
    "s = 'Hello'\n",
    "print(\"[{}] [{:10}] [{:3}]\".format(a, a, a))\n",
    "print(\"[{0}] [{0:10}] [{0:3}]\".format(a))\n",
    "print(\"[{0}] [{0:10}] [{0:3}]\".format(s))"
   ]
  },
  {
   "cell_type": "code",
   "execution_count": 80,
   "id": "0eac4459",
   "metadata": {},
   "outputs": [
    {
     "name": "stdout",
     "output_type": "stream",
     "text": [
      "[10  ] [ 20 ] [   3]\n"
     ]
    }
   ],
   "source": [
    "# 정렬방식 : <, ^, >\n",
    "a,b,c = 10, 20, 3\n",
    "print(\"[{:<4}] [{:^4}] [{:>4}]\".format(a,b,c))"
   ]
  },
  {
   "cell_type": "code",
   "execution_count": 90,
   "id": "40a9a088",
   "metadata": {},
   "outputs": [
    {
     "name": "stdout",
     "output_type": "stream",
     "text": [
      "[$10.00] [ 12.57] [____He]\n"
     ]
    }
   ],
   "source": [
    "# 실수 자릿수 10.2f : 전체 10자리 소수점 2자리 / 6.2 : 전체 6자리중 2자리 출력\n",
    "a = 10\n",
    "f = 12.569\n",
    "s = \"Hello\"\n",
    "\n",
    "print(\"[{:$>6.2f}] [{:6.2f}] [{:_>6.2}]\".format(a, f, s))\n",
    "\n",
    "# 공백대체문자를 쓸경우 반드시 정렬방식을 표현"
   ]
  },
  {
   "cell_type": "code",
   "execution_count": 96,
   "id": "5020e5ec",
   "metadata": {},
   "outputs": [
    {
     "name": "stdout",
     "output_type": "stream",
     "text": [
      "[      +123], [      -123], [       123]\n",
      "[       123], [-      123], [       123]\n",
      "[+      123], [-      123], [       123]\n"
     ]
    }
   ],
   "source": [
    "# 자리수 앞에 +를 붙이면 양수의 경우도 부호출력\n",
    "# 부호나 소수점도 자리수에 포함\n",
    "a, b = 123, -123\n",
    "print(\"[{:+10}], [{:+10}], [{:10}]\".format(a,b,a))\n",
    "print(\"[{:=10}], [{:=10}], [{:10}]\".format(a,b,a))\n",
    "print(\"[{:=+10}], [{:=+10}], [{:10}]\".format(a,b,a))"
   ]
  },
  {
   "cell_type": "code",
   "execution_count": 103,
   "id": "8d24fb60",
   "metadata": {},
   "outputs": [
    {
     "name": "stdout",
     "output_type": "stream",
     "text": [
      "10진수 [  15]\n",
      "8 진수 [  17]\n",
      "16진수 [   f]\n",
      "2 진수 [1111]\n"
     ]
    }
   ],
   "source": [
    "# 10진수, 8진수, 16진수,, 2진수 출력\n",
    "a = 15\n",
    "print(\"10진수 [{:4d}]\".format(a))\n",
    "print(\"8 진수 [{:4o}]\".format(a))\n",
    "print(\"16진수 [{:4x}]\".format(a))\n",
    "print(\"2 진수 [{:4b}]\".format(a))"
   ]
  },
  {
   "cell_type": "code",
   "execution_count": 107,
   "id": "89f119f1",
   "metadata": {},
   "outputs": [
    {
     "name": "stdout",
     "output_type": "stream",
     "text": [
      "[    +2.785]\n",
      "[    +2.785]\n"
     ]
    }
   ],
   "source": [
    "a = 2.785\n",
    "sign = \"+\"\n",
    "width = 10\n",
    "precision = 4\n",
    "print(\"[{:{}{}.{}}]\".format(a, sign, width, precision))\n",
    "print(\"[{:{sign}{width}.{precision}}]\".format(a, sign=sign, width=width, precision=precision))\n"
   ]
  },
  {
   "cell_type": "markdown",
   "id": "a57e88a8",
   "metadata": {},
   "source": [
    "## 4.3 날짜 출력"
   ]
  },
  {
   "cell_type": "code",
   "execution_count": 111,
   "id": "726720ed",
   "metadata": {},
   "outputs": [],
   "source": [
    "#import datetime # datetime 모듈(파이썬 프로그램 파일 datetime.py) 전체를 메모리 load\n",
    "from datetime import datetime # datetime 모듈안의 datetime만 메모리 load\n",
    "thatday1 = datetime(2025, 9, 11) #25년 9월 11일 0시 0분 0초\n",
    "thatday2 = datetime(2025, 9, 11, 9, 30, 0) #25년 9월 11일 9시 30분 0초"
   ]
  },
  {
   "cell_type": "code",
   "execution_count": 116,
   "id": "a4f9f208",
   "metadata": {},
   "outputs": [
    {
     "name": "stdout",
     "output_type": "stream",
     "text": [
      "2025년\n",
      "25년\n",
      "09월\n",
      "11일\n",
      "25년 09월 11일 00시 00분 00초\n",
      "25년 09월 11일 AM 12시 00분 00초\n"
     ]
    }
   ],
   "source": [
    "#Y(연도 4자리) y(연도 2자리) m(월) d(일) p(am/pm) I(12시간) H(24시간) M(분) S(초)\n",
    "print(\"{:%Y년}\".format(thatday1))\n",
    "print(\"{:%y년}\".format(thatday1))\n",
    "print(\"{:%m월}\".format(thatday1))\n",
    "print(\"{:%d일}\".format(thatday1))\n",
    "print(\"{:%y년 %m월 %d일 %H시 %M분 %S초}\".format(thatday1))\n",
    "print(\"{:%y년 %m월 %d일 %p %I시 %M분 %S초}\".format(thatday1))"
   ]
  },
  {
   "cell_type": "code",
   "execution_count": 117,
   "id": "5bfa7c42",
   "metadata": {},
   "outputs": [
    {
     "data": {
      "text/plain": [
       "'25년 09월 11일 00시 00분 00초'"
      ]
     },
     "execution_count": 117,
     "metadata": {},
     "output_type": "execute_result"
    }
   ],
   "source": [
    "thatday1.strftime(\"%y년 %m월 %d일 %H시 %M분 %S초\")"
   ]
  },
  {
   "cell_type": "code",
   "execution_count": 122,
   "id": "0e07d1db",
   "metadata": {},
   "outputs": [
    {
     "data": {
      "text/plain": [
       "datetime.timedelta(days=4, seconds=53720, microseconds=370582)"
      ]
     },
     "execution_count": 122,
     "metadata": {},
     "output_type": "execute_result"
    }
   ],
   "source": [
    "# 현재의 날짜와 시간\n",
    "# datetime(2025, 9, 11, 14, 30) : 특정한 날짜와 시간\n",
    "now = datetime.now() #지금\n",
    "now - thatday1 #날짜형 변수끼리 연산 가능"
   ]
  },
  {
   "cell_type": "code",
   "execution_count": 125,
   "id": "b9a1e782",
   "metadata": {},
   "outputs": [
    {
     "name": "stdout",
     "output_type": "stream",
     "text": [
      "2025-09-15 PM 02:55\n",
      "2025-09-15 PM 02:55\n"
     ]
    }
   ],
   "source": [
    "# 지금(날짜와 시간) 원하는 스타일로 출력\n",
    "print(\"{:%Y-%m-%d %p %I:%M}\".format(now))\n",
    "print(now.strftime(\"%Y-%m-%d %p %I:%M\"))"
   ]
  },
  {
   "cell_type": "code",
   "execution_count": 126,
   "id": "3ef3437e",
   "metadata": {},
   "outputs": [
    {
     "data": {
      "text/plain": [
       "'2025-09-15 PM 02:59'"
      ]
     },
     "execution_count": 126,
     "metadata": {},
     "output_type": "execute_result"
    }
   ],
   "source": [
    "# 지금을 문자열로 전환하는 함수\n",
    "from time import strftime\n",
    "strftime(\"%Y-%m-%d %p %I:%M\")"
   ]
  },
  {
   "cell_type": "code",
   "execution_count": null,
   "id": "dd472b7d",
   "metadata": {},
   "outputs": [],
   "source": []
  },
  {
   "cell_type": "code",
   "execution_count": null,
   "id": "d498ec3a",
   "metadata": {},
   "outputs": [],
   "source": []
  }
 ],
 "metadata": {
  "kernelspec": {
   "display_name": "Python 3 (ipykernel)",
   "language": "python",
   "name": "python3"
  },
  "language_info": {
   "codemirror_mode": {
    "name": "ipython",
    "version": 3
   },
   "file_extension": ".py",
   "mimetype": "text/x-python",
   "name": "python",
   "nbconvert_exporter": "python",
   "pygments_lexer": "ipython3",
   "version": "3.10.9"
  },
  "toc": {
   "base_numbering": 1,
   "nav_menu": {},
   "number_sections": false,
   "sideBar": true,
   "skip_h1_title": false,
   "title_cell": "Table of Contents",
   "title_sidebar": "Contents",
   "toc_cell": false,
   "toc_position": {
    "height": "calc(100% - 180px)",
    "left": "10px",
    "top": "150px",
    "width": "384px"
   },
   "toc_section_display": true,
   "toc_window_display": true
  }
 },
 "nbformat": 4,
 "nbformat_minor": 5
}
