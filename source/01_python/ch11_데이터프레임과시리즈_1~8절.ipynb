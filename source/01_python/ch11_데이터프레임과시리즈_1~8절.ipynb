{
 "cells": [
  {
   "cell_type": "code",
   "execution_count": 1,
   "id": "0b5d3031",
   "metadata": {},
   "outputs": [
    {
     "data": {
      "text/html": [
       "\n",
       "<style>\n",
       "div.container{width:90% !important;}\n",
       "div.cell.code_cell.rendered{width:100%;}\n",
       "div.input_prompt{padding:0px;}\n",
       "div.CodeMirror {font-family:Consolas; font-size:12pt;}\n",
       "div.text_cell_render.rendered_html{font size:12pt;}\n",
       "div.output {font-size:12pt; font-weight:bold;}\n",
       "div.input{font-family:Consolas; font-size:12pt;}\n",
       "div.prompt {min width:70px;}\n",
       "div#toc-wrapper {padding-top:120px;}\n",
       "div.text_cell_render ul li{font-size:12pt;padding:5px;}\n",
       "table.dataframe {font-size:12px;}\n",
       "</style>\n"
      ],
      "text/plain": [
       "<IPython.core.display.HTML object>"
      ]
     },
     "metadata": {},
     "output_type": "display_data"
    }
   ],
   "source": [
    "from IPython.display import display, HTML\n",
    "display(HTML(\"\"\"\n",
    "<style>\n",
    "div.container{width:90% !important;}\n",
    "div.cell.code_cell.rendered{width:100%;}\n",
    "div.input_prompt{padding:0px;}\n",
    "div.CodeMirror {font-family:Consolas; font-size:12pt;}\n",
    "div.text_cell_render.rendered_html{font size:12pt;}\n",
    "div.output {font-size:12pt; font-weight:bold;}\n",
    "div.input{font-family:Consolas; font-size:12pt;}\n",
    "div.prompt {min width:70px;}\n",
    "div#toc-wrapper {padding-top:120px;}\n",
    "div.text_cell_render ul li{font-size:12pt;padding:5px;}\n",
    "table.dataframe {font-size:12px;}\n",
    "</style>\n",
    "\"\"\"))"
   ]
  },
  {
   "cell_type": "markdown",
   "id": "69d0af03",
   "metadata": {},
   "source": [
    "<b><font size='6' color='red'>ch11. 데이터 프레임과 시리즈(Pandas)</font></b>\n",
    "- pip install pandas (판다스 설치 방법)\n",
    "\n",
    "# 1절 판다스 패키지\n",
    "- 데이터 분석을 위해 반드시 알아야할 패키지. 넘파이를 기반으로 하며, 다른 많은 라이브러리와 잘 통합디도록 설계\n",
    "- 2차원 구조를 갖는 데이터프레임, 1차원 구조를 갖는 시리즈를 제공\n",
    "- 판다스 장점: 데이터 프레임 생성, 파일 io, 레이블링, 부분데이터 추출, 크기변경(행이나 열 삽입, 삭제), 데이터 분할 및 병합, 데이터구조 변경, 결측치 처리\n",
    "\n",
    "- https://pypi.org/project/pandas/ (package index)\n",
    "- https://pandas.pydata.org/pandas-docs/stable/reference/index.html (API reference)"
   ]
  },
  {
   "cell_type": "code",
   "execution_count": 2,
   "id": "a022a7f8",
   "metadata": {},
   "outputs": [
    {
     "data": {
      "text/plain": [
       "'1.5.3'"
      ]
     },
     "execution_count": 2,
     "metadata": {},
     "output_type": "execute_result"
    }
   ],
   "source": [
    "import pandas as pd\n",
    "pd.__version__"
   ]
  },
  {
   "cell_type": "code",
   "execution_count": 7,
   "id": "028991c1",
   "metadata": {},
   "outputs": [
    {
     "data": {
      "text/html": [
       "<div>\n",
       "<style scoped>\n",
       "    .dataframe tbody tr th:only-of-type {\n",
       "        vertical-align: middle;\n",
       "    }\n",
       "\n",
       "    .dataframe tbody tr th {\n",
       "        vertical-align: top;\n",
       "    }\n",
       "\n",
       "    .dataframe thead th {\n",
       "        text-align: right;\n",
       "    }\n",
       "</style>\n",
       "<table border=\"1\" class=\"dataframe\">\n",
       "  <thead>\n",
       "    <tr style=\"text-align: right;\">\n",
       "      <th></th>\n",
       "      <th>name</th>\n",
       "      <th>age</th>\n",
       "      <th>email</th>\n",
       "      <th>address</th>\n",
       "    </tr>\n",
       "  </thead>\n",
       "  <tbody>\n",
       "    <tr>\n",
       "      <th>0</th>\n",
       "      <td>신길동</td>\n",
       "      <td>30</td>\n",
       "      <td>sg@hong.com</td>\n",
       "      <td>서울</td>\n",
       "    </tr>\n",
       "    <tr>\n",
       "      <th>1</th>\n",
       "      <td>홍길동</td>\n",
       "      <td>20</td>\n",
       "      <td>ho@hong.com</td>\n",
       "      <td>수원</td>\n",
       "    </tr>\n",
       "    <tr>\n",
       "      <th>2</th>\n",
       "      <td>마길동</td>\n",
       "      <td>25</td>\n",
       "      <td>ma@hong.com</td>\n",
       "      <td>안양</td>\n",
       "    </tr>\n",
       "  </tbody>\n",
       "</table>\n",
       "</div>"
      ],
      "text/plain": [
       "  name  age        email address\n",
       "0  신길동   30  sg@hong.com      서울\n",
       "1  홍길동   20  ho@hong.com      수원\n",
       "2  마길동   25  ma@hong.com      안양"
      ]
     },
     "metadata": {},
     "output_type": "display_data"
    },
    {
     "name": "stdout",
     "output_type": "stream",
     "text": [
      "<class 'pandas.core.frame.DataFrame'>\n"
     ]
    }
   ],
   "source": [
    "data = pd.read_json('data/ch09_member1.json', encoding='cp949') # 기본 encoding은 utf-8\n",
    "display(data)\n",
    "print(type(data))"
   ]
  },
  {
   "cell_type": "code",
   "execution_count": 8,
   "id": "3262e6c2",
   "metadata": {},
   "outputs": [
    {
     "data": {
      "text/html": [
       "<div>\n",
       "<style scoped>\n",
       "    .dataframe tbody tr th:only-of-type {\n",
       "        vertical-align: middle;\n",
       "    }\n",
       "\n",
       "    .dataframe tbody tr th {\n",
       "        vertical-align: top;\n",
       "    }\n",
       "\n",
       "    .dataframe thead th {\n",
       "        text-align: right;\n",
       "    }\n",
       "</style>\n",
       "<table border=\"1\" class=\"dataframe\">\n",
       "  <thead>\n",
       "    <tr style=\"text-align: right;\">\n",
       "      <th></th>\n",
       "      <th>name</th>\n",
       "      <th>age</th>\n",
       "      <th>email</th>\n",
       "      <th>address</th>\n",
       "    </tr>\n",
       "  </thead>\n",
       "  <tbody>\n",
       "    <tr>\n",
       "      <th>0</th>\n",
       "      <td>신길동</td>\n",
       "      <td>30</td>\n",
       "      <td>sg@hong.com</td>\n",
       "      <td>서울</td>\n",
       "    </tr>\n",
       "    <tr>\n",
       "      <th>1</th>\n",
       "      <td>홍길동</td>\n",
       "      <td>20</td>\n",
       "      <td>ho@hong.com</td>\n",
       "      <td>수원</td>\n",
       "    </tr>\n",
       "    <tr>\n",
       "      <th>2</th>\n",
       "      <td>마길동</td>\n",
       "      <td>25</td>\n",
       "      <td>ma@hong.com</td>\n",
       "      <td>안양</td>\n",
       "    </tr>\n",
       "  </tbody>\n",
       "</table>\n",
       "</div>"
      ],
      "text/plain": [
       "  name  age        email address\n",
       "0  신길동   30  sg@hong.com      서울\n",
       "1  홍길동   20  ho@hong.com      수원\n",
       "2  마길동   25  ma@hong.com      안양"
      ]
     },
     "execution_count": 8,
     "metadata": {},
     "output_type": "execute_result"
    }
   ],
   "source": [
    "member4 = pd.read_csv('data/ch09_member4.csv')\n",
    "member4"
   ]
  },
  {
   "cell_type": "code",
   "execution_count": 11,
   "id": "99c02325",
   "metadata": {},
   "outputs": [
    {
     "data": {
      "text/html": [
       "<div>\n",
       "<style scoped>\n",
       "    .dataframe tbody tr th:only-of-type {\n",
       "        vertical-align: middle;\n",
       "    }\n",
       "\n",
       "    .dataframe tbody tr th {\n",
       "        vertical-align: top;\n",
       "    }\n",
       "\n",
       "    .dataframe thead th {\n",
       "        text-align: right;\n",
       "    }\n",
       "</style>\n",
       "<table border=\"1\" class=\"dataframe\">\n",
       "  <thead>\n",
       "    <tr style=\"text-align: right;\">\n",
       "      <th></th>\n",
       "      <th>name</th>\n",
       "      <th>age</th>\n",
       "      <th>email</th>\n",
       "      <th>address</th>\n",
       "    </tr>\n",
       "  </thead>\n",
       "  <tbody>\n",
       "    <tr>\n",
       "      <th>0</th>\n",
       "      <td>홍길동</td>\n",
       "      <td>20</td>\n",
       "      <td>kildong@hong.com</td>\n",
       "      <td>서울시 관악구</td>\n",
       "    </tr>\n",
       "    <tr>\n",
       "      <th>1</th>\n",
       "      <td>김길동</td>\n",
       "      <td>40</td>\n",
       "      <td>kimdong@hong.com</td>\n",
       "      <td>서울시 영등포구</td>\n",
       "    </tr>\n",
       "    <tr>\n",
       "      <th>2</th>\n",
       "      <td>신길동</td>\n",
       "      <td>30</td>\n",
       "      <td>sindong@hong.com</td>\n",
       "      <td>서울시 동작구</td>\n",
       "    </tr>\n",
       "  </tbody>\n",
       "</table>\n",
       "</div>"
      ],
      "text/plain": [
       "  name  age             email   address\n",
       "0  홍길동   20  kildong@hong.com   서울시 관악구\n",
       "1  김길동   40  kimdong@hong.com  서울시 영등포구\n",
       "2  신길동   30  sindong@hong.com   서울시 동작구"
      ]
     },
     "execution_count": 11,
     "metadata": {},
     "output_type": "execute_result"
    }
   ],
   "source": [
    "member1 = pd.read_csv('data/ch09_member1.csv', header=None, names=['name', 'age', 'email', 'address'])\n",
    "member1"
   ]
  },
  {
   "cell_type": "markdown",
   "id": "6fc7dbe9",
   "metadata": {},
   "source": [
    "# 2절 데이터 프레임 만들기\n",
    "## 2.1 딕셔너리 리스트를 이용해서 데이터 프레임 만들기"
   ]
  },
  {
   "cell_type": "code",
   "execution_count": 12,
   "id": "521a1e11",
   "metadata": {},
   "outputs": [
    {
     "data": {
      "text/html": [
       "<div>\n",
       "<style scoped>\n",
       "    .dataframe tbody tr th:only-of-type {\n",
       "        vertical-align: middle;\n",
       "    }\n",
       "\n",
       "    .dataframe tbody tr th {\n",
       "        vertical-align: top;\n",
       "    }\n",
       "\n",
       "    .dataframe thead th {\n",
       "        text-align: right;\n",
       "    }\n",
       "</style>\n",
       "<table border=\"1\" class=\"dataframe\">\n",
       "  <thead>\n",
       "    <tr style=\"text-align: right;\">\n",
       "      <th></th>\n",
       "      <th>kor</th>\n",
       "      <th>mat</th>\n",
       "    </tr>\n",
       "  </thead>\n",
       "  <tbody>\n",
       "    <tr>\n",
       "      <th>0</th>\n",
       "      <td>100</td>\n",
       "      <td>95</td>\n",
       "    </tr>\n",
       "    <tr>\n",
       "      <th>1</th>\n",
       "      <td>90</td>\n",
       "      <td>99</td>\n",
       "    </tr>\n",
       "  </tbody>\n",
       "</table>\n",
       "</div>"
      ],
      "text/plain": [
       "   kor  mat\n",
       "0  100   95\n",
       "1   90   99"
      ]
     },
     "execution_count": 12,
     "metadata": {},
     "output_type": "execute_result"
    }
   ],
   "source": [
    "d = [{'kor':100, 'mat':95},{'kor':90, 'mat':99}]\n",
    "df = pd.DataFrame(data=d)\n",
    "df"
   ]
  },
  {
   "cell_type": "code",
   "execution_count": 13,
   "id": "f5dd9ce0",
   "metadata": {},
   "outputs": [
    {
     "data": {
      "text/plain": [
       "{'kor': {0: 100, 1: 90}, 'mat': {0: 95, 1: 99}}"
      ]
     },
     "execution_count": 13,
     "metadata": {},
     "output_type": "execute_result"
    }
   ],
   "source": [
    "df.to_dict() # 데이터프레임을 디셔너리로"
   ]
  },
  {
   "cell_type": "code",
   "execution_count": 15,
   "id": "2fec07e2",
   "metadata": {},
   "outputs": [
    {
     "data": {
      "text/plain": [
       "array([[100,  95],\n",
       "       [ 90,  99]], dtype=int64)"
      ]
     },
     "execution_count": 15,
     "metadata": {},
     "output_type": "execute_result"
    }
   ],
   "source": [
    "df.to_numpy() # 데이터프레임을 넘파이 배열로\n",
    "df.values # 데이터프레임을 넘파이 배열로(이걸 더 자주 사용)"
   ]
  },
  {
   "cell_type": "code",
   "execution_count": 16,
   "id": "6ac0a43d",
   "metadata": {},
   "outputs": [
    {
     "data": {
      "text/plain": [
       "kor    int64\n",
       "mat    int64\n",
       "dtype: object"
      ]
     },
     "execution_count": 16,
     "metadata": {},
     "output_type": "execute_result"
    }
   ],
   "source": [
    "df.dtypes # 열의 타입"
   ]
  },
  {
   "cell_type": "code",
   "execution_count": 17,
   "id": "12702cef",
   "metadata": {},
   "outputs": [
    {
     "name": "stdout",
     "output_type": "stream",
     "text": [
      "<class 'pandas.core.frame.DataFrame'>\n",
      "RangeIndex: 2 entries, 0 to 1\n",
      "Data columns (total 2 columns):\n",
      " #   Column  Non-Null Count  Dtype\n",
      "---  ------  --------------  -----\n",
      " 0   kor     2 non-null      int64\n",
      " 1   mat     2 non-null      int64\n",
      "dtypes: int64(2)\n",
      "memory usage: 160.0 bytes\n"
     ]
    }
   ],
   "source": [
    "df.info() # ★"
   ]
  },
  {
   "cell_type": "code",
   "execution_count": 18,
   "id": "d83e69d4",
   "metadata": {},
   "outputs": [
    {
     "data": {
      "text/plain": [
       "dtype('int64')"
      ]
     },
     "execution_count": 18,
     "metadata": {},
     "output_type": "execute_result"
    }
   ],
   "source": [
    "df['kor'].dtype"
   ]
  },
  {
   "cell_type": "code",
   "execution_count": 20,
   "id": "7b1c651c",
   "metadata": {},
   "outputs": [],
   "source": [
    "# 타입변경 (열마다)\n",
    "import numpy as np\n",
    "df['kor'].astype(np.float64)\n",
    "df['kor'] = df['kor'].astype(np.float64) # kor 열의 타입을 float 64로"
   ]
  },
  {
   "cell_type": "code",
   "execution_count": 21,
   "id": "2bbf4c0d",
   "metadata": {},
   "outputs": [
    {
     "name": "stdout",
     "output_type": "stream",
     "text": [
      "<class 'pandas.core.frame.DataFrame'>\n",
      "RangeIndex: 2 entries, 0 to 1\n",
      "Data columns (total 2 columns):\n",
      " #   Column  Non-Null Count  Dtype  \n",
      "---  ------  --------------  -----  \n",
      " 0   kor     2 non-null      float64\n",
      " 1   mat     2 non-null      int64  \n",
      "dtypes: float64(1), int64(1)\n",
      "memory usage: 160.0 bytes\n"
     ]
    }
   ],
   "source": [
    "df.info()"
   ]
  },
  {
   "cell_type": "code",
   "execution_count": 22,
   "id": "c0ab2f58",
   "metadata": {},
   "outputs": [
    {
     "data": {
      "text/html": [
       "<div>\n",
       "<style scoped>\n",
       "    .dataframe tbody tr th:only-of-type {\n",
       "        vertical-align: middle;\n",
       "    }\n",
       "\n",
       "    .dataframe tbody tr th {\n",
       "        vertical-align: top;\n",
       "    }\n",
       "\n",
       "    .dataframe thead th {\n",
       "        text-align: right;\n",
       "    }\n",
       "</style>\n",
       "<table border=\"1\" class=\"dataframe\">\n",
       "  <thead>\n",
       "    <tr style=\"text-align: right;\">\n",
       "      <th></th>\n",
       "      <th>kor</th>\n",
       "      <th>mat</th>\n",
       "      <th>eng</th>\n",
       "    </tr>\n",
       "  </thead>\n",
       "  <tbody>\n",
       "    <tr>\n",
       "      <th>0</th>\n",
       "      <td>100</td>\n",
       "      <td>95.0</td>\n",
       "      <td>NaN</td>\n",
       "    </tr>\n",
       "    <tr>\n",
       "      <th>1</th>\n",
       "      <td>90</td>\n",
       "      <td>99.0</td>\n",
       "      <td>NaN</td>\n",
       "    </tr>\n",
       "    <tr>\n",
       "      <th>2</th>\n",
       "      <td>92</td>\n",
       "      <td>NaN</td>\n",
       "      <td>99.0</td>\n",
       "    </tr>\n",
       "  </tbody>\n",
       "</table>\n",
       "</div>"
      ],
      "text/plain": [
       "   kor   mat   eng\n",
       "0  100  95.0   NaN\n",
       "1   90  99.0   NaN\n",
       "2   92   NaN  99.0"
      ]
     },
     "execution_count": 22,
     "metadata": {},
     "output_type": "execute_result"
    }
   ],
   "source": [
    "d = [{'kor':100, 'mat':95},{'kor':90, 'mat':99},{'kor':92, 'eng':99}]\n",
    "df = pd.DataFrame(data=d)\n",
    "df"
   ]
  },
  {
   "cell_type": "code",
   "execution_count": 23,
   "id": "7aa36232",
   "metadata": {},
   "outputs": [
    {
     "name": "stdout",
     "output_type": "stream",
     "text": [
      "<class 'pandas.core.frame.DataFrame'>\n",
      "RangeIndex: 3 entries, 0 to 2\n",
      "Data columns (total 3 columns):\n",
      " #   Column  Non-Null Count  Dtype  \n",
      "---  ------  --------------  -----  \n",
      " 0   kor     3 non-null      int64  \n",
      " 1   mat     2 non-null      float64\n",
      " 2   eng     1 non-null      float64\n",
      "dtypes: float64(2), int64(1)\n",
      "memory usage: 200.0 bytes\n"
     ]
    }
   ],
   "source": [
    "df.info()"
   ]
  },
  {
   "cell_type": "code",
   "execution_count": 24,
   "id": "be1caaa4",
   "metadata": {},
   "outputs": [
    {
     "data": {
      "text/plain": [
       "float"
      ]
     },
     "execution_count": 24,
     "metadata": {},
     "output_type": "execute_result"
    }
   ],
   "source": [
    "type(np.nan) # np.nan은 결측치"
   ]
  },
  {
   "cell_type": "code",
   "execution_count": 26,
   "id": "e0d3fe39",
   "metadata": {},
   "outputs": [
    {
     "data": {
      "text/html": [
       "<div>\n",
       "<style scoped>\n",
       "    .dataframe tbody tr th:only-of-type {\n",
       "        vertical-align: middle;\n",
       "    }\n",
       "\n",
       "    .dataframe tbody tr th {\n",
       "        vertical-align: top;\n",
       "    }\n",
       "\n",
       "    .dataframe thead th {\n",
       "        text-align: right;\n",
       "    }\n",
       "</style>\n",
       "<table border=\"1\" class=\"dataframe\">\n",
       "  <thead>\n",
       "    <tr style=\"text-align: right;\">\n",
       "      <th></th>\n",
       "      <th>kor</th>\n",
       "      <th>mat</th>\n",
       "      <th>eng</th>\n",
       "    </tr>\n",
       "  </thead>\n",
       "  <tbody>\n",
       "    <tr>\n",
       "      <th>0</th>\n",
       "      <td>100</td>\n",
       "      <td>95.0</td>\n",
       "      <td>NaN</td>\n",
       "    </tr>\n",
       "    <tr>\n",
       "      <th>1</th>\n",
       "      <td>90</td>\n",
       "      <td>99.0</td>\n",
       "      <td>NaN</td>\n",
       "    </tr>\n",
       "    <tr>\n",
       "      <th>2</th>\n",
       "      <td>92</td>\n",
       "      <td>NaN</td>\n",
       "      <td>99.0</td>\n",
       "    </tr>\n",
       "  </tbody>\n",
       "</table>\n",
       "</div>"
      ],
      "text/plain": [
       "   kor   mat   eng\n",
       "0  100  95.0   NaN\n",
       "1   90  99.0   NaN\n",
       "2   92   NaN  99.0"
      ]
     },
     "execution_count": 26,
     "metadata": {},
     "output_type": "execute_result"
    }
   ],
   "source": [
    "df['kor'] = df['kor'].astype(np.int32)\n",
    "df"
   ]
  },
  {
   "cell_type": "code",
   "execution_count": 28,
   "id": "6c1e5060",
   "metadata": {},
   "outputs": [],
   "source": [
    "# 결측치는 int로 형변환 불가 (결측치를 대체값으로 치완 후 변환)\n",
    "#df['mat'] = df['mat'].astype(np.int32)"
   ]
  },
  {
   "cell_type": "markdown",
   "id": "42ad8884",
   "metadata": {},
   "source": [
    "## 2.2 리스트를 이용해서 데이터프레임 만들기"
   ]
  },
  {
   "cell_type": "code",
   "execution_count": 31,
   "id": "5396ebcc",
   "metadata": {},
   "outputs": [
    {
     "data": {
      "text/html": [
       "<div>\n",
       "<style scoped>\n",
       "    .dataframe tbody tr th:only-of-type {\n",
       "        vertical-align: middle;\n",
       "    }\n",
       "\n",
       "    .dataframe tbody tr th {\n",
       "        vertical-align: top;\n",
       "    }\n",
       "\n",
       "    .dataframe thead th {\n",
       "        text-align: right;\n",
       "    }\n",
       "</style>\n",
       "<table border=\"1\" class=\"dataframe\">\n",
       "  <thead>\n",
       "    <tr style=\"text-align: right;\">\n",
       "      <th></th>\n",
       "      <th>kor</th>\n",
       "      <th>mat</th>\n",
       "    </tr>\n",
       "  </thead>\n",
       "  <tbody>\n",
       "    <tr>\n",
       "      <th>0</th>\n",
       "      <td>100</td>\n",
       "      <td>99</td>\n",
       "    </tr>\n",
       "    <tr>\n",
       "      <th>1</th>\n",
       "      <td>90</td>\n",
       "      <td>100</td>\n",
       "    </tr>\n",
       "  </tbody>\n",
       "</table>\n",
       "</div>"
      ],
      "text/plain": [
       "   kor  mat\n",
       "0  100   99\n",
       "1   90  100"
      ]
     },
     "execution_count": 31,
     "metadata": {},
     "output_type": "execute_result"
    }
   ],
   "source": [
    "kor = [100, 90, 95, 90, 65]\n",
    "mat = [99, 100, 95, 98, 94]\n",
    "df = pd.DataFrame({'kor':kor, 'mat':mat})\n",
    "df.head(2) # 상위 2행만 출력"
   ]
  },
  {
   "cell_type": "code",
   "execution_count": 32,
   "id": "87af0c81",
   "metadata": {},
   "outputs": [
    {
     "data": {
      "text/plain": [
       "array([[100,  99],\n",
       "       [ 90, 100],\n",
       "       [ 95,  95],\n",
       "       [ 90,  98],\n",
       "       [ 65,  94]])"
      ]
     },
     "execution_count": 32,
     "metadata": {},
     "output_type": "execute_result"
    }
   ],
   "source": [
    "np.c_[kor, mat]"
   ]
  },
  {
   "cell_type": "code",
   "execution_count": 34,
   "id": "1df6ccee",
   "metadata": {},
   "outputs": [
    {
     "data": {
      "text/html": [
       "<div>\n",
       "<style scoped>\n",
       "    .dataframe tbody tr th:only-of-type {\n",
       "        vertical-align: middle;\n",
       "    }\n",
       "\n",
       "    .dataframe tbody tr th {\n",
       "        vertical-align: top;\n",
       "    }\n",
       "\n",
       "    .dataframe thead th {\n",
       "        text-align: right;\n",
       "    }\n",
       "</style>\n",
       "<table border=\"1\" class=\"dataframe\">\n",
       "  <thead>\n",
       "    <tr style=\"text-align: right;\">\n",
       "      <th></th>\n",
       "      <th>국어</th>\n",
       "      <th>수학</th>\n",
       "    </tr>\n",
       "  </thead>\n",
       "  <tbody>\n",
       "    <tr>\n",
       "      <th>0</th>\n",
       "      <td>100</td>\n",
       "      <td>99</td>\n",
       "    </tr>\n",
       "    <tr>\n",
       "      <th>1</th>\n",
       "      <td>90</td>\n",
       "      <td>100</td>\n",
       "    </tr>\n",
       "    <tr>\n",
       "      <th>2</th>\n",
       "      <td>95</td>\n",
       "      <td>95</td>\n",
       "    </tr>\n",
       "    <tr>\n",
       "      <th>3</th>\n",
       "      <td>90</td>\n",
       "      <td>98</td>\n",
       "    </tr>\n",
       "    <tr>\n",
       "      <th>4</th>\n",
       "      <td>65</td>\n",
       "      <td>94</td>\n",
       "    </tr>\n",
       "  </tbody>\n",
       "</table>\n",
       "</div>"
      ],
      "text/plain": [
       "    국어   수학\n",
       "0  100   99\n",
       "1   90  100\n",
       "2   95   95\n",
       "3   90   98\n",
       "4   65   94"
      ]
     },
     "execution_count": 34,
     "metadata": {},
     "output_type": "execute_result"
    }
   ],
   "source": [
    "df = pd.DataFrame(data=np.c_[kor, mat], columns=['국어', '수학']) #columns에는 특수문자 왠만하면 사용 x\n",
    "df"
   ]
  },
  {
   "cell_type": "code",
   "execution_count": 35,
   "id": "cc8624e1",
   "metadata": {},
   "outputs": [
    {
     "data": {
      "text/plain": [
       "(5, 2)"
      ]
     },
     "execution_count": 35,
     "metadata": {},
     "output_type": "execute_result"
    }
   ],
   "source": [
    "df.shape"
   ]
  },
  {
   "cell_type": "code",
   "execution_count": 38,
   "id": "bc9770b6",
   "metadata": {},
   "outputs": [
    {
     "data": {
      "text/html": [
       "<div>\n",
       "<style scoped>\n",
       "    .dataframe tbody tr th:only-of-type {\n",
       "        vertical-align: middle;\n",
       "    }\n",
       "\n",
       "    .dataframe tbody tr th {\n",
       "        vertical-align: top;\n",
       "    }\n",
       "\n",
       "    .dataframe thead th {\n",
       "        text-align: right;\n",
       "    }\n",
       "</style>\n",
       "<table border=\"1\" class=\"dataframe\">\n",
       "  <thead>\n",
       "    <tr style=\"text-align: right;\">\n",
       "      <th></th>\n",
       "      <th>책이름</th>\n",
       "      <th>저자</th>\n",
       "      <th>가격</th>\n",
       "      <th>할인율</th>\n",
       "    </tr>\n",
       "  </thead>\n",
       "  <tbody>\n",
       "    <tr>\n",
       "      <th>0</th>\n",
       "      <td>트렌드 코리아 2026</td>\n",
       "      <td>김난도</td>\n",
       "      <td>18000</td>\n",
       "      <td>10</td>\n",
       "    </tr>\n",
       "    <tr>\n",
       "      <th>1</th>\n",
       "      <td>사탄탱고</td>\n",
       "      <td>라슬로</td>\n",
       "      <td>17820</td>\n",
       "      <td>10</td>\n",
       "    </tr>\n",
       "    <tr>\n",
       "      <th>2</th>\n",
       "      <td>미술관 여행자</td>\n",
       "      <td>카미유주노</td>\n",
       "      <td>29700</td>\n",
       "      <td>10</td>\n",
       "    </tr>\n",
       "  </tbody>\n",
       "</table>\n",
       "</div>"
      ],
      "text/plain": [
       "            책이름     저자     가격  할인율\n",
       "0  트렌드 코리아 2026    김난도  18000   10\n",
       "1          사탄탱고    라슬로  17820   10\n",
       "2       미술관 여행자  카미유주노  29700   10"
      ]
     },
     "execution_count": 38,
     "metadata": {},
     "output_type": "execute_result"
    }
   ],
   "source": [
    "l = [['트렌드 코리아 2026', '김난도', 18000, 10],\n",
    "     ['사탄탱고', '라슬로', 17820, 10],\n",
    "     ['미술관 여행자', '카미유주노', 29700, 10]]\n",
    "df = pd.DataFrame(l, columns=['책이름', '저자', '가격', '할인율'])\n",
    "df"
   ]
  },
  {
   "cell_type": "code",
   "execution_count": 39,
   "id": "913b0418",
   "metadata": {},
   "outputs": [],
   "source": [
    "# %ls : ipython 매직명령어"
   ]
  },
  {
   "cell_type": "code",
   "execution_count": 44,
   "id": "ea0ccf3a",
   "metadata": {},
   "outputs": [
    {
     "name": "stdout",
     "output_type": "stream",
     "text": [
      " C 드라이브의 볼륨에는 이름이 없습니다.\n",
      " 볼륨 일련 번호: A014-DCD6\n",
      "\n",
      " C:\\ai\\downloads\\shareData\\상가정보\\상가정보 디렉터리\n",
      "\n",
      "2025-10-12  오후 03:33    <DIR>          .\n",
      "2025-10-12  오후 03:33    <DIR>          ..\n",
      "2025-04-27  오후 11:07             1,011 [필독]파일열람방법.txt\n",
      "2025-04-27  오후 11:07        61,227,944 소상공인시장진흥공단_상가(상권)정보_강원_202503.csv\n",
      "2025-04-27  오후 11:07       356,572,082 소상공인시장진흥공단_상가(상권)정보_경기_202503.csv\n",
      "2025-04-27  오후 11:07        93,472,559 소상공인시장진흥공단_상가(상권)정보_경남_202503.csv\n",
      "2025-04-27  오후 11:07        76,425,275 소상공인시장진흥공단_상가(상권)정보_경북_202503.csv\n",
      "2025-04-27  오후 11:07        40,070,868 소상공인시장진흥공단_상가(상권)정보_광주_202503.csv\n",
      "2025-04-27  오후 11:07        61,715,005 소상공인시장진흥공단_상가(상권)정보_대구_202503.csv\n",
      "2025-04-27  오후 11:07        41,491,092 소상공인시장진흥공단_상가(상권)정보_대전_202503.csv\n",
      "2025-04-27  오후 11:07        84,550,600 소상공인시장진흥공단_상가(상권)정보_부산_202503.csv\n",
      "2025-04-27  오후 11:07       294,549,483 소상공인시장진흥공단_상가(상권)정보_서울_202503.csv\n",
      "2025-04-27  오후 11:07         9,303,432 소상공인시장진흥공단_상가(상권)정보_세종_202503.csv\n",
      "2025-04-27  오후 11:07        28,457,489 소상공인시장진흥공단_상가(상권)정보_울산_202503.csv\n",
      "2025-04-27  오후 11:07        73,022,149 소상공인시장진흥공단_상가(상권)정보_인천_202503.csv\n",
      "2025-04-27  오후 11:07        52,997,974 소상공인시장진흥공단_상가(상권)정보_전남_202503.csv\n",
      "2025-04-27  오후 11:07        56,252,705 소상공인시장진흥공단_상가(상권)정보_전북_202503.csv\n",
      "2025-04-27  오후 11:07        32,943,677 소상공인시장진흥공단_상가(상권)정보_제주_202503.csv\n",
      "2025-04-27  오후 11:07        66,591,896 소상공인시장진흥공단_상가(상권)정보_충남_202503.csv\n",
      "2025-04-27  오후 11:07        50,727,673 소상공인시장진흥공단_상가(상권)정보_충북_202503.csv\n",
      "              18개 파일       1,480,372,914 바이트\n",
      "               2개 디렉터리  162,993,012,736 바이트 남음\n"
     ]
    }
   ],
   "source": [
    "%ls \"C:\\ai\\downloads\\shareData\\상가정보\\상가정보\\\""
   ]
  },
  {
   "cell_type": "code",
   "execution_count": 48,
   "id": "5b2b60db",
   "metadata": {},
   "outputs": [
    {
     "name": "stdout",
     "output_type": "stream",
     "text": [
      "(70, 39)\n"
     ]
    },
    {
     "data": {
      "text/html": [
       "<div>\n",
       "<style scoped>\n",
       "    .dataframe tbody tr th:only-of-type {\n",
       "        vertical-align: middle;\n",
       "    }\n",
       "\n",
       "    .dataframe tbody tr th {\n",
       "        vertical-align: top;\n",
       "    }\n",
       "\n",
       "    .dataframe thead th {\n",
       "        text-align: right;\n",
       "    }\n",
       "</style>\n",
       "<table border=\"1\" class=\"dataframe\">\n",
       "  <thead>\n",
       "    <tr style=\"text-align: right;\">\n",
       "      <th></th>\n",
       "      <th>상가업소번호</th>\n",
       "      <th>상호명</th>\n",
       "      <th>지점명</th>\n",
       "      <th>상권업종대분류코드</th>\n",
       "      <th>상권업종대분류명</th>\n",
       "      <th>상권업종중분류코드</th>\n",
       "      <th>상권업종중분류명</th>\n",
       "      <th>상권업종소분류코드</th>\n",
       "      <th>상권업종소분류명</th>\n",
       "      <th>표준산업분류코드</th>\n",
       "      <th>...</th>\n",
       "      <th>건물관리번호</th>\n",
       "      <th>건물명</th>\n",
       "      <th>도로명주소</th>\n",
       "      <th>구우편번호</th>\n",
       "      <th>신우편번호</th>\n",
       "      <th>동정보</th>\n",
       "      <th>층정보</th>\n",
       "      <th>호정보</th>\n",
       "      <th>경도</th>\n",
       "      <th>위도</th>\n",
       "    </tr>\n",
       "  </thead>\n",
       "  <tbody>\n",
       "    <tr>\n",
       "      <th>0</th>\n",
       "      <td>MA010120220800000033</td>\n",
       "      <td>부동산임대김은숙</td>\n",
       "      <td>NaN</td>\n",
       "      <td>I2</td>\n",
       "      <td>음식</td>\n",
       "      <td>I212</td>\n",
       "      <td>비알코올</td>\n",
       "      <td>I21201</td>\n",
       "      <td>카페</td>\n",
       "      <td>I56229</td>\n",
       "      <td>...</td>\n",
       "      <td>1111014000100280021026727</td>\n",
       "      <td>NaN</td>\n",
       "      <td>서울특별시 종로구 삼청로 122-1</td>\n",
       "      <td>110230</td>\n",
       "      <td>3053</td>\n",
       "      <td>NaN</td>\n",
       "      <td>NaN</td>\n",
       "      <td>NaN</td>\n",
       "      <td>126.981840</td>\n",
       "      <td>37.586250</td>\n",
       "    </tr>\n",
       "    <tr>\n",
       "      <th>1</th>\n",
       "      <td>MA010120220800000036</td>\n",
       "      <td>한국황토건축연구소</td>\n",
       "      <td>NaN</td>\n",
       "      <td>L1</td>\n",
       "      <td>부동산</td>\n",
       "      <td>L102</td>\n",
       "      <td>부동산 서비스</td>\n",
       "      <td>L10203</td>\n",
       "      <td>부동산 중개/대리업</td>\n",
       "      <td>L68221</td>\n",
       "      <td>...</td>\n",
       "      <td>1165010800113080025020133</td>\n",
       "      <td>강남오피스텔</td>\n",
       "      <td>서울특별시 서초구 서초대로73길 40</td>\n",
       "      <td>137856</td>\n",
       "      <td>6612</td>\n",
       "      <td>NaN</td>\n",
       "      <td>11.0</td>\n",
       "      <td>NaN</td>\n",
       "      <td>127.024563</td>\n",
       "      <td>37.500924</td>\n",
       "    </tr>\n",
       "    <tr>\n",
       "      <th>2</th>\n",
       "      <td>MA010120220800000077</td>\n",
       "      <td>소망공인중개사사무소</td>\n",
       "      <td>NaN</td>\n",
       "      <td>L1</td>\n",
       "      <td>부동산</td>\n",
       "      <td>L102</td>\n",
       "      <td>부동산 서비스</td>\n",
       "      <td>L10203</td>\n",
       "      <td>부동산 중개/대리업</td>\n",
       "      <td>L68221</td>\n",
       "      <td>...</td>\n",
       "      <td>1120012200100040011000899</td>\n",
       "      <td>NaN</td>\n",
       "      <td>서울특별시 성동구 용답중앙15길 18</td>\n",
       "      <td>133847</td>\n",
       "      <td>4805</td>\n",
       "      <td>NaN</td>\n",
       "      <td>1.0</td>\n",
       "      <td>NaN</td>\n",
       "      <td>127.054262</td>\n",
       "      <td>37.564786</td>\n",
       "    </tr>\n",
       "    <tr>\n",
       "      <th>3</th>\n",
       "      <td>MA010120220800000084</td>\n",
       "      <td>고향집</td>\n",
       "      <td>NaN</td>\n",
       "      <td>I2</td>\n",
       "      <td>음식</td>\n",
       "      <td>I201</td>\n",
       "      <td>한식</td>\n",
       "      <td>I20101</td>\n",
       "      <td>백반/한정식</td>\n",
       "      <td>I56111</td>\n",
       "      <td>...</td>\n",
       "      <td>1111015400100800000000001</td>\n",
       "      <td>NaN</td>\n",
       "      <td>서울특별시 종로구 돈화문로4길 30</td>\n",
       "      <td>110430</td>\n",
       "      <td>3193</td>\n",
       "      <td>NaN</td>\n",
       "      <td>NaN</td>\n",
       "      <td>NaN</td>\n",
       "      <td>126.993820</td>\n",
       "      <td>37.570025</td>\n",
       "    </tr>\n",
       "    <tr>\n",
       "      <th>4</th>\n",
       "      <td>MA010120220800000090</td>\n",
       "      <td>보석나라</td>\n",
       "      <td>NaN</td>\n",
       "      <td>G2</td>\n",
       "      <td>소매</td>\n",
       "      <td>G217</td>\n",
       "      <td>시계·귀금속 소매</td>\n",
       "      <td>G21701</td>\n",
       "      <td>시계/귀금속 소매업</td>\n",
       "      <td>G47830</td>\n",
       "      <td>...</td>\n",
       "      <td>1153010700103590008007958</td>\n",
       "      <td>NaN</td>\n",
       "      <td>서울특별시 구로구 개봉로3길 23</td>\n",
       "      <td>152815</td>\n",
       "      <td>8353</td>\n",
       "      <td>NaN</td>\n",
       "      <td>1.0</td>\n",
       "      <td>NaN</td>\n",
       "      <td>126.855046</td>\n",
       "      <td>37.486242</td>\n",
       "    </tr>\n",
       "    <tr>\n",
       "      <th>...</th>\n",
       "      <td>...</td>\n",
       "      <td>...</td>\n",
       "      <td>...</td>\n",
       "      <td>...</td>\n",
       "      <td>...</td>\n",
       "      <td>...</td>\n",
       "      <td>...</td>\n",
       "      <td>...</td>\n",
       "      <td>...</td>\n",
       "      <td>...</td>\n",
       "      <td>...</td>\n",
       "      <td>...</td>\n",
       "      <td>...</td>\n",
       "      <td>...</td>\n",
       "      <td>...</td>\n",
       "      <td>...</td>\n",
       "      <td>...</td>\n",
       "      <td>...</td>\n",
       "      <td>...</td>\n",
       "      <td>...</td>\n",
       "      <td>...</td>\n",
       "    </tr>\n",
       "    <tr>\n",
       "      <th>65</th>\n",
       "      <td>MA010120220800001555</td>\n",
       "      <td>미래디자인</td>\n",
       "      <td>NaN</td>\n",
       "      <td>M1</td>\n",
       "      <td>과학·기술</td>\n",
       "      <td>M114</td>\n",
       "      <td>인쇄·제품제작</td>\n",
       "      <td>M11401</td>\n",
       "      <td>명함/간판/광고물 제작</td>\n",
       "      <td>C33910</td>\n",
       "      <td>...</td>\n",
       "      <td>1111015500100210002017522</td>\n",
       "      <td>유덕빌딩</td>\n",
       "      <td>서울특별시 종로구 수표로18길 15</td>\n",
       "      <td>110420</td>\n",
       "      <td>3192</td>\n",
       "      <td>NaN</td>\n",
       "      <td>2.0</td>\n",
       "      <td>NaN</td>\n",
       "      <td>126.990424</td>\n",
       "      <td>37.569511</td>\n",
       "    </tr>\n",
       "    <tr>\n",
       "      <th>66</th>\n",
       "      <td>MA010120220800001558</td>\n",
       "      <td>화동커피</td>\n",
       "      <td>NaN</td>\n",
       "      <td>I2</td>\n",
       "      <td>음식</td>\n",
       "      <td>I212</td>\n",
       "      <td>비알코올</td>\n",
       "      <td>I21201</td>\n",
       "      <td>카페</td>\n",
       "      <td>I56221</td>\n",
       "      <td>...</td>\n",
       "      <td>1111014300101380021026977</td>\n",
       "      <td>NaN</td>\n",
       "      <td>서울특별시 종로구 율곡로3길 82</td>\n",
       "      <td>110230</td>\n",
       "      <td>3061</td>\n",
       "      <td>NaN</td>\n",
       "      <td>NaN</td>\n",
       "      <td>NaN</td>\n",
       "      <td>126.982271</td>\n",
       "      <td>37.579313</td>\n",
       "    </tr>\n",
       "    <tr>\n",
       "      <th>67</th>\n",
       "      <td>MA010120220800001579</td>\n",
       "      <td>포트폴리오</td>\n",
       "      <td>NaN</td>\n",
       "      <td>M1</td>\n",
       "      <td>과학·기술</td>\n",
       "      <td>M113</td>\n",
       "      <td>사진 촬영</td>\n",
       "      <td>M11301</td>\n",
       "      <td>사진촬영업</td>\n",
       "      <td>M73301</td>\n",
       "      <td>...</td>\n",
       "      <td>1111012400100800006017957</td>\n",
       "      <td>석탄회관</td>\n",
       "      <td>서울특별시 종로구 종로5길 58</td>\n",
       "      <td>110727</td>\n",
       "      <td>3151</td>\n",
       "      <td>NaN</td>\n",
       "      <td>1.0</td>\n",
       "      <td>NaN</td>\n",
       "      <td>126.980337</td>\n",
       "      <td>37.572906</td>\n",
       "    </tr>\n",
       "    <tr>\n",
       "      <th>68</th>\n",
       "      <td>MA010120220800001312</td>\n",
       "      <td>멋쟁이</td>\n",
       "      <td>NaN</td>\n",
       "      <td>G2</td>\n",
       "      <td>소매</td>\n",
       "      <td>G209</td>\n",
       "      <td>섬유·의복·신발 소매</td>\n",
       "      <td>G20902</td>\n",
       "      <td>여성 의류 소매업</td>\n",
       "      <td>G47412</td>\n",
       "      <td>...</td>\n",
       "      <td>1111013600100340031013750</td>\n",
       "      <td>NaN</td>\n",
       "      <td>서울특별시 종로구 인사동길 20-14</td>\n",
       "      <td>110290</td>\n",
       "      <td>3163</td>\n",
       "      <td>NaN</td>\n",
       "      <td>NaN</td>\n",
       "      <td>NaN</td>\n",
       "      <td>126.987299</td>\n",
       "      <td>37.572502</td>\n",
       "    </tr>\n",
       "    <tr>\n",
       "      <th>69</th>\n",
       "      <td>MA010120220800001337</td>\n",
       "      <td>라이브필</td>\n",
       "      <td>NaN</td>\n",
       "      <td>I2</td>\n",
       "      <td>음식</td>\n",
       "      <td>I211</td>\n",
       "      <td>주점</td>\n",
       "      <td>I21104</td>\n",
       "      <td>요리 주점</td>\n",
       "      <td>I56219</td>\n",
       "      <td>...</td>\n",
       "      <td>1144010500100260004003704</td>\n",
       "      <td>NaN</td>\n",
       "      <td>서울특별시 마포구 토정로37길 19</td>\n",
       "      <td>121875</td>\n",
       "      <td>4166</td>\n",
       "      <td>NaN</td>\n",
       "      <td>1.0</td>\n",
       "      <td>NaN</td>\n",
       "      <td>126.944940</td>\n",
       "      <td>37.541216</td>\n",
       "    </tr>\n",
       "  </tbody>\n",
       "</table>\n",
       "<p>70 rows × 39 columns</p>\n",
       "</div>"
      ],
      "text/plain": [
       "                  상가업소번호         상호명  지점명 상권업종대분류코드 상권업종대분류명 상권업종중분류코드  \\\n",
       "0   MA010120220800000033    부동산임대김은숙  NaN        I2       음식      I212   \n",
       "1   MA010120220800000036   한국황토건축연구소  NaN        L1      부동산      L102   \n",
       "2   MA010120220800000077  소망공인중개사사무소  NaN        L1      부동산      L102   \n",
       "3   MA010120220800000084         고향집  NaN        I2       음식      I201   \n",
       "4   MA010120220800000090        보석나라  NaN        G2       소매      G217   \n",
       "..                   ...         ...  ...       ...      ...       ...   \n",
       "65  MA010120220800001555       미래디자인  NaN        M1    과학·기술      M114   \n",
       "66  MA010120220800001558        화동커피  NaN        I2       음식      I212   \n",
       "67  MA010120220800001579       포트폴리오  NaN        M1    과학·기술      M113   \n",
       "68  MA010120220800001312         멋쟁이  NaN        G2       소매      G209   \n",
       "69  MA010120220800001337        라이브필  NaN        I2       음식      I211   \n",
       "\n",
       "       상권업종중분류명 상권업종소분류코드      상권업종소분류명 표준산업분류코드  ...  \\\n",
       "0         비알코올     I21201            카페   I56229  ...   \n",
       "1       부동산 서비스    L10203    부동산 중개/대리업   L68221  ...   \n",
       "2       부동산 서비스    L10203    부동산 중개/대리업   L68221  ...   \n",
       "3            한식    I20101        백반/한정식   I56111  ...   \n",
       "4     시계·귀금속 소매    G21701    시계/귀금속 소매업   G47830  ...   \n",
       "..          ...       ...           ...      ...  ...   \n",
       "65      인쇄·제품제작    M11401  명함/간판/광고물 제작   C33910  ...   \n",
       "66        비알코올     I21201            카페   I56221  ...   \n",
       "67        사진 촬영    M11301         사진촬영업   M73301  ...   \n",
       "68  섬유·의복·신발 소매    G20902     여성 의류 소매업   G47412  ...   \n",
       "69           주점    I21104         요리 주점   I56219  ...   \n",
       "\n",
       "                       건물관리번호     건물명                 도로명주소   구우편번호 신우편번호  \\\n",
       "0   1111014000100280021026727     NaN   서울특별시 종로구 삼청로 122-1  110230  3053   \n",
       "1   1165010800113080025020133  강남오피스텔  서울특별시 서초구 서초대로73길 40  137856  6612   \n",
       "2   1120012200100040011000899     NaN  서울특별시 성동구 용답중앙15길 18  133847  4805   \n",
       "3   1111015400100800000000001     NaN   서울특별시 종로구 돈화문로4길 30  110430  3193   \n",
       "4   1153010700103590008007958     NaN    서울특별시 구로구 개봉로3길 23  152815  8353   \n",
       "..                        ...     ...                   ...     ...   ...   \n",
       "65  1111015500100210002017522    유덕빌딩   서울특별시 종로구 수표로18길 15  110420  3192   \n",
       "66  1111014300101380021026977     NaN    서울특별시 종로구 율곡로3길 82  110230  3061   \n",
       "67  1111012400100800006017957    석탄회관     서울특별시 종로구 종로5길 58  110727  3151   \n",
       "68  1111013600100340031013750     NaN  서울특별시 종로구 인사동길 20-14  110290  3163   \n",
       "69  1144010500100260004003704     NaN   서울특별시 마포구 토정로37길 19  121875  4166   \n",
       "\n",
       "    동정보   층정보  호정보          경도         위도  \n",
       "0   NaN   NaN  NaN  126.981840  37.586250  \n",
       "1   NaN  11.0  NaN  127.024563  37.500924  \n",
       "2   NaN   1.0  NaN  127.054262  37.564786  \n",
       "3   NaN   NaN  NaN  126.993820  37.570025  \n",
       "4   NaN   1.0  NaN  126.855046  37.486242  \n",
       "..  ...   ...  ...         ...        ...  \n",
       "65  NaN   2.0  NaN  126.990424  37.569511  \n",
       "66  NaN   NaN  NaN  126.982271  37.579313  \n",
       "67  NaN   1.0  NaN  126.980337  37.572906  \n",
       "68  NaN   NaN  NaN  126.987299  37.572502  \n",
       "69  NaN   1.0  NaN  126.944940  37.541216  \n",
       "\n",
       "[70 rows x 39 columns]"
      ]
     },
     "execution_count": 48,
     "metadata": {},
     "output_type": "execute_result"
    }
   ],
   "source": [
    "df = pd.read_csv(r'C:\\ai\\downloads\\shareData\\상가정보\\상가정보\\소상공인시장진흥공단_상가(상권)정보_서울_202503.csv',\n",
    "                encoding='utf-8', sep=',', #기본값 생략 가능\n",
    "                nrows=70) # 처음 70행만 가져오기\n",
    "print(df.shape)\n",
    "df"
   ]
  },
  {
   "cell_type": "code",
   "execution_count": 49,
   "id": "0c5a5cf4",
   "metadata": {},
   "outputs": [
    {
     "data": {
      "text/html": [
       "<div>\n",
       "<style scoped>\n",
       "    .dataframe tbody tr th:only-of-type {\n",
       "        vertical-align: middle;\n",
       "    }\n",
       "\n",
       "    .dataframe tbody tr th {\n",
       "        vertical-align: top;\n",
       "    }\n",
       "\n",
       "    .dataframe thead th {\n",
       "        text-align: right;\n",
       "    }\n",
       "</style>\n",
       "<table border=\"1\" class=\"dataframe\">\n",
       "  <thead>\n",
       "    <tr style=\"text-align: right;\">\n",
       "      <th></th>\n",
       "      <th>상가업소번호</th>\n",
       "      <th>상호명</th>\n",
       "      <th>지점명</th>\n",
       "      <th>상권업종대분류코드</th>\n",
       "      <th>상권업종대분류명</th>\n",
       "      <th>상권업종중분류코드</th>\n",
       "      <th>상권업종중분류명</th>\n",
       "      <th>상권업종소분류코드</th>\n",
       "      <th>상권업종소분류명</th>\n",
       "      <th>표준산업분류코드</th>\n",
       "      <th>...</th>\n",
       "      <th>건물관리번호</th>\n",
       "      <th>건물명</th>\n",
       "      <th>도로명주소</th>\n",
       "      <th>구우편번호</th>\n",
       "      <th>신우편번호</th>\n",
       "      <th>동정보</th>\n",
       "      <th>층정보</th>\n",
       "      <th>호정보</th>\n",
       "      <th>경도</th>\n",
       "      <th>위도</th>\n",
       "    </tr>\n",
       "  </thead>\n",
       "  <tbody>\n",
       "    <tr>\n",
       "      <th>0</th>\n",
       "      <td>MA010120220800000033</td>\n",
       "      <td>부동산임대김은숙</td>\n",
       "      <td>NaN</td>\n",
       "      <td>I2</td>\n",
       "      <td>음식</td>\n",
       "      <td>I212</td>\n",
       "      <td>비알코올</td>\n",
       "      <td>I21201</td>\n",
       "      <td>카페</td>\n",
       "      <td>I56229</td>\n",
       "      <td>...</td>\n",
       "      <td>1111014000100280021026727</td>\n",
       "      <td>NaN</td>\n",
       "      <td>서울특별시 종로구 삼청로 122-1</td>\n",
       "      <td>110230</td>\n",
       "      <td>3053</td>\n",
       "      <td>NaN</td>\n",
       "      <td>NaN</td>\n",
       "      <td>NaN</td>\n",
       "      <td>126.98184</td>\n",
       "      <td>37.58625</td>\n",
       "    </tr>\n",
       "  </tbody>\n",
       "</table>\n",
       "<p>1 rows × 39 columns</p>\n",
       "</div>"
      ],
      "text/plain": [
       "                 상가업소번호       상호명  지점명 상권업종대분류코드 상권업종대분류명 상권업종중분류코드 상권업종중분류명  \\\n",
       "0  MA010120220800000033  부동산임대김은숙  NaN        I2       음식      I212    비알코올    \n",
       "\n",
       "  상권업종소분류코드 상권업종소분류명 표준산업분류코드  ...                     건물관리번호  건물명  \\\n",
       "0    I21201       카페   I56229  ...  1111014000100280021026727  NaN   \n",
       "\n",
       "                 도로명주소   구우편번호 신우편번호  동정보 층정보  호정보         경도        위도  \n",
       "0  서울특별시 종로구 삼청로 122-1  110230  3053  NaN NaN  NaN  126.98184  37.58625  \n",
       "\n",
       "[1 rows x 39 columns]"
      ]
     },
     "execution_count": 49,
     "metadata": {},
     "output_type": "execute_result"
    }
   ],
   "source": [
    "df.head(1)"
   ]
  },
  {
   "cell_type": "code",
   "execution_count": 57,
   "id": "6ad7be7b",
   "metadata": {},
   "outputs": [],
   "source": [
    "# 판다스 디스플레이 옵션\n",
    "pd.options.display.max_columns = 20 # 최대열 디스플레이 설정"
   ]
  },
  {
   "cell_type": "code",
   "execution_count": 53,
   "id": "d0dd4c33",
   "metadata": {},
   "outputs": [
    {
     "data": {
      "text/html": [
       "<div>\n",
       "<style scoped>\n",
       "    .dataframe tbody tr th:only-of-type {\n",
       "        vertical-align: middle;\n",
       "    }\n",
       "\n",
       "    .dataframe tbody tr th {\n",
       "        vertical-align: top;\n",
       "    }\n",
       "\n",
       "    .dataframe thead th {\n",
       "        text-align: right;\n",
       "    }\n",
       "</style>\n",
       "<table border=\"1\" class=\"dataframe\">\n",
       "  <thead>\n",
       "    <tr style=\"text-align: right;\">\n",
       "      <th></th>\n",
       "      <th>0</th>\n",
       "    </tr>\n",
       "  </thead>\n",
       "  <tbody>\n",
       "    <tr>\n",
       "      <th>상가업소번호</th>\n",
       "      <td>MA010120220800000033</td>\n",
       "    </tr>\n",
       "    <tr>\n",
       "      <th>상호명</th>\n",
       "      <td>부동산임대김은숙</td>\n",
       "    </tr>\n",
       "    <tr>\n",
       "      <th>지점명</th>\n",
       "      <td>NaN</td>\n",
       "    </tr>\n",
       "    <tr>\n",
       "      <th>상권업종대분류코드</th>\n",
       "      <td>I2</td>\n",
       "    </tr>\n",
       "    <tr>\n",
       "      <th>상권업종대분류명</th>\n",
       "      <td>음식</td>\n",
       "    </tr>\n",
       "    <tr>\n",
       "      <th>상권업종중분류코드</th>\n",
       "      <td>I212</td>\n",
       "    </tr>\n",
       "    <tr>\n",
       "      <th>상권업종중분류명</th>\n",
       "      <td>비알코올</td>\n",
       "    </tr>\n",
       "    <tr>\n",
       "      <th>상권업종소분류코드</th>\n",
       "      <td>I21201</td>\n",
       "    </tr>\n",
       "    <tr>\n",
       "      <th>상권업종소분류명</th>\n",
       "      <td>카페</td>\n",
       "    </tr>\n",
       "    <tr>\n",
       "      <th>표준산업분류코드</th>\n",
       "      <td>I56229</td>\n",
       "    </tr>\n",
       "    <tr>\n",
       "      <th>표준산업분류명</th>\n",
       "      <td>기타 비알코올 음료점업</td>\n",
       "    </tr>\n",
       "    <tr>\n",
       "      <th>시도코드</th>\n",
       "      <td>11</td>\n",
       "    </tr>\n",
       "    <tr>\n",
       "      <th>시도명</th>\n",
       "      <td>서울특별시</td>\n",
       "    </tr>\n",
       "    <tr>\n",
       "      <th>시군구코드</th>\n",
       "      <td>11110</td>\n",
       "    </tr>\n",
       "    <tr>\n",
       "      <th>시군구명</th>\n",
       "      <td>종로구</td>\n",
       "    </tr>\n",
       "    <tr>\n",
       "      <th>행정동코드</th>\n",
       "      <td>11110540</td>\n",
       "    </tr>\n",
       "    <tr>\n",
       "      <th>행정동명</th>\n",
       "      <td>삼청동</td>\n",
       "    </tr>\n",
       "    <tr>\n",
       "      <th>법정동코드</th>\n",
       "      <td>1111014000</td>\n",
       "    </tr>\n",
       "    <tr>\n",
       "      <th>법정동명</th>\n",
       "      <td>삼청동</td>\n",
       "    </tr>\n",
       "    <tr>\n",
       "      <th>지번코드</th>\n",
       "      <td>1111014000100280021</td>\n",
       "    </tr>\n",
       "    <tr>\n",
       "      <th>대지구분코드</th>\n",
       "      <td>1</td>\n",
       "    </tr>\n",
       "    <tr>\n",
       "      <th>대지구분명</th>\n",
       "      <td>대지</td>\n",
       "    </tr>\n",
       "    <tr>\n",
       "      <th>지번본번지</th>\n",
       "      <td>28</td>\n",
       "    </tr>\n",
       "    <tr>\n",
       "      <th>지번부번지</th>\n",
       "      <td>21.0</td>\n",
       "    </tr>\n",
       "    <tr>\n",
       "      <th>지번주소</th>\n",
       "      <td>서울특별시 종로구 삼청동 28-21</td>\n",
       "    </tr>\n",
       "    <tr>\n",
       "      <th>도로명코드</th>\n",
       "      <td>111103100007</td>\n",
       "    </tr>\n",
       "    <tr>\n",
       "      <th>도로명</th>\n",
       "      <td>서울특별시 종로구 삼청로</td>\n",
       "    </tr>\n",
       "    <tr>\n",
       "      <th>건물본번지</th>\n",
       "      <td>122</td>\n",
       "    </tr>\n",
       "    <tr>\n",
       "      <th>건물부번지</th>\n",
       "      <td>1.0</td>\n",
       "    </tr>\n",
       "    <tr>\n",
       "      <th>건물관리번호</th>\n",
       "      <td>1111014000100280021026727</td>\n",
       "    </tr>\n",
       "    <tr>\n",
       "      <th>건물명</th>\n",
       "      <td>NaN</td>\n",
       "    </tr>\n",
       "    <tr>\n",
       "      <th>도로명주소</th>\n",
       "      <td>서울특별시 종로구 삼청로 122-1</td>\n",
       "    </tr>\n",
       "    <tr>\n",
       "      <th>구우편번호</th>\n",
       "      <td>110230</td>\n",
       "    </tr>\n",
       "    <tr>\n",
       "      <th>신우편번호</th>\n",
       "      <td>3053</td>\n",
       "    </tr>\n",
       "    <tr>\n",
       "      <th>동정보</th>\n",
       "      <td>NaN</td>\n",
       "    </tr>\n",
       "    <tr>\n",
       "      <th>층정보</th>\n",
       "      <td>NaN</td>\n",
       "    </tr>\n",
       "    <tr>\n",
       "      <th>호정보</th>\n",
       "      <td>NaN</td>\n",
       "    </tr>\n",
       "    <tr>\n",
       "      <th>경도</th>\n",
       "      <td>126.98184</td>\n",
       "    </tr>\n",
       "    <tr>\n",
       "      <th>위도</th>\n",
       "      <td>37.58625</td>\n",
       "    </tr>\n",
       "  </tbody>\n",
       "</table>\n",
       "</div>"
      ],
      "text/plain": [
       "                                   0\n",
       "상가업소번호          MA010120220800000033\n",
       "상호명                         부동산임대김은숙\n",
       "지점명                              NaN\n",
       "상권업종대분류코드                         I2\n",
       "상권업종대분류명                          음식\n",
       "상권업종중분류코드                       I212\n",
       "상권업종중분류명                       비알코올 \n",
       "상권업종소분류코드                     I21201\n",
       "상권업종소분류명                          카페\n",
       "표준산업분류코드                      I56229\n",
       "표준산업분류명                 기타 비알코올 음료점업\n",
       "시도코드                              11\n",
       "시도명                            서울특별시\n",
       "시군구코드                          11110\n",
       "시군구명                             종로구\n",
       "행정동코드                       11110540\n",
       "행정동명                             삼청동\n",
       "법정동코드                     1111014000\n",
       "법정동명                             삼청동\n",
       "지번코드             1111014000100280021\n",
       "대지구분코드                             1\n",
       "대지구분명                             대지\n",
       "지번본번지                             28\n",
       "지번부번지                           21.0\n",
       "지번주소             서울특별시 종로구 삼청동 28-21\n",
       "도로명코드                   111103100007\n",
       "도로명                    서울특별시 종로구 삼청로\n",
       "건물본번지                            122\n",
       "건물부번지                            1.0\n",
       "건물관리번호     1111014000100280021026727\n",
       "건물명                              NaN\n",
       "도로명주소            서울특별시 종로구 삼청로 122-1\n",
       "구우편번호                         110230\n",
       "신우편번호                           3053\n",
       "동정보                              NaN\n",
       "층정보                              NaN\n",
       "호정보                              NaN\n",
       "경도                         126.98184\n",
       "위도                          37.58625"
      ]
     },
     "execution_count": 53,
     "metadata": {},
     "output_type": "execute_result"
    }
   ],
   "source": [
    "df.head(1).T"
   ]
  },
  {
   "cell_type": "markdown",
   "id": "e686a3f2",
   "metadata": {},
   "source": [
    "## 2.3 read_csv"
   ]
  },
  {
   "cell_type": "code",
   "execution_count": 55,
   "id": "52917b91",
   "metadata": {},
   "outputs": [],
   "source": [
    "#help(pd.read_csv)\n",
    "#pd.read_csv() #함수 안에서 shift+tab+tab\n",
    "pd.read_csv?"
   ]
  },
  {
   "cell_type": "code",
   "execution_count": 61,
   "id": "59e66576",
   "metadata": {},
   "outputs": [
    {
     "data": {
      "text/html": [
       "<div>\n",
       "<style scoped>\n",
       "    .dataframe tbody tr th:only-of-type {\n",
       "        vertical-align: middle;\n",
       "    }\n",
       "\n",
       "    .dataframe tbody tr th {\n",
       "        vertical-align: top;\n",
       "    }\n",
       "\n",
       "    .dataframe thead th {\n",
       "        text-align: right;\n",
       "    }\n",
       "</style>\n",
       "<table border=\"1\" class=\"dataframe\">\n",
       "  <thead>\n",
       "    <tr style=\"text-align: right;\">\n",
       "      <th></th>\n",
       "      <th>Name</th>\n",
       "      <th>Age</th>\n",
       "      <th>Email</th>\n",
       "      <th>Address</th>\n",
       "      <th>Birth</th>\n",
       "    </tr>\n",
       "  </thead>\n",
       "  <tbody>\n",
       "    <tr>\n",
       "      <th>0</th>\n",
       "      <td>홍길동</td>\n",
       "      <td>20</td>\n",
       "      <td>hong@hong.com</td>\n",
       "      <td>서울시 강동구</td>\n",
       "      <td>1999-01-01</td>\n",
       "    </tr>\n",
       "    <tr>\n",
       "      <th>1</th>\n",
       "      <td>홍길서</td>\n",
       "      <td>30</td>\n",
       "      <td>seo@hong.com</td>\n",
       "      <td>서울시 중구</td>\n",
       "      <td>1999-12-01</td>\n",
       "    </tr>\n",
       "    <tr>\n",
       "      <th>2</th>\n",
       "      <td>홍길남</td>\n",
       "      <td>21</td>\n",
       "      <td>nam@hong.com</td>\n",
       "      <td>서울시 강동구</td>\n",
       "      <td>1999-11-01</td>\n",
       "    </tr>\n",
       "    <tr>\n",
       "      <th>3</th>\n",
       "      <td>홍길북</td>\n",
       "      <td>22</td>\n",
       "      <td>buk@hong.com</td>\n",
       "      <td>서울시 관악구</td>\n",
       "      <td>1999-05-01</td>\n",
       "    </tr>\n",
       "    <tr>\n",
       "      <th>4</th>\n",
       "      <td>홍길중</td>\n",
       "      <td>23</td>\n",
       "      <td>mid@hong.com</td>\n",
       "      <td>부산시 중구</td>\n",
       "      <td>1999-01-30</td>\n",
       "    </tr>\n",
       "    <tr>\n",
       "      <th>5</th>\n",
       "      <td>#홍길뜽</td>\n",
       "      <td>24</td>\n",
       "      <td>non@not.com</td>\n",
       "      <td>없는구</td>\n",
       "      <td>2000-01-01</td>\n",
       "    </tr>\n",
       "  </tbody>\n",
       "</table>\n",
       "</div>"
      ],
      "text/plain": [
       "   Name  Age          Email  Address       Birth\n",
       "0   홍길동   20  hong@hong.com  서울시 강동구  1999-01-01\n",
       "1   홍길서   30   seo@hong.com   서울시 중구  1999-12-01\n",
       "2   홍길남   21   nam@hong.com  서울시 강동구  1999-11-01\n",
       "3   홍길북   22   buk@hong.com  서울시 관악구  1999-05-01\n",
       "4   홍길중   23   mid@hong.com   부산시 중구  1999-01-30\n",
       "5  #홍길뜽   24    non@not.com      없는구  2000-01-01"
      ]
     },
     "execution_count": 61,
     "metadata": {},
     "output_type": "execute_result"
    }
   ],
   "source": [
    "# (1) CSV 파일 불러오기(기본값)\n",
    "member = pd.read_csv('data/ch11_member.csv',\n",
    "                    #, encoding='utf-8', sep=',', comment주석처리X\n",
    "                    )\n",
    "member"
   ]
  },
  {
   "cell_type": "code",
   "execution_count": 64,
   "id": "15e88d30",
   "metadata": {},
   "outputs": [
    {
     "name": "stdout",
     "output_type": "stream",
     "text": [
      "<class 'pandas.core.frame.DataFrame'>\n",
      "RangeIndex: 6 entries, 0 to 5\n",
      "Data columns (total 5 columns):\n",
      " #   Column   Non-Null Count  Dtype         \n",
      "---  ------   --------------  -----         \n",
      " 0   Name     6 non-null      object        \n",
      " 1   Age      6 non-null      int64         \n",
      " 2   Email    6 non-null      object        \n",
      " 3   Address  6 non-null      object        \n",
      " 4   Birth    6 non-null      datetime64[ns]\n",
      "dtypes: datetime64[ns](1), int64(1), object(3)\n",
      "memory usage: 368.0+ bytes\n"
     ]
    }
   ],
   "source": [
    "# 문자형으로 읽어들인 Birth를 datetime형으로\n",
    "# 형변환 : astype('타입')\n",
    "#        to_datetime()함수\n",
    "#member['Birth'].astype('datetime64') #비추\n",
    "member['Birth'] = pd.to_datetime(member['Birth'])\n",
    "member.info()"
   ]
  },
  {
   "cell_type": "code",
   "execution_count": 65,
   "id": "73927802",
   "metadata": {},
   "outputs": [
    {
     "data": {
      "text/plain": [
       "Name               object\n",
       "Age                 int16\n",
       "Email              object\n",
       "Address            object\n",
       "Birth      datetime64[ns]\n",
       "dtype: object"
      ]
     },
     "execution_count": 65,
     "metadata": {},
     "output_type": "execute_result"
    }
   ],
   "source": [
    "member['Age'] = member['Age'].astype(np.int16)\n",
    "member.dtypes"
   ]
  },
  {
   "cell_type": "code",
   "execution_count": 73,
   "id": "5e2b412f",
   "metadata": {},
   "outputs": [
    {
     "data": {
      "text/html": [
       "<div>\n",
       "<style scoped>\n",
       "    .dataframe tbody tr th:only-of-type {\n",
       "        vertical-align: middle;\n",
       "    }\n",
       "\n",
       "    .dataframe tbody tr th {\n",
       "        vertical-align: top;\n",
       "    }\n",
       "\n",
       "    .dataframe thead th {\n",
       "        text-align: right;\n",
       "    }\n",
       "</style>\n",
       "<table border=\"1\" class=\"dataframe\">\n",
       "  <thead>\n",
       "    <tr style=\"text-align: right;\">\n",
       "      <th></th>\n",
       "      <th>Name</th>\n",
       "      <th>Age</th>\n",
       "      <th>Email</th>\n",
       "      <th>Address</th>\n",
       "      <th>Birth</th>\n",
       "    </tr>\n",
       "  </thead>\n",
       "  <tbody>\n",
       "    <tr>\n",
       "      <th>0</th>\n",
       "      <td>홍길서</td>\n",
       "      <td>30</td>\n",
       "      <td>seo@hong.com</td>\n",
       "      <td>서울시 중구</td>\n",
       "      <td>1999-12-01</td>\n",
       "    </tr>\n",
       "    <tr>\n",
       "      <th>1</th>\n",
       "      <td>홍길남</td>\n",
       "      <td>21</td>\n",
       "      <td>nam@hong.com</td>\n",
       "      <td>서울시 강동구</td>\n",
       "      <td>1999-11-01</td>\n",
       "    </tr>\n",
       "    <tr>\n",
       "      <th>2</th>\n",
       "      <td>홍길북</td>\n",
       "      <td>22</td>\n",
       "      <td>buk@hong.com</td>\n",
       "      <td>서울시 관악구</td>\n",
       "      <td>1999-05-01</td>\n",
       "    </tr>\n",
       "    <tr>\n",
       "      <th>3</th>\n",
       "      <td>홍길중</td>\n",
       "      <td>23</td>\n",
       "      <td>mid@hong.com</td>\n",
       "      <td>부산시 중구</td>\n",
       "      <td>1999-01-30</td>\n",
       "    </tr>\n",
       "  </tbody>\n",
       "</table>\n",
       "</div>"
      ],
      "text/plain": [
       "  Name  Age         Email  Address       Birth\n",
       "0  홍길서   30  seo@hong.com   서울시 중구  1999-12-01\n",
       "1  홍길남   21  nam@hong.com  서울시 강동구  1999-11-01\n",
       "2  홍길북   22  buk@hong.com  서울시 관악구  1999-05-01\n",
       "3  홍길중   23  mid@hong.com   부산시 중구  1999-01-30"
      ]
     },
     "execution_count": 73,
     "metadata": {},
     "output_type": "execute_result"
    }
   ],
   "source": [
    "# (2) 특정 행을 제외하고 csv 파일 읽어오기\n",
    "member = pd.read_csv('data/ch11_membercp949.csv',\n",
    "                    encoding='cp949',\n",
    "                    skiprows=[1,6]) # 1,6번째 행 제외하고 읽어오기(시작은 1부터)\n",
    "member"
   ]
  },
  {
   "cell_type": "code",
   "execution_count": 69,
   "id": "b5e73847",
   "metadata": {},
   "outputs": [
    {
     "data": {
      "text/html": [
       "<div>\n",
       "<style scoped>\n",
       "    .dataframe tbody tr th:only-of-type {\n",
       "        vertical-align: middle;\n",
       "    }\n",
       "\n",
       "    .dataframe tbody tr th {\n",
       "        vertical-align: top;\n",
       "    }\n",
       "\n",
       "    .dataframe thead th {\n",
       "        text-align: right;\n",
       "    }\n",
       "</style>\n",
       "<table border=\"1\" class=\"dataframe\">\n",
       "  <thead>\n",
       "    <tr style=\"text-align: right;\">\n",
       "      <th></th>\n",
       "      <th>Name</th>\n",
       "      <th>Age</th>\n",
       "      <th>Email</th>\n",
       "      <th>Address</th>\n",
       "      <th>Birth</th>\n",
       "    </tr>\n",
       "  </thead>\n",
       "  <tbody>\n",
       "    <tr>\n",
       "      <th>0</th>\n",
       "      <td>홍길동</td>\n",
       "      <td>20</td>\n",
       "      <td>hong@hong.com</td>\n",
       "      <td>서울시 강동구</td>\n",
       "      <td>1999-01-01</td>\n",
       "    </tr>\n",
       "    <tr>\n",
       "      <th>1</th>\n",
       "      <td>홍길서</td>\n",
       "      <td>30</td>\n",
       "      <td>seo@hong.com</td>\n",
       "      <td>서울시 중구</td>\n",
       "      <td>1999-12-01</td>\n",
       "    </tr>\n",
       "    <tr>\n",
       "      <th>2</th>\n",
       "      <td>홍길남</td>\n",
       "      <td>21</td>\n",
       "      <td>nam@hong.com</td>\n",
       "      <td>서울시 강동구</td>\n",
       "      <td>1999-11-01</td>\n",
       "    </tr>\n",
       "    <tr>\n",
       "      <th>3</th>\n",
       "      <td>홍길북</td>\n",
       "      <td>22</td>\n",
       "      <td>buk@hong.com</td>\n",
       "      <td>서울시 관악구</td>\n",
       "      <td>1999-05-01</td>\n",
       "    </tr>\n",
       "    <tr>\n",
       "      <th>4</th>\n",
       "      <td>홍길중</td>\n",
       "      <td>23</td>\n",
       "      <td>mid@hong.com</td>\n",
       "      <td>부산시 중구</td>\n",
       "      <td>1999-01-30</td>\n",
       "    </tr>\n",
       "  </tbody>\n",
       "</table>\n",
       "</div>"
      ],
      "text/plain": [
       "  Name  Age          Email  Address       Birth\n",
       "0  홍길동   20  hong@hong.com  서울시 강동구  1999-01-01\n",
       "1  홍길서   30   seo@hong.com   서울시 중구  1999-12-01\n",
       "2  홍길남   21   nam@hong.com  서울시 강동구  1999-11-01\n",
       "3  홍길북   22   buk@hong.com  서울시 관악구  1999-05-01\n",
       "4  홍길중   23   mid@hong.com   부산시 중구  1999-01-30"
      ]
     },
     "execution_count": 69,
     "metadata": {},
     "output_type": "execute_result"
    }
   ],
   "source": [
    "# (3) 상위 몇행만 sep문자는 ,아닌 csv 파일 읽어오기\n",
    "member = pd.read_csv('data/ch11_membersep.csv',\n",
    "                    nrows=5, # 상위 5행만\n",
    "                    sep='|')\n",
    "member"
   ]
  },
  {
   "cell_type": "code",
   "execution_count": 79,
   "id": "096be1fb",
   "metadata": {},
   "outputs": [
    {
     "name": "stdout",
     "output_type": "stream",
     "text": [
      "<class 'pandas.core.frame.DataFrame'>\n",
      "RangeIndex: 5 entries, 0 to 4\n",
      "Data columns (total 5 columns):\n",
      " #   Column   Non-Null Count  Dtype         \n",
      "---  ------   --------------  -----         \n",
      " 0   Name     5 non-null      object        \n",
      " 1   Age      5 non-null      int64         \n",
      " 2   Email    5 non-null      object        \n",
      " 3   Address  5 non-null      object        \n",
      " 4   Birth    5 non-null      datetime64[ns]\n",
      "dtypes: datetime64[ns](1), int64(1), object(3)\n",
      "memory usage: 328.0+ bytes\n"
     ]
    }
   ],
   "source": [
    "# (4) 주석(#) 제외, datetime형 필드를 지정하여 csv 파일 읽어오기\n",
    "member = pd.read_csv('data/ch11_membertab.csv',\n",
    "                    sep = '\\t',  # 구분자 설정\n",
    "                    comment='#', # 주석제외\n",
    "                    parse_dates=['Birth']) # datetime64형으로 읽어올 필드 지정\n",
    "member.info()"
   ]
  },
  {
   "cell_type": "markdown",
   "id": "939e0bd7",
   "metadata": {},
   "source": [
    "## 2.4  패키지에서 가져오기 : iris 데이터\n",
    "- iris 가져오기 방법1 : sklearn(머신러닝 패키지)\n",
    "- iris 가져오기 방법2 : statsmodels (R 데이터)\n",
    "- iris 가져오기 방법3 : seaborn(시각화 패키지)\n",
    "\n",
    "### 2.4.1 iris 방법1 : sklearn\n",
    "- sklearn.datasets 모듈 데이터(iris)를 데이터 프레임으로 변환"
   ]
  },
  {
   "cell_type": "code",
   "execution_count": 84,
   "id": "ac3e7495",
   "metadata": {},
   "outputs": [
    {
     "name": "stdout",
     "output_type": "stream",
     "text": [
      "<class 'sklearn.utils._bunch.Bunch'>\n",
      "dict_keys(['data', 'target', 'frame', 'target_names', 'DESCR', 'feature_names', 'filename', 'data_module'])\n"
     ]
    }
   ],
   "source": [
    "from sklearn import datasets # 머신러닝을 공부하기 위한 학습 데이터셋 제공\n",
    "# sklearn 패키지에서 제공되는 데이터셋은 데이터프래임이 아님\n",
    "iris = datasets.load_iris()\n",
    "print(type(iris)) # Bunch타입 (딕셔너리를 상속받은 타입) 딕셔너리처럼 동작\n",
    "#print(iris.DESCR) # iris 데이터 셋의 설명\n",
    "print(iris.keys())"
   ]
  },
  {
   "cell_type": "code",
   "execution_count": 85,
   "id": "d8cef2e2",
   "metadata": {},
   "outputs": [
    {
     "data": {
      "text/plain": [
       "array([[5.1, 3.5, 1.4, 0.2],\n",
       "       [4.9, 3. , 1.4, 0.2],\n",
       "       [4.7, 3.2, 1.3, 0.2]])"
      ]
     },
     "execution_count": 85,
     "metadata": {},
     "output_type": "execute_result"
    }
   ],
   "source": [
    "iris.data #독립변수\n",
    "iris['data'][:3] # 상위 3행"
   ]
  },
  {
   "cell_type": "code",
   "execution_count": 86,
   "id": "df1cc76b",
   "metadata": {},
   "outputs": [
    {
     "data": {
      "text/plain": [
       "['sepal length (cm)',\n",
       " 'sepal width (cm)',\n",
       " 'petal length (cm)',\n",
       " 'petal width (cm)']"
      ]
     },
     "execution_count": 86,
     "metadata": {},
     "output_type": "execute_result"
    }
   ],
   "source": [
    "# 데이터프레임의 열이름(비추)\n",
    "iris.feature_names"
   ]
  },
  {
   "cell_type": "code",
   "execution_count": 88,
   "id": "1508b7b8",
   "metadata": {},
   "outputs": [
    {
     "data": {
      "text/plain": [
       "['sepal_length', 'sepal_width', 'petal_length', 'petal_width']"
      ]
     },
     "execution_count": 88,
     "metadata": {},
     "output_type": "execute_result"
    }
   ],
   "source": [
    "# 데이터프레임의 열이름(강추)\n",
    "[col[:-5].replace(' ', '_') for col in iris.feature_names]"
   ]
  },
  {
   "cell_type": "code",
   "execution_count": 89,
   "id": "9fc975e6",
   "metadata": {},
   "outputs": [
    {
     "data": {
      "text/plain": [
       "array([0, 0, 0, 0, 0, 0, 0, 0, 0, 0, 0, 0, 0, 0, 0, 0, 0, 0, 0, 0, 0, 0,\n",
       "       0, 0, 0, 0, 0, 0, 0, 0, 0, 0, 0, 0, 0, 0, 0, 0, 0, 0, 0, 0, 0, 0,\n",
       "       0, 0, 0, 0, 0, 0, 1, 1, 1, 1, 1, 1, 1, 1, 1, 1, 1, 1, 1, 1, 1, 1,\n",
       "       1, 1, 1, 1, 1, 1, 1, 1, 1, 1, 1, 1, 1, 1, 1, 1, 1, 1, 1, 1, 1, 1,\n",
       "       1, 1, 1, 1, 1, 1, 1, 1, 1, 1, 1, 1, 2, 2, 2, 2, 2, 2, 2, 2, 2, 2,\n",
       "       2, 2, 2, 2, 2, 2, 2, 2, 2, 2, 2, 2, 2, 2, 2, 2, 2, 2, 2, 2, 2, 2,\n",
       "       2, 2, 2, 2, 2, 2, 2, 2, 2, 2, 2, 2, 2, 2, 2, 2, 2, 2])"
      ]
     },
     "execution_count": 89,
     "metadata": {},
     "output_type": "execute_result"
    }
   ],
   "source": [
    "iris.target # ML/DL 학습시 타겟변수(종속변수)\n",
    "iris['target']"
   ]
  },
  {
   "cell_type": "code",
   "execution_count": 91,
   "id": "43928580",
   "metadata": {},
   "outputs": [
    {
     "data": {
      "text/plain": [
       "array(['setosa', 'setosa', 'setosa', 'setosa', 'setosa', 'setosa',\n",
       "       'setosa', 'setosa', 'setosa', 'setosa', 'setosa', 'setosa',\n",
       "       'setosa', 'setosa', 'setosa', 'setosa', 'setosa', 'setosa',\n",
       "       'setosa', 'setosa', 'setosa', 'setosa', 'setosa', 'setosa',\n",
       "       'setosa', 'setosa', 'setosa', 'setosa', 'setosa', 'setosa',\n",
       "       'setosa', 'setosa', 'setosa', 'setosa', 'setosa', 'setosa',\n",
       "       'setosa', 'setosa', 'setosa', 'setosa', 'setosa', 'setosa',\n",
       "       'setosa', 'setosa', 'setosa', 'setosa', 'setosa', 'setosa',\n",
       "       'setosa', 'setosa', 'versicolor', 'versicolor', 'versicolor',\n",
       "       'versicolor', 'versicolor', 'versicolor', 'versicolor',\n",
       "       'versicolor', 'versicolor', 'versicolor', 'versicolor',\n",
       "       'versicolor', 'versicolor', 'versicolor', 'versicolor',\n",
       "       'versicolor', 'versicolor', 'versicolor', 'versicolor',\n",
       "       'versicolor', 'versicolor', 'versicolor', 'versicolor',\n",
       "       'versicolor', 'versicolor', 'versicolor', 'versicolor',\n",
       "       'versicolor', 'versicolor', 'versicolor', 'versicolor',\n",
       "       'versicolor', 'versicolor', 'versicolor', 'versicolor',\n",
       "       'versicolor', 'versicolor', 'versicolor', 'versicolor',\n",
       "       'versicolor', 'versicolor', 'versicolor', 'versicolor',\n",
       "       'versicolor', 'versicolor', 'versicolor', 'versicolor',\n",
       "       'versicolor', 'versicolor', 'versicolor', 'virginica', 'virginica',\n",
       "       'virginica', 'virginica', 'virginica', 'virginica', 'virginica',\n",
       "       'virginica', 'virginica', 'virginica', 'virginica', 'virginica',\n",
       "       'virginica', 'virginica', 'virginica', 'virginica', 'virginica',\n",
       "       'virginica', 'virginica', 'virginica', 'virginica', 'virginica',\n",
       "       'virginica', 'virginica', 'virginica', 'virginica', 'virginica',\n",
       "       'virginica', 'virginica', 'virginica', 'virginica', 'virginica',\n",
       "       'virginica', 'virginica', 'virginica', 'virginica', 'virginica',\n",
       "       'virginica', 'virginica', 'virginica', 'virginica', 'virginica',\n",
       "       'virginica', 'virginica', 'virginica', 'virginica', 'virginica',\n",
       "       'virginica', 'virginica', 'virginica'], dtype='<U10')"
      ]
     },
     "execution_count": 91,
     "metadata": {},
     "output_type": "execute_result"
    }
   ],
   "source": [
    "iris.target_names[iris.target] # 데이터 프레임에 쓸 타겟변수(가장 오른쪽 열)"
   ]
  },
  {
   "cell_type": "code",
   "execution_count": 94,
   "id": "9a90a6ea",
   "metadata": {},
   "outputs": [
    {
     "name": "stdout",
     "output_type": "stream",
     "text": [
      "[[5.1 3.5 1.4 0.2]\n",
      " [4.9 3.  1.4 0.2]\n",
      " [4.7 3.2 1.3 0.2]] [['setosa']\n",
      " ['setosa']\n",
      " ['setosa']]\n"
     ]
    }
   ],
   "source": [
    "# 독립변수\n",
    "data = iris.data\n",
    "# 타겟변수\n",
    "target = iris.target_names[iris.target].reshape(-1,1)\n",
    "print(data[:3], target[:3])"
   ]
  },
  {
   "cell_type": "code",
   "execution_count": 95,
   "id": "9ee362c0",
   "metadata": {},
   "outputs": [
    {
     "name": "stdout",
     "output_type": "stream",
     "text": [
      "독립변수 shape : (150, 4)\n",
      "타겟변수 shape : (150, 1)\n"
     ]
    }
   ],
   "source": [
    "print('독립변수 shape :', data.shape)\n",
    "print('타겟변수 shape :', target.shape)"
   ]
  },
  {
   "cell_type": "code",
   "execution_count": 103,
   "id": "25b73eda",
   "metadata": {},
   "outputs": [
    {
     "data": {
      "text/html": [
       "<div>\n",
       "<style scoped>\n",
       "    .dataframe tbody tr th:only-of-type {\n",
       "        vertical-align: middle;\n",
       "    }\n",
       "\n",
       "    .dataframe tbody tr th {\n",
       "        vertical-align: top;\n",
       "    }\n",
       "\n",
       "    .dataframe thead th {\n",
       "        text-align: right;\n",
       "    }\n",
       "</style>\n",
       "<table border=\"1\" class=\"dataframe\">\n",
       "  <thead>\n",
       "    <tr style=\"text-align: right;\">\n",
       "      <th></th>\n",
       "      <th>sepal_length</th>\n",
       "      <th>sepal_width</th>\n",
       "      <th>petal_length</th>\n",
       "      <th>petal_width</th>\n",
       "      <th>species</th>\n",
       "    </tr>\n",
       "  </thead>\n",
       "  <tbody>\n",
       "    <tr>\n",
       "      <th>0</th>\n",
       "      <td>5.1</td>\n",
       "      <td>3.5</td>\n",
       "      <td>1.4</td>\n",
       "      <td>0.2</td>\n",
       "      <td>setosa</td>\n",
       "    </tr>\n",
       "    <tr>\n",
       "      <th>1</th>\n",
       "      <td>4.9</td>\n",
       "      <td>3.0</td>\n",
       "      <td>1.4</td>\n",
       "      <td>0.2</td>\n",
       "      <td>setosa</td>\n",
       "    </tr>\n",
       "    <tr>\n",
       "      <th>2</th>\n",
       "      <td>4.7</td>\n",
       "      <td>3.2</td>\n",
       "      <td>1.3</td>\n",
       "      <td>0.2</td>\n",
       "      <td>setosa</td>\n",
       "    </tr>\n",
       "  </tbody>\n",
       "</table>\n",
       "</div>"
      ],
      "text/plain": [
       "  sepal_length sepal_width petal_length petal_width species\n",
       "0          5.1         3.5          1.4         0.2  setosa\n",
       "1          4.9         3.0          1.4         0.2  setosa\n",
       "2          4.7         3.2          1.3         0.2  setosa"
      ]
     },
     "execution_count": 103,
     "metadata": {},
     "output_type": "execute_result"
    }
   ],
   "source": [
    "# 1. 독립변수와 종속변수를 stack한 후 데이터 프레임으로\n",
    "df = pd.DataFrame(np.hstack((data,target)), \n",
    "                  columns=[col[:-5].replace(' ', '_') for col in iris.feature_names] + ['species'])\n",
    "df.head(3)"
   ]
  },
  {
   "cell_type": "code",
   "execution_count": 105,
   "id": "01ce322f",
   "metadata": {},
   "outputs": [
    {
     "data": {
      "text/plain": [
       "0      5.1\n",
       "1      4.9\n",
       "2      4.7\n",
       "3      4.6\n",
       "4      5.0\n",
       "      ... \n",
       "145    6.7\n",
       "146    6.3\n",
       "147    6.5\n",
       "148    6.2\n",
       "149    5.9\n",
       "Name: sepal_length, Length: 150, dtype: object"
      ]
     },
     "execution_count": 105,
     "metadata": {},
     "output_type": "execute_result"
    }
   ],
   "source": [
    "df.sepal_length"
   ]
  },
  {
   "cell_type": "code",
   "execution_count": 106,
   "id": "5288b46a",
   "metadata": {},
   "outputs": [
    {
     "data": {
      "text/html": [
       "<div>\n",
       "<style scoped>\n",
       "    .dataframe tbody tr th:only-of-type {\n",
       "        vertical-align: middle;\n",
       "    }\n",
       "\n",
       "    .dataframe tbody tr th {\n",
       "        vertical-align: top;\n",
       "    }\n",
       "\n",
       "    .dataframe thead th {\n",
       "        text-align: right;\n",
       "    }\n",
       "</style>\n",
       "<table border=\"1\" class=\"dataframe\">\n",
       "  <thead>\n",
       "    <tr style=\"text-align: right;\">\n",
       "      <th></th>\n",
       "      <th>sepal_length</th>\n",
       "      <th>sepal_width</th>\n",
       "      <th>petal_length</th>\n",
       "      <th>petal_width</th>\n",
       "    </tr>\n",
       "  </thead>\n",
       "  <tbody>\n",
       "    <tr>\n",
       "      <th>0</th>\n",
       "      <td>5.1</td>\n",
       "      <td>3.5</td>\n",
       "      <td>1.4</td>\n",
       "      <td>0.2</td>\n",
       "    </tr>\n",
       "    <tr>\n",
       "      <th>1</th>\n",
       "      <td>4.9</td>\n",
       "      <td>3.0</td>\n",
       "      <td>1.4</td>\n",
       "      <td>0.2</td>\n",
       "    </tr>\n",
       "    <tr>\n",
       "      <th>2</th>\n",
       "      <td>4.7</td>\n",
       "      <td>3.2</td>\n",
       "      <td>1.3</td>\n",
       "      <td>0.2</td>\n",
       "    </tr>\n",
       "  </tbody>\n",
       "</table>\n",
       "</div>"
      ],
      "text/plain": [
       "   sepal_length  sepal_width  petal_length  petal_width\n",
       "0           5.1          3.5           1.4          0.2\n",
       "1           4.9          3.0           1.4          0.2\n",
       "2           4.7          3.2           1.3          0.2"
      ]
     },
     "execution_count": 106,
     "metadata": {},
     "output_type": "execute_result"
    }
   ],
   "source": [
    "# 2. 독립변수, 종속변수를 따로 데이터프레임 생성 -> 두 데이터프레임 합치기\n",
    "X = pd.DataFrame(iris.data, \n",
    "                  columns=[col[:-5].replace(' ', '_') for col in iris.feature_names])\n",
    "X.head(3)"
   ]
  },
  {
   "cell_type": "code",
   "execution_count": 107,
   "id": "f7de0922",
   "metadata": {},
   "outputs": [
    {
     "data": {
      "text/html": [
       "<div>\n",
       "<style scoped>\n",
       "    .dataframe tbody tr th:only-of-type {\n",
       "        vertical-align: middle;\n",
       "    }\n",
       "\n",
       "    .dataframe tbody tr th {\n",
       "        vertical-align: top;\n",
       "    }\n",
       "\n",
       "    .dataframe thead th {\n",
       "        text-align: right;\n",
       "    }\n",
       "</style>\n",
       "<table border=\"1\" class=\"dataframe\">\n",
       "  <thead>\n",
       "    <tr style=\"text-align: right;\">\n",
       "      <th></th>\n",
       "      <th>species</th>\n",
       "    </tr>\n",
       "  </thead>\n",
       "  <tbody>\n",
       "    <tr>\n",
       "      <th>0</th>\n",
       "      <td>setosa</td>\n",
       "    </tr>\n",
       "    <tr>\n",
       "      <th>1</th>\n",
       "      <td>setosa</td>\n",
       "    </tr>\n",
       "    <tr>\n",
       "      <th>2</th>\n",
       "      <td>setosa</td>\n",
       "    </tr>\n",
       "  </tbody>\n",
       "</table>\n",
       "</div>"
      ],
      "text/plain": [
       "  species\n",
       "0  setosa\n",
       "1  setosa\n",
       "2  setosa"
      ]
     },
     "execution_count": 107,
     "metadata": {},
     "output_type": "execute_result"
    }
   ],
   "source": [
    "y = pd.DataFrame(iris.target_names[iris.target], columns=['species'])\n",
    "y.head(3)"
   ]
  },
  {
   "cell_type": "code",
   "execution_count": 109,
   "id": "2b20bb56",
   "metadata": {},
   "outputs": [
    {
     "name": "stdout",
     "output_type": "stream",
     "text": [
      "X의 shape : (150, 4)\n",
      "y의 shape : (150, 1)\n",
      "X의 index : (150, 4)\n",
      "y의 index : (150, 1)\n"
     ]
    }
   ],
   "source": [
    "print('X의 shape :', X.shape)\n",
    "print('y의 shape :', y.shape)\n",
    "print('X의 index :', X.shape)\n",
    "print('y의 index :', y.shape)"
   ]
  },
  {
   "cell_type": "code",
   "execution_count": 110,
   "id": "b9545686",
   "metadata": {},
   "outputs": [
    {
     "name": "stdout",
     "output_type": "stream",
     "text": [
      "<class 'pandas.core.frame.DataFrame'>\n",
      "RangeIndex: 150 entries, 0 to 149\n",
      "Data columns (total 5 columns):\n",
      " #   Column        Non-Null Count  Dtype  \n",
      "---  ------        --------------  -----  \n",
      " 0   sepal_length  150 non-null    float64\n",
      " 1   sepal_width   150 non-null    float64\n",
      " 2   petal_length  150 non-null    float64\n",
      " 3   petal_width   150 non-null    float64\n",
      " 4   species       150 non-null    object \n",
      "dtypes: float64(4), object(1)\n",
      "memory usage: 6.0+ KB\n"
     ]
    }
   ],
   "source": [
    "iris_df = pd.concat( [X,y], axis=1)\n",
    "iris_df.info()"
   ]
  },
  {
   "cell_type": "code",
   "execution_count": null,
   "id": "0edcee74",
   "metadata": {},
   "outputs": [],
   "source": []
  }
 ],
 "metadata": {
  "kernelspec": {
   "display_name": "Python 3 (ipykernel)",
   "language": "python",
   "name": "python3"
  },
  "language_info": {
   "codemirror_mode": {
    "name": "ipython",
    "version": 3
   },
   "file_extension": ".py",
   "mimetype": "text/x-python",
   "name": "python",
   "nbconvert_exporter": "python",
   "pygments_lexer": "ipython3",
   "version": "3.10.9"
  },
  "toc": {
   "base_numbering": 1,
   "nav_menu": {},
   "number_sections": false,
   "sideBar": true,
   "skip_h1_title": false,
   "title_cell": "Table of Contents",
   "title_sidebar": "Contents",
   "toc_cell": false,
   "toc_position": {},
   "toc_section_display": true,
   "toc_window_display": false
  }
 },
 "nbformat": 4,
 "nbformat_minor": 5
}
