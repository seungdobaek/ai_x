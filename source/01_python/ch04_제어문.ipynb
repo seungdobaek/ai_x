{
 "cells": [
  {
   "cell_type": "code",
   "execution_count": 1,
   "id": "d7002e27",
   "metadata": {},
   "outputs": [
    {
     "data": {
      "text/html": [
       "\n",
       "<style>\n",
       "div.container{width:90% !important;}\n",
       "div.cell.code_cell.rendered{width:100%;}\n",
       "div.input_prompt{padding:0px;}\n",
       "div.CodeMirror {font-family:Consolas; font-size:12pt;}\n",
       "div.text_cell_render.rendered_html{font size:12pt;}\n",
       "div.output {font-size:12pt; font-weight:bold;}\n",
       "div.input{font-family:Consolas; font-size:12pt;}\n",
       "div.prompt {min width:70px;}\n",
       "div#toc-wrapper {padding-top:120px;}\n",
       "div.text_cell_render ul li{font-size:12pt;padding:5px;}\n",
       "table.dataframe {font-size:12px;}\n",
       "</style>\n"
      ],
      "text/plain": [
       "<IPython.core.display.HTML object>"
      ]
     },
     "metadata": {},
     "output_type": "display_data"
    }
   ],
   "source": [
    "from IPython.display import display, HTML\n",
    "display(HTML(\"\"\"\n",
    "<style>\n",
    "div.container{width:90% !important;}\n",
    "div.cell.code_cell.rendered{width:100%;}\n",
    "div.input_prompt{padding:0px;}\n",
    "div.CodeMirror {font-family:Consolas; font-size:12pt;}\n",
    "div.text_cell_render.rendered_html{font size:12pt;}\n",
    "div.output {font-size:12pt; font-weight:bold;}\n",
    "div.input{font-family:Consolas; font-size:12pt;}\n",
    "div.prompt {min width:70px;}\n",
    "div#toc-wrapper {padding-top:120px;}\n",
    "div.text_cell_render ul li{font-size:12pt;padding:5px;}\n",
    "table.dataframe {font-size:12px;}\n",
    "</style>\n",
    "\"\"\"))"
   ]
  },
  {
   "cell_type": "markdown",
   "id": "0b9c1f99",
   "metadata": {},
   "source": [
    "<font size=\"6\" color=\"red\">ch04. 제어문</font>\n",
    "- 조건문 : if 문\n",
    "- 반복문 : for문 (반복횟수), while문(조건)\n",
    "\n",
    "**모두 중첩가능**\n",
    "\n",
    "# 1절 조건문 (if)\n",
    "```\n",
    "if 조건1:\n",
    "    조건1이 True일 경우 수행할 명력어들 (들여쓰기 중요. if절 단독 사용 가능)\n",
    "elif 조건2:\n",
    "    조건1이 False이고 조건2가 True일 경우 수행할 명령어들\n",
    "else:\n",
    "    모든 조건이 False일 경우 수행할 명령어들\n",
    "```\n",
    "** elif와 else는 단독 사용 불가능**"
   ]
  },
  {
   "cell_type": "code",
   "execution_count": 6,
   "id": "c8162f5b",
   "metadata": {},
   "outputs": [
    {
     "name": "stdout",
     "output_type": "stream",
     "text": [
      "점수를 입력해주세요: 70\n",
      "분발하세요\n",
      "뭐 그래도 고생하셨어요\n"
     ]
    }
   ],
   "source": [
    "score = int(input('점수를 입력해주세요: '))\n",
    "if score >= 80:\n",
    "    print('참 잘했어요')\n",
    "    print('다음에도 기대할게요')\n",
    "elif score >= 60:\n",
    "    print('분발하세요')\n",
    "    print('뭐 그래도 고생하셨어요')\n",
    "else:\n",
    "    print('재시험 응시 하세요')\n",
    "    print('화이팅')"
   ]
  },
  {
   "cell_type": "code",
   "execution_count": 11,
   "id": "52b36731",
   "metadata": {},
   "outputs": [
    {
     "name": "stdout",
     "output_type": "stream",
     "text": [
      "점수를 입력해주세요: -2\n",
      "입력하신 점수 -2점은 유효하지 않는 점수입니다\n"
     ]
    }
   ],
   "source": [
    "# ex. 점수를 입력받아 학점출력(A, B, C, D, F, 유효하지 않는 점수)\n",
    "score = int(input('점수를 입력해주세요: '))\n",
    "if score > 100 or score < 0:\n",
    "    grade = '유효하지 않는 점수'\n",
    "elif score >= 90:\n",
    "    grade = 'A 학점'\n",
    "elif score >= 80:\n",
    "    grade = 'B 학점'\n",
    "elif score >= 70:\n",
    "    grade = 'C 학점'\n",
    "elif score >= 60:\n",
    "    grade = 'D 학점'\n",
    "else:\n",
    "    grade = 'F 학점'\n",
    "\n",
    "print(f'입력하신 점수 {score}점은 {grade}입니다')\n"
   ]
  },
  {
   "cell_type": "markdown",
   "id": "70688ff4",
   "metadata": {},
   "source": [
    "# 2절. 반복문\n",
    "## 2.1 for 문 / for-in 문\n",
    "```\n",
    "for 임시변수 in 나열가능한자료:\n",
    "    반복할 문장1\n",
    "    반복할 문장2\n",
    "else:\n",
    "    나열가능한자료를 다 소요하여 for 블록을 다 수행한 후, 최종 한번 실행할 문장들\n",
    "    for 문안의 break를 수행할 경우, else 블록을 수행하지 않음\n",
    "```\n"
   ]
  },
  {
   "cell_type": "code",
   "execution_count": 16,
   "id": "d13a66b6",
   "metadata": {},
   "outputs": [
    {
     "name": "stdout",
     "output_type": "stream",
     "text": [
      "1\t3\t5\t7\t9\tDONE\n",
      "END\n"
     ]
    }
   ],
   "source": [
    "for i in range(1,10,2):\n",
    "    print (i, end='\\t')\n",
    "else:\n",
    "    print('DONE')\n",
    "print('END')"
   ]
  },
  {
   "cell_type": "code",
   "execution_count": 18,
   "id": "959ec38b",
   "metadata": {},
   "outputs": [
    {
     "name": "stdout",
     "output_type": "stream",
     "text": [
      "0\t1\t2\t3\t4\tEND\n"
     ]
    }
   ],
   "source": [
    "for i in range(10):\n",
    "    if i==5:\n",
    "        break #현재 반복문을 빠져나가\n",
    "    print(i,end='\\t')\n",
    "else:\n",
    "    print('\\nDONE')\n",
    "print('END')"
   ]
  },
  {
   "cell_type": "code",
   "execution_count": 20,
   "id": "13b0bddd",
   "metadata": {},
   "outputs": [
    {
     "name": "stdout",
     "output_type": "stream",
     "text": [
      "1~100번까지의 합은 5050\n"
     ]
    }
   ],
   "source": [
    "#1~100까지 합을 계산하고 출력하시오(for문)\n",
    "sum = 0 # 누적변수\n",
    "for i in  range(1, 101):\n",
    "    sum += i\n",
    "else:\n",
    "    print('1~100번까지의 합은', sum)"
   ]
  },
  {
   "cell_type": "code",
   "execution_count": 21,
   "id": "f83a2e3f",
   "metadata": {},
   "outputs": [
    {
     "name": "stdout",
     "output_type": "stream",
     "text": [
      "1~100번까지의 짝수들의 합은 2550\n"
     ]
    }
   ],
   "source": [
    "#1~100까지 짝수 합을 계산하고 출력하시오(for문)\n",
    "sum = 0 # 누적변수\n",
    "for i in  range(2, 101,2):\n",
    "    sum += i\n",
    "else:\n",
    "    print('1~100번까지의 짝수들의 합은', sum)"
   ]
  },
  {
   "cell_type": "markdown",
   "id": "2a5448ca",
   "metadata": {},
   "source": [
    "## 2.2 while 문\n",
    "```\n",
    "while 조건:\n",
    "    조건이 True일 경우 반복할 문장들\n",
    "else:\n",
    "    조건이 False일 경우 한번 실행할 문장들(else 구문 선택사항)\n",
    "    while 문내의 break 수행할 경우 else 구문은 실행되지 않음\n",
    "```"
   ]
  },
  {
   "cell_type": "code",
   "execution_count": 24,
   "id": "393aeae4",
   "metadata": {},
   "outputs": [
    {
     "name": "stdout",
     "output_type": "stream",
     "text": [
      "1~100번까지의 짝수들의 합은 2550\n"
     ]
    }
   ],
   "source": [
    "#1~100까지 짝수 합을 계산하고 출력하시오(while 문)\n",
    "sum = 0 #누적 변수\n",
    "i = 2\n",
    "while i <= 100:\n",
    "    sum += i\n",
    "    i += 2\n",
    "else:\n",
    "    print('1~100번까지의 짝수들의 합은', sum)"
   ]
  },
  {
   "cell_type": "code",
   "execution_count": 109,
   "id": "85f32355",
   "metadata": {},
   "outputs": [
    {
     "name": "stdout",
     "output_type": "stream",
     "text": [
      "첫번째 정수를 입력해주세요 : 10\n",
      "두번째 정수를 입력해주세요 : 7\n",
      "두 정수 사이의 홀수의 합은 : 16\n"
     ]
    }
   ],
   "source": [
    "#ex 1. 사용자에게 두 정수를 입력받아, 작은수부터 큰수까지 홀수의 합을 누적해서 출력\n",
    "first = int(input(\"첫번째 정수를 입력해주세요 : \"))\n",
    "second = int(input(\"두번째 정수를 입력해주세요 : \"))\n",
    "if first > second:\n",
    "    first, second = second, first\n",
    "sum = 0\n",
    "if (first % 2 == 0):\n",
    "    first += 1\n",
    "for i in range(first, second+1, 2):\n",
    "    sum += i\n",
    "print(\"두 정수 사이의 홀수의 합은 :\", sum)"
   ]
  },
  {
   "cell_type": "code",
   "execution_count": 103,
   "id": "ad43cfc8",
   "metadata": {},
   "outputs": [
    {
     "data": {
      "text/plain": [
       "['비사기꾼']"
      ]
     },
     "execution_count": 103,
     "metadata": {},
     "output_type": "execute_result"
    }
   ],
   "source": [
    "import random\n",
    "#random.seed() # 난수 설정\n",
    "#random.random() # 0이상 1미만의 실수 난수\n",
    "#random.randint(1,45)# 1~45의 점수 난수\n",
    "#random.choice(['남자','여자']) # 리스트에서 하나를 선택하는데 확률이 동일\n",
    "random.choices(['사기꾼','비사기꾼'], weights=[0.1, 0.9]) # 리스트에서 선택하는데 weights의 확률로 선택"
   ]
  },
  {
   "cell_type": "code",
   "execution_count": 115,
   "id": "aae12a4a",
   "metadata": {},
   "outputs": [
    {
     "name": "stdout",
     "output_type": "stream",
     "text": [
      "sorted 후 : [3, 10, 12, 16, 41, 42]\n",
      "정렬 후 lotto_lst : [3, 10, 12, 16, 41, 42]\n"
     ]
    }
   ],
   "source": [
    "#ex2. 로또번호 6개를 추출후, 정렬하여 출력[리스트]\n",
    "import random\n",
    "\n",
    "lotto_lst = []\n",
    "while len(lotto_lst) <= 5:\n",
    "    ran = random.randint(1,45)\n",
    "    if (ran not in lotto_lst):\n",
    "        lotto_lst.append(ran)\n",
    "print(\"sorted 후 :\", sorted(lotto_lst))\n",
    "\n",
    "for i in range(len(num)):\n",
    "    for j in range(i, len(num)):\n",
    "        if lotto_lst[i] > lotto_lst[j]:\n",
    "            lotto_lst[i], lotto_lst[j] = lotto_lst[j], lotto_lst[i]\n",
    "print(\"정렬 후 lotto_lst :\", lotto_lst)"
   ]
  },
  {
   "cell_type": "code",
   "execution_count": 126,
   "id": "c1bbe614",
   "metadata": {},
   "outputs": [
    {
     "name": "stdout",
     "output_type": "stream",
     "text": [
      "[4, 9, 19, 21, 29, 36]\n"
     ]
    }
   ],
   "source": [
    "#ex2. 로또번호 6개를 추출후, 정렬하여 출력[셋]\n",
    "import random\n",
    "\n",
    "num = set()\n",
    "while len(num) <= 5:\n",
    "    num.add(random.randint(1,45))\n",
    "print(sorted(num))"
   ]
  },
  {
   "cell_type": "code",
   "execution_count": 129,
   "id": "527c46d3",
   "metadata": {},
   "outputs": [
    {
     "name": "stdout",
     "output_type": "stream",
     "text": [
      "[4, 9, 34, 41, 42, 43]\n"
     ]
    }
   ],
   "source": [
    "#ex2. 로또번호 6개를 추출후, 정렬하여 출력 (6개 한번에 뽑기)\n",
    "import random\n",
    "\n",
    "print(sorted(random.sample(range(1,46), 6)))"
   ]
  },
  {
   "cell_type": "markdown",
   "id": "3b89e460",
   "metadata": {},
   "source": [
    "## 2.3 break, continue\n",
    "- break : 현재 반복문 탈출\n",
    "- continue : 수행중인 반복문을 멈추고 조건절로"
   ]
  },
  {
   "cell_type": "code",
   "execution_count": 133,
   "id": "5320b49b",
   "metadata": {},
   "outputs": [
    {
     "name": "stdout",
     "output_type": "stream",
     "text": [
      "1 2 3 4 END\n"
     ]
    }
   ],
   "source": [
    "num = 0\n",
    "while num < 10 :\n",
    "    num += 1\n",
    "    if num == 5:\n",
    "        break\n",
    "    print(num, end=' ')\n",
    "print('END')"
   ]
  },
  {
   "cell_type": "code",
   "execution_count": 134,
   "id": "27e027ff",
   "metadata": {},
   "outputs": [
    {
     "name": "stdout",
     "output_type": "stream",
     "text": [
      "1 2 3 4 6 7 8 9 10 END\n"
     ]
    }
   ],
   "source": [
    "num = 0\n",
    "while num < 10 :\n",
    "    num += 1\n",
    "    if num == 5:\n",
    "        continue\n",
    "    print(num, end=' ')\n",
    "print('END')"
   ]
  },
  {
   "cell_type": "code",
   "execution_count": 145,
   "id": "4919ffe9",
   "metadata": {},
   "outputs": [
    {
     "name": "stdout",
     "output_type": "stream",
     "text": [
      "컴퓨터가 발생한 random 수 : 94\n",
      "1~100 사이의 수를 맞춰주세요100\n",
      "DOWN ↓\n",
      "1~100 사이의 수를 맞춰주세요90\n",
      "UP ↑\n",
      "1~100 사이의 수를 맞춰주세요96\n",
      "DOWN ↓\n",
      "1~100 사이의 수를 맞춰주세요94\n",
      "축하 축하 맞추셨습니다\n"
     ]
    }
   ],
   "source": [
    "# 숫자 찾기 게임\n",
    "'''\n",
    "1~100 사이의 정수 맞추기 프로그램 (프로그램 안에서 random 수가 만들어지고, 그 random 수 맞추기)\n",
    "1단계 : 숫자를 못 맞추면 UP/DOWN, 맞추면 축하메세지 출력하고 종료\n",
    "2단계 : 숫자를 못 맞추면 min(0), max(100)을 조정하고, 맞추면 축하메세지 출력하고 종료\n",
    "3단계 : 2댠계의 기회를 5회로 제한, 5회의 기회가 지나면 실패메세지 출력하고 종료 5회 이내에 맞추면 축하메세지 출력 후 종료\n",
    "        (2단계와 3단계는 연습문제)\n",
    "'''\n",
    "import random\n",
    "randomNum = random.randint(1,100)\n",
    "print(\"컴퓨터가 발생한 random 수 :\", randomNum)\n",
    "while True:\n",
    "    inputNum = int(input(\"1~100 사이의 수를 맞춰주세요\"))\n",
    "    if (inputNum > 100) | (inputNum < 1):\n",
    "        print(\"수의 범위를 벗어났습니다\")\n",
    "    elif randomNum < inputNum :\n",
    "        print('DOWN ↓')\n",
    "    elif randomNum > inputNum :\n",
    "        print('UP ↑')\n",
    "    else:\n",
    "        print(\"축하 축하 맞추셨습니다\")\n",
    "        break\n",
    "print('BYE')"
   ]
  },
  {
   "cell_type": "code",
   "execution_count": 147,
   "id": "d203c2a3",
   "metadata": {},
   "outputs": [
    {
     "name": "stdout",
     "output_type": "stream",
     "text": [
      "컴퓨터가 발생한 random 수 : 12\n",
      "1~100 사이의 수를 맞춰주세요80\n",
      "DOWN ↓\n",
      "1~100 사이의 수를 맞춰주세요2\n",
      "UP ↑\n",
      "1~100 사이의 수를 맞춰주세요12\n",
      "축하 축하 맞추셨습니다\n",
      "BYE\n"
     ]
    }
   ],
   "source": [
    "# 숫자 찾기 게임(break 없이)\n",
    "'''\n",
    "1~100 사이의 정수 맞추기 프로그램 (프로그램 안에서 random 수가 만들어지고, 그 random 수 맞추기)\n",
    "1단계 : 숫자를 못 맞추면 UP/DOWN, 맞추면 축하메세지 출력하고 종료\n",
    "2단계 : 숫자를 못 맞추면 min(0), max(100)을 조정하고, 맞추면 축하메세지 출력하고 종료\n",
    "3단계 : 2댠계의 기회를 5회로 제한, 5회의 기회가 지나면 실패메세지 출력하고 종료 5회 이내에 맞추면 축하메세지 출력 후 종료\n",
    "        (2단계와 3단계는 연습문제)\n",
    "'''\n",
    "import random\n",
    "randomNum = random.randint(1,100)\n",
    "print(\"컴퓨터가 발생한 random 수 :\", randomNum)\n",
    "inputNum = -1\n",
    "while (inputNum != randomNum):\n",
    "    inputNum = int(input(\"1~100 사이의 수를 맞춰주세요\"))\n",
    "    if (inputNum > 100) | (inputNum < 1):\n",
    "        print(\"수의 범위를 벗어났습니다\")\n",
    "    elif randomNum < inputNum :\n",
    "        print('DOWN ↓')\n",
    "    elif randomNum > inputNum :\n",
    "        print('UP ↑')\n",
    "else:\n",
    "    print(\"축하 축하 맞추셨습니다\")\n",
    "print('BYE')"
   ]
  },
  {
   "cell_type": "markdown",
   "id": "84b2c25e",
   "metadata": {},
   "source": [
    "# 3절. 중첩 루프\n",
    "- 반복문 안의 반복문"
   ]
  },
  {
   "cell_type": "code",
   "execution_count": 165,
   "id": "85dfa76d",
   "metadata": {},
   "outputs": [
    {
     "name": "stdout",
     "output_type": "stream",
     "text": [
      "  2단  \t  3단  \t  4단  \t  5단  \t  6단  \t  7단  \t  8단  \t  9단  \t\n",
      "2x1= 2\t3x1= 3\t4x1= 4\t5x1= 5\t6x1= 6\t7x1= 7\t8x1= 8\t9x1= 9\t\n",
      "2x2= 4\t3x2= 6\t4x2= 8\t5x2=10\t6x2=12\t7x2=14\t8x2=16\t9x2=18\t\n",
      "2x3= 6\t3x3= 9\t4x3=12\t5x3=15\t6x3=18\t7x3=21\t8x3=24\t9x3=27\t\n",
      "2x4= 8\t3x4=12\t4x4=16\t5x4=20\t6x4=24\t7x4=28\t8x4=32\t9x4=36\t\n",
      "2x5=10\t3x5=15\t4x5=20\t5x5=25\t6x5=30\t7x5=35\t8x5=40\t9x5=45\t\n",
      "2x6=12\t3x6=18\t4x6=24\t5x6=30\t6x6=36\t7x6=42\t8x6=48\t9x6=54\t\n",
      "2x7=14\t3x7=21\t4x7=28\t5x7=35\t6x7=42\t7x7=49\t8x7=56\t9x7=63\t\n",
      "2x8=16\t3x8=24\t4x8=32\t5x8=40\t6x8=48\t7x8=56\t8x8=64\t9x8=72\t\n",
      "2x9=18\t3x9=27\t4x9=36\t5x9=45\t6x9=54\t7x9=63\t8x9=72\t9x9=81\t\n"
     ]
    }
   ],
   "source": [
    "#2~3단 구구단 출력\n",
    "for i in range(2,10):\n",
    "    print(\"{:^6}\".format(str(i)+\"단\"), end ='\\t')\n",
    "print()\n",
    "for i in range(1,10):\n",
    "    for j in range(2, 10):\n",
    "        print(\"{}x{}={:2}\".format(j,i,i*j), end='\\t')\n",
    "    print()"
   ]
  },
  {
   "cell_type": "code",
   "execution_count": 167,
   "id": "80b961d7",
   "metadata": {},
   "outputs": [
    {
     "name": "stdout",
     "output_type": "stream",
     "text": [
      "0행0열 : 1\t0행1열 : 2\t0행2열 : 3\t0행3열 : 4\t\n",
      "1행0열 : 5\t1행1열 : 6\t1행2열 : 7\t1행3열 : 8\t\n"
     ]
    }
   ],
   "source": [
    "lst_2d = [[1,2,3,4],\n",
    "          [5,6,7,8]]\n",
    "for i in range(len(lst_2d)): #행\n",
    "    for j in range(len(lst_2d[i])):\n",
    "        print(\"{}행{}열 : {}\".format(i, j, lst_2d[i][j]), end='\\t')\n",
    "    print()"
   ]
  },
  {
   "cell_type": "markdown",
   "id": "de937aa4",
   "metadata": {},
   "source": [
    "# 4절. 중첩루프 탈출\n",
    "- 2가지 방법 (플레그 변수 이용, 예외 처리 이용)"
   ]
  },
  {
   "cell_type": "code",
   "execution_count": 169,
   "id": "5d20889f",
   "metadata": {},
   "outputs": [
    {
     "name": "stdout",
     "output_type": "stream",
     "text": [
      "0 1\n",
      "0 2\n",
      "a=1, b=1 일때 break함\n",
      "2 1\n",
      "a=2, b=2 일때 break함\n",
      "DONE\n"
     ]
    }
   ],
   "source": [
    "for a in range(0,3): # a=0일때 1일때 2일때\n",
    "    for b in range(1,3): #b=1일때, 2일대\n",
    "        if a==b:\n",
    "            print(f\"a={a}, b={b} 일때 break함\")\n",
    "            break\n",
    "        print(a,b)\n",
    "        \n",
    "print('DONE')"
   ]
  },
  {
   "cell_type": "markdown",
   "id": "3ba0501f",
   "metadata": {},
   "source": [
    "## 4.1 플레그 변수 이용"
   ]
  },
  {
   "cell_type": "code",
   "execution_count": 170,
   "id": "7e2b899a",
   "metadata": {},
   "outputs": [
    {
     "name": "stdout",
     "output_type": "stream",
     "text": [
      "0 1\n",
      "0 2\n",
      "a=1, b=1 일때 break함\n",
      "DONE\n"
     ]
    }
   ],
   "source": [
    "flag = False # break를 만나면 True로 바꿔줄 변수\n",
    "for a in range(0,3): # a=0일때 1일때 2일때\n",
    "    for b in range(1,3): #b=1일때, 2일대\n",
    "        if a==b:\n",
    "            print(f\"a={a}, b={b} 일때 break함\")\n",
    "            flag = True\n",
    "            break\n",
    "        print(a,b)\n",
    "    #break를 만나면 나오는 곳\n",
    "    if flag:\n",
    "        break\n",
    "    \n",
    "print('DONE')"
   ]
  },
  {
   "cell_type": "markdown",
   "id": "18dc83f0",
   "metadata": {},
   "source": [
    "## 4.2 예외처리 이용\n",
    "- 9월 29일 할 예정"
   ]
  },
  {
   "cell_type": "markdown",
   "id": "ddf1c6f2",
   "metadata": {},
   "source": [
    "# 연습문제\n",
    "### 1. 양이 정수를 입력 받아 홀수인지 짝수인지를 판별하는 프로그램을 작성하세요. 양의 정수가 아니면 숫자를 다시 입력 받아야 합니다"
   ]
  },
  {
   "cell_type": "code",
   "execution_count": 207,
   "id": "c2dbb235",
   "metadata": {},
   "outputs": [
    {
     "name": "stdout",
     "output_type": "stream",
     "text": [
      "양의 정수를 입력하세요3-\n",
      "양의 정수를 입력하세요30\n",
      "입력하신 양의 정수 30는 짝수입니다\n"
     ]
    }
   ],
   "source": [
    "# inputNum = -1\n",
    "# while inputNum <= 0:\n",
    "#     input_ = input(\"양의 정수를 입력해주세요 : \")\n",
    "#     if input_.isdigit():\n",
    "#         inputNum = int(input_)\n",
    "#         if inputNum <= 0:\n",
    "#             print('양의 정수가 아닙니다')\n",
    "#     else:\n",
    "#         print('정수가 아닙니다.')\n",
    "        \n",
    "# if inputNum%2:\n",
    "#     result = '홀'\n",
    "# else:\n",
    "#     result = '짝'\n",
    "# print(f'입력하신 양의 정수 {inputNum}는 {result}입니다')\n",
    "\n",
    "\n",
    "inputStr = ''\n",
    "while(inputStr.isdigit() == False) | (inputStr=='0'):\n",
    "    inputStr = input('양의 정수를 입력하세요')\n",
    "inputNum = int(inputStr)\n",
    "even_odd = '홀수' if inputNum%2 else '짝수'\n",
    "print(f'입력하신 양의 정수 {inputNum}는 {even_odd}입니다')"
   ]
  },
  {
   "cell_type": "markdown",
   "id": "82b1b57a",
   "metadata": {},
   "source": [
    "### 2. 중첩 for문을 이용하여 아래 패턴의 별을 출력하는 프로그램을 작성하세요"
   ]
  },
  {
   "cell_type": "code",
   "execution_count": 183,
   "id": "92140eff",
   "metadata": {},
   "outputs": [
    {
     "name": "stdout",
     "output_type": "stream",
     "text": [
      " (1) \t (2) \n",
      "*****\t*    \n",
      "*****\t**   \n",
      "*****\t***  \n",
      "*****\t**** \n",
      "*****\t*****\n"
     ]
    }
   ],
   "source": [
    "print(\"{:^5}\\t{:^5}\".format('(1)', '(2)'))\n",
    "for i in range(1,6):\n",
    "    print('*****\\t{:5}'.format('*'*i))"
   ]
  },
  {
   "cell_type": "markdown",
   "id": "27c78474",
   "metadata": {},
   "source": [
    "### 3. 다음 코드는 1부터 30까지 (30포함) 자연수 중에서 3의 배수의 총 합을 출력하는 프로그램입니다. 빈칸의 코드를 완성하시오.\n",
    "\n",
    "\n",
    "```python\n",
    "sum = 0\n",
    "for i in range ______:\n",
    "    if _____________:\n",
    "        sum = sum + i\n",
    "    else:\n",
    "        pass\n",
    "print(sum)\n",
    "```"
   ]
  },
  {
   "cell_type": "code",
   "execution_count": 187,
   "id": "5db607ce",
   "metadata": {},
   "outputs": [
    {
     "name": "stdout",
     "output_type": "stream",
     "text": [
      "165\n"
     ]
    }
   ],
   "source": [
    "sum = 0\n",
    "for i in range (1,31):\n",
    "    if not i%3:\n",
    "        sum = sum + i\n",
    "    else:\n",
    "        pass\n",
    "print(sum)"
   ]
  },
  {
   "cell_type": "markdown",
   "id": "31463211",
   "metadata": {},
   "source": [
    "### 4. 다음 코드의 실행결과가 \"1 3 5 7 9\"가 되도록 빈칸을 완성하시오 \n",
    "``` python\n",
    "num = 0\n",
    "_____ num <= 10:\n",
    "    if num % 2:\n",
    "        print(num, end=' ')\n",
    "    num += 1\n",
    "```"
   ]
  },
  {
   "cell_type": "code",
   "execution_count": 190,
   "id": "6361ab47",
   "metadata": {},
   "outputs": [
    {
     "name": "stdout",
     "output_type": "stream",
     "text": [
      "1 3 5 7 9 "
     ]
    }
   ],
   "source": [
    "num = 0\n",
    "while num <= 10:\n",
    "    if num % 2:\n",
    "        print(num, end=' ')\n",
    "    num += 1"
   ]
  },
  {
   "cell_type": "markdown",
   "id": "bc6b0fc7",
   "metadata": {},
   "source": [
    "### 5. 다음 2차원 리스트의 모든 값을 출력하는 코드입니다. 빈칸을 완성하시오.\n",
    "```python\n",
    "list2d = [ [1,2,3],[4,5,6,7],[8,9] ]\n",
    "for row in list2d:\n",
    "    _______________:\n",
    "        print(data,end='')\n",
    "    print()\n",
    "```\n",
    "\n",
    "<font size=\"3\">결과: <br>\n",
    "1 2 3 <br>\n",
    "4 5 6 7 <br>\n",
    "8 9\n",
    "</font>"
   ]
  },
  {
   "cell_type": "code",
   "execution_count": 196,
   "id": "29d8d26d",
   "metadata": {},
   "outputs": [
    {
     "name": "stdout",
     "output_type": "stream",
     "text": [
      "1 2 3 \n",
      "4 5 6 7 \n",
      "8 9 \n"
     ]
    }
   ],
   "source": [
    "list2d = [ [1,2,3],[4,5,6,7],[8,9] ]\n",
    "for row in list2d:\n",
    "    for data in row:\n",
    "        print(data,end=' ')\n",
    "    print()"
   ]
  },
  {
   "cell_type": "markdown",
   "id": "b5d79490",
   "metadata": {},
   "source": [
    "### 6. 다음 빈칸에 들어갈 함수 이름은?\n",
    "```python\n",
    "colors = {\"red\":'apple', \"yellow\":'banana}\n",
    "for i,v in ________________(colors._______()):\n",
    "     print(i,v)\n",
    "```\n",
    "<font size=\"3\">결과: <br>\n",
    "0 apple <br>\n",
    "1 banana <br>\n",
    "</font>"
   ]
  },
  {
   "cell_type": "code",
   "execution_count": 199,
   "id": "ff5b7368",
   "metadata": {},
   "outputs": [
    {
     "name": "stdout",
     "output_type": "stream",
     "text": [
      "0 apple\n",
      "1 banana\n"
     ]
    }
   ],
   "source": [
    "colors = {\"red\":'apple', \"yellow\":'banana'}\n",
    "for i,v in enumerate(colors.values()):\n",
    "     print(i,v)"
   ]
  },
  {
   "cell_type": "markdown",
   "id": "65d39bb3",
   "metadata": {},
   "source": [
    "###  7. 다음 코드의 실행결과는?\n",
    "```python\n",
    "for i in range(0,2):\n",
    "    for j in range(0,2):\n",
    "        if i==j:\n",
    "            break\n",
    "        print(i,j)\n",
    "```"
   ]
  },
  {
   "cell_type": "markdown",
   "id": "52327787",
   "metadata": {},
   "source": [
    "<font size=\"3\">결과: <br>\n",
    "1 0 <br>\n",
    "</font>"
   ]
  },
  {
   "cell_type": "markdown",
   "id": "220b3da6",
   "metadata": {},
   "source": [
    "### 8. 다음 코드의 실행 결과로 출력될 수 없는 것은?\n",
    "``` python\n",
    "for i in range(0,2):\n",
    "    for j in range(0,2):\n",
    "        print (i,j)\n",
    "        if i==j:\n",
    "            break\n",
    "```\n",
    "<font size=\"3\">① 0 0   ②. 0 1   ③. 1 0   ④. 1 1</font>"
   ]
  },
  {
   "cell_type": "markdown",
   "id": "5703e0fd",
   "metadata": {},
   "source": [
    "<font size=\"3\">2번. 안에 있는 루프는 i=0 j=0일때 break가 되기때문에 i=0 j=1은 출력이 될수 없습니다</font>"
   ]
  },
  {
   "cell_type": "markdown",
   "id": "66d4c9af",
   "metadata": {},
   "source": [
    "### 9. 다음 코드의 실행결과는?\n",
    "```python\n",
    "L = [3,4,5,6,7,8,9,10]\n",
    "for i, data in enumerate(L):\n",
    "    if i%2 == 0:\n",
    "        print(data, end=' ')\n",
    "```"
   ]
  },
  {
   "cell_type": "markdown",
   "id": "03d0d10e",
   "metadata": {},
   "source": [
    "<font size=\"3\">결과: <br>\n",
    "3 5 7 9\n",
    "</font>"
   ]
  },
  {
   "cell_type": "code",
   "execution_count": 211,
   "id": "1889091d",
   "metadata": {},
   "outputs": [
    {
     "name": "stdout",
     "output_type": "stream",
     "text": [
      "3 5 7 9 3, 5, 7, 9\n"
     ]
    }
   ],
   "source": [
    "L = [3,4,5,6,7,8,9,10]\n",
    "for i, data in enumerate(L):\n",
    "    if i%2 == 0:\n",
    "        print(data, end=' ')"
   ]
  },
  {
   "cell_type": "markdown",
   "id": "9b6d313a",
   "metadata": {},
   "source": [
    "### 10. 1~100 사이의 정수를 맞추는 프로그램을 구현하시오.\n",
    "<font size=\"4\">(프로그램안에 임의의 숫자가 만들어지고 그 숫자를 맞추도록 합시다) <br>"
   ]
  },
  {
   "cell_type": "code",
   "execution_count": 205,
   "id": "b6a1739a",
   "metadata": {},
   "outputs": [
    {
     "name": "stdout",
     "output_type": "stream",
     "text": [
      "컴퓨터가 발생한 random 수 : 70\n",
      "1~100 사이의 수를 맞춰주세요(남은기회 5번)2\n",
      "UP ↑\n",
      "2~100 사이의 수를 맞춰주세요(남은기회 4번)1\n",
      "UP ↑\n",
      "2~100 사이의 수를 맞춰주세요(남은기회 3번)50\n",
      "UP ↑\n",
      "50~100 사이의 수를 맞춰주세요(남은기회 2번)60\n",
      "UP ↑\n",
      "60~100 사이의 수를 맞춰주세요(남은기회 1번)55\n",
      "UP ↑\n",
      "기회를 모두 사용하셨습니다 실패하셨습니다\n",
      "BYE\n"
     ]
    }
   ],
   "source": [
    "# 숫자 찾기 게임(break 없이)\n",
    "'''\n",
    "1~100 사이의 정수 맞추기 프로그램 (프로그램 안에서 random 수가 만들어지고, 그 random 수 맞추기)\n",
    "1단계 : 숫자를 못 맞추면 UP/DOWN, 맞추면 축하메세지 출력하고 종료\n",
    "2단계 : 숫자를 못 맞추면 min(0), max(100)을 조정하고, 맞추면 축하메세지 출력하고 종료\n",
    "3단계 : 2댠계의 기회를 5회로 제한, 5회의 기회가 지나면 실패메세지 출력하고 종료 5회 이내에 맞추면 축하메세지 출력 후 종료\n",
    "        (2단계와 3단계는 연습문제)\n",
    "'''\n",
    "import random\n",
    "randomNum = random.randint(1,100)\n",
    "print(\"컴퓨터가 발생한 random 수 :\", randomNum)\n",
    "inputNum = -1\n",
    "cnt = 5\n",
    "min_ = 1\n",
    "max_ = 100\n",
    "while (inputNum != randomNum) & (cnt > 0):\n",
    "    inputNum = int(input(f\"{min_}~{max_} 사이의 수를 맞춰주세요(남은기회 {cnt}번)\"))\n",
    "    if (inputNum > 100) | (inputNum < 1):\n",
    "        print(\"수의 범위를 벗어났습니다\")\n",
    "    elif randomNum < inputNum :\n",
    "        print('DOWN ↓')\n",
    "        max_ = min(inputNum, max_)\n",
    "    elif randomNum > inputNum :\n",
    "        print('UP ↑')\n",
    "        min_ = max(inputNum, min_)\n",
    "    cnt -= 1\n",
    "else:\n",
    "    if cnt == 0:\n",
    "        print('기회를 모두 사용하셨습니다 실패하셨습니다')\n",
    "    else:\n",
    "        print(\"축하 축하 맞추셨습니다\")\n",
    "print('BYE')"
   ]
  },
  {
   "cell_type": "code",
   "execution_count": null,
   "id": "02c94cd3",
   "metadata": {},
   "outputs": [],
   "source": []
  }
 ],
 "metadata": {
  "kernelspec": {
   "display_name": "Python 3 (ipykernel)",
   "language": "python",
   "name": "python3"
  },
  "language_info": {
   "codemirror_mode": {
    "name": "ipython",
    "version": 3
   },
   "file_extension": ".py",
   "mimetype": "text/x-python",
   "name": "python",
   "nbconvert_exporter": "python",
   "pygments_lexer": "ipython3",
   "version": "3.10.9"
  },
  "toc": {
   "base_numbering": 1,
   "nav_menu": {},
   "number_sections": false,
   "sideBar": true,
   "skip_h1_title": false,
   "title_cell": "Table of Contents",
   "title_sidebar": "Contents",
   "toc_cell": false,
   "toc_position": {},
   "toc_section_display": true,
   "toc_window_display": false
  }
 },
 "nbformat": 4,
 "nbformat_minor": 5
}
